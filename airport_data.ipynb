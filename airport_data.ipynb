{
 "cells": [
  {
   "cell_type": "code",
   "execution_count": 31,
   "metadata": {},
   "outputs": [
    {
     "data": {
      "text/html": [
       "<div>\n",
       "<style scoped>\n",
       "    .dataframe tbody tr th:only-of-type {\n",
       "        vertical-align: middle;\n",
       "    }\n",
       "\n",
       "    .dataframe tbody tr th {\n",
       "        vertical-align: top;\n",
       "    }\n",
       "\n",
       "    .dataframe thead th {\n",
       "        text-align: right;\n",
       "    }\n",
       "</style>\n",
       "<table border=\"1\" class=\"dataframe\">\n",
       "  <thead>\n",
       "    <tr style=\"text-align: right;\">\n",
       "      <th></th>\n",
       "      <th>airport_name</th>\n",
       "      <th>author</th>\n",
       "      <th>author_country</th>\n",
       "      <th>date</th>\n",
       "      <th>content</th>\n",
       "      <th>experience_airport</th>\n",
       "      <th>overall_rating</th>\n",
       "      <th>terminal_cleanliness_rating</th>\n",
       "      <th>terminal_seating_rating</th>\n",
       "      <th>recommended</th>\n",
       "      <th>count</th>\n",
       "    </tr>\n",
       "  </thead>\n",
       "  <tbody>\n",
       "    <tr>\n",
       "      <th>0</th>\n",
       "      <td>abuja</td>\n",
       "      <td>Alan Wan</td>\n",
       "      <td>United Kingdom</td>\n",
       "      <td>2012-02-28</td>\n",
       "      <td>On arrival as we flew Business Class we were n...</td>\n",
       "      <td>6.0</td>\n",
       "      <td>2.0</td>\n",
       "      <td>3.0</td>\n",
       "      <td>1.0</td>\n",
       "      <td>0.0</td>\n",
       "      <td>6</td>\n",
       "    </tr>\n",
       "    <tr>\n",
       "      <th>1</th>\n",
       "      <td>abuja</td>\n",
       "      <td>A Cobo</td>\n",
       "      <td>United States</td>\n",
       "      <td>2011-08-08</td>\n",
       "      <td>Abuja international arrivals greets you with a...</td>\n",
       "      <td>2.0</td>\n",
       "      <td>1.0</td>\n",
       "      <td>3.0</td>\n",
       "      <td>1.0</td>\n",
       "      <td>0.0</td>\n",
       "      <td>6</td>\n",
       "    </tr>\n",
       "    <tr>\n",
       "      <th>2</th>\n",
       "      <td>abuja</td>\n",
       "      <td>Antonio Tettamanzy</td>\n",
       "      <td>Brazil</td>\n",
       "      <td>2011-04-14</td>\n",
       "      <td>It was better than expected but can be quite m...</td>\n",
       "      <td>3.0</td>\n",
       "      <td>3.0</td>\n",
       "      <td>3.0</td>\n",
       "      <td>1.0</td>\n",
       "      <td>0.0</td>\n",
       "      <td>6</td>\n",
       "    </tr>\n",
       "    <tr>\n",
       "      <th>3</th>\n",
       "      <td>abuja</td>\n",
       "      <td>C Stafford</td>\n",
       "      <td>NaN</td>\n",
       "      <td>2010-01-31</td>\n",
       "      <td>Upon arrival from Amsterdam on KLM I went to u...</td>\n",
       "      <td>2.0</td>\n",
       "      <td>NaN</td>\n",
       "      <td>NaN</td>\n",
       "      <td>NaN</td>\n",
       "      <td>0.0</td>\n",
       "      <td>6</td>\n",
       "    </tr>\n",
       "    <tr>\n",
       "      <th>4</th>\n",
       "      <td>abuja</td>\n",
       "      <td>Mark Bickerton</td>\n",
       "      <td>NaN</td>\n",
       "      <td>2009-05-24</td>\n",
       "      <td>The international terminal is nice and quite w...</td>\n",
       "      <td>NaN</td>\n",
       "      <td>NaN</td>\n",
       "      <td>NaN</td>\n",
       "      <td>2.0</td>\n",
       "      <td>0.0</td>\n",
       "      <td>6</td>\n",
       "    </tr>\n",
       "  </tbody>\n",
       "</table>\n",
       "</div>"
      ],
      "text/plain": [
       "  airport_name              author  author_country        date  \\\n",
       "0       abuja             Alan Wan  United Kingdom  2012-02-28   \n",
       "1       abuja               A Cobo   United States  2011-08-08   \n",
       "2       abuja   Antonio Tettamanzy          Brazil  2011-04-14   \n",
       "3       abuja           C Stafford             NaN  2010-01-31   \n",
       "4       abuja       Mark Bickerton             NaN  2009-05-24   \n",
       "\n",
       "                                             content  experience_airport  \\\n",
       "0  On arrival as we flew Business Class we were n...                 6.0   \n",
       "1  Abuja international arrivals greets you with a...                 2.0   \n",
       "2  It was better than expected but can be quite m...                 3.0   \n",
       "3  Upon arrival from Amsterdam on KLM I went to u...                 2.0   \n",
       "4  The international terminal is nice and quite w...                 NaN   \n",
       "\n",
       "   overall_rating  terminal_cleanliness_rating  terminal_seating_rating  \\\n",
       "0             2.0                          3.0                      1.0   \n",
       "1             1.0                          3.0                      1.0   \n",
       "2             3.0                          3.0                      1.0   \n",
       "3             NaN                          NaN                      NaN   \n",
       "4             NaN                          NaN                      2.0   \n",
       "\n",
       "   recommended  count  \n",
       "0          0.0      6  \n",
       "1          0.0      6  \n",
       "2          0.0      6  \n",
       "3          0.0      6  \n",
       "4          0.0      6  "
      ]
     },
     "execution_count": 31,
     "metadata": {},
     "output_type": "execute_result"
    }
   ],
   "source": [
    "import numpy as np\n",
    "import pandas as pd\n",
    "import matplotlib.pyplot as plt\n",
    "import seaborn as sns \n",
    "\n",
    "small = pd.read_excel('small_airports.xlsx')\n",
    "small.head()"
   ]
  },
  {
   "cell_type": "code",
   "execution_count": 3,
   "metadata": {},
   "outputs": [
    {
     "name": "stdout",
     "output_type": "stream",
     "text": [
      "151\n"
     ]
    }
   ],
   "source": [
    "print(small['recommended'].isna().sum())"
   ]
  },
  {
   "cell_type": "code",
   "execution_count": 32,
   "metadata": {},
   "outputs": [],
   "source": [
    "small.loc[small['experience_airport'].isin([0, 1]), 'recommended'] = small['experience_airport']\n",
    "small.loc[small['experience_airport'].isin([0, 1]), 'experience_airport'] = np.nan  # Optional: set to NaN in experience_airport\n",
    "\n",
    "        "
   ]
  },
  {
   "cell_type": "code",
   "execution_count": 33,
   "metadata": {},
   "outputs": [],
   "source": [
    "small['overall_rating'] = small['overall_rating'].astype(float)"
   ]
  },
  {
   "cell_type": "code",
   "execution_count": 34,
   "metadata": {},
   "outputs": [],
   "source": [
    "small['terminal_cleanliness_rating'] = small['terminal_cleanliness_rating'].astype(float)"
   ]
  },
  {
   "cell_type": "code",
   "execution_count": 35,
   "metadata": {},
   "outputs": [
    {
     "data": {
      "text/plain": [
       "airport_name                    object\n",
       "author                          object\n",
       "author_country                  object\n",
       "date                            object\n",
       "content                         object\n",
       "experience_airport             float64\n",
       "overall_rating                 float64\n",
       "terminal_cleanliness_rating    float64\n",
       "terminal_seating_rating        float64\n",
       "recommended                    float64\n",
       "count                            int64\n",
       "dtype: object"
      ]
     },
     "execution_count": 35,
     "metadata": {},
     "output_type": "execute_result"
    }
   ],
   "source": [
    "small.dtypes"
   ]
  },
  {
   "cell_type": "code",
   "execution_count": 36,
   "metadata": {},
   "outputs": [
    {
     "data": {
      "image/png": "[encoded data removed]",
      "text/plain": [
       "<Figure size 800x600 with 1 Axes>"
      ]
     },
     "metadata": {},
     "output_type": "display_data"
    }
   ],
   "source": [
    "grouped_data = small.groupby('airport_name')[['experience_airport', 'terminal_seating_rating']].mean().reset_index()\n",
    "\n",
    "plt.figure(figsize=(8, 6))\n",
    "plt.scatter(grouped_data['experience_airport'], grouped_data['terminal_seating_rating'])\n",
    "plt.xlabel('Experience Airport Rating')\n",
    "plt.ylabel('Terminal seating')\n",
    "plt.title('Experience Airport vs Terminal Rating')\n",
    "\n",
    "plt.show()"
   ]
  },
  {
   "cell_type": "code",
   "execution_count": 37,
   "metadata": {},
   "outputs": [
    {
     "data": {
      "image/png": "[encoded data removed]",
      "text/plain": [
       "<Figure size 1800x600 with 3 Axes>"
      ]
     },
     "metadata": {},
     "output_type": "display_data"
    }
   ],
   "source": [
    "# Group data by airport_name and calculate means\n",
    "grouped_data = small.groupby('airport_name')[['experience_airport', 'terminal_seating_rating', 'terminal_cleanliness_rating', 'overall_rating']].mean().reset_index()\n",
    "\n",
    "# Set up the figure and subplots for a horizontal layout\n",
    "fig, axs = plt.subplots(1, 3, figsize=(18, 6))\n",
    "\n",
    "# Scatter plot 1: Experience vs. Terminal Seating Rating\n",
    "axs[0].scatter(grouped_data['experience_airport'], grouped_data['terminal_seating_rating'], color='b')\n",
    "axs[0].set_xlabel('Experience Airport Rating')\n",
    "axs[0].set_ylabel('Terminal Seating Rating')\n",
    "axs[0].set_title('Experience vs. Terminal Seating Rating')\n",
    "\n",
    "# Scatter plot 2: Experience vs. Terminal Cleanliness Rating\n",
    "axs[1].scatter(grouped_data['experience_airport'], grouped_data['terminal_cleanliness_rating'], color='g')\n",
    "axs[1].set_xlabel('Experience Airport Rating')\n",
    "axs[1].set_ylabel('Terminal Cleanliness Rating')\n",
    "axs[1].set_title('Experience vs. Terminal Cleanliness Rating')\n",
    "\n",
    "# Scatter plot 3: Experience vs. Overall Rating\n",
    "axs[2].scatter(grouped_data['experience_airport'], grouped_data['overall_rating'], color='r')\n",
    "axs[2].set_xlabel('Experience Airport Rating')\n",
    "axs[2].set_ylabel('Overall Rating')\n",
    "axs[2].set_title('Experience vs. Overall Rating')\n",
    "\n",
    "# Adjust layout to prevent overlap\n",
    "plt.tight_layout()\n",
    "\n",
    "plt.show()\n"
   ]
  },
  {
   "cell_type": "code",
   "execution_count": 38,
   "metadata": {},
   "outputs": [
    {
     "name": "stdout",
     "output_type": "stream",
     "text": [
      "['abuja ' 'algiers ' 'almeria ' 'antwerp deurne ' 'aruba reina beatrix '\n",
      " 'banjul ' 'beirut ' 'belo horizonte confins ' 'bergen ' 'bermuda '\n",
      " 'billund ' 'bourgas ' 'brasilia ' 'carcassonne ' 'chambery ' 'chengdu '\n",
      " 'clark ' 'coimbatore ' 'colorado springs ' 'columbus ' 'coventry '\n",
      " 'crown point tobago ' 'curacao ' 'dakar ' 'dallas love field '\n",
      " 'dortmund ' 'dubrovnik ' 'dundee ' 'durban ' 'durhamtees valley '\n",
      " 'entebbe ' 'ercan ' 'fort myers ' 'freetown ' 'fuerteventura '\n",
      " 'gibraltar ' 'granada ' 'guayaquil ' 'guernsey ' 'hamad doha '\n",
      " 'hamburg lubek ' 'hangzhou ' 'hartford ' 'hilo ' 'hobart ' 'holguin '\n",
      " 'humberside ' 'hurghada ' 'indianapolis ' 'jacksonville ' 'john wayne '\n",
      " 'katowice ' 'kilimanjaro ' 'kota kinabalu ' 'kunming ' 'launceston '\n",
      " 'leipzighalle ' 'linz ' 'little rock ' 'long beach '\n",
      " 'long island macarthur ' 'lusaka ' 'luxor ' 'mahon ' 'malmo ' 'manaus '\n",
      " 'medan ' 'memphis ' 'milwaukee ' 'mombasa ' 'monastir ' 'muscle shoals '\n",
      " 'nashville ' 'nimes ' 'pau ' 'perpignan ' 'ponta delgada ' 'poznan '\n",
      " 'pristina ' 'pune ' 'qingdao ' 'quito mariscal ' 'recife ' 'sacramento '\n",
      " 'salvador ' 'salzburg ' 'santo domingo ' 'sao paulo congonhas '\n",
      " 'sapporo chitose ' 'sarajevo ' 'seoul gimpo ' 'seville ' 'seychelles '\n",
      " 'sharjah ' 'shenyang ' 'skopje ' 'stockholm vasteras '\n",
      " 'subang kuala lumpur ' 'taba ' 'tehran mehrabad ' 'tirana ' 'tontouta '\n",
      " 'trieste ' 'tromso ' 'vientiane ' 'vnukovo ' 'waterford ' 'windhoek '\n",
      " 'wroclaw strachowice ' 'xian xianyang ' 'xiamen ' 'yogyakarta '\n",
      " 'zanzibar ']\n"
     ]
    }
   ],
   "source": [
    "unique_airport_names = small['airport_name'].unique()\n",
    "print(unique_airport_names)"
   ]
  },
  {
   "cell_type": "code",
   "execution_count": 39,
   "metadata": {},
   "outputs": [
    {
     "name": "stdout",
     "output_type": "stream",
     "text": [
      "113\n"
     ]
    }
   ],
   "source": [
    "nunique_airports = small['airport_name'].nunique()\n",
    "print(nunique_airports)"
   ]
  },
  {
   "cell_type": "code",
   "execution_count": 40,
   "metadata": {},
   "outputs": [
    {
     "data": {
      "text/html": [
       "<div>\n",
       "<style scoped>\n",
       "    .dataframe tbody tr th:only-of-type {\n",
       "        vertical-align: middle;\n",
       "    }\n",
       "\n",
       "    .dataframe tbody tr th {\n",
       "        vertical-align: top;\n",
       "    }\n",
       "\n",
       "    .dataframe thead th {\n",
       "        text-align: right;\n",
       "    }\n",
       "</style>\n",
       "<table border=\"1\" class=\"dataframe\">\n",
       "  <thead>\n",
       "    <tr style=\"text-align: right;\">\n",
       "      <th></th>\n",
       "      <th>airport_name</th>\n",
       "      <th>author</th>\n",
       "      <th>author_country</th>\n",
       "      <th>date</th>\n",
       "      <th>content</th>\n",
       "      <th>experience_airport</th>\n",
       "      <th>overall_rating</th>\n",
       "      <th>terminal_cleanliness_rating</th>\n",
       "      <th>terminal_seating_rating</th>\n",
       "      <th>recommended</th>\n",
       "      <th>count</th>\n",
       "    </tr>\n",
       "  </thead>\n",
       "  <tbody>\n",
       "    <tr>\n",
       "      <th>756</th>\n",
       "      <td>zanzibar</td>\n",
       "      <td>M Noormohamed</td>\n",
       "      <td>United States</td>\n",
       "      <td>2015-01-19</td>\n",
       "      <td>The worst airport I have ever transited throug...</td>\n",
       "      <td>2.0</td>\n",
       "      <td>2.0</td>\n",
       "      <td>3.0</td>\n",
       "      <td>4.0</td>\n",
       "      <td>0.0</td>\n",
       "      <td>5</td>\n",
       "    </tr>\n",
       "    <tr>\n",
       "      <th>757</th>\n",
       "      <td>zanzibar</td>\n",
       "      <td>I Cameron</td>\n",
       "      <td>United Kingdom</td>\n",
       "      <td>2014-07-12</td>\n",
       "      <td>An old fashioned airport which is not very eff...</td>\n",
       "      <td>4.0</td>\n",
       "      <td>2.0</td>\n",
       "      <td>2.0</td>\n",
       "      <td>2.0</td>\n",
       "      <td>0.0</td>\n",
       "      <td>5</td>\n",
       "    </tr>\n",
       "    <tr>\n",
       "      <th>758</th>\n",
       "      <td>zanzibar</td>\n",
       "      <td>Todd Bailey</td>\n",
       "      <td>United States</td>\n",
       "      <td>2011-08-25</td>\n",
       "      <td>The airport in Zanzibar is out of date. The bu...</td>\n",
       "      <td>NaN</td>\n",
       "      <td>1.0</td>\n",
       "      <td>1.0</td>\n",
       "      <td>1.0</td>\n",
       "      <td>1.0</td>\n",
       "      <td>5</td>\n",
       "    </tr>\n",
       "    <tr>\n",
       "      <th>759</th>\n",
       "      <td>zanzibar</td>\n",
       "      <td>David Ellis</td>\n",
       "      <td>United Kingdom</td>\n",
       "      <td>2010-01-26</td>\n",
       "      <td>Zanzibar airport would almost be bearable if i...</td>\n",
       "      <td>2.0</td>\n",
       "      <td>1.0</td>\n",
       "      <td>1.0</td>\n",
       "      <td>1.0</td>\n",
       "      <td>0.0</td>\n",
       "      <td>5</td>\n",
       "    </tr>\n",
       "    <tr>\n",
       "      <th>760</th>\n",
       "      <td>zanzibar</td>\n",
       "      <td>J Beard</td>\n",
       "      <td>NaN</td>\n",
       "      <td>2009-05-01</td>\n",
       "      <td>Not bad for a regional airport for arriving in...</td>\n",
       "      <td>2.0</td>\n",
       "      <td>NaN</td>\n",
       "      <td>NaN</td>\n",
       "      <td>NaN</td>\n",
       "      <td>0.0</td>\n",
       "      <td>5</td>\n",
       "    </tr>\n",
       "  </tbody>\n",
       "</table>\n",
       "</div>"
      ],
      "text/plain": [
       "    airport_name         author  author_country        date  \\\n",
       "756    zanzibar   M Noormohamed   United States  2015-01-19   \n",
       "757    zanzibar       I Cameron  United Kingdom  2014-07-12   \n",
       "758    zanzibar     Todd Bailey   United States  2011-08-25   \n",
       "759    zanzibar     David Ellis  United Kingdom  2010-01-26   \n",
       "760    zanzibar         J Beard             NaN  2009-05-01   \n",
       "\n",
       "                                               content  experience_airport  \\\n",
       "756  The worst airport I have ever transited throug...                 2.0   \n",
       "757  An old fashioned airport which is not very eff...                 4.0   \n",
       "758  The airport in Zanzibar is out of date. The bu...                 NaN   \n",
       "759  Zanzibar airport would almost be bearable if i...                 2.0   \n",
       "760  Not bad for a regional airport for arriving in...                 2.0   \n",
       "\n",
       "     overall_rating  terminal_cleanliness_rating  terminal_seating_rating  \\\n",
       "756             2.0                          3.0                      4.0   \n",
       "757             2.0                          2.0                      2.0   \n",
       "758             1.0                          1.0                      1.0   \n",
       "759             1.0                          1.0                      1.0   \n",
       "760             NaN                          NaN                      NaN   \n",
       "\n",
       "     recommended  count  \n",
       "756          0.0      5  \n",
       "757          0.0      5  \n",
       "758          1.0      5  \n",
       "759          0.0      5  \n",
       "760          0.0      5  "
      ]
     },
     "execution_count": 40,
     "metadata": {},
     "output_type": "execute_result"
    }
   ],
   "source": [
    "small.tail()"
   ]
  },
  {
   "cell_type": "code",
   "execution_count": 41,
   "metadata": {},
   "outputs": [],
   "source": [
    "# 1. Group by 'airport_name' and calculate the mean of 'recommended'\n",
    "mean_recommended = small.groupby('airport_name')['recommended'].mean().reset_index()\n",
    "small = pd.merge(small, mean_recommended, on='airport_name', suffixes=('', '_mean'))"
   ]
  },
  {
   "cell_type": "code",
   "execution_count": 42,
   "metadata": {},
   "outputs": [
    {
     "data": {
      "text/html": [
       "<div>\n",
       "<style scoped>\n",
       "    .dataframe tbody tr th:only-of-type {\n",
       "        vertical-align: middle;\n",
       "    }\n",
       "\n",
       "    .dataframe tbody tr th {\n",
       "        vertical-align: top;\n",
       "    }\n",
       "\n",
       "    .dataframe thead th {\n",
       "        text-align: right;\n",
       "    }\n",
       "</style>\n",
       "<table border=\"1\" class=\"dataframe\">\n",
       "  <thead>\n",
       "    <tr style=\"text-align: right;\">\n",
       "      <th></th>\n",
       "      <th>airport_name</th>\n",
       "      <th>author</th>\n",
       "      <th>author_country</th>\n",
       "      <th>date</th>\n",
       "      <th>content</th>\n",
       "      <th>experience_airport</th>\n",
       "      <th>overall_rating</th>\n",
       "      <th>terminal_cleanliness_rating</th>\n",
       "      <th>terminal_seating_rating</th>\n",
       "      <th>recommended</th>\n",
       "      <th>count</th>\n",
       "      <th>recommended_mean</th>\n",
       "    </tr>\n",
       "  </thead>\n",
       "  <tbody>\n",
       "    <tr>\n",
       "      <th>0</th>\n",
       "      <td>abuja</td>\n",
       "      <td>Alan Wan</td>\n",
       "      <td>United Kingdom</td>\n",
       "      <td>2012-02-28</td>\n",
       "      <td>On arrival as we flew Business Class we were n...</td>\n",
       "      <td>6.0</td>\n",
       "      <td>2.0</td>\n",
       "      <td>3.0</td>\n",
       "      <td>1.0</td>\n",
       "      <td>0.0</td>\n",
       "      <td>6</td>\n",
       "      <td>0.000000</td>\n",
       "    </tr>\n",
       "    <tr>\n",
       "      <th>1</th>\n",
       "      <td>abuja</td>\n",
       "      <td>A Cobo</td>\n",
       "      <td>United States</td>\n",
       "      <td>2011-08-08</td>\n",
       "      <td>Abuja international arrivals greets you with a...</td>\n",
       "      <td>2.0</td>\n",
       "      <td>1.0</td>\n",
       "      <td>3.0</td>\n",
       "      <td>1.0</td>\n",
       "      <td>0.0</td>\n",
       "      <td>6</td>\n",
       "      <td>0.000000</td>\n",
       "    </tr>\n",
       "    <tr>\n",
       "      <th>2</th>\n",
       "      <td>abuja</td>\n",
       "      <td>Antonio Tettamanzy</td>\n",
       "      <td>Brazil</td>\n",
       "      <td>2011-04-14</td>\n",
       "      <td>It was better than expected but can be quite m...</td>\n",
       "      <td>3.0</td>\n",
       "      <td>3.0</td>\n",
       "      <td>3.0</td>\n",
       "      <td>1.0</td>\n",
       "      <td>0.0</td>\n",
       "      <td>6</td>\n",
       "      <td>0.000000</td>\n",
       "    </tr>\n",
       "    <tr>\n",
       "      <th>3</th>\n",
       "      <td>abuja</td>\n",
       "      <td>C Stafford</td>\n",
       "      <td>NaN</td>\n",
       "      <td>2010-01-31</td>\n",
       "      <td>Upon arrival from Amsterdam on KLM I went to u...</td>\n",
       "      <td>2.0</td>\n",
       "      <td>NaN</td>\n",
       "      <td>NaN</td>\n",
       "      <td>NaN</td>\n",
       "      <td>0.0</td>\n",
       "      <td>6</td>\n",
       "      <td>0.000000</td>\n",
       "    </tr>\n",
       "    <tr>\n",
       "      <th>4</th>\n",
       "      <td>abuja</td>\n",
       "      <td>Mark Bickerton</td>\n",
       "      <td>NaN</td>\n",
       "      <td>2009-05-24</td>\n",
       "      <td>The international terminal is nice and quite w...</td>\n",
       "      <td>NaN</td>\n",
       "      <td>NaN</td>\n",
       "      <td>NaN</td>\n",
       "      <td>2.0</td>\n",
       "      <td>0.0</td>\n",
       "      <td>6</td>\n",
       "      <td>0.000000</td>\n",
       "    </tr>\n",
       "    <tr>\n",
       "      <th>...</th>\n",
       "      <td>...</td>\n",
       "      <td>...</td>\n",
       "      <td>...</td>\n",
       "      <td>...</td>\n",
       "      <td>...</td>\n",
       "      <td>...</td>\n",
       "      <td>...</td>\n",
       "      <td>...</td>\n",
       "      <td>...</td>\n",
       "      <td>...</td>\n",
       "      <td>...</td>\n",
       "      <td>...</td>\n",
       "    </tr>\n",
       "    <tr>\n",
       "      <th>75</th>\n",
       "      <td>billund</td>\n",
       "      <td>Janne Petersson</td>\n",
       "      <td>NaN</td>\n",
       "      <td>2008-07-04</td>\n",
       "      <td>This is a fantastic airport. Short walking dis...</td>\n",
       "      <td>10.0</td>\n",
       "      <td>NaN</td>\n",
       "      <td>NaN</td>\n",
       "      <td>5.0</td>\n",
       "      <td>1.0</td>\n",
       "      <td>6</td>\n",
       "      <td>0.833333</td>\n",
       "    </tr>\n",
       "    <tr>\n",
       "      <th>76</th>\n",
       "      <td>billund</td>\n",
       "      <td>Hanne Eeg Jensen</td>\n",
       "      <td>NaN</td>\n",
       "      <td>2008-05-20</td>\n",
       "      <td>Arrival: Nice short walking distance to baggag...</td>\n",
       "      <td>8.0</td>\n",
       "      <td>NaN</td>\n",
       "      <td>NaN</td>\n",
       "      <td>NaN</td>\n",
       "      <td>1.0</td>\n",
       "      <td>6</td>\n",
       "      <td>0.833333</td>\n",
       "    </tr>\n",
       "    <tr>\n",
       "      <th>77</th>\n",
       "      <td>billund</td>\n",
       "      <td>J Morgan</td>\n",
       "      <td>NaN</td>\n",
       "      <td>2008-03-27</td>\n",
       "      <td>Billund is a stellar airport now to put it sim...</td>\n",
       "      <td>10.0</td>\n",
       "      <td>NaN</td>\n",
       "      <td>NaN</td>\n",
       "      <td>NaN</td>\n",
       "      <td>1.0</td>\n",
       "      <td>6</td>\n",
       "      <td>0.833333</td>\n",
       "    </tr>\n",
       "    <tr>\n",
       "      <th>78</th>\n",
       "      <td>bourgas</td>\n",
       "      <td>Doug Knock</td>\n",
       "      <td>United Kingdom</td>\n",
       "      <td>2012-05-16</td>\n",
       "      <td>Airport is not greatest - currently outdoor se...</td>\n",
       "      <td>3.0</td>\n",
       "      <td>4.0</td>\n",
       "      <td>2.0</td>\n",
       "      <td>2.0</td>\n",
       "      <td>0.0</td>\n",
       "      <td>5</td>\n",
       "      <td>0.333333</td>\n",
       "    </tr>\n",
       "    <tr>\n",
       "      <th>79</th>\n",
       "      <td>bourgas</td>\n",
       "      <td>L Lockwood</td>\n",
       "      <td>NaN</td>\n",
       "      <td>2010-06-02</td>\n",
       "      <td>Baggage claim took over an hour and the decor ...</td>\n",
       "      <td>NaN</td>\n",
       "      <td>NaN</td>\n",
       "      <td>NaN</td>\n",
       "      <td>NaN</td>\n",
       "      <td>1.0</td>\n",
       "      <td>5</td>\n",
       "      <td>0.333333</td>\n",
       "    </tr>\n",
       "  </tbody>\n",
       "</table>\n",
       "<p>80 rows × 12 columns</p>\n",
       "</div>"
      ],
      "text/plain": [
       "   airport_name              author  author_country        date  \\\n",
       "0        abuja             Alan Wan  United Kingdom  2012-02-28   \n",
       "1        abuja               A Cobo   United States  2011-08-08   \n",
       "2        abuja   Antonio Tettamanzy          Brazil  2011-04-14   \n",
       "3        abuja           C Stafford             NaN  2010-01-31   \n",
       "4        abuja       Mark Bickerton             NaN  2009-05-24   \n",
       "..          ...                 ...             ...         ...   \n",
       "75     billund      Janne Petersson             NaN  2008-07-04   \n",
       "76     billund     Hanne Eeg Jensen             NaN  2008-05-20   \n",
       "77     billund             J Morgan             NaN  2008-03-27   \n",
       "78     bourgas           Doug Knock  United Kingdom  2012-05-16   \n",
       "79     bourgas           L Lockwood             NaN  2010-06-02   \n",
       "\n",
       "                                              content  experience_airport  \\\n",
       "0   On arrival as we flew Business Class we were n...                 6.0   \n",
       "1   Abuja international arrivals greets you with a...                 2.0   \n",
       "2   It was better than expected but can be quite m...                 3.0   \n",
       "3   Upon arrival from Amsterdam on KLM I went to u...                 2.0   \n",
       "4   The international terminal is nice and quite w...                 NaN   \n",
       "..                                                ...                 ...   \n",
       "75  This is a fantastic airport. Short walking dis...                10.0   \n",
       "76  Arrival: Nice short walking distance to baggag...                 8.0   \n",
       "77  Billund is a stellar airport now to put it sim...                10.0   \n",
       "78  Airport is not greatest - currently outdoor se...                 3.0   \n",
       "79  Baggage claim took over an hour and the decor ...                 NaN   \n",
       "\n",
       "    overall_rating  terminal_cleanliness_rating  terminal_seating_rating  \\\n",
       "0              2.0                          3.0                      1.0   \n",
       "1              1.0                          3.0                      1.0   \n",
       "2              3.0                          3.0                      1.0   \n",
       "3              NaN                          NaN                      NaN   \n",
       "4              NaN                          NaN                      2.0   \n",
       "..             ...                          ...                      ...   \n",
       "75             NaN                          NaN                      5.0   \n",
       "76             NaN                          NaN                      NaN   \n",
       "77             NaN                          NaN                      NaN   \n",
       "78             4.0                          2.0                      2.0   \n",
       "79             NaN                          NaN                      NaN   \n",
       "\n",
       "    recommended  count  recommended_mean  \n",
       "0           0.0      6          0.000000  \n",
       "1           0.0      6          0.000000  \n",
       "2           0.0      6          0.000000  \n",
       "3           0.0      6          0.000000  \n",
       "4           0.0      6          0.000000  \n",
       "..          ...    ...               ...  \n",
       "75          1.0      6          0.833333  \n",
       "76          1.0      6          0.833333  \n",
       "77          1.0      6          0.833333  \n",
       "78          0.0      5          0.333333  \n",
       "79          1.0      5          0.333333  \n",
       "\n",
       "[80 rows x 12 columns]"
      ]
     },
     "execution_count": 42,
     "metadata": {},
     "output_type": "execute_result"
    }
   ],
   "source": [
    "small.head(80)"
   ]
  },
  {
   "cell_type": "code",
   "execution_count": 43,
   "metadata": {},
   "outputs": [],
   "source": [
    "# Region classification dictionary\n",
    "region_classification = {\n",
    "    # Europe\n",
    "    'almeria': 'Europe',\n",
    "    'antwerp deurne': 'Europe',\n",
    "    'bergen': 'Europe',\n",
    "    'billund': 'Europe',\n",
    "    'bourgas': 'Europe',\n",
    "    'carcassonne': 'Europe',\n",
    "    'chambery': 'Europe',\n",
    "    'coventry': 'Europe',\n",
    "    'dortmund': 'Europe',\n",
    "    'dubrovnik': 'Europe',\n",
    "    'dundee': 'Europe',\n",
    "    'durhamtees valley': 'Europe',\n",
    "    'ercan': 'Europe',\n",
    "    'fuerteventura': 'Europe',\n",
    "    'gibraltar': 'Europe',\n",
    "    'granada': 'Europe',\n",
    "    'guernsey': 'Europe',\n",
    "    'hamburg lubek': 'Europe',\n",
    "    'humberside': 'Europe',\n",
    "    'katowice': 'Europe',\n",
    "    'leipzighalle': 'Europe',\n",
    "    'linz': 'Europe',\n",
    "    'mahon': 'Europe',\n",
    "    'malmo': 'Europe',\n",
    "    'nimes': 'Europe',\n",
    "    'pau': 'Europe',\n",
    "    'perpignan': 'Europe',\n",
    "    'ponta delgada': 'Europe',\n",
    "    'poznan': 'Europe',\n",
    "    'pristina': 'Europe',\n",
    "    'salzburg': 'Europe',\n",
    "    'sarajevo': 'Europe',\n",
    "    'seville': 'Europe',\n",
    "    'skopje': 'Europe',\n",
    "    'stockholm vasteras': 'Europe',\n",
    "    'tirana': 'Europe',\n",
    "    'trieste': 'Europe',\n",
    "    'tromso': 'Europe',\n",
    "    'vnukovo': 'Europe',\n",
    "    'waterford': 'Europe',\n",
    "    'wroclaw strachowice': 'Europe',\n",
    "\n",
    "    # Middle-East\n",
    "    'beirut': 'Middle-East',\n",
    "    'hamad doha': 'Middle-East',\n",
    "    'sharjah': 'Middle-East',\n",
    "    'tehran mehrabad': 'Middle-East',\n",
    "\n",
    "    # Asia\n",
    "    'chengdu': 'Asia',\n",
    "    'coimbatore': 'Asia',\n",
    "    'hangzhou': 'Asia',\n",
    "    'kunming': 'Asia',\n",
    "    'pune': 'Asia',\n",
    "    'qingdao': 'Asia',\n",
    "    'sapporo chitose': 'Asia',\n",
    "    'seoul gimpo': 'Asia',\n",
    "    'shenyang': 'Asia',\n",
    "    'xian xianyang': 'Asia',\n",
    "    'xiamen': 'Asia',\n",
    "\n",
    "    # South-East Asia and Oceania\n",
    "    'clark': 'S-Asia Oceania',\n",
    "    'kota kinabalu': 'S-Asia Oceania',\n",
    "    'medan': 'S-Asia Oceania',\n",
    "    'subang kuala lumpur': 'S-Asia Oceania',\n",
    "    'vientiane': 'S-Asia Oceania',\n",
    "    'yogyakarta': 'S-Asia Oceania',\n",
    "    'hobart': 'S-Asia Oceania',\n",
    "    'launceston': 'S-Asia Oceania',\n",
    "    'tontouta': 'S-Asia Oceania',\n",
    "\n",
    "    # Latin America\n",
    "    'aruba reina beatrix': 'Latin America',\n",
    "    'belo horizonte confins': 'Latin America',\n",
    "    'brasilia': 'Latin America',\n",
    "    'crown point tobago': 'Latin America',\n",
    "    'curacao': 'Latin America',\n",
    "    'guayaquil': 'Latin America',\n",
    "    'holguin': 'Latin America',\n",
    "    'manaus': 'Latin America',\n",
    "    'quito mariscal': 'Latin America',\n",
    "    'recife': 'Latin America',\n",
    "    'salvador': 'Latin America',\n",
    "    'santo domingo': 'Latin America',\n",
    "    'sao paulo congonhas': 'Latin America',\n",
    "\n",
    "    # North America\n",
    "    'bermuda': 'North America',\n",
    "    'colorado springs': 'North America',\n",
    "    'columbus': 'North America',\n",
    "    'dallas love field': 'North America',\n",
    "    'fort myers': 'North America',\n",
    "    'hartford': 'North America',\n",
    "    'hilo': 'North America',\n",
    "    'indianapolis': 'North America',\n",
    "    'jacksonville': 'North America',\n",
    "    'john wayne': 'North America',\n",
    "    'little rock': 'North America',\n",
    "    'long beach': 'North America',\n",
    "    'long island macarthur': 'North America',\n",
    "    'milwaukee': 'North America',\n",
    "    'muscle shoals': 'North America',\n",
    "    'nashville': 'North America',\n",
    "    'sacramento': 'North America',\n",
    "\n",
    "    # Africa\n",
    "    'abuja': 'Africa',\n",
    "    'algiers': 'Africa',\n",
    "    'banjul': 'Africa',\n",
    "    'dakar': 'Africa',\n",
    "    'durban': 'Africa',\n",
    "    'entebbe': 'Africa',\n",
    "    'freetown': 'Africa',\n",
    "    'hurghada': 'Africa',\n",
    "    'kilimanjaro': 'Africa',\n",
    "    'lusaka': 'Africa',\n",
    "    'luxor': 'Africa',\n",
    "    'mombasa': 'Africa',\n",
    "    'monastir': 'Africa',\n",
    "    'seychelles': 'Africa',\n",
    "    'taba': 'Africa',\n",
    "    'windhoek': 'Africa',\n",
    "    'zanzibar': 'Africa',\n",
    "}\n",
    "\n",
    "# Ensure proper matching of airport names and regions\n",
    "def classify_airport(airport_name):\n",
    "    airport_name_cleaned = airport_name.strip().lower()  # Clean the name by removing leading/trailing spaces and making lowercase\n",
    "    return region_classification.get(airport_name_cleaned, 'Unknown')  # If no match, return 'Unknown'\n",
    "\n",
    "#'apply' method on the DataFrame to apply the function\n",
    "small['geo_area'] = small['airport_name'].apply(classify_airport)\n"
   ]
  },
  {
   "cell_type": "code",
   "execution_count": 44,
   "metadata": {},
   "outputs": [
    {
     "data": {
      "text/html": [
       "<div>\n",
       "<style scoped>\n",
       "    .dataframe tbody tr th:only-of-type {\n",
       "        vertical-align: middle;\n",
       "    }\n",
       "\n",
       "    .dataframe tbody tr th {\n",
       "        vertical-align: top;\n",
       "    }\n",
       "\n",
       "    .dataframe thead th {\n",
       "        text-align: right;\n",
       "    }\n",
       "</style>\n",
       "<table border=\"1\" class=\"dataframe\">\n",
       "  <thead>\n",
       "    <tr style=\"text-align: right;\">\n",
       "      <th></th>\n",
       "      <th>airport_name</th>\n",
       "      <th>author</th>\n",
       "      <th>author_country</th>\n",
       "      <th>date</th>\n",
       "      <th>content</th>\n",
       "      <th>experience_airport</th>\n",
       "      <th>overall_rating</th>\n",
       "      <th>terminal_cleanliness_rating</th>\n",
       "      <th>terminal_seating_rating</th>\n",
       "      <th>recommended</th>\n",
       "      <th>count</th>\n",
       "      <th>recommended_mean</th>\n",
       "      <th>geo_area</th>\n",
       "    </tr>\n",
       "  </thead>\n",
       "  <tbody>\n",
       "    <tr>\n",
       "      <th>0</th>\n",
       "      <td>abuja</td>\n",
       "      <td>Alan Wan</td>\n",
       "      <td>United Kingdom</td>\n",
       "      <td>2012-02-28</td>\n",
       "      <td>On arrival as we flew Business Class we were n...</td>\n",
       "      <td>6.0</td>\n",
       "      <td>2.0</td>\n",
       "      <td>3.0</td>\n",
       "      <td>1.0</td>\n",
       "      <td>0.0</td>\n",
       "      <td>6</td>\n",
       "      <td>0.000000</td>\n",
       "      <td>Africa</td>\n",
       "    </tr>\n",
       "    <tr>\n",
       "      <th>1</th>\n",
       "      <td>abuja</td>\n",
       "      <td>A Cobo</td>\n",
       "      <td>United States</td>\n",
       "      <td>2011-08-08</td>\n",
       "      <td>Abuja international arrivals greets you with a...</td>\n",
       "      <td>2.0</td>\n",
       "      <td>1.0</td>\n",
       "      <td>3.0</td>\n",
       "      <td>1.0</td>\n",
       "      <td>0.0</td>\n",
       "      <td>6</td>\n",
       "      <td>0.000000</td>\n",
       "      <td>Africa</td>\n",
       "    </tr>\n",
       "    <tr>\n",
       "      <th>2</th>\n",
       "      <td>abuja</td>\n",
       "      <td>Antonio Tettamanzy</td>\n",
       "      <td>Brazil</td>\n",
       "      <td>2011-04-14</td>\n",
       "      <td>It was better than expected but can be quite m...</td>\n",
       "      <td>3.0</td>\n",
       "      <td>3.0</td>\n",
       "      <td>3.0</td>\n",
       "      <td>1.0</td>\n",
       "      <td>0.0</td>\n",
       "      <td>6</td>\n",
       "      <td>0.000000</td>\n",
       "      <td>Africa</td>\n",
       "    </tr>\n",
       "    <tr>\n",
       "      <th>3</th>\n",
       "      <td>abuja</td>\n",
       "      <td>C Stafford</td>\n",
       "      <td>NaN</td>\n",
       "      <td>2010-01-31</td>\n",
       "      <td>Upon arrival from Amsterdam on KLM I went to u...</td>\n",
       "      <td>2.0</td>\n",
       "      <td>NaN</td>\n",
       "      <td>NaN</td>\n",
       "      <td>NaN</td>\n",
       "      <td>0.0</td>\n",
       "      <td>6</td>\n",
       "      <td>0.000000</td>\n",
       "      <td>Africa</td>\n",
       "    </tr>\n",
       "    <tr>\n",
       "      <th>4</th>\n",
       "      <td>abuja</td>\n",
       "      <td>Mark Bickerton</td>\n",
       "      <td>NaN</td>\n",
       "      <td>2009-05-24</td>\n",
       "      <td>The international terminal is nice and quite w...</td>\n",
       "      <td>NaN</td>\n",
       "      <td>NaN</td>\n",
       "      <td>NaN</td>\n",
       "      <td>2.0</td>\n",
       "      <td>0.0</td>\n",
       "      <td>6</td>\n",
       "      <td>0.000000</td>\n",
       "      <td>Africa</td>\n",
       "    </tr>\n",
       "    <tr>\n",
       "      <th>5</th>\n",
       "      <td>abuja</td>\n",
       "      <td>S Adewale</td>\n",
       "      <td>NaN</td>\n",
       "      <td>2007-03-03</td>\n",
       "      <td>In Nigerian standards relatively clean and org...</td>\n",
       "      <td>NaN</td>\n",
       "      <td>NaN</td>\n",
       "      <td>NaN</td>\n",
       "      <td>NaN</td>\n",
       "      <td>0.0</td>\n",
       "      <td>6</td>\n",
       "      <td>0.000000</td>\n",
       "      <td>Africa</td>\n",
       "    </tr>\n",
       "    <tr>\n",
       "      <th>6</th>\n",
       "      <td>algiers</td>\n",
       "      <td>Qaddoumi Samar</td>\n",
       "      <td>Kuwait</td>\n",
       "      <td>2013-05-16</td>\n",
       "      <td>Algiers airport is huge and clean but I did no...</td>\n",
       "      <td>5.0</td>\n",
       "      <td>4.0</td>\n",
       "      <td>5.0</td>\n",
       "      <td>3.0</td>\n",
       "      <td>0.0</td>\n",
       "      <td>8</td>\n",
       "      <td>0.166667</td>\n",
       "      <td>Africa</td>\n",
       "    </tr>\n",
       "    <tr>\n",
       "      <th>7</th>\n",
       "      <td>algiers</td>\n",
       "      <td>R Oussalah</td>\n",
       "      <td>Taiwan</td>\n",
       "      <td>2012-10-10</td>\n",
       "      <td>This is the first time in over a year I used t...</td>\n",
       "      <td>7.0</td>\n",
       "      <td>4.0</td>\n",
       "      <td>5.0</td>\n",
       "      <td>3.0</td>\n",
       "      <td>1.0</td>\n",
       "      <td>8</td>\n",
       "      <td>0.166667</td>\n",
       "      <td>Africa</td>\n",
       "    </tr>\n",
       "    <tr>\n",
       "      <th>8</th>\n",
       "      <td>algiers</td>\n",
       "      <td>Mohamed Salah</td>\n",
       "      <td>France</td>\n",
       "      <td>2011-07-27</td>\n",
       "      <td>Good airport international terminal T1 is nice...</td>\n",
       "      <td>4.0</td>\n",
       "      <td>5.0</td>\n",
       "      <td>5.0</td>\n",
       "      <td>5.0</td>\n",
       "      <td>0.0</td>\n",
       "      <td>8</td>\n",
       "      <td>0.166667</td>\n",
       "      <td>Africa</td>\n",
       "    </tr>\n",
       "    <tr>\n",
       "      <th>9</th>\n",
       "      <td>algiers</td>\n",
       "      <td>R Oussalah</td>\n",
       "      <td>Italy</td>\n",
       "      <td>2011-01-19</td>\n",
       "      <td>For departures Algiers new airport is fairly s...</td>\n",
       "      <td>NaN</td>\n",
       "      <td>NaN</td>\n",
       "      <td>NaN</td>\n",
       "      <td>NaN</td>\n",
       "      <td>NaN</td>\n",
       "      <td>8</td>\n",
       "      <td>0.166667</td>\n",
       "      <td>Africa</td>\n",
       "    </tr>\n",
       "    <tr>\n",
       "      <th>10</th>\n",
       "      <td>algiers</td>\n",
       "      <td>Mark Wadham</td>\n",
       "      <td>NaN</td>\n",
       "      <td>2010-05-26</td>\n",
       "      <td>The airport building in itself is fairly attra...</td>\n",
       "      <td>NaN</td>\n",
       "      <td>NaN</td>\n",
       "      <td>NaN</td>\n",
       "      <td>3.0</td>\n",
       "      <td>NaN</td>\n",
       "      <td>8</td>\n",
       "      <td>0.166667</td>\n",
       "      <td>Africa</td>\n",
       "    </tr>\n",
       "    <tr>\n",
       "      <th>11</th>\n",
       "      <td>algiers</td>\n",
       "      <td>M Fadjar</td>\n",
       "      <td>NaN</td>\n",
       "      <td>2009-10-12</td>\n",
       "      <td>Algiers airport has improved a lot lately espe...</td>\n",
       "      <td>3.0</td>\n",
       "      <td>NaN</td>\n",
       "      <td>NaN</td>\n",
       "      <td>NaN</td>\n",
       "      <td>0.0</td>\n",
       "      <td>8</td>\n",
       "      <td>0.166667</td>\n",
       "      <td>Africa</td>\n",
       "    </tr>\n",
       "    <tr>\n",
       "      <th>12</th>\n",
       "      <td>algiers</td>\n",
       "      <td>Reyad Kesri</td>\n",
       "      <td>NaN</td>\n",
       "      <td>2009-06-03</td>\n",
       "      <td>Algiers new terminal is up to international st...</td>\n",
       "      <td>4.0</td>\n",
       "      <td>NaN</td>\n",
       "      <td>NaN</td>\n",
       "      <td>NaN</td>\n",
       "      <td>0.0</td>\n",
       "      <td>8</td>\n",
       "      <td>0.166667</td>\n",
       "      <td>Africa</td>\n",
       "    </tr>\n",
       "    <tr>\n",
       "      <th>13</th>\n",
       "      <td>algiers</td>\n",
       "      <td>S Farooq</td>\n",
       "      <td>NaN</td>\n",
       "      <td>2007-04-03</td>\n",
       "      <td>Inbound no hassles and after claiming baggage ...</td>\n",
       "      <td>NaN</td>\n",
       "      <td>NaN</td>\n",
       "      <td>NaN</td>\n",
       "      <td>NaN</td>\n",
       "      <td>0.0</td>\n",
       "      <td>8</td>\n",
       "      <td>0.166667</td>\n",
       "      <td>Africa</td>\n",
       "    </tr>\n",
       "    <tr>\n",
       "      <th>14</th>\n",
       "      <td>almeria</td>\n",
       "      <td>Stuart Ward</td>\n",
       "      <td>United Kingdom</td>\n",
       "      <td>2011-07-10</td>\n",
       "      <td>Interesting to see the airport since last year...</td>\n",
       "      <td>4.0</td>\n",
       "      <td>5.0</td>\n",
       "      <td>5.0</td>\n",
       "      <td>3.0</td>\n",
       "      <td>0.0</td>\n",
       "      <td>8</td>\n",
       "      <td>0.000000</td>\n",
       "      <td>Europe</td>\n",
       "    </tr>\n",
       "    <tr>\n",
       "      <th>15</th>\n",
       "      <td>almeria</td>\n",
       "      <td>Stuart Ward</td>\n",
       "      <td>NaN</td>\n",
       "      <td>2010-10-24</td>\n",
       "      <td>Arrival okay queue to go through passport was ...</td>\n",
       "      <td>4.0</td>\n",
       "      <td>NaN</td>\n",
       "      <td>NaN</td>\n",
       "      <td>NaN</td>\n",
       "      <td>0.0</td>\n",
       "      <td>8</td>\n",
       "      <td>0.000000</td>\n",
       "      <td>Europe</td>\n",
       "    </tr>\n",
       "    <tr>\n",
       "      <th>16</th>\n",
       "      <td>almeria</td>\n",
       "      <td>Susan Davis</td>\n",
       "      <td>NaN</td>\n",
       "      <td>2007-07-18</td>\n",
       "      <td>I found the airport to be more than adequate. ...</td>\n",
       "      <td>3.0</td>\n",
       "      <td>NaN</td>\n",
       "      <td>NaN</td>\n",
       "      <td>NaN</td>\n",
       "      <td>0.0</td>\n",
       "      <td>8</td>\n",
       "      <td>0.000000</td>\n",
       "      <td>Europe</td>\n",
       "    </tr>\n",
       "    <tr>\n",
       "      <th>17</th>\n",
       "      <td>almeria</td>\n",
       "      <td>S William</td>\n",
       "      <td>NaN</td>\n",
       "      <td>2007-03-25</td>\n",
       "      <td>Almeria was unfortunately not built to handle ...</td>\n",
       "      <td>NaN</td>\n",
       "      <td>NaN</td>\n",
       "      <td>NaN</td>\n",
       "      <td>NaN</td>\n",
       "      <td>0.0</td>\n",
       "      <td>8</td>\n",
       "      <td>0.000000</td>\n",
       "      <td>Europe</td>\n",
       "    </tr>\n",
       "    <tr>\n",
       "      <th>18</th>\n",
       "      <td>almeria</td>\n",
       "      <td>Dan Thorneycroft</td>\n",
       "      <td>NaN</td>\n",
       "      <td>2006-08-25</td>\n",
       "      <td>Reading some of the other reports of Almeria a...</td>\n",
       "      <td>NaN</td>\n",
       "      <td>NaN</td>\n",
       "      <td>NaN</td>\n",
       "      <td>NaN</td>\n",
       "      <td>0.0</td>\n",
       "      <td>8</td>\n",
       "      <td>0.000000</td>\n",
       "      <td>Europe</td>\n",
       "    </tr>\n",
       "    <tr>\n",
       "      <th>19</th>\n",
       "      <td>almeria</td>\n",
       "      <td>Mohd Kastor</td>\n",
       "      <td>NaN</td>\n",
       "      <td>2006-05-31</td>\n",
       "      <td>A small airport with limited but more than eno...</td>\n",
       "      <td>NaN</td>\n",
       "      <td>NaN</td>\n",
       "      <td>NaN</td>\n",
       "      <td>NaN</td>\n",
       "      <td>NaN</td>\n",
       "      <td>8</td>\n",
       "      <td>0.000000</td>\n",
       "      <td>Europe</td>\n",
       "    </tr>\n",
       "    <tr>\n",
       "      <th>20</th>\n",
       "      <td>almeria</td>\n",
       "      <td>Nick Scales</td>\n",
       "      <td>NaN</td>\n",
       "      <td>2005-04-07</td>\n",
       "      <td>Flew to Almeria last December on GB Airways fl...</td>\n",
       "      <td>NaN</td>\n",
       "      <td>NaN</td>\n",
       "      <td>NaN</td>\n",
       "      <td>NaN</td>\n",
       "      <td>0.0</td>\n",
       "      <td>8</td>\n",
       "      <td>0.000000</td>\n",
       "      <td>Europe</td>\n",
       "    </tr>\n",
       "    <tr>\n",
       "      <th>21</th>\n",
       "      <td>almeria</td>\n",
       "      <td>Mark Evans</td>\n",
       "      <td>NaN</td>\n",
       "      <td>2005-03-22</td>\n",
       "      <td>Almeria is now gaining a higher profile having...</td>\n",
       "      <td>NaN</td>\n",
       "      <td>NaN</td>\n",
       "      <td>NaN</td>\n",
       "      <td>NaN</td>\n",
       "      <td>0.0</td>\n",
       "      <td>8</td>\n",
       "      <td>0.000000</td>\n",
       "      <td>Europe</td>\n",
       "    </tr>\n",
       "    <tr>\n",
       "      <th>22</th>\n",
       "      <td>antwerp deurne</td>\n",
       "      <td>C Wajsberg</td>\n",
       "      <td>Israel</td>\n",
       "      <td>2012-10-27</td>\n",
       "      <td>Very small airport with not many destinations ...</td>\n",
       "      <td>10.0</td>\n",
       "      <td>5.0</td>\n",
       "      <td>4.0</td>\n",
       "      <td>4.0</td>\n",
       "      <td>1.0</td>\n",
       "      <td>7</td>\n",
       "      <td>0.250000</td>\n",
       "      <td>Europe</td>\n",
       "    </tr>\n",
       "    <tr>\n",
       "      <th>23</th>\n",
       "      <td>antwerp deurne</td>\n",
       "      <td>S Smith</td>\n",
       "      <td>NaN</td>\n",
       "      <td>2010-05-07</td>\n",
       "      <td>So refreshing to be able to use Duerne instead...</td>\n",
       "      <td>5.0</td>\n",
       "      <td>NaN</td>\n",
       "      <td>NaN</td>\n",
       "      <td>NaN</td>\n",
       "      <td>0.0</td>\n",
       "      <td>7</td>\n",
       "      <td>0.250000</td>\n",
       "      <td>Europe</td>\n",
       "    </tr>\n",
       "    <tr>\n",
       "      <th>24</th>\n",
       "      <td>antwerp deurne</td>\n",
       "      <td>S Smith</td>\n",
       "      <td>NaN</td>\n",
       "      <td>2009-12-20</td>\n",
       "      <td>Fantastic airport. I go in and out at least on...</td>\n",
       "      <td>5.0</td>\n",
       "      <td>NaN</td>\n",
       "      <td>NaN</td>\n",
       "      <td>NaN</td>\n",
       "      <td>0.0</td>\n",
       "      <td>7</td>\n",
       "      <td>0.250000</td>\n",
       "      <td>Europe</td>\n",
       "    </tr>\n",
       "    <tr>\n",
       "      <th>25</th>\n",
       "      <td>antwerp deurne</td>\n",
       "      <td>Karel Hladky</td>\n",
       "      <td>NaN</td>\n",
       "      <td>2008-07-21</td>\n",
       "      <td>What an amazing little airport ! All flights d...</td>\n",
       "      <td>5.0</td>\n",
       "      <td>NaN</td>\n",
       "      <td>NaN</td>\n",
       "      <td>NaN</td>\n",
       "      <td>0.0</td>\n",
       "      <td>7</td>\n",
       "      <td>0.250000</td>\n",
       "      <td>Europe</td>\n",
       "    </tr>\n",
       "    <tr>\n",
       "      <th>26</th>\n",
       "      <td>antwerp deurne</td>\n",
       "      <td>Mark St-Amour</td>\n",
       "      <td>NaN</td>\n",
       "      <td>2008-01-24</td>\n",
       "      <td>Free parking 15 minutes check-in a bar and a d...</td>\n",
       "      <td>NaN</td>\n",
       "      <td>NaN</td>\n",
       "      <td>NaN</td>\n",
       "      <td>4.0</td>\n",
       "      <td>NaN</td>\n",
       "      <td>7</td>\n",
       "      <td>0.250000</td>\n",
       "      <td>Europe</td>\n",
       "    </tr>\n",
       "    <tr>\n",
       "      <th>27</th>\n",
       "      <td>antwerp deurne</td>\n",
       "      <td>H van der Maarel</td>\n",
       "      <td>NaN</td>\n",
       "      <td>2007-04-26</td>\n",
       "      <td>ANR-LCY vv. recently with VLM. Early morning f...</td>\n",
       "      <td>NaN</td>\n",
       "      <td>NaN</td>\n",
       "      <td>NaN</td>\n",
       "      <td>4.0</td>\n",
       "      <td>NaN</td>\n",
       "      <td>7</td>\n",
       "      <td>0.250000</td>\n",
       "      <td>Europe</td>\n",
       "    </tr>\n",
       "    <tr>\n",
       "      <th>28</th>\n",
       "      <td>antwerp deurne</td>\n",
       "      <td>Michael Newport</td>\n",
       "      <td>NaN</td>\n",
       "      <td>2005-08-16</td>\n",
       "      <td>Great airport not many flights so no hassle. F...</td>\n",
       "      <td>NaN</td>\n",
       "      <td>NaN</td>\n",
       "      <td>NaN</td>\n",
       "      <td>NaN</td>\n",
       "      <td>NaN</td>\n",
       "      <td>7</td>\n",
       "      <td>0.250000</td>\n",
       "      <td>Europe</td>\n",
       "    </tr>\n",
       "    <tr>\n",
       "      <th>29</th>\n",
       "      <td>aruba reina beatrix</td>\n",
       "      <td>Barry Vogel</td>\n",
       "      <td>United States</td>\n",
       "      <td>2014-12-31</td>\n",
       "      <td>Arriving was a breeze Luggage came out quickly...</td>\n",
       "      <td>NaN</td>\n",
       "      <td>4.0</td>\n",
       "      <td>NaN</td>\n",
       "      <td>NaN</td>\n",
       "      <td>1.0</td>\n",
       "      <td>9</td>\n",
       "      <td>0.444444</td>\n",
       "      <td>Latin America</td>\n",
       "    </tr>\n",
       "    <tr>\n",
       "      <th>30</th>\n",
       "      <td>aruba reina beatrix</td>\n",
       "      <td>C Gal</td>\n",
       "      <td>United States</td>\n",
       "      <td>2014-07-17</td>\n",
       "      <td>Arrived in Aruba 15 min early only to sit on p...</td>\n",
       "      <td>NaN</td>\n",
       "      <td>2.0</td>\n",
       "      <td>4.0</td>\n",
       "      <td>4.0</td>\n",
       "      <td>1.0</td>\n",
       "      <td>9</td>\n",
       "      <td>0.444444</td>\n",
       "      <td>Latin America</td>\n",
       "    </tr>\n",
       "    <tr>\n",
       "      <th>31</th>\n",
       "      <td>aruba reina beatrix</td>\n",
       "      <td>A Arriens</td>\n",
       "      <td>Netherlands</td>\n",
       "      <td>2013-11-22</td>\n",
       "      <td>Everything went smoothly as expected. Clean ai...</td>\n",
       "      <td>9.0</td>\n",
       "      <td>4.0</td>\n",
       "      <td>5.0</td>\n",
       "      <td>4.0</td>\n",
       "      <td>1.0</td>\n",
       "      <td>9</td>\n",
       "      <td>0.444444</td>\n",
       "      <td>Latin America</td>\n",
       "    </tr>\n",
       "    <tr>\n",
       "      <th>32</th>\n",
       "      <td>aruba reina beatrix</td>\n",
       "      <td>Serge Plyshevski</td>\n",
       "      <td>Canada</td>\n",
       "      <td>2013-01-25</td>\n",
       "      <td>Very long wait for luggage and very slow check...</td>\n",
       "      <td>5.0</td>\n",
       "      <td>2.0</td>\n",
       "      <td>4.0</td>\n",
       "      <td>3.0</td>\n",
       "      <td>0.0</td>\n",
       "      <td>9</td>\n",
       "      <td>0.444444</td>\n",
       "      <td>Latin America</td>\n",
       "    </tr>\n",
       "    <tr>\n",
       "      <th>33</th>\n",
       "      <td>aruba reina beatrix</td>\n",
       "      <td>Whitnye Bivens</td>\n",
       "      <td>United States</td>\n",
       "      <td>2012-09-03</td>\n",
       "      <td>My husband and I arrived at the airport at 2 p...</td>\n",
       "      <td>NaN</td>\n",
       "      <td>1.0</td>\n",
       "      <td>4.0</td>\n",
       "      <td>4.0</td>\n",
       "      <td>1.0</td>\n",
       "      <td>9</td>\n",
       "      <td>0.444444</td>\n",
       "      <td>Latin America</td>\n",
       "    </tr>\n",
       "    <tr>\n",
       "      <th>34</th>\n",
       "      <td>aruba reina beatrix</td>\n",
       "      <td>C Georgelas</td>\n",
       "      <td>United States</td>\n",
       "      <td>2012-02-22</td>\n",
       "      <td>Departed this airport on a flight that was to ...</td>\n",
       "      <td>3.0</td>\n",
       "      <td>1.0</td>\n",
       "      <td>4.0</td>\n",
       "      <td>4.0</td>\n",
       "      <td>0.0</td>\n",
       "      <td>9</td>\n",
       "      <td>0.444444</td>\n",
       "      <td>Latin America</td>\n",
       "    </tr>\n",
       "    <tr>\n",
       "      <th>35</th>\n",
       "      <td>aruba reina beatrix</td>\n",
       "      <td>P Littlefair</td>\n",
       "      <td>NaN</td>\n",
       "      <td>2010-02-26</td>\n",
       "      <td>Seems to be a quite pleasant little airport. I...</td>\n",
       "      <td>4.0</td>\n",
       "      <td>NaN</td>\n",
       "      <td>NaN</td>\n",
       "      <td>NaN</td>\n",
       "      <td>0.0</td>\n",
       "      <td>9</td>\n",
       "      <td>0.444444</td>\n",
       "      <td>Latin America</td>\n",
       "    </tr>\n",
       "    <tr>\n",
       "      <th>36</th>\n",
       "      <td>aruba reina beatrix</td>\n",
       "      <td>B Tromp</td>\n",
       "      <td>NaN</td>\n",
       "      <td>2009-08-20</td>\n",
       "      <td>Nice airport friendly staff. US pre-clearance ...</td>\n",
       "      <td>3.0</td>\n",
       "      <td>NaN</td>\n",
       "      <td>NaN</td>\n",
       "      <td>NaN</td>\n",
       "      <td>0.0</td>\n",
       "      <td>9</td>\n",
       "      <td>0.444444</td>\n",
       "      <td>Latin America</td>\n",
       "    </tr>\n",
       "    <tr>\n",
       "      <th>37</th>\n",
       "      <td>aruba reina beatrix</td>\n",
       "      <td>Andre Souza</td>\n",
       "      <td>NaN</td>\n",
       "      <td>2009-04-29</td>\n",
       "      <td>AUA is a nice airport pre US border control is...</td>\n",
       "      <td>3.0</td>\n",
       "      <td>NaN</td>\n",
       "      <td>NaN</td>\n",
       "      <td>NaN</td>\n",
       "      <td>0.0</td>\n",
       "      <td>9</td>\n",
       "      <td>0.444444</td>\n",
       "      <td>Latin America</td>\n",
       "    </tr>\n",
       "    <tr>\n",
       "      <th>38</th>\n",
       "      <td>banjul</td>\n",
       "      <td>N Stacey</td>\n",
       "      <td>United Kingdom</td>\n",
       "      <td>2011-01-10</td>\n",
       "      <td>I have been travelling to the Gambia for a num...</td>\n",
       "      <td>2.0</td>\n",
       "      <td>1.0</td>\n",
       "      <td>3.0</td>\n",
       "      <td>3.0</td>\n",
       "      <td>0.0</td>\n",
       "      <td>6</td>\n",
       "      <td>0.000000</td>\n",
       "      <td>Africa</td>\n",
       "    </tr>\n",
       "    <tr>\n",
       "      <th>39</th>\n",
       "      <td>banjul</td>\n",
       "      <td>Nigel Stacey</td>\n",
       "      <td>United Kingdom</td>\n",
       "      <td>2010-05-29</td>\n",
       "      <td>I have been travelling to the Gambia for six y...</td>\n",
       "      <td>4.0</td>\n",
       "      <td>3.0</td>\n",
       "      <td>3.0</td>\n",
       "      <td>3.0</td>\n",
       "      <td>0.0</td>\n",
       "      <td>6</td>\n",
       "      <td>0.000000</td>\n",
       "      <td>Africa</td>\n",
       "    </tr>\n",
       "    <tr>\n",
       "      <th>40</th>\n",
       "      <td>banjul</td>\n",
       "      <td>Paul Harvey</td>\n",
       "      <td>NaN</td>\n",
       "      <td>2010-05-25</td>\n",
       "      <td>Just back from the Gambia again most things at...</td>\n",
       "      <td>3.0</td>\n",
       "      <td>NaN</td>\n",
       "      <td>NaN</td>\n",
       "      <td>NaN</td>\n",
       "      <td>0.0</td>\n",
       "      <td>6</td>\n",
       "      <td>0.000000</td>\n",
       "      <td>Africa</td>\n",
       "    </tr>\n",
       "    <tr>\n",
       "      <th>41</th>\n",
       "      <td>banjul</td>\n",
       "      <td>B Lakin</td>\n",
       "      <td>NaN</td>\n",
       "      <td>2009-04-05</td>\n",
       "      <td>A very basic airport. Arrival reasonably speed...</td>\n",
       "      <td>2.0</td>\n",
       "      <td>NaN</td>\n",
       "      <td>NaN</td>\n",
       "      <td>NaN</td>\n",
       "      <td>0.0</td>\n",
       "      <td>6</td>\n",
       "      <td>0.000000</td>\n",
       "      <td>Africa</td>\n",
       "    </tr>\n",
       "    <tr>\n",
       "      <th>42</th>\n",
       "      <td>banjul</td>\n",
       "      <td>P Wilson</td>\n",
       "      <td>NaN</td>\n",
       "      <td>2008-08-15</td>\n",
       "      <td>For a west african country it is quite good wi...</td>\n",
       "      <td>3.0</td>\n",
       "      <td>NaN</td>\n",
       "      <td>NaN</td>\n",
       "      <td>NaN</td>\n",
       "      <td>0.0</td>\n",
       "      <td>6</td>\n",
       "      <td>0.000000</td>\n",
       "      <td>Africa</td>\n",
       "    </tr>\n",
       "    <tr>\n",
       "      <th>43</th>\n",
       "      <td>banjul</td>\n",
       "      <td>Dave Stanley</td>\n",
       "      <td>NaN</td>\n",
       "      <td>2008-03-02</td>\n",
       "      <td>By African standards this is a very good airpo...</td>\n",
       "      <td>3.0</td>\n",
       "      <td>NaN</td>\n",
       "      <td>NaN</td>\n",
       "      <td>NaN</td>\n",
       "      <td>0.0</td>\n",
       "      <td>6</td>\n",
       "      <td>0.000000</td>\n",
       "      <td>Africa</td>\n",
       "    </tr>\n",
       "    <tr>\n",
       "      <th>44</th>\n",
       "      <td>beirut</td>\n",
       "      <td>M Dalton</td>\n",
       "      <td>Switzerland</td>\n",
       "      <td>2015-07-29</td>\n",
       "      <td>You queue for a long time to go through the fi...</td>\n",
       "      <td>NaN</td>\n",
       "      <td>NaN</td>\n",
       "      <td>NaN</td>\n",
       "      <td>NaN</td>\n",
       "      <td>0.0</td>\n",
       "      <td>9</td>\n",
       "      <td>0.333333</td>\n",
       "      <td>Middle-East</td>\n",
       "    </tr>\n",
       "    <tr>\n",
       "      <th>45</th>\n",
       "      <td>beirut</td>\n",
       "      <td>S Fedorak</td>\n",
       "      <td>Lebanon</td>\n",
       "      <td>2015-04-17</td>\n",
       "      <td>Something has to be done about the inefficienc...</td>\n",
       "      <td>NaN</td>\n",
       "      <td>3.0</td>\n",
       "      <td>NaN</td>\n",
       "      <td>NaN</td>\n",
       "      <td>1.0</td>\n",
       "      <td>9</td>\n",
       "      <td>0.333333</td>\n",
       "      <td>Middle-East</td>\n",
       "    </tr>\n",
       "    <tr>\n",
       "      <th>46</th>\n",
       "      <td>beirut</td>\n",
       "      <td>A Milossavlyevich</td>\n",
       "      <td>Serbia</td>\n",
       "      <td>2013-04-21</td>\n",
       "      <td>The best airport in my opinion or at least my ...</td>\n",
       "      <td>9.0</td>\n",
       "      <td>5.0</td>\n",
       "      <td>5.0</td>\n",
       "      <td>5.0</td>\n",
       "      <td>1.0</td>\n",
       "      <td>9</td>\n",
       "      <td>0.333333</td>\n",
       "      <td>Middle-East</td>\n",
       "    </tr>\n",
       "    <tr>\n",
       "      <th>47</th>\n",
       "      <td>beirut</td>\n",
       "      <td>S Robert</td>\n",
       "      <td>United Kingdom</td>\n",
       "      <td>2012-03-19</td>\n",
       "      <td>DXB-BEY. Small airport. Limited facilities. Ru...</td>\n",
       "      <td>NaN</td>\n",
       "      <td>1.0</td>\n",
       "      <td>2.0</td>\n",
       "      <td>2.0</td>\n",
       "      <td>1.0</td>\n",
       "      <td>9</td>\n",
       "      <td>0.333333</td>\n",
       "      <td>Middle-East</td>\n",
       "    </tr>\n",
       "    <tr>\n",
       "      <th>48</th>\n",
       "      <td>beirut</td>\n",
       "      <td>S Markoff</td>\n",
       "      <td>Serbia</td>\n",
       "      <td>2010-10-20</td>\n",
       "      <td>Arriving from SHJ BEY was a very pleasant surp...</td>\n",
       "      <td>5.0</td>\n",
       "      <td>5.0</td>\n",
       "      <td>5.0</td>\n",
       "      <td>3.0</td>\n",
       "      <td>0.0</td>\n",
       "      <td>9</td>\n",
       "      <td>0.333333</td>\n",
       "      <td>Middle-East</td>\n",
       "    </tr>\n",
       "    <tr>\n",
       "      <th>49</th>\n",
       "      <td>beirut</td>\n",
       "      <td>Peter Thackray</td>\n",
       "      <td>United Kingdom</td>\n",
       "      <td>2010-05-26</td>\n",
       "      <td>Arrived in late evening from LHR. Immigration ...</td>\n",
       "      <td>4.0</td>\n",
       "      <td>5.0</td>\n",
       "      <td>5.0</td>\n",
       "      <td>3.0</td>\n",
       "      <td>0.0</td>\n",
       "      <td>9</td>\n",
       "      <td>0.333333</td>\n",
       "      <td>Middle-East</td>\n",
       "    </tr>\n",
       "  </tbody>\n",
       "</table>\n",
       "</div>"
      ],
      "text/plain": [
       "            airport_name              author  author_country        date  \\\n",
       "0                 abuja             Alan Wan  United Kingdom  2012-02-28   \n",
       "1                 abuja               A Cobo   United States  2011-08-08   \n",
       "2                 abuja   Antonio Tettamanzy          Brazil  2011-04-14   \n",
       "3                 abuja           C Stafford             NaN  2010-01-31   \n",
       "4                 abuja       Mark Bickerton             NaN  2009-05-24   \n",
       "5                 abuja            S Adewale             NaN  2007-03-03   \n",
       "6               algiers       Qaddoumi Samar          Kuwait  2013-05-16   \n",
       "7               algiers           R Oussalah          Taiwan  2012-10-10   \n",
       "8               algiers        Mohamed Salah          France  2011-07-27   \n",
       "9               algiers           R Oussalah           Italy  2011-01-19   \n",
       "10              algiers          Mark Wadham             NaN  2010-05-26   \n",
       "11              algiers             M Fadjar             NaN  2009-10-12   \n",
       "12              algiers          Reyad Kesri             NaN  2009-06-03   \n",
       "13              algiers             S Farooq             NaN  2007-04-03   \n",
       "14              almeria          Stuart Ward  United Kingdom  2011-07-10   \n",
       "15              almeria          Stuart Ward             NaN  2010-10-24   \n",
       "16              almeria          Susan Davis             NaN  2007-07-18   \n",
       "17              almeria            S William             NaN  2007-03-25   \n",
       "18              almeria     Dan Thorneycroft             NaN  2006-08-25   \n",
       "19              almeria          Mohd Kastor             NaN  2006-05-31   \n",
       "20              almeria          Nick Scales             NaN  2005-04-07   \n",
       "21              almeria           Mark Evans             NaN  2005-03-22   \n",
       "22       antwerp deurne           C Wajsberg          Israel  2012-10-27   \n",
       "23       antwerp deurne              S Smith             NaN  2010-05-07   \n",
       "24       antwerp deurne              S Smith             NaN  2009-12-20   \n",
       "25       antwerp deurne         Karel Hladky             NaN  2008-07-21   \n",
       "26       antwerp deurne        Mark St-Amour             NaN  2008-01-24   \n",
       "27       antwerp deurne     H van der Maarel             NaN  2007-04-26   \n",
       "28       antwerp deurne      Michael Newport             NaN  2005-08-16   \n",
       "29  aruba reina beatrix          Barry Vogel   United States  2014-12-31   \n",
       "30  aruba reina beatrix                C Gal   United States  2014-07-17   \n",
       "31  aruba reina beatrix            A Arriens     Netherlands  2013-11-22   \n",
       "32  aruba reina beatrix     Serge Plyshevski          Canada  2013-01-25   \n",
       "33  aruba reina beatrix       Whitnye Bivens   United States  2012-09-03   \n",
       "34  aruba reina beatrix          C Georgelas   United States  2012-02-22   \n",
       "35  aruba reina beatrix         P Littlefair             NaN  2010-02-26   \n",
       "36  aruba reina beatrix              B Tromp             NaN  2009-08-20   \n",
       "37  aruba reina beatrix          Andre Souza             NaN  2009-04-29   \n",
       "38               banjul             N Stacey  United Kingdom  2011-01-10   \n",
       "39               banjul         Nigel Stacey  United Kingdom  2010-05-29   \n",
       "40               banjul          Paul Harvey             NaN  2010-05-25   \n",
       "41               banjul              B Lakin             NaN  2009-04-05   \n",
       "42               banjul             P Wilson             NaN  2008-08-15   \n",
       "43               banjul         Dave Stanley             NaN  2008-03-02   \n",
       "44               beirut             M Dalton     Switzerland  2015-07-29   \n",
       "45               beirut            S Fedorak         Lebanon  2015-04-17   \n",
       "46               beirut    A Milossavlyevich          Serbia  2013-04-21   \n",
       "47               beirut             S Robert  United Kingdom  2012-03-19   \n",
       "48               beirut            S Markoff          Serbia  2010-10-20   \n",
       "49               beirut       Peter Thackray  United Kingdom  2010-05-26   \n",
       "\n",
       "                                              content  experience_airport  \\\n",
       "0   On arrival as we flew Business Class we were n...                 6.0   \n",
       "1   Abuja international arrivals greets you with a...                 2.0   \n",
       "2   It was better than expected but can be quite m...                 3.0   \n",
       "3   Upon arrival from Amsterdam on KLM I went to u...                 2.0   \n",
       "4   The international terminal is nice and quite w...                 NaN   \n",
       "5   In Nigerian standards relatively clean and org...                 NaN   \n",
       "6   Algiers airport is huge and clean but I did no...                 5.0   \n",
       "7   This is the first time in over a year I used t...                 7.0   \n",
       "8   Good airport international terminal T1 is nice...                 4.0   \n",
       "9   For departures Algiers new airport is fairly s...                 NaN   \n",
       "10  The airport building in itself is fairly attra...                 NaN   \n",
       "11  Algiers airport has improved a lot lately espe...                 3.0   \n",
       "12  Algiers new terminal is up to international st...                 4.0   \n",
       "13  Inbound no hassles and after claiming baggage ...                 NaN   \n",
       "14  Interesting to see the airport since last year...                 4.0   \n",
       "15  Arrival okay queue to go through passport was ...                 4.0   \n",
       "16  I found the airport to be more than adequate. ...                 3.0   \n",
       "17  Almeria was unfortunately not built to handle ...                 NaN   \n",
       "18  Reading some of the other reports of Almeria a...                 NaN   \n",
       "19  A small airport with limited but more than eno...                 NaN   \n",
       "20  Flew to Almeria last December on GB Airways fl...                 NaN   \n",
       "21  Almeria is now gaining a higher profile having...                 NaN   \n",
       "22  Very small airport with not many destinations ...                10.0   \n",
       "23  So refreshing to be able to use Duerne instead...                 5.0   \n",
       "24  Fantastic airport. I go in and out at least on...                 5.0   \n",
       "25  What an amazing little airport ! All flights d...                 5.0   \n",
       "26  Free parking 15 minutes check-in a bar and a d...                 NaN   \n",
       "27  ANR-LCY vv. recently with VLM. Early morning f...                 NaN   \n",
       "28  Great airport not many flights so no hassle. F...                 NaN   \n",
       "29  Arriving was a breeze Luggage came out quickly...                 NaN   \n",
       "30  Arrived in Aruba 15 min early only to sit on p...                 NaN   \n",
       "31  Everything went smoothly as expected. Clean ai...                 9.0   \n",
       "32  Very long wait for luggage and very slow check...                 5.0   \n",
       "33  My husband and I arrived at the airport at 2 p...                 NaN   \n",
       "34  Departed this airport on a flight that was to ...                 3.0   \n",
       "35  Seems to be a quite pleasant little airport. I...                 4.0   \n",
       "36  Nice airport friendly staff. US pre-clearance ...                 3.0   \n",
       "37  AUA is a nice airport pre US border control is...                 3.0   \n",
       "38  I have been travelling to the Gambia for a num...                 2.0   \n",
       "39  I have been travelling to the Gambia for six y...                 4.0   \n",
       "40  Just back from the Gambia again most things at...                 3.0   \n",
       "41  A very basic airport. Arrival reasonably speed...                 2.0   \n",
       "42  For a west african country it is quite good wi...                 3.0   \n",
       "43  By African standards this is a very good airpo...                 3.0   \n",
       "44  You queue for a long time to go through the fi...                 NaN   \n",
       "45  Something has to be done about the inefficienc...                 NaN   \n",
       "46  The best airport in my opinion or at least my ...                 9.0   \n",
       "47  DXB-BEY. Small airport. Limited facilities. Ru...                 NaN   \n",
       "48  Arriving from SHJ BEY was a very pleasant surp...                 5.0   \n",
       "49  Arrived in late evening from LHR. Immigration ...                 4.0   \n",
       "\n",
       "    overall_rating  terminal_cleanliness_rating  terminal_seating_rating  \\\n",
       "0              2.0                          3.0                      1.0   \n",
       "1              1.0                          3.0                      1.0   \n",
       "2              3.0                          3.0                      1.0   \n",
       "3              NaN                          NaN                      NaN   \n",
       "4              NaN                          NaN                      2.0   \n",
       "5              NaN                          NaN                      NaN   \n",
       "6              4.0                          5.0                      3.0   \n",
       "7              4.0                          5.0                      3.0   \n",
       "8              5.0                          5.0                      5.0   \n",
       "9              NaN                          NaN                      NaN   \n",
       "10             NaN                          NaN                      3.0   \n",
       "11             NaN                          NaN                      NaN   \n",
       "12             NaN                          NaN                      NaN   \n",
       "13             NaN                          NaN                      NaN   \n",
       "14             5.0                          5.0                      3.0   \n",
       "15             NaN                          NaN                      NaN   \n",
       "16             NaN                          NaN                      NaN   \n",
       "17             NaN                          NaN                      NaN   \n",
       "18             NaN                          NaN                      NaN   \n",
       "19             NaN                          NaN                      NaN   \n",
       "20             NaN                          NaN                      NaN   \n",
       "21             NaN                          NaN                      NaN   \n",
       "22             5.0                          4.0                      4.0   \n",
       "23             NaN                          NaN                      NaN   \n",
       "24             NaN                          NaN                      NaN   \n",
       "25             NaN                          NaN                      NaN   \n",
       "26             NaN                          NaN                      4.0   \n",
       "27             NaN                          NaN                      4.0   \n",
       "28             NaN                          NaN                      NaN   \n",
       "29             4.0                          NaN                      NaN   \n",
       "30             2.0                          4.0                      4.0   \n",
       "31             4.0                          5.0                      4.0   \n",
       "32             2.0                          4.0                      3.0   \n",
       "33             1.0                          4.0                      4.0   \n",
       "34             1.0                          4.0                      4.0   \n",
       "35             NaN                          NaN                      NaN   \n",
       "36             NaN                          NaN                      NaN   \n",
       "37             NaN                          NaN                      NaN   \n",
       "38             1.0                          3.0                      3.0   \n",
       "39             3.0                          3.0                      3.0   \n",
       "40             NaN                          NaN                      NaN   \n",
       "41             NaN                          NaN                      NaN   \n",
       "42             NaN                          NaN                      NaN   \n",
       "43             NaN                          NaN                      NaN   \n",
       "44             NaN                          NaN                      NaN   \n",
       "45             3.0                          NaN                      NaN   \n",
       "46             5.0                          5.0                      5.0   \n",
       "47             1.0                          2.0                      2.0   \n",
       "48             5.0                          5.0                      3.0   \n",
       "49             5.0                          5.0                      3.0   \n",
       "\n",
       "    recommended  count  recommended_mean       geo_area  \n",
       "0           0.0      6          0.000000         Africa  \n",
       "1           0.0      6          0.000000         Africa  \n",
       "2           0.0      6          0.000000         Africa  \n",
       "3           0.0      6          0.000000         Africa  \n",
       "4           0.0      6          0.000000         Africa  \n",
       "5           0.0      6          0.000000         Africa  \n",
       "6           0.0      8          0.166667         Africa  \n",
       "7           1.0      8          0.166667         Africa  \n",
       "8           0.0      8          0.166667         Africa  \n",
       "9           NaN      8          0.166667         Africa  \n",
       "10          NaN      8          0.166667         Africa  \n",
       "11          0.0      8          0.166667         Africa  \n",
       "12          0.0      8          0.166667         Africa  \n",
       "13          0.0      8          0.166667         Africa  \n",
       "14          0.0      8          0.000000         Europe  \n",
       "15          0.0      8          0.000000         Europe  \n",
       "16          0.0      8          0.000000         Europe  \n",
       "17          0.0      8          0.000000         Europe  \n",
       "18          0.0      8          0.000000         Europe  \n",
       "19          NaN      8          0.000000         Europe  \n",
       "20          0.0      8          0.000000         Europe  \n",
       "21          0.0      8          0.000000         Europe  \n",
       "22          1.0      7          0.250000         Europe  \n",
       "23          0.0      7          0.250000         Europe  \n",
       "24          0.0      7          0.250000         Europe  \n",
       "25          0.0      7          0.250000         Europe  \n",
       "26          NaN      7          0.250000         Europe  \n",
       "27          NaN      7          0.250000         Europe  \n",
       "28          NaN      7          0.250000         Europe  \n",
       "29          1.0      9          0.444444  Latin America  \n",
       "30          1.0      9          0.444444  Latin America  \n",
       "31          1.0      9          0.444444  Latin America  \n",
       "32          0.0      9          0.444444  Latin America  \n",
       "33          1.0      9          0.444444  Latin America  \n",
       "34          0.0      9          0.444444  Latin America  \n",
       "35          0.0      9          0.444444  Latin America  \n",
       "36          0.0      9          0.444444  Latin America  \n",
       "37          0.0      9          0.444444  Latin America  \n",
       "38          0.0      6          0.000000         Africa  \n",
       "39          0.0      6          0.000000         Africa  \n",
       "40          0.0      6          0.000000         Africa  \n",
       "41          0.0      6          0.000000         Africa  \n",
       "42          0.0      6          0.000000         Africa  \n",
       "43          0.0      6          0.000000         Africa  \n",
       "44          0.0      9          0.333333    Middle-East  \n",
       "45          1.0      9          0.333333    Middle-East  \n",
       "46          1.0      9          0.333333    Middle-East  \n",
       "47          1.0      9          0.333333    Middle-East  \n",
       "48          0.0      9          0.333333    Middle-East  \n",
       "49          0.0      9          0.333333    Middle-East  "
      ]
     },
     "execution_count": 44,
     "metadata": {},
     "output_type": "execute_result"
    }
   ],
   "source": [
    "small.head(50)"
   ]
  },
  {
   "cell_type": "code",
   "execution_count": 45,
   "metadata": {},
   "outputs": [
    {
     "name": "stderr",
     "output_type": "stream",
     "text": [
      "/var/folders/t8/zlgx07xx3m14kxtv1vv3m6lw0000gn/T/ipykernel_1242/3634756729.py:1: DeprecationWarning: DataFrameGroupBy.apply operated on the grouping columns. This behavior is deprecated, and in a future version of pandas the grouping columns will be excluded from the operation. Either pass `include_groups=False` to exclude the groupings or explicitly select the grouping columns after groupby to silence this warning.\n",
      "  groupedby_region = small.groupby('geo_area').apply(lambda x: x.sort_values(by='geo_area'))\n"
     ]
    },
    {
     "data": {
      "text/html": [
       "<div>\n",
       "<style scoped>\n",
       "    .dataframe tbody tr th:only-of-type {\n",
       "        vertical-align: middle;\n",
       "    }\n",
       "\n",
       "    .dataframe tbody tr th {\n",
       "        vertical-align: top;\n",
       "    }\n",
       "\n",
       "    .dataframe thead th {\n",
       "        text-align: right;\n",
       "    }\n",
       "</style>\n",
       "<table border=\"1\" class=\"dataframe\">\n",
       "  <thead>\n",
       "    <tr style=\"text-align: right;\">\n",
       "      <th></th>\n",
       "      <th></th>\n",
       "      <th>airport_name</th>\n",
       "      <th>author</th>\n",
       "      <th>author_country</th>\n",
       "      <th>date</th>\n",
       "      <th>content</th>\n",
       "      <th>experience_airport</th>\n",
       "      <th>overall_rating</th>\n",
       "      <th>terminal_cleanliness_rating</th>\n",
       "      <th>terminal_seating_rating</th>\n",
       "      <th>recommended</th>\n",
       "      <th>count</th>\n",
       "      <th>recommended_mean</th>\n",
       "      <th>geo_area</th>\n",
       "    </tr>\n",
       "    <tr>\n",
       "      <th>geo_area</th>\n",
       "      <th></th>\n",
       "      <th></th>\n",
       "      <th></th>\n",
       "      <th></th>\n",
       "      <th></th>\n",
       "      <th></th>\n",
       "      <th></th>\n",
       "      <th></th>\n",
       "      <th></th>\n",
       "      <th></th>\n",
       "      <th></th>\n",
       "      <th></th>\n",
       "      <th></th>\n",
       "      <th></th>\n",
       "    </tr>\n",
       "  </thead>\n",
       "  <tbody>\n",
       "    <tr>\n",
       "      <th rowspan=\"20\" valign=\"top\">Africa</th>\n",
       "      <th>0</th>\n",
       "      <td>abuja</td>\n",
       "      <td>Alan Wan</td>\n",
       "      <td>United Kingdom</td>\n",
       "      <td>2012-02-28</td>\n",
       "      <td>On arrival as we flew Business Class we were n...</td>\n",
       "      <td>6.0</td>\n",
       "      <td>2.0</td>\n",
       "      <td>3.0</td>\n",
       "      <td>1.0</td>\n",
       "      <td>0.0</td>\n",
       "      <td>6</td>\n",
       "      <td>0.000000</td>\n",
       "      <td>Africa</td>\n",
       "    </tr>\n",
       "    <tr>\n",
       "      <th>474</th>\n",
       "      <td>mombasa</td>\n",
       "      <td>Nick Serpell</td>\n",
       "      <td>NaN</td>\n",
       "      <td>2006-03-15</td>\n",
       "      <td>Mombasa is a basic bucket and spade airport. W...</td>\n",
       "      <td>NaN</td>\n",
       "      <td>NaN</td>\n",
       "      <td>NaN</td>\n",
       "      <td>NaN</td>\n",
       "      <td>0.0</td>\n",
       "      <td>9</td>\n",
       "      <td>0.555556</td>\n",
       "      <td>Africa</td>\n",
       "    </tr>\n",
       "    <tr>\n",
       "      <th>473</th>\n",
       "      <td>mombasa</td>\n",
       "      <td>Paul Whiteley</td>\n",
       "      <td>NaN</td>\n",
       "      <td>2007-12-12</td>\n",
       "      <td>Overall not a bad airport. Airport very warm b...</td>\n",
       "      <td>NaN</td>\n",
       "      <td>NaN</td>\n",
       "      <td>NaN</td>\n",
       "      <td>3.0</td>\n",
       "      <td>1.0</td>\n",
       "      <td>9</td>\n",
       "      <td>0.555556</td>\n",
       "      <td>Africa</td>\n",
       "    </tr>\n",
       "    <tr>\n",
       "      <th>472</th>\n",
       "      <td>mombasa</td>\n",
       "      <td>H Lilley</td>\n",
       "      <td>NaN</td>\n",
       "      <td>2008-07-14</td>\n",
       "      <td>I don't know what airport the previous person ...</td>\n",
       "      <td>NaN</td>\n",
       "      <td>NaN</td>\n",
       "      <td>NaN</td>\n",
       "      <td>NaN</td>\n",
       "      <td>1.0</td>\n",
       "      <td>9</td>\n",
       "      <td>0.555556</td>\n",
       "      <td>Africa</td>\n",
       "    </tr>\n",
       "    <tr>\n",
       "      <th>471</th>\n",
       "      <td>mombasa</td>\n",
       "      <td>L Suckling</td>\n",
       "      <td>NaN</td>\n",
       "      <td>2010-10-28</td>\n",
       "      <td>We have flown in and out of this airport nine ...</td>\n",
       "      <td>NaN</td>\n",
       "      <td>NaN</td>\n",
       "      <td>NaN</td>\n",
       "      <td>NaN</td>\n",
       "      <td>1.0</td>\n",
       "      <td>9</td>\n",
       "      <td>0.555556</td>\n",
       "      <td>Africa</td>\n",
       "    </tr>\n",
       "    <tr>\n",
       "      <th>470</th>\n",
       "      <td>mombasa</td>\n",
       "      <td>S Powley</td>\n",
       "      <td>United Kingdom</td>\n",
       "      <td>2011-10-31</td>\n",
       "      <td>We travelled back to the UK on 28th October - ...</td>\n",
       "      <td>6.0</td>\n",
       "      <td>4.0</td>\n",
       "      <td>4.0</td>\n",
       "      <td>3.0</td>\n",
       "      <td>1.0</td>\n",
       "      <td>9</td>\n",
       "      <td>0.555556</td>\n",
       "      <td>Africa</td>\n",
       "    </tr>\n",
       "    <tr>\n",
       "      <th>469</th>\n",
       "      <td>mombasa</td>\n",
       "      <td>Mark Cole</td>\n",
       "      <td>United Kingdom</td>\n",
       "      <td>2012-03-14</td>\n",
       "      <td>Traveled in Feb/March 2012 and fingerprints ar...</td>\n",
       "      <td>2.0</td>\n",
       "      <td>1.0</td>\n",
       "      <td>3.0</td>\n",
       "      <td>2.0</td>\n",
       "      <td>0.0</td>\n",
       "      <td>9</td>\n",
       "      <td>0.555556</td>\n",
       "      <td>Africa</td>\n",
       "    </tr>\n",
       "    <tr>\n",
       "      <th>468</th>\n",
       "      <td>mombasa</td>\n",
       "      <td>W Pechler</td>\n",
       "      <td>Netherlands</td>\n",
       "      <td>2012-09-03</td>\n",
       "      <td>Arrived from Nairobi and flew to Amsterdam on ...</td>\n",
       "      <td>7.0</td>\n",
       "      <td>4.0</td>\n",
       "      <td>3.0</td>\n",
       "      <td>3.0</td>\n",
       "      <td>1.0</td>\n",
       "      <td>9</td>\n",
       "      <td>0.555556</td>\n",
       "      <td>Africa</td>\n",
       "    </tr>\n",
       "    <tr>\n",
       "      <th>467</th>\n",
       "      <td>mombasa</td>\n",
       "      <td>Grahame Tate</td>\n",
       "      <td>United Kingdom</td>\n",
       "      <td>2013-12-23</td>\n",
       "      <td>Typical African airport. After you go through ...</td>\n",
       "      <td>NaN</td>\n",
       "      <td>NaN</td>\n",
       "      <td>NaN</td>\n",
       "      <td>0.0</td>\n",
       "      <td>0.0</td>\n",
       "      <td>9</td>\n",
       "      <td>0.555556</td>\n",
       "      <td>Africa</td>\n",
       "    </tr>\n",
       "    <tr>\n",
       "      <th>421</th>\n",
       "      <td>luxor</td>\n",
       "      <td>Jenny Bentley</td>\n",
       "      <td>NaN</td>\n",
       "      <td>2005-12-21</td>\n",
       "      <td>I gather that Luxor airport is new: a resident...</td>\n",
       "      <td>NaN</td>\n",
       "      <td>NaN</td>\n",
       "      <td>NaN</td>\n",
       "      <td>NaN</td>\n",
       "      <td>0.0</td>\n",
       "      <td>8</td>\n",
       "      <td>0.250000</td>\n",
       "      <td>Africa</td>\n",
       "    </tr>\n",
       "    <tr>\n",
       "      <th>420</th>\n",
       "      <td>luxor</td>\n",
       "      <td>B Barry</td>\n",
       "      <td>NaN</td>\n",
       "      <td>2006-06-20</td>\n",
       "      <td>I would agree with the above comments. The onl...</td>\n",
       "      <td>NaN</td>\n",
       "      <td>NaN</td>\n",
       "      <td>NaN</td>\n",
       "      <td>NaN</td>\n",
       "      <td>0.0</td>\n",
       "      <td>8</td>\n",
       "      <td>0.250000</td>\n",
       "      <td>Africa</td>\n",
       "    </tr>\n",
       "    <tr>\n",
       "      <th>419</th>\n",
       "      <td>luxor</td>\n",
       "      <td>J Catherall</td>\n",
       "      <td>NaN</td>\n",
       "      <td>2008-06-20</td>\n",
       "      <td>When we arrived at Luxor airport &amp; got off the...</td>\n",
       "      <td>4.0</td>\n",
       "      <td>NaN</td>\n",
       "      <td>NaN</td>\n",
       "      <td>NaN</td>\n",
       "      <td>0.0</td>\n",
       "      <td>8</td>\n",
       "      <td>0.250000</td>\n",
       "      <td>Africa</td>\n",
       "    </tr>\n",
       "    <tr>\n",
       "      <th>475</th>\n",
       "      <td>mombasa</td>\n",
       "      <td>Val Prinsep</td>\n",
       "      <td>NaN</td>\n",
       "      <td>2005-11-21</td>\n",
       "      <td>Mombasa airport is one of those open air jobs ...</td>\n",
       "      <td>NaN</td>\n",
       "      <td>NaN</td>\n",
       "      <td>NaN</td>\n",
       "      <td>NaN</td>\n",
       "      <td>0.0</td>\n",
       "      <td>9</td>\n",
       "      <td>0.555556</td>\n",
       "      <td>Africa</td>\n",
       "    </tr>\n",
       "    <tr>\n",
       "      <th>418</th>\n",
       "      <td>luxor</td>\n",
       "      <td>B Smith</td>\n",
       "      <td>NaN</td>\n",
       "      <td>2008-08-02</td>\n",
       "      <td>We used Luxor airport both for internal flight...</td>\n",
       "      <td>4.0</td>\n",
       "      <td>NaN</td>\n",
       "      <td>NaN</td>\n",
       "      <td>NaN</td>\n",
       "      <td>0.0</td>\n",
       "      <td>8</td>\n",
       "      <td>0.250000</td>\n",
       "      <td>Africa</td>\n",
       "    </tr>\n",
       "    <tr>\n",
       "      <th>416</th>\n",
       "      <td>luxor</td>\n",
       "      <td>M Doray</td>\n",
       "      <td>NaN</td>\n",
       "      <td>2010-12-28</td>\n",
       "      <td>Arrived at 3pm for a 6pm flight. Long queue fo...</td>\n",
       "      <td>2.0</td>\n",
       "      <td>NaN</td>\n",
       "      <td>NaN</td>\n",
       "      <td>NaN</td>\n",
       "      <td>0.0</td>\n",
       "      <td>8</td>\n",
       "      <td>0.250000</td>\n",
       "      <td>Africa</td>\n",
       "    </tr>\n",
       "    <tr>\n",
       "      <th>415</th>\n",
       "      <td>luxor</td>\n",
       "      <td>John Treacy</td>\n",
       "      <td>United Kingdom</td>\n",
       "      <td>2014-08-18</td>\n",
       "      <td>We flew into and out of Luxor as international...</td>\n",
       "      <td>5.0</td>\n",
       "      <td>3.0</td>\n",
       "      <td>4.0</td>\n",
       "      <td>3.0</td>\n",
       "      <td>1.0</td>\n",
       "      <td>8</td>\n",
       "      <td>0.250000</td>\n",
       "      <td>Africa</td>\n",
       "    </tr>\n",
       "    <tr>\n",
       "      <th>414</th>\n",
       "      <td>luxor</td>\n",
       "      <td>A Watson</td>\n",
       "      <td>United Kingdom</td>\n",
       "      <td>2015-01-19</td>\n",
       "      <td>Arrived at the airport from Gatwick. Was peste...</td>\n",
       "      <td>NaN</td>\n",
       "      <td>2.0</td>\n",
       "      <td>3.0</td>\n",
       "      <td>3.0</td>\n",
       "      <td>1.0</td>\n",
       "      <td>8</td>\n",
       "      <td>0.250000</td>\n",
       "      <td>Africa</td>\n",
       "    </tr>\n",
       "    <tr>\n",
       "      <th>413</th>\n",
       "      <td>lusaka</td>\n",
       "      <td>Nicholas Noblias</td>\n",
       "      <td>NaN</td>\n",
       "      <td>2005-03-21</td>\n",
       "      <td>Considering this is an airport in a poor Afric...</td>\n",
       "      <td>NaN</td>\n",
       "      <td>NaN</td>\n",
       "      <td>NaN</td>\n",
       "      <td>NaN</td>\n",
       "      <td>0.0</td>\n",
       "      <td>5</td>\n",
       "      <td>0.000000</td>\n",
       "      <td>Africa</td>\n",
       "    </tr>\n",
       "    <tr>\n",
       "      <th>412</th>\n",
       "      <td>lusaka</td>\n",
       "      <td>Keith Mwanalushi</td>\n",
       "      <td>NaN</td>\n",
       "      <td>2005-05-10</td>\n",
       "      <td>In the last 2 years Lusaka International Airpo...</td>\n",
       "      <td>NaN</td>\n",
       "      <td>NaN</td>\n",
       "      <td>NaN</td>\n",
       "      <td>NaN</td>\n",
       "      <td>0.0</td>\n",
       "      <td>5</td>\n",
       "      <td>0.000000</td>\n",
       "      <td>Africa</td>\n",
       "    </tr>\n",
       "    <tr>\n",
       "      <th>411</th>\n",
       "      <td>lusaka</td>\n",
       "      <td>G Balint</td>\n",
       "      <td>NaN</td>\n",
       "      <td>2008-02-19</td>\n",
       "      <td>I have recently been in Lusaka. The airport is...</td>\n",
       "      <td>3.0</td>\n",
       "      <td>NaN</td>\n",
       "      <td>NaN</td>\n",
       "      <td>NaN</td>\n",
       "      <td>0.0</td>\n",
       "      <td>5</td>\n",
       "      <td>0.000000</td>\n",
       "      <td>Africa</td>\n",
       "    </tr>\n",
       "  </tbody>\n",
       "</table>\n",
       "</div>"
      ],
      "text/plain": [
       "             airport_name            author  author_country        date  \\\n",
       "geo_area                                                                  \n",
       "Africa   0         abuja           Alan Wan  United Kingdom  2012-02-28   \n",
       "         474     mombasa       Nick Serpell             NaN  2006-03-15   \n",
       "         473     mombasa      Paul Whiteley             NaN  2007-12-12   \n",
       "         472     mombasa           H Lilley             NaN  2008-07-14   \n",
       "         471     mombasa         L Suckling             NaN  2010-10-28   \n",
       "         470     mombasa           S Powley  United Kingdom  2011-10-31   \n",
       "         469     mombasa          Mark Cole  United Kingdom  2012-03-14   \n",
       "         468     mombasa          W Pechler     Netherlands  2012-09-03   \n",
       "         467     mombasa       Grahame Tate  United Kingdom  2013-12-23   \n",
       "         421       luxor      Jenny Bentley             NaN  2005-12-21   \n",
       "         420       luxor            B Barry             NaN  2006-06-20   \n",
       "         419       luxor        J Catherall             NaN  2008-06-20   \n",
       "         475     mombasa        Val Prinsep             NaN  2005-11-21   \n",
       "         418       luxor            B Smith             NaN  2008-08-02   \n",
       "         416       luxor            M Doray             NaN  2010-12-28   \n",
       "         415       luxor        John Treacy  United Kingdom  2014-08-18   \n",
       "         414       luxor           A Watson  United Kingdom  2015-01-19   \n",
       "         413      lusaka   Nicholas Noblias             NaN  2005-03-21   \n",
       "         412      lusaka   Keith Mwanalushi             NaN  2005-05-10   \n",
       "         411      lusaka           G Balint             NaN  2008-02-19   \n",
       "\n",
       "                                                        content  \\\n",
       "geo_area                                                          \n",
       "Africa   0    On arrival as we flew Business Class we were n...   \n",
       "         474  Mombasa is a basic bucket and spade airport. W...   \n",
       "         473  Overall not a bad airport. Airport very warm b...   \n",
       "         472  I don't know what airport the previous person ...   \n",
       "         471  We have flown in and out of this airport nine ...   \n",
       "         470  We travelled back to the UK on 28th October - ...   \n",
       "         469  Traveled in Feb/March 2012 and fingerprints ar...   \n",
       "         468  Arrived from Nairobi and flew to Amsterdam on ...   \n",
       "         467  Typical African airport. After you go through ...   \n",
       "         421  I gather that Luxor airport is new: a resident...   \n",
       "         420  I would agree with the above comments. The onl...   \n",
       "         419  When we arrived at Luxor airport & got off the...   \n",
       "         475  Mombasa airport is one of those open air jobs ...   \n",
       "         418  We used Luxor airport both for internal flight...   \n",
       "         416  Arrived at 3pm for a 6pm flight. Long queue fo...   \n",
       "         415  We flew into and out of Luxor as international...   \n",
       "         414  Arrived at the airport from Gatwick. Was peste...   \n",
       "         413  Considering this is an airport in a poor Afric...   \n",
       "         412  In the last 2 years Lusaka International Airpo...   \n",
       "         411  I have recently been in Lusaka. The airport is...   \n",
       "\n",
       "              experience_airport  overall_rating  terminal_cleanliness_rating  \\\n",
       "geo_area                                                                        \n",
       "Africa   0                   6.0             2.0                          3.0   \n",
       "         474                 NaN             NaN                          NaN   \n",
       "         473                 NaN             NaN                          NaN   \n",
       "         472                 NaN             NaN                          NaN   \n",
       "         471                 NaN             NaN                          NaN   \n",
       "         470                 6.0             4.0                          4.0   \n",
       "         469                 2.0             1.0                          3.0   \n",
       "         468                 7.0             4.0                          3.0   \n",
       "         467                 NaN             NaN                          NaN   \n",
       "         421                 NaN             NaN                          NaN   \n",
       "         420                 NaN             NaN                          NaN   \n",
       "         419                 4.0             NaN                          NaN   \n",
       "         475                 NaN             NaN                          NaN   \n",
       "         418                 4.0             NaN                          NaN   \n",
       "         416                 2.0             NaN                          NaN   \n",
       "         415                 5.0             3.0                          4.0   \n",
       "         414                 NaN             2.0                          3.0   \n",
       "         413                 NaN             NaN                          NaN   \n",
       "         412                 NaN             NaN                          NaN   \n",
       "         411                 3.0             NaN                          NaN   \n",
       "\n",
       "              terminal_seating_rating  recommended  count  recommended_mean  \\\n",
       "geo_area                                                                      \n",
       "Africa   0                        1.0          0.0      6          0.000000   \n",
       "         474                      NaN          0.0      9          0.555556   \n",
       "         473                      3.0          1.0      9          0.555556   \n",
       "         472                      NaN          1.0      9          0.555556   \n",
       "         471                      NaN          1.0      9          0.555556   \n",
       "         470                      3.0          1.0      9          0.555556   \n",
       "         469                      2.0          0.0      9          0.555556   \n",
       "         468                      3.0          1.0      9          0.555556   \n",
       "         467                      0.0          0.0      9          0.555556   \n",
       "         421                      NaN          0.0      8          0.250000   \n",
       "         420                      NaN          0.0      8          0.250000   \n",
       "         419                      NaN          0.0      8          0.250000   \n",
       "         475                      NaN          0.0      9          0.555556   \n",
       "         418                      NaN          0.0      8          0.250000   \n",
       "         416                      NaN          0.0      8          0.250000   \n",
       "         415                      3.0          1.0      8          0.250000   \n",
       "         414                      3.0          1.0      8          0.250000   \n",
       "         413                      NaN          0.0      5          0.000000   \n",
       "         412                      NaN          0.0      5          0.000000   \n",
       "         411                      NaN          0.0      5          0.000000   \n",
       "\n",
       "             geo_area  \n",
       "geo_area               \n",
       "Africa   0     Africa  \n",
       "         474   Africa  \n",
       "         473   Africa  \n",
       "         472   Africa  \n",
       "         471   Africa  \n",
       "         470   Africa  \n",
       "         469   Africa  \n",
       "         468   Africa  \n",
       "         467   Africa  \n",
       "         421   Africa  \n",
       "         420   Africa  \n",
       "         419   Africa  \n",
       "         475   Africa  \n",
       "         418   Africa  \n",
       "         416   Africa  \n",
       "         415   Africa  \n",
       "         414   Africa  \n",
       "         413   Africa  \n",
       "         412   Africa  \n",
       "         411   Africa  "
      ]
     },
     "execution_count": 45,
     "metadata": {},
     "output_type": "execute_result"
    }
   ],
   "source": [
    "groupedby_region = small.groupby('geo_area').apply(lambda x: x.sort_values(by='geo_area'))\n",
    "groupedby_region.head(20)  \n"
   ]
  },
  {
   "cell_type": "code",
   "execution_count": 46,
   "metadata": {},
   "outputs": [
    {
     "data": {
      "text/html": [
       "<div>\n",
       "<style scoped>\n",
       "    .dataframe tbody tr th:only-of-type {\n",
       "        vertical-align: middle;\n",
       "    }\n",
       "\n",
       "    .dataframe tbody tr th {\n",
       "        vertical-align: top;\n",
       "    }\n",
       "\n",
       "    .dataframe thead th {\n",
       "        text-align: right;\n",
       "    }\n",
       "</style>\n",
       "<table border=\"1\" class=\"dataframe\">\n",
       "  <thead>\n",
       "    <tr style=\"text-align: right;\">\n",
       "      <th></th>\n",
       "      <th>airport_name</th>\n",
       "      <th>overall_rating</th>\n",
       "    </tr>\n",
       "  </thead>\n",
       "  <tbody>\n",
       "    <tr>\n",
       "      <th>0</th>\n",
       "      <td>abuja</td>\n",
       "      <td>2.000000</td>\n",
       "    </tr>\n",
       "    <tr>\n",
       "      <th>1</th>\n",
       "      <td>algiers</td>\n",
       "      <td>4.333333</td>\n",
       "    </tr>\n",
       "    <tr>\n",
       "      <th>2</th>\n",
       "      <td>almeria</td>\n",
       "      <td>5.000000</td>\n",
       "    </tr>\n",
       "    <tr>\n",
       "      <th>3</th>\n",
       "      <td>antwerp deurne</td>\n",
       "      <td>5.000000</td>\n",
       "    </tr>\n",
       "    <tr>\n",
       "      <th>4</th>\n",
       "      <td>aruba reina beatrix</td>\n",
       "      <td>2.333333</td>\n",
       "    </tr>\n",
       "  </tbody>\n",
       "</table>\n",
       "</div>"
      ],
      "text/plain": [
       "           airport_name  overall_rating\n",
       "0                abuja         2.000000\n",
       "1              algiers         4.333333\n",
       "2              almeria         5.000000\n",
       "3       antwerp deurne         5.000000\n",
       "4  aruba reina beatrix         2.333333"
      ]
     },
     "execution_count": 46,
     "metadata": {},
     "output_type": "execute_result"
    }
   ],
   "source": [
    "mean_overall_rating = small.groupby('airport_name')['overall_rating'].mean().reset_index()\n",
    "mean_overall_rating.head()"
   ]
  },
  {
   "cell_type": "code",
   "execution_count": 47,
   "metadata": {},
   "outputs": [
    {
     "data": {
      "text/html": [
       "<div>\n",
       "<style scoped>\n",
       "    .dataframe tbody tr th:only-of-type {\n",
       "        vertical-align: middle;\n",
       "    }\n",
       "\n",
       "    .dataframe tbody tr th {\n",
       "        vertical-align: top;\n",
       "    }\n",
       "\n",
       "    .dataframe thead th {\n",
       "        text-align: right;\n",
       "    }\n",
       "</style>\n",
       "<table border=\"1\" class=\"dataframe\">\n",
       "  <thead>\n",
       "    <tr style=\"text-align: right;\">\n",
       "      <th></th>\n",
       "      <th>airport_name</th>\n",
       "      <th>terminal_cleanliness_rating</th>\n",
       "    </tr>\n",
       "  </thead>\n",
       "  <tbody>\n",
       "    <tr>\n",
       "      <th>0</th>\n",
       "      <td>abuja</td>\n",
       "      <td>3.0</td>\n",
       "    </tr>\n",
       "    <tr>\n",
       "      <th>1</th>\n",
       "      <td>algiers</td>\n",
       "      <td>5.0</td>\n",
       "    </tr>\n",
       "    <tr>\n",
       "      <th>2</th>\n",
       "      <td>almeria</td>\n",
       "      <td>5.0</td>\n",
       "    </tr>\n",
       "    <tr>\n",
       "      <th>3</th>\n",
       "      <td>antwerp deurne</td>\n",
       "      <td>4.0</td>\n",
       "    </tr>\n",
       "    <tr>\n",
       "      <th>4</th>\n",
       "      <td>aruba reina beatrix</td>\n",
       "      <td>4.2</td>\n",
       "    </tr>\n",
       "  </tbody>\n",
       "</table>\n",
       "</div>"
      ],
      "text/plain": [
       "           airport_name  terminal_cleanliness_rating\n",
       "0                abuja                           3.0\n",
       "1              algiers                           5.0\n",
       "2              almeria                           5.0\n",
       "3       antwerp deurne                           4.0\n",
       "4  aruba reina beatrix                           4.2"
      ]
     },
     "execution_count": 47,
     "metadata": {},
     "output_type": "execute_result"
    }
   ],
   "source": [
    "mean_terminal_cleanliness_rating = small.groupby('airport_name')['terminal_cleanliness_rating'].mean().reset_index()\n",
    "mean_terminal_cleanliness_rating.head()"
   ]
  },
  {
   "cell_type": "code",
   "execution_count": 48,
   "metadata": {},
   "outputs": [
    {
     "data": {
      "text/html": [
       "<div>\n",
       "<style scoped>\n",
       "    .dataframe tbody tr th:only-of-type {\n",
       "        vertical-align: middle;\n",
       "    }\n",
       "\n",
       "    .dataframe tbody tr th {\n",
       "        vertical-align: top;\n",
       "    }\n",
       "\n",
       "    .dataframe thead th {\n",
       "        text-align: right;\n",
       "    }\n",
       "</style>\n",
       "<table border=\"1\" class=\"dataframe\">\n",
       "  <thead>\n",
       "    <tr style=\"text-align: right;\">\n",
       "      <th></th>\n",
       "      <th>airport_name</th>\n",
       "      <th>terminal_seating_rating</th>\n",
       "    </tr>\n",
       "  </thead>\n",
       "  <tbody>\n",
       "    <tr>\n",
       "      <th>0</th>\n",
       "      <td>abuja</td>\n",
       "      <td>1.25</td>\n",
       "    </tr>\n",
       "    <tr>\n",
       "      <th>1</th>\n",
       "      <td>algiers</td>\n",
       "      <td>3.50</td>\n",
       "    </tr>\n",
       "    <tr>\n",
       "      <th>2</th>\n",
       "      <td>almeria</td>\n",
       "      <td>3.00</td>\n",
       "    </tr>\n",
       "    <tr>\n",
       "      <th>3</th>\n",
       "      <td>antwerp deurne</td>\n",
       "      <td>4.00</td>\n",
       "    </tr>\n",
       "    <tr>\n",
       "      <th>4</th>\n",
       "      <td>aruba reina beatrix</td>\n",
       "      <td>3.80</td>\n",
       "    </tr>\n",
       "  </tbody>\n",
       "</table>\n",
       "</div>"
      ],
      "text/plain": [
       "           airport_name  terminal_seating_rating\n",
       "0                abuja                      1.25\n",
       "1              algiers                      3.50\n",
       "2              almeria                      3.00\n",
       "3       antwerp deurne                      4.00\n",
       "4  aruba reina beatrix                      3.80"
      ]
     },
     "execution_count": 48,
     "metadata": {},
     "output_type": "execute_result"
    }
   ],
   "source": [
    "mean_terminal_seating_rating = small.groupby('airport_name')['terminal_seating_rating'].mean().reset_index()\n",
    "mean_terminal_seating_rating.head()"
   ]
  },
  {
   "cell_type": "code",
   "execution_count": 49,
   "metadata": {},
   "outputs": [
    {
     "data": {
      "text/html": [
       "<div>\n",
       "<style scoped>\n",
       "    .dataframe tbody tr th:only-of-type {\n",
       "        vertical-align: middle;\n",
       "    }\n",
       "\n",
       "    .dataframe tbody tr th {\n",
       "        vertical-align: top;\n",
       "    }\n",
       "\n",
       "    .dataframe thead th {\n",
       "        text-align: right;\n",
       "    }\n",
       "</style>\n",
       "<table border=\"1\" class=\"dataframe\">\n",
       "  <thead>\n",
       "    <tr style=\"text-align: right;\">\n",
       "      <th></th>\n",
       "      <th>airport_name</th>\n",
       "      <th>terminal_seating_rating</th>\n",
       "    </tr>\n",
       "  </thead>\n",
       "  <tbody>\n",
       "    <tr>\n",
       "      <th>0</th>\n",
       "      <td>abuja</td>\n",
       "      <td>1.25</td>\n",
       "    </tr>\n",
       "    <tr>\n",
       "      <th>1</th>\n",
       "      <td>algiers</td>\n",
       "      <td>3.50</td>\n",
       "    </tr>\n",
       "    <tr>\n",
       "      <th>2</th>\n",
       "      <td>almeria</td>\n",
       "      <td>3.00</td>\n",
       "    </tr>\n",
       "    <tr>\n",
       "      <th>3</th>\n",
       "      <td>antwerp deurne</td>\n",
       "      <td>4.00</td>\n",
       "    </tr>\n",
       "    <tr>\n",
       "      <th>4</th>\n",
       "      <td>aruba reina beatrix</td>\n",
       "      <td>3.80</td>\n",
       "    </tr>\n",
       "  </tbody>\n",
       "</table>\n",
       "</div>"
      ],
      "text/plain": [
       "           airport_name  terminal_seating_rating\n",
       "0                abuja                      1.25\n",
       "1              algiers                      3.50\n",
       "2              almeria                      3.00\n",
       "3       antwerp deurne                      4.00\n",
       "4  aruba reina beatrix                      3.80"
      ]
     },
     "execution_count": 49,
     "metadata": {},
     "output_type": "execute_result"
    }
   ],
   "source": [
    "mean_experience_airport = small.groupby('airport_name')['experience_airport'].mean().reset_index()\n",
    "mean_terminal_seating_rating.head()"
   ]
  },
  {
   "cell_type": "code",
   "execution_count": 50,
   "metadata": {},
   "outputs": [
    {
     "data": {
      "text/html": [
       "<div>\n",
       "<style scoped>\n",
       "    .dataframe tbody tr th:only-of-type {\n",
       "        vertical-align: middle;\n",
       "    }\n",
       "\n",
       "    .dataframe tbody tr th {\n",
       "        vertical-align: top;\n",
       "    }\n",
       "\n",
       "    .dataframe thead th {\n",
       "        text-align: right;\n",
       "    }\n",
       "</style>\n",
       "<table border=\"1\" class=\"dataframe\">\n",
       "  <thead>\n",
       "    <tr style=\"text-align: right;\">\n",
       "      <th></th>\n",
       "      <th>airport_name</th>\n",
       "      <th>author</th>\n",
       "      <th>author_country</th>\n",
       "      <th>date</th>\n",
       "      <th>content</th>\n",
       "      <th>experience_airport</th>\n",
       "      <th>overall_rating</th>\n",
       "      <th>terminal_cleanliness_rating</th>\n",
       "      <th>terminal_seating_rating</th>\n",
       "      <th>recommended</th>\n",
       "      <th>count</th>\n",
       "      <th>recommended_mean</th>\n",
       "      <th>geo_area</th>\n",
       "      <th>mean_experience_airport</th>\n",
       "      <th>mean_overall_rating</th>\n",
       "      <th>mean_terminal_cleanliness_rating</th>\n",
       "      <th>mean_terminal_seating_rating</th>\n",
       "    </tr>\n",
       "  </thead>\n",
       "  <tbody>\n",
       "    <tr>\n",
       "      <th>0</th>\n",
       "      <td>abuja</td>\n",
       "      <td>Alan Wan</td>\n",
       "      <td>United Kingdom</td>\n",
       "      <td>2012-02-28</td>\n",
       "      <td>On arrival as we flew Business Class we were n...</td>\n",
       "      <td>6.0</td>\n",
       "      <td>2.0</td>\n",
       "      <td>3.0</td>\n",
       "      <td>1.0</td>\n",
       "      <td>0.0</td>\n",
       "      <td>6</td>\n",
       "      <td>0.0</td>\n",
       "      <td>Africa</td>\n",
       "      <td>3.25</td>\n",
       "      <td>2.0</td>\n",
       "      <td>3.0</td>\n",
       "      <td>1.25</td>\n",
       "    </tr>\n",
       "    <tr>\n",
       "      <th>1</th>\n",
       "      <td>abuja</td>\n",
       "      <td>A Cobo</td>\n",
       "      <td>United States</td>\n",
       "      <td>2011-08-08</td>\n",
       "      <td>Abuja international arrivals greets you with a...</td>\n",
       "      <td>2.0</td>\n",
       "      <td>1.0</td>\n",
       "      <td>3.0</td>\n",
       "      <td>1.0</td>\n",
       "      <td>0.0</td>\n",
       "      <td>6</td>\n",
       "      <td>0.0</td>\n",
       "      <td>Africa</td>\n",
       "      <td>3.25</td>\n",
       "      <td>2.0</td>\n",
       "      <td>3.0</td>\n",
       "      <td>1.25</td>\n",
       "    </tr>\n",
       "    <tr>\n",
       "      <th>2</th>\n",
       "      <td>abuja</td>\n",
       "      <td>Antonio Tettamanzy</td>\n",
       "      <td>Brazil</td>\n",
       "      <td>2011-04-14</td>\n",
       "      <td>It was better than expected but can be quite m...</td>\n",
       "      <td>3.0</td>\n",
       "      <td>3.0</td>\n",
       "      <td>3.0</td>\n",
       "      <td>1.0</td>\n",
       "      <td>0.0</td>\n",
       "      <td>6</td>\n",
       "      <td>0.0</td>\n",
       "      <td>Africa</td>\n",
       "      <td>3.25</td>\n",
       "      <td>2.0</td>\n",
       "      <td>3.0</td>\n",
       "      <td>1.25</td>\n",
       "    </tr>\n",
       "    <tr>\n",
       "      <th>3</th>\n",
       "      <td>abuja</td>\n",
       "      <td>C Stafford</td>\n",
       "      <td>NaN</td>\n",
       "      <td>2010-01-31</td>\n",
       "      <td>Upon arrival from Amsterdam on KLM I went to u...</td>\n",
       "      <td>2.0</td>\n",
       "      <td>NaN</td>\n",
       "      <td>NaN</td>\n",
       "      <td>NaN</td>\n",
       "      <td>0.0</td>\n",
       "      <td>6</td>\n",
       "      <td>0.0</td>\n",
       "      <td>Africa</td>\n",
       "      <td>3.25</td>\n",
       "      <td>2.0</td>\n",
       "      <td>3.0</td>\n",
       "      <td>1.25</td>\n",
       "    </tr>\n",
       "    <tr>\n",
       "      <th>4</th>\n",
       "      <td>abuja</td>\n",
       "      <td>Mark Bickerton</td>\n",
       "      <td>NaN</td>\n",
       "      <td>2009-05-24</td>\n",
       "      <td>The international terminal is nice and quite w...</td>\n",
       "      <td>NaN</td>\n",
       "      <td>NaN</td>\n",
       "      <td>NaN</td>\n",
       "      <td>2.0</td>\n",
       "      <td>0.0</td>\n",
       "      <td>6</td>\n",
       "      <td>0.0</td>\n",
       "      <td>Africa</td>\n",
       "      <td>3.25</td>\n",
       "      <td>2.0</td>\n",
       "      <td>3.0</td>\n",
       "      <td>1.25</td>\n",
       "    </tr>\n",
       "  </tbody>\n",
       "</table>\n",
       "</div>"
      ],
      "text/plain": [
       "  airport_name              author  author_country        date  \\\n",
       "0       abuja             Alan Wan  United Kingdom  2012-02-28   \n",
       "1       abuja               A Cobo   United States  2011-08-08   \n",
       "2       abuja   Antonio Tettamanzy          Brazil  2011-04-14   \n",
       "3       abuja           C Stafford             NaN  2010-01-31   \n",
       "4       abuja       Mark Bickerton             NaN  2009-05-24   \n",
       "\n",
       "                                             content  experience_airport  \\\n",
       "0  On arrival as we flew Business Class we were n...                 6.0   \n",
       "1  Abuja international arrivals greets you with a...                 2.0   \n",
       "2  It was better than expected but can be quite m...                 3.0   \n",
       "3  Upon arrival from Amsterdam on KLM I went to u...                 2.0   \n",
       "4  The international terminal is nice and quite w...                 NaN   \n",
       "\n",
       "   overall_rating  terminal_cleanliness_rating  terminal_seating_rating  \\\n",
       "0             2.0                          3.0                      1.0   \n",
       "1             1.0                          3.0                      1.0   \n",
       "2             3.0                          3.0                      1.0   \n",
       "3             NaN                          NaN                      NaN   \n",
       "4             NaN                          NaN                      2.0   \n",
       "\n",
       "   recommended  count  recommended_mean geo_area  mean_experience_airport  \\\n",
       "0          0.0      6               0.0   Africa                     3.25   \n",
       "1          0.0      6               0.0   Africa                     3.25   \n",
       "2          0.0      6               0.0   Africa                     3.25   \n",
       "3          0.0      6               0.0   Africa                     3.25   \n",
       "4          0.0      6               0.0   Africa                     3.25   \n",
       "\n",
       "   mean_overall_rating  mean_terminal_cleanliness_rating  \\\n",
       "0                  2.0                               3.0   \n",
       "1                  2.0                               3.0   \n",
       "2                  2.0                               3.0   \n",
       "3                  2.0                               3.0   \n",
       "4                  2.0                               3.0   \n",
       "\n",
       "   mean_terminal_seating_rating  \n",
       "0                          1.25  \n",
       "1                          1.25  \n",
       "2                          1.25  \n",
       "3                          1.25  \n",
       "4                          1.25  "
      ]
     },
     "execution_count": 50,
     "metadata": {},
     "output_type": "execute_result"
    }
   ],
   "source": [
    "# Calculate the mean for multiple columns\n",
    "mean_ratings = small.groupby('airport_name')[['experience_airport', \n",
    "                                              'overall_rating', \n",
    "                                              'terminal_cleanliness_rating', \n",
    "                                              'terminal_seating_rating']].mean().reset_index()\n",
    "\n",
    "# Rename the columns to reflect the mean for each rating\n",
    "mean_ratings.rename(columns={\n",
    "    'experience_airport': 'mean_experience_airport',\n",
    "    'overall_rating': 'mean_overall_rating',\n",
    "    'terminal_cleanliness_rating': 'mean_terminal_cleanliness_rating',\n",
    "    'terminal_seating_rating': 'mean_terminal_seating_rating'\n",
    "}, inplace=True)\n",
    "\n",
    "# Merge the mean ratings into the original dataset\n",
    "small = pd.merge(small, mean_ratings, on='airport_name', how='left')\n",
    "small.head()\n"
   ]
  },
  {
   "cell_type": "code",
   "execution_count": 51,
   "metadata": {},
   "outputs": [
    {
     "name": "stdout",
     "output_type": "stream",
     "text": [
      "['Africa' 'Europe' 'Latin America' 'Middle-East' 'North America' 'Asia'\n",
      " 'S-Asia Oceania' 'Unknown']\n"
     ]
    }
   ],
   "source": [
    "unique_geo_areas = small['geo_area'].unique()\n",
    "print(unique_geo_areas)"
   ]
  },
  {
   "cell_type": "code",
   "execution_count": 52,
   "metadata": {},
   "outputs": [
    {
     "data": {
      "text/html": [
       "<div>\n",
       "<style scoped>\n",
       "    .dataframe tbody tr th:only-of-type {\n",
       "        vertical-align: middle;\n",
       "    }\n",
       "\n",
       "    .dataframe tbody tr th {\n",
       "        vertical-align: top;\n",
       "    }\n",
       "\n",
       "    .dataframe thead th {\n",
       "        text-align: right;\n",
       "    }\n",
       "</style>\n",
       "<table border=\"1\" class=\"dataframe\">\n",
       "  <thead>\n",
       "    <tr style=\"text-align: right;\">\n",
       "      <th></th>\n",
       "      <th>airport_name</th>\n",
       "      <th>author</th>\n",
       "      <th>author_country</th>\n",
       "      <th>date</th>\n",
       "      <th>content</th>\n",
       "      <th>experience_airport</th>\n",
       "      <th>overall_rating</th>\n",
       "      <th>terminal_cleanliness_rating</th>\n",
       "      <th>terminal_seating_rating</th>\n",
       "      <th>recommended</th>\n",
       "      <th>count</th>\n",
       "      <th>recommended_mean</th>\n",
       "      <th>geo_area</th>\n",
       "      <th>mean_experience_airport</th>\n",
       "      <th>mean_overall_rating</th>\n",
       "      <th>mean_terminal_cleanliness_rating</th>\n",
       "      <th>mean_terminal_seating_rating</th>\n",
       "    </tr>\n",
       "  </thead>\n",
       "  <tbody>\n",
       "    <tr>\n",
       "      <th>451</th>\n",
       "      <td>memphis</td>\n",
       "      <td>Simon Albury</td>\n",
       "      <td>United Kingdom</td>\n",
       "      <td>2013-10-13</td>\n",
       "      <td>his airport offers easy entry and exit for dom...</td>\n",
       "      <td>10.0</td>\n",
       "      <td>5.0</td>\n",
       "      <td>5.0</td>\n",
       "      <td>5.0</td>\n",
       "      <td>1.0</td>\n",
       "      <td>7</td>\n",
       "      <td>0.428571</td>\n",
       "      <td>North America</td>\n",
       "      <td>6.5</td>\n",
       "      <td>3.5</td>\n",
       "      <td>3.25</td>\n",
       "      <td>3.0</td>\n",
       "    </tr>\n",
       "    <tr>\n",
       "      <th>452</th>\n",
       "      <td>memphis</td>\n",
       "      <td>Nigel Stacey</td>\n",
       "      <td>United Kingdom</td>\n",
       "      <td>2013-09-30</td>\n",
       "      <td>Having travelled through Memphis I found this ...</td>\n",
       "      <td>8.0</td>\n",
       "      <td>5.0</td>\n",
       "      <td>5.0</td>\n",
       "      <td>4.0</td>\n",
       "      <td>1.0</td>\n",
       "      <td>7</td>\n",
       "      <td>0.428571</td>\n",
       "      <td>North America</td>\n",
       "      <td>6.5</td>\n",
       "      <td>3.5</td>\n",
       "      <td>3.25</td>\n",
       "      <td>3.0</td>\n",
       "    </tr>\n",
       "    <tr>\n",
       "      <th>453</th>\n",
       "      <td>memphis</td>\n",
       "      <td>S Jones</td>\n",
       "      <td>United Kingdom</td>\n",
       "      <td>2012-08-19</td>\n",
       "      <td>First the positives! The most welcoming TSA st...</td>\n",
       "      <td>5.0</td>\n",
       "      <td>1.0</td>\n",
       "      <td>0.0</td>\n",
       "      <td>0.0</td>\n",
       "      <td>0.0</td>\n",
       "      <td>7</td>\n",
       "      <td>0.428571</td>\n",
       "      <td>North America</td>\n",
       "      <td>6.5</td>\n",
       "      <td>3.5</td>\n",
       "      <td>3.25</td>\n",
       "      <td>3.0</td>\n",
       "    </tr>\n",
       "    <tr>\n",
       "      <th>454</th>\n",
       "      <td>memphis</td>\n",
       "      <td>E Mabley</td>\n",
       "      <td>United States</td>\n",
       "      <td>2010-06-02</td>\n",
       "      <td>Memphis an ex-Northwest Airlines hub still exi...</td>\n",
       "      <td>3.0</td>\n",
       "      <td>3.0</td>\n",
       "      <td>3.0</td>\n",
       "      <td>3.0</td>\n",
       "      <td>0.0</td>\n",
       "      <td>7</td>\n",
       "      <td>0.428571</td>\n",
       "      <td>North America</td>\n",
       "      <td>6.5</td>\n",
       "      <td>3.5</td>\n",
       "      <td>3.25</td>\n",
       "      <td>3.0</td>\n",
       "    </tr>\n",
       "    <tr>\n",
       "      <th>455</th>\n",
       "      <td>memphis</td>\n",
       "      <td>review Peter Tomalin</td>\n",
       "      <td>NaN</td>\n",
       "      <td>2005-02-28</td>\n",
       "      <td>Memphis may not be the world's most attractive...</td>\n",
       "      <td>NaN</td>\n",
       "      <td>NaN</td>\n",
       "      <td>NaN</td>\n",
       "      <td>NaN</td>\n",
       "      <td>1.0</td>\n",
       "      <td>7</td>\n",
       "      <td>0.428571</td>\n",
       "      <td>North America</td>\n",
       "      <td>6.5</td>\n",
       "      <td>3.5</td>\n",
       "      <td>3.25</td>\n",
       "      <td>3.0</td>\n",
       "    </tr>\n",
       "    <tr>\n",
       "      <th>456</th>\n",
       "      <td>memphis</td>\n",
       "      <td>review Lee Middleton</td>\n",
       "      <td>NaN</td>\n",
       "      <td>2004-12-04</td>\n",
       "      <td>This is a mediocre airport even by U.S. standa...</td>\n",
       "      <td>NaN</td>\n",
       "      <td>NaN</td>\n",
       "      <td>NaN</td>\n",
       "      <td>NaN</td>\n",
       "      <td>0.0</td>\n",
       "      <td>7</td>\n",
       "      <td>0.428571</td>\n",
       "      <td>North America</td>\n",
       "      <td>6.5</td>\n",
       "      <td>3.5</td>\n",
       "      <td>3.25</td>\n",
       "      <td>3.0</td>\n",
       "    </tr>\n",
       "    <tr>\n",
       "      <th>457</th>\n",
       "      <td>memphis</td>\n",
       "      <td>review David Guenthner</td>\n",
       "      <td>NaN</td>\n",
       "      <td>2003-07-31</td>\n",
       "      <td>A 1960s-era high school with jet bridges. Gray...</td>\n",
       "      <td>NaN</td>\n",
       "      <td>NaN</td>\n",
       "      <td>NaN</td>\n",
       "      <td>NaN</td>\n",
       "      <td>0.0</td>\n",
       "      <td>7</td>\n",
       "      <td>0.428571</td>\n",
       "      <td>North America</td>\n",
       "      <td>6.5</td>\n",
       "      <td>3.5</td>\n",
       "      <td>3.25</td>\n",
       "      <td>3.0</td>\n",
       "    </tr>\n",
       "  </tbody>\n",
       "</table>\n",
       "</div>"
      ],
      "text/plain": [
       "    airport_name                  author  author_country        date  \\\n",
       "451      memphis            Simon Albury  United Kingdom  2013-10-13   \n",
       "452      memphis            Nigel Stacey  United Kingdom  2013-09-30   \n",
       "453      memphis                 S Jones  United Kingdom  2012-08-19   \n",
       "454      memphis                E Mabley   United States  2010-06-02   \n",
       "455      memphis    review Peter Tomalin             NaN  2005-02-28   \n",
       "456      memphis    review Lee Middleton             NaN  2004-12-04   \n",
       "457      memphis  review David Guenthner             NaN  2003-07-31   \n",
       "\n",
       "                                               content  experience_airport  \\\n",
       "451  his airport offers easy entry and exit for dom...                10.0   \n",
       "452  Having travelled through Memphis I found this ...                 8.0   \n",
       "453  First the positives! The most welcoming TSA st...                 5.0   \n",
       "454  Memphis an ex-Northwest Airlines hub still exi...                 3.0   \n",
       "455  Memphis may not be the world's most attractive...                 NaN   \n",
       "456  This is a mediocre airport even by U.S. standa...                 NaN   \n",
       "457  A 1960s-era high school with jet bridges. Gray...                 NaN   \n",
       "\n",
       "     overall_rating  terminal_cleanliness_rating  terminal_seating_rating  \\\n",
       "451             5.0                          5.0                      5.0   \n",
       "452             5.0                          5.0                      4.0   \n",
       "453             1.0                          0.0                      0.0   \n",
       "454             3.0                          3.0                      3.0   \n",
       "455             NaN                          NaN                      NaN   \n",
       "456             NaN                          NaN                      NaN   \n",
       "457             NaN                          NaN                      NaN   \n",
       "\n",
       "     recommended  count  recommended_mean       geo_area  \\\n",
       "451          1.0      7          0.428571  North America   \n",
       "452          1.0      7          0.428571  North America   \n",
       "453          0.0      7          0.428571  North America   \n",
       "454          0.0      7          0.428571  North America   \n",
       "455          1.0      7          0.428571  North America   \n",
       "456          0.0      7          0.428571  North America   \n",
       "457          0.0      7          0.428571  North America   \n",
       "\n",
       "     mean_experience_airport  mean_overall_rating  \\\n",
       "451                      6.5                  3.5   \n",
       "452                      6.5                  3.5   \n",
       "453                      6.5                  3.5   \n",
       "454                      6.5                  3.5   \n",
       "455                      6.5                  3.5   \n",
       "456                      6.5                  3.5   \n",
       "457                      6.5                  3.5   \n",
       "\n",
       "     mean_terminal_cleanliness_rating  mean_terminal_seating_rating  \n",
       "451                              3.25                           3.0  \n",
       "452                              3.25                           3.0  \n",
       "453                              3.25                           3.0  \n",
       "454                              3.25                           3.0  \n",
       "455                              3.25                           3.0  \n",
       "456                              3.25                           3.0  \n",
       "457                              3.25                           3.0  "
      ]
     },
     "execution_count": 52,
     "metadata": {},
     "output_type": "execute_result"
    }
   ],
   "source": [
    "# we make sure to strip any leading/trailing spaces and convert to lowercase\n",
    "small['airport_name'] = small['airport_name'].str.strip().str.lower()\n",
    "\n",
    "# updating the geo_area for 'memphis'\n",
    "small.loc[small['airport_name'] == 'memphis', 'geo_area'] = 'North America'\n",
    "small[small['airport_name'] == 'memphis']\n",
    "\n"
   ]
  },
  {
   "cell_type": "code",
   "execution_count": 53,
   "metadata": {},
   "outputs": [
    {
     "data": {
      "text/html": [
       "<div>\n",
       "<style scoped>\n",
       "    .dataframe tbody tr th:only-of-type {\n",
       "        vertical-align: middle;\n",
       "    }\n",
       "\n",
       "    .dataframe tbody tr th {\n",
       "        vertical-align: top;\n",
       "    }\n",
       "\n",
       "    .dataframe thead th {\n",
       "        text-align: right;\n",
       "    }\n",
       "</style>\n",
       "<table border=\"1\" class=\"dataframe\">\n",
       "  <thead>\n",
       "    <tr style=\"text-align: right;\">\n",
       "      <th></th>\n",
       "      <th>airport_name</th>\n",
       "      <th>author</th>\n",
       "      <th>author_country</th>\n",
       "      <th>date</th>\n",
       "      <th>content</th>\n",
       "      <th>experience_airport</th>\n",
       "      <th>overall_rating</th>\n",
       "      <th>terminal_cleanliness_rating</th>\n",
       "      <th>terminal_seating_rating</th>\n",
       "      <th>recommended</th>\n",
       "      <th>count</th>\n",
       "      <th>recommended_mean</th>\n",
       "      <th>geo_area</th>\n",
       "      <th>mean_experience_airport</th>\n",
       "      <th>mean_overall_rating</th>\n",
       "      <th>mean_terminal_cleanliness_rating</th>\n",
       "      <th>mean_terminal_seating_rating</th>\n",
       "    </tr>\n",
       "  </thead>\n",
       "  <tbody>\n",
       "    <tr>\n",
       "      <th>0</th>\n",
       "      <td>abuja</td>\n",
       "      <td>Alan Wan</td>\n",
       "      <td>United Kingdom</td>\n",
       "      <td>2012-02-28</td>\n",
       "      <td>On arrival as we flew Business Class we were n...</td>\n",
       "      <td>6.0</td>\n",
       "      <td>2.0</td>\n",
       "      <td>3.0</td>\n",
       "      <td>1.0</td>\n",
       "      <td>0.0</td>\n",
       "      <td>6</td>\n",
       "      <td>0.0</td>\n",
       "      <td>Africa</td>\n",
       "      <td>3.25</td>\n",
       "      <td>2.0</td>\n",
       "      <td>3.0</td>\n",
       "      <td>1.25</td>\n",
       "    </tr>\n",
       "    <tr>\n",
       "      <th>1</th>\n",
       "      <td>abuja</td>\n",
       "      <td>A Cobo</td>\n",
       "      <td>United States</td>\n",
       "      <td>2011-08-08</td>\n",
       "      <td>Abuja international arrivals greets you with a...</td>\n",
       "      <td>2.0</td>\n",
       "      <td>1.0</td>\n",
       "      <td>3.0</td>\n",
       "      <td>1.0</td>\n",
       "      <td>0.0</td>\n",
       "      <td>6</td>\n",
       "      <td>0.0</td>\n",
       "      <td>Africa</td>\n",
       "      <td>3.25</td>\n",
       "      <td>2.0</td>\n",
       "      <td>3.0</td>\n",
       "      <td>1.25</td>\n",
       "    </tr>\n",
       "    <tr>\n",
       "      <th>2</th>\n",
       "      <td>abuja</td>\n",
       "      <td>Antonio Tettamanzy</td>\n",
       "      <td>Brazil</td>\n",
       "      <td>2011-04-14</td>\n",
       "      <td>It was better than expected but can be quite m...</td>\n",
       "      <td>3.0</td>\n",
       "      <td>3.0</td>\n",
       "      <td>3.0</td>\n",
       "      <td>1.0</td>\n",
       "      <td>0.0</td>\n",
       "      <td>6</td>\n",
       "      <td>0.0</td>\n",
       "      <td>Africa</td>\n",
       "      <td>3.25</td>\n",
       "      <td>2.0</td>\n",
       "      <td>3.0</td>\n",
       "      <td>1.25</td>\n",
       "    </tr>\n",
       "    <tr>\n",
       "      <th>3</th>\n",
       "      <td>abuja</td>\n",
       "      <td>C Stafford</td>\n",
       "      <td>NaN</td>\n",
       "      <td>2010-01-31</td>\n",
       "      <td>Upon arrival from Amsterdam on KLM I went to u...</td>\n",
       "      <td>2.0</td>\n",
       "      <td>NaN</td>\n",
       "      <td>NaN</td>\n",
       "      <td>NaN</td>\n",
       "      <td>0.0</td>\n",
       "      <td>6</td>\n",
       "      <td>0.0</td>\n",
       "      <td>Africa</td>\n",
       "      <td>3.25</td>\n",
       "      <td>2.0</td>\n",
       "      <td>3.0</td>\n",
       "      <td>1.25</td>\n",
       "    </tr>\n",
       "    <tr>\n",
       "      <th>4</th>\n",
       "      <td>abuja</td>\n",
       "      <td>Mark Bickerton</td>\n",
       "      <td>NaN</td>\n",
       "      <td>2009-05-24</td>\n",
       "      <td>The international terminal is nice and quite w...</td>\n",
       "      <td>NaN</td>\n",
       "      <td>NaN</td>\n",
       "      <td>NaN</td>\n",
       "      <td>2.0</td>\n",
       "      <td>0.0</td>\n",
       "      <td>6</td>\n",
       "      <td>0.0</td>\n",
       "      <td>Africa</td>\n",
       "      <td>3.25</td>\n",
       "      <td>2.0</td>\n",
       "      <td>3.0</td>\n",
       "      <td>1.25</td>\n",
       "    </tr>\n",
       "  </tbody>\n",
       "</table>\n",
       "</div>"
      ],
      "text/plain": [
       "  airport_name              author  author_country        date  \\\n",
       "0        abuja            Alan Wan  United Kingdom  2012-02-28   \n",
       "1        abuja              A Cobo   United States  2011-08-08   \n",
       "2        abuja  Antonio Tettamanzy          Brazil  2011-04-14   \n",
       "3        abuja          C Stafford             NaN  2010-01-31   \n",
       "4        abuja      Mark Bickerton             NaN  2009-05-24   \n",
       "\n",
       "                                             content  experience_airport  \\\n",
       "0  On arrival as we flew Business Class we were n...                 6.0   \n",
       "1  Abuja international arrivals greets you with a...                 2.0   \n",
       "2  It was better than expected but can be quite m...                 3.0   \n",
       "3  Upon arrival from Amsterdam on KLM I went to u...                 2.0   \n",
       "4  The international terminal is nice and quite w...                 NaN   \n",
       "\n",
       "   overall_rating  terminal_cleanliness_rating  terminal_seating_rating  \\\n",
       "0             2.0                          3.0                      1.0   \n",
       "1             1.0                          3.0                      1.0   \n",
       "2             3.0                          3.0                      1.0   \n",
       "3             NaN                          NaN                      NaN   \n",
       "4             NaN                          NaN                      2.0   \n",
       "\n",
       "   recommended  count  recommended_mean geo_area  mean_experience_airport  \\\n",
       "0          0.0      6               0.0   Africa                     3.25   \n",
       "1          0.0      6               0.0   Africa                     3.25   \n",
       "2          0.0      6               0.0   Africa                     3.25   \n",
       "3          0.0      6               0.0   Africa                     3.25   \n",
       "4          0.0      6               0.0   Africa                     3.25   \n",
       "\n",
       "   mean_overall_rating  mean_terminal_cleanliness_rating  \\\n",
       "0                  2.0                               3.0   \n",
       "1                  2.0                               3.0   \n",
       "2                  2.0                               3.0   \n",
       "3                  2.0                               3.0   \n",
       "4                  2.0                               3.0   \n",
       "\n",
       "   mean_terminal_seating_rating  \n",
       "0                          1.25  \n",
       "1                          1.25  \n",
       "2                          1.25  \n",
       "3                          1.25  \n",
       "4                          1.25  "
      ]
     },
     "execution_count": 53,
     "metadata": {},
     "output_type": "execute_result"
    }
   ],
   "source": [
    "small = small.rename(columns={\n",
    "    'mean_experience_airport_x': 'mean_experience_airport',\n",
    "    'mean_overall_rating_x': 'mean_overall_rating',\n",
    "    'mean_terminal_seating_rating_x': 'mean_terminal_seating',\n",
    "    'mean_terminal_cleanliness_rating_x': 'mean_terminal_cleanliness'\n",
    "})\n",
    "small.head()"
   ]
  },
  {
   "cell_type": "code",
   "execution_count": 54,
   "metadata": {},
   "outputs": [],
   "source": [
    "small.loc[small['airport_name'] == 'memphis', 'geo_area'] = 'North America'\n"
   ]
  },
  {
   "cell_type": "code",
   "execution_count": 55,
   "metadata": {},
   "outputs": [
    {
     "data": {
      "application/vnd.plotly.v1+json": {
       "config": {
        "plotlyServerURL": "https://plot.ly"
       },
       "data": [
        {
         "customdata": [
          [
           "abuja"
          ],
          [
           "abuja"
          ],
          [
           "abuja"
          ],
          [
           "abuja"
          ],
          [
           "abuja"
          ],
          [
           "abuja"
          ],
          [
           "algiers"
          ],
          [
           "algiers"
          ],
          [
           "algiers"
          ],
          [
           "algiers"
          ],
          [
           "algiers"
          ],
          [
           "algiers"
          ],
          [
           "algiers"
          ],
          [
           "algiers"
          ],
          [
           "banjul"
          ],
          [
           "banjul"
          ],
          [
           "banjul"
          ],
          [
           "banjul"
          ],
          [
           "banjul"
          ],
          [
           "banjul"
          ],
          [
           "dakar"
          ],
          [
           "dakar"
          ],
          [
           "dakar"
          ],
          [
           "dakar"
          ],
          [
           "dakar"
          ],
          [
           "durban"
          ],
          [
           "durban"
          ],
          [
           "durban"
          ],
          [
           "durban"
          ],
          [
           "durban"
          ],
          [
           "durban"
          ],
          [
           "durban"
          ],
          [
           "durban"
          ],
          [
           "entebbe"
          ],
          [
           "entebbe"
          ],
          [
           "entebbe"
          ],
          [
           "entebbe"
          ],
          [
           "entebbe"
          ],
          [
           "entebbe"
          ],
          [
           "entebbe"
          ],
          [
           "entebbe"
          ],
          [
           "entebbe"
          ],
          [
           "freetown"
          ],
          [
           "freetown"
          ],
          [
           "freetown"
          ],
          [
           "freetown"
          ],
          [
           "freetown"
          ],
          [
           "freetown"
          ],
          [
           "freetown"
          ],
          [
           "hurghada"
          ],
          [
           "hurghada"
          ],
          [
           "hurghada"
          ],
          [
           "hurghada"
          ],
          [
           "hurghada"
          ],
          [
           "kilimanjaro"
          ],
          [
           "kilimanjaro"
          ],
          [
           "kilimanjaro"
          ],
          [
           "kilimanjaro"
          ],
          [
           "kilimanjaro"
          ],
          [
           "kilimanjaro"
          ],
          [
           "kilimanjaro"
          ],
          [
           "kilimanjaro"
          ],
          [
           "lusaka"
          ],
          [
           "lusaka"
          ],
          [
           "lusaka"
          ],
          [
           "lusaka"
          ],
          [
           "lusaka"
          ],
          [
           "luxor"
          ],
          [
           "luxor"
          ],
          [
           "luxor"
          ],
          [
           "luxor"
          ],
          [
           "luxor"
          ],
          [
           "luxor"
          ],
          [
           "luxor"
          ],
          [
           "luxor"
          ],
          [
           "mombasa"
          ],
          [
           "mombasa"
          ],
          [
           "mombasa"
          ],
          [
           "mombasa"
          ],
          [
           "mombasa"
          ],
          [
           "mombasa"
          ],
          [
           "mombasa"
          ],
          [
           "mombasa"
          ],
          [
           "mombasa"
          ],
          [
           "monastir"
          ],
          [
           "monastir"
          ],
          [
           "monastir"
          ],
          [
           "monastir"
          ],
          [
           "monastir"
          ],
          [
           "monastir"
          ],
          [
           "monastir"
          ],
          [
           "monastir"
          ],
          [
           "seychelles"
          ],
          [
           "seychelles"
          ],
          [
           "seychelles"
          ],
          [
           "seychelles"
          ],
          [
           "seychelles"
          ],
          [
           "seychelles"
          ],
          [
           "taba"
          ],
          [
           "taba"
          ],
          [
           "taba"
          ],
          [
           "taba"
          ],
          [
           "taba"
          ],
          [
           "windhoek"
          ],
          [
           "windhoek"
          ],
          [
           "windhoek"
          ],
          [
           "windhoek"
          ],
          [
           "windhoek"
          ],
          [
           "windhoek"
          ],
          [
           "zanzibar"
          ],
          [
           "zanzibar"
          ],
          [
           "zanzibar"
          ],
          [
           "zanzibar"
          ],
          [
           "zanzibar"
          ]
         ],
         "hovertemplate": "geo_area=Africa<br>mean_overall_rating=%{x}<br>mean_experience_airport=%{y}<br>airport_name=%{customdata[0]}<extra></extra>",
         "legendgroup": "Africa",
         "marker": {
          "color": "#636efa",
          "symbol": "circle"
         },
         "mode": "markers",
         "name": "Africa",
         "orientation": "v",
         "showlegend": true,
         "type": "scatter",
         "x": [
          2,
          2,
          2,
          2,
          2,
          2,
          4.333333333333333,
          4.333333333333333,
          4.333333333333333,
          4.333333333333333,
          4.333333333333333,
          4.333333333333333,
          4.333333333333333,
          4.333333333333333,
          2,
          2,
          2,
          2,
          2,
          2,
          3,
          3,
          3,
          3,
          3,
          5,
          5,
          5,
          5,
          5,
          5,
          5,
          5,
          4,
          4,
          4,
          4,
          4,
          4,
          4,
          4,
          4,
          4,
          4,
          4,
          4,
          4,
          4,
          4,
          3,
          3,
          3,
          3,
          3,
          4.333333333333333,
          4.333333333333333,
          4.333333333333333,
          4.333333333333333,
          4.333333333333333,
          4.333333333333333,
          4.333333333333333,
          4.333333333333333,
          5,
          5,
          5,
          5,
          5,
          2.5,
          2.5,
          2.5,
          2.5,
          2.5,
          2.5,
          2.5,
          2.5,
          3,
          3,
          3,
          3,
          3,
          3,
          3,
          3,
          3,
          1.5,
          1.5,
          1.5,
          1.5,
          1.5,
          1.5,
          1.5,
          1.5,
          3,
          3,
          3,
          3,
          3,
          3,
          1.6666666666666667,
          1.6666666666666667,
          1.6666666666666667,
          1.6666666666666667,
          1.6666666666666667,
          2.5,
          2.5,
          2.5,
          2.5,
          2.5,
          2.5,
          1.5,
          1.5,
          1.5,
          1.5,
          1.5
         ],
         "xaxis": "x",
         "y": [
          3.25,
          3.25,
          3.25,
          3.25,
          3.25,
          3.25,
          4.6,
          4.6,
          4.6,
          4.6,
          4.6,
          4.6,
          4.6,
          4.6,
          2.8333333333333335,
          2.8333333333333335,
          2.8333333333333335,
          2.8333333333333335,
          2.8333333333333335,
          2.8333333333333335,
          3,
          3,
          3,
          3,
          3,
          5.75,
          5.75,
          5.75,
          5.75,
          5.75,
          5.75,
          5.75,
          5.75,
          6.75,
          6.75,
          6.75,
          6.75,
          6.75,
          6.75,
          6.75,
          6.75,
          6.75,
          4.666666666666667,
          4.666666666666667,
          4.666666666666667,
          4.666666666666667,
          4.666666666666667,
          4.666666666666667,
          4.666666666666667,
          4.75,
          4.75,
          4.75,
          4.75,
          4.75,
          3.3333333333333335,
          3.3333333333333335,
          3.3333333333333335,
          3.3333333333333335,
          3.3333333333333335,
          3.3333333333333335,
          3.3333333333333335,
          3.3333333333333335,
          3,
          3,
          3,
          3,
          3,
          3.4,
          3.4,
          3.4,
          3.4,
          3.4,
          3.4,
          3.4,
          3.4,
          5,
          5,
          5,
          5,
          5,
          5,
          5,
          5,
          5,
          4.333333333333333,
          4.333333333333333,
          4.333333333333333,
          4.333333333333333,
          4.333333333333333,
          4.333333333333333,
          4.333333333333333,
          4.333333333333333,
          5.666666666666667,
          5.666666666666667,
          5.666666666666667,
          5.666666666666667,
          5.666666666666667,
          5.666666666666667,
          2,
          2,
          2,
          2,
          2,
          5.666666666666667,
          5.666666666666667,
          5.666666666666667,
          5.666666666666667,
          5.666666666666667,
          5.666666666666667,
          2.5,
          2.5,
          2.5,
          2.5,
          2.5
         ],
         "yaxis": "y"
        },
        {
         "customdata": [
          [
           "almeria"
          ],
          [
           "almeria"
          ],
          [
           "almeria"
          ],
          [
           "almeria"
          ],
          [
           "almeria"
          ],
          [
           "almeria"
          ],
          [
           "almeria"
          ],
          [
           "almeria"
          ],
          [
           "antwerp deurne"
          ],
          [
           "antwerp deurne"
          ],
          [
           "antwerp deurne"
          ],
          [
           "antwerp deurne"
          ],
          [
           "antwerp deurne"
          ],
          [
           "antwerp deurne"
          ],
          [
           "antwerp deurne"
          ],
          [
           "bergen"
          ],
          [
           "bergen"
          ],
          [
           "bergen"
          ],
          [
           "bergen"
          ],
          [
           "bergen"
          ],
          [
           "billund"
          ],
          [
           "billund"
          ],
          [
           "billund"
          ],
          [
           "billund"
          ],
          [
           "billund"
          ],
          [
           "billund"
          ],
          [
           "bourgas"
          ],
          [
           "bourgas"
          ],
          [
           "bourgas"
          ],
          [
           "bourgas"
          ],
          [
           "bourgas"
          ],
          [
           "carcassonne"
          ],
          [
           "carcassonne"
          ],
          [
           "carcassonne"
          ],
          [
           "carcassonne"
          ],
          [
           "carcassonne"
          ],
          [
           "carcassonne"
          ],
          [
           "carcassonne"
          ],
          [
           "carcassonne"
          ],
          [
           "carcassonne"
          ],
          [
           "chambery"
          ],
          [
           "chambery"
          ],
          [
           "chambery"
          ],
          [
           "chambery"
          ],
          [
           "chambery"
          ],
          [
           "chambery"
          ],
          [
           "chambery"
          ],
          [
           "coventry"
          ],
          [
           "coventry"
          ],
          [
           "coventry"
          ],
          [
           "coventry"
          ],
          [
           "coventry"
          ],
          [
           "dortmund"
          ],
          [
           "dortmund"
          ],
          [
           "dortmund"
          ],
          [
           "dortmund"
          ],
          [
           "dortmund"
          ],
          [
           "dortmund"
          ],
          [
           "dortmund"
          ],
          [
           "dortmund"
          ],
          [
           "dubrovnik"
          ],
          [
           "dubrovnik"
          ],
          [
           "dubrovnik"
          ],
          [
           "dubrovnik"
          ],
          [
           "dubrovnik"
          ],
          [
           "dubrovnik"
          ],
          [
           "dubrovnik"
          ],
          [
           "dundee"
          ],
          [
           "dundee"
          ],
          [
           "dundee"
          ],
          [
           "dundee"
          ],
          [
           "dundee"
          ],
          [
           "durhamtees valley"
          ],
          [
           "durhamtees valley"
          ],
          [
           "durhamtees valley"
          ],
          [
           "durhamtees valley"
          ],
          [
           "durhamtees valley"
          ],
          [
           "durhamtees valley"
          ],
          [
           "durhamtees valley"
          ],
          [
           "durhamtees valley"
          ],
          [
           "ercan"
          ],
          [
           "ercan"
          ],
          [
           "ercan"
          ],
          [
           "ercan"
          ],
          [
           "ercan"
          ],
          [
           "ercan"
          ],
          [
           "ercan"
          ],
          [
           "fuerteventura"
          ],
          [
           "fuerteventura"
          ],
          [
           "fuerteventura"
          ],
          [
           "fuerteventura"
          ],
          [
           "fuerteventura"
          ],
          [
           "fuerteventura"
          ],
          [
           "fuerteventura"
          ],
          [
           "fuerteventura"
          ],
          [
           "fuerteventura"
          ],
          [
           "gibraltar"
          ],
          [
           "gibraltar"
          ],
          [
           "gibraltar"
          ],
          [
           "gibraltar"
          ],
          [
           "gibraltar"
          ],
          [
           "gibraltar"
          ],
          [
           "gibraltar"
          ],
          [
           "gibraltar"
          ],
          [
           "granada"
          ],
          [
           "granada"
          ],
          [
           "granada"
          ],
          [
           "granada"
          ],
          [
           "granada"
          ],
          [
           "granada"
          ],
          [
           "guernsey"
          ],
          [
           "guernsey"
          ],
          [
           "guernsey"
          ],
          [
           "guernsey"
          ],
          [
           "guernsey"
          ],
          [
           "guernsey"
          ],
          [
           "guernsey"
          ],
          [
           "hamburg lubek"
          ],
          [
           "hamburg lubek"
          ],
          [
           "hamburg lubek"
          ],
          [
           "hamburg lubek"
          ],
          [
           "hamburg lubek"
          ],
          [
           "humberside"
          ],
          [
           "humberside"
          ],
          [
           "humberside"
          ],
          [
           "humberside"
          ],
          [
           "humberside"
          ],
          [
           "humberside"
          ],
          [
           "katowice"
          ],
          [
           "katowice"
          ],
          [
           "katowice"
          ],
          [
           "katowice"
          ],
          [
           "katowice"
          ],
          [
           "katowice"
          ],
          [
           "katowice"
          ],
          [
           "leipzighalle"
          ],
          [
           "leipzighalle"
          ],
          [
           "leipzighalle"
          ],
          [
           "leipzighalle"
          ],
          [
           "leipzighalle"
          ],
          [
           "linz"
          ],
          [
           "linz"
          ],
          [
           "linz"
          ],
          [
           "linz"
          ],
          [
           "linz"
          ],
          [
           "mahon"
          ],
          [
           "mahon"
          ],
          [
           "mahon"
          ],
          [
           "mahon"
          ],
          [
           "mahon"
          ],
          [
           "mahon"
          ],
          [
           "mahon"
          ],
          [
           "mahon"
          ],
          [
           "malmo"
          ],
          [
           "malmo"
          ],
          [
           "malmo"
          ],
          [
           "malmo"
          ],
          [
           "malmo"
          ],
          [
           "malmo"
          ],
          [
           "malmo"
          ],
          [
           "nimes"
          ],
          [
           "nimes"
          ],
          [
           "nimes"
          ],
          [
           "nimes"
          ],
          [
           "nimes"
          ],
          [
           "pau"
          ],
          [
           "pau"
          ],
          [
           "pau"
          ],
          [
           "pau"
          ],
          [
           "pau"
          ],
          [
           "perpignan"
          ],
          [
           "perpignan"
          ],
          [
           "perpignan"
          ],
          [
           "perpignan"
          ],
          [
           "perpignan"
          ],
          [
           "perpignan"
          ],
          [
           "perpignan"
          ],
          [
           "perpignan"
          ],
          [
           "ponta delgada"
          ],
          [
           "ponta delgada"
          ],
          [
           "ponta delgada"
          ],
          [
           "ponta delgada"
          ],
          [
           "ponta delgada"
          ],
          [
           "ponta delgada"
          ],
          [
           "poznan"
          ],
          [
           "poznan"
          ],
          [
           "poznan"
          ],
          [
           "poznan"
          ],
          [
           "poznan"
          ],
          [
           "pristina"
          ],
          [
           "pristina"
          ],
          [
           "pristina"
          ],
          [
           "pristina"
          ],
          [
           "pristina"
          ],
          [
           "pristina"
          ],
          [
           "pristina"
          ],
          [
           "pristina"
          ],
          [
           "salzburg"
          ],
          [
           "salzburg"
          ],
          [
           "salzburg"
          ],
          [
           "salzburg"
          ],
          [
           "salzburg"
          ],
          [
           "salzburg"
          ],
          [
           "salzburg"
          ],
          [
           "sarajevo"
          ],
          [
           "sarajevo"
          ],
          [
           "sarajevo"
          ],
          [
           "sarajevo"
          ],
          [
           "sarajevo"
          ],
          [
           "sarajevo"
          ],
          [
           "sarajevo"
          ],
          [
           "sarajevo"
          ],
          [
           "seville"
          ],
          [
           "seville"
          ],
          [
           "seville"
          ],
          [
           "seville"
          ],
          [
           "seville"
          ],
          [
           "seville"
          ],
          [
           "seville"
          ],
          [
           "seville"
          ],
          [
           "seville"
          ],
          [
           "skopje"
          ],
          [
           "skopje"
          ],
          [
           "skopje"
          ],
          [
           "skopje"
          ],
          [
           "skopje"
          ],
          [
           "stockholm vasteras"
          ],
          [
           "stockholm vasteras"
          ],
          [
           "stockholm vasteras"
          ],
          [
           "stockholm vasteras"
          ],
          [
           "stockholm vasteras"
          ],
          [
           "tirana"
          ],
          [
           "tirana"
          ],
          [
           "tirana"
          ],
          [
           "tirana"
          ],
          [
           "tirana"
          ],
          [
           "tirana"
          ],
          [
           "tirana"
          ],
          [
           "tirana"
          ],
          [
           "trieste"
          ],
          [
           "trieste"
          ],
          [
           "trieste"
          ],
          [
           "trieste"
          ],
          [
           "trieste"
          ],
          [
           "tromso"
          ],
          [
           "tromso"
          ],
          [
           "tromso"
          ],
          [
           "tromso"
          ],
          [
           "tromso"
          ],
          [
           "vnukovo"
          ],
          [
           "vnukovo"
          ],
          [
           "vnukovo"
          ],
          [
           "vnukovo"
          ],
          [
           "vnukovo"
          ],
          [
           "waterford"
          ],
          [
           "waterford"
          ],
          [
           "waterford"
          ],
          [
           "waterford"
          ],
          [
           "waterford"
          ],
          [
           "waterford"
          ],
          [
           "wroclaw strachowice"
          ],
          [
           "wroclaw strachowice"
          ],
          [
           "wroclaw strachowice"
          ],
          [
           "wroclaw strachowice"
          ],
          [
           "wroclaw strachowice"
          ],
          [
           "wroclaw strachowice"
          ],
          [
           "wroclaw strachowice"
          ],
          [
           "wroclaw strachowice"
          ],
          [
           "wroclaw strachowice"
          ]
         ],
         "hovertemplate": "geo_area=Europe<br>mean_overall_rating=%{x}<br>mean_experience_airport=%{y}<br>airport_name=%{customdata[0]}<extra></extra>",
         "legendgroup": "Europe",
         "marker": {
          "color": "#EF553B",
          "symbol": "circle"
         },
         "mode": "markers",
         "name": "Europe",
         "orientation": "v",
         "showlegend": true,
         "type": "scatter",
         "x": [
          5,
          5,
          5,
          5,
          5,
          5,
          5,
          5,
          5,
          5,
          5,
          5,
          5,
          5,
          5,
          3,
          3,
          3,
          3,
          3,
          2,
          2,
          2,
          2,
          2,
          2,
          4,
          4,
          4,
          4,
          4,
          5,
          5,
          5,
          5,
          5,
          5,
          5,
          5,
          5,
          2.5,
          2.5,
          2.5,
          2.5,
          2.5,
          2.5,
          2.5,
          null,
          null,
          null,
          null,
          null,
          4,
          4,
          4,
          4,
          4,
          4,
          4,
          4,
          4.5,
          4.5,
          4.5,
          4.5,
          4.5,
          4.5,
          4.5,
          null,
          null,
          null,
          null,
          null,
          3,
          3,
          3,
          3,
          3,
          3,
          3,
          3,
          2.5,
          2.5,
          2.5,
          2.5,
          2.5,
          2.5,
          2.5,
          4.2,
          4.2,
          4.2,
          4.2,
          4.2,
          4.2,
          4.2,
          4.2,
          4.2,
          4,
          4,
          4,
          4,
          4,
          4,
          4,
          4,
          4,
          4,
          4,
          4,
          4,
          4,
          4.666666666666667,
          4.666666666666667,
          4.666666666666667,
          4.666666666666667,
          4.666666666666667,
          4.666666666666667,
          4.666666666666667,
          null,
          null,
          null,
          null,
          null,
          5,
          5,
          5,
          5,
          5,
          5,
          4.2,
          4.2,
          4.2,
          4.2,
          4.2,
          4.2,
          4.2,
          5,
          5,
          5,
          5,
          5,
          null,
          null,
          null,
          null,
          null,
          4.5,
          4.5,
          4.5,
          4.5,
          4.5,
          4.5,
          4.5,
          4.5,
          null,
          null,
          null,
          null,
          null,
          null,
          null,
          3,
          3,
          3,
          3,
          3,
          null,
          null,
          null,
          null,
          null,
          3.3333333333333335,
          3.3333333333333335,
          3.3333333333333335,
          3.3333333333333335,
          3.3333333333333335,
          3.3333333333333335,
          3.3333333333333335,
          3.3333333333333335,
          3.6666666666666665,
          3.6666666666666665,
          3.6666666666666665,
          3.6666666666666665,
          3.6666666666666665,
          3.6666666666666665,
          5,
          5,
          5,
          5,
          5,
          4.5,
          4.5,
          4.5,
          4.5,
          4.5,
          4.5,
          4.5,
          4.5,
          3.75,
          3.75,
          3.75,
          3.75,
          3.75,
          3.75,
          3.75,
          5,
          5,
          5,
          5,
          5,
          5,
          5,
          5,
          4,
          4,
          4,
          4,
          4,
          4,
          4,
          4,
          4,
          4,
          4,
          4,
          4,
          4,
          5,
          5,
          5,
          5,
          5,
          3.5,
          3.5,
          3.5,
          3.5,
          3.5,
          3.5,
          3.5,
          3.5,
          3,
          3,
          3,
          3,
          3,
          4.333333333333333,
          4.333333333333333,
          4.333333333333333,
          4.333333333333333,
          4.333333333333333,
          4.5,
          4.5,
          4.5,
          4.5,
          4.5,
          3.5,
          3.5,
          3.5,
          3.5,
          3.5,
          3.5,
          4.857142857142857,
          4.857142857142857,
          4.857142857142857,
          4.857142857142857,
          4.857142857142857,
          4.857142857142857,
          4.857142857142857,
          4.857142857142857,
          4.857142857142857
         ],
         "xaxis": "x",
         "y": [
          3.6666666666666665,
          3.6666666666666665,
          3.6666666666666665,
          3.6666666666666665,
          3.6666666666666665,
          3.6666666666666665,
          3.6666666666666665,
          3.6666666666666665,
          6.25,
          6.25,
          6.25,
          6.25,
          6.25,
          6.25,
          6.25,
          null,
          null,
          null,
          null,
          null,
          8.333333333333334,
          8.333333333333334,
          8.333333333333334,
          8.333333333333334,
          8.333333333333334,
          8.333333333333334,
          3,
          3,
          3,
          3,
          3,
          6.333333333333333,
          6.333333333333333,
          6.333333333333333,
          6.333333333333333,
          6.333333333333333,
          6.333333333333333,
          6.333333333333333,
          6.333333333333333,
          6.333333333333333,
          3,
          3,
          3,
          3,
          3,
          3,
          3,
          4,
          4,
          4,
          4,
          4,
          6,
          6,
          6,
          6,
          6,
          6,
          6,
          6,
          5,
          5,
          5,
          5,
          5,
          5,
          5,
          4,
          4,
          4,
          4,
          4,
          3,
          3,
          3,
          3,
          3,
          3,
          3,
          3,
          5,
          5,
          5,
          5,
          5,
          5,
          5,
          6.666666666666667,
          6.666666666666667,
          6.666666666666667,
          6.666666666666667,
          6.666666666666667,
          6.666666666666667,
          6.666666666666667,
          6.666666666666667,
          6.666666666666667,
          5,
          5,
          5,
          5,
          5,
          5,
          5,
          5,
          5.666666666666667,
          5.666666666666667,
          5.666666666666667,
          5.666666666666667,
          5.666666666666667,
          5.666666666666667,
          6,
          6,
          6,
          6,
          6,
          6,
          6,
          4.5,
          4.5,
          4.5,
          4.5,
          4.5,
          7,
          7,
          7,
          7,
          7,
          7,
          9,
          9,
          9,
          9,
          9,
          9,
          9,
          5.666666666666667,
          5.666666666666667,
          5.666666666666667,
          5.666666666666667,
          5.666666666666667,
          null,
          null,
          null,
          null,
          null,
          7.5,
          7.5,
          7.5,
          7.5,
          7.5,
          7.5,
          7.5,
          7.5,
          4,
          4,
          4,
          4,
          4,
          4,
          4,
          5,
          5,
          5,
          5,
          5,
          4,
          4,
          4,
          4,
          4,
          4,
          4,
          4,
          4,
          4,
          4,
          4,
          4,
          5.6,
          5.6,
          5.6,
          5.6,
          5.6,
          5.6,
          10,
          10,
          10,
          10,
          10,
          6.25,
          6.25,
          6.25,
          6.25,
          6.25,
          6.25,
          6.25,
          6.25,
          5.8,
          5.8,
          5.8,
          5.8,
          5.8,
          5.8,
          5.8,
          3.75,
          3.75,
          3.75,
          3.75,
          3.75,
          3.75,
          3.75,
          3.75,
          5.666666666666667,
          5.666666666666667,
          5.666666666666667,
          5.666666666666667,
          5.666666666666667,
          5.666666666666667,
          5.666666666666667,
          5.666666666666667,
          5.666666666666667,
          5.75,
          5.75,
          5.75,
          5.75,
          5.75,
          10,
          10,
          10,
          10,
          10,
          5.714285714285714,
          5.714285714285714,
          5.714285714285714,
          5.714285714285714,
          5.714285714285714,
          5.714285714285714,
          5.714285714285714,
          5.714285714285714,
          3,
          3,
          3,
          3,
          3,
          8.333333333333334,
          8.333333333333334,
          8.333333333333334,
          8.333333333333334,
          8.333333333333334,
          6.5,
          6.5,
          6.5,
          6.5,
          6.5,
          5.5,
          5.5,
          5.5,
          5.5,
          5.5,
          5.5,
          8.833333333333334,
          8.833333333333334,
          8.833333333333334,
          8.833333333333334,
          8.833333333333334,
          8.833333333333334,
          8.833333333333334,
          8.833333333333334,
          8.833333333333334
         ],
         "yaxis": "y"
        },
        {
         "customdata": [
          [
           "aruba reina beatrix"
          ],
          [
           "aruba reina beatrix"
          ],
          [
           "aruba reina beatrix"
          ],
          [
           "aruba reina beatrix"
          ],
          [
           "aruba reina beatrix"
          ],
          [
           "aruba reina beatrix"
          ],
          [
           "aruba reina beatrix"
          ],
          [
           "aruba reina beatrix"
          ],
          [
           "aruba reina beatrix"
          ],
          [
           "belo horizonte confins"
          ],
          [
           "belo horizonte confins"
          ],
          [
           "belo horizonte confins"
          ],
          [
           "belo horizonte confins"
          ],
          [
           "belo horizonte confins"
          ],
          [
           "belo horizonte confins"
          ],
          [
           "belo horizonte confins"
          ],
          [
           "belo horizonte confins"
          ],
          [
           "belo horizonte confins"
          ],
          [
           "brasilia"
          ],
          [
           "brasilia"
          ],
          [
           "brasilia"
          ],
          [
           "brasilia"
          ],
          [
           "brasilia"
          ],
          [
           "brasilia"
          ],
          [
           "brasilia"
          ],
          [
           "brasilia"
          ],
          [
           "brasilia"
          ],
          [
           "crown point tobago"
          ],
          [
           "crown point tobago"
          ],
          [
           "crown point tobago"
          ],
          [
           "crown point tobago"
          ],
          [
           "crown point tobago"
          ],
          [
           "crown point tobago"
          ],
          [
           "crown point tobago"
          ],
          [
           "curacao"
          ],
          [
           "curacao"
          ],
          [
           "curacao"
          ],
          [
           "curacao"
          ],
          [
           "curacao"
          ],
          [
           "curacao"
          ],
          [
           "curacao"
          ],
          [
           "guayaquil"
          ],
          [
           "guayaquil"
          ],
          [
           "guayaquil"
          ],
          [
           "guayaquil"
          ],
          [
           "guayaquil"
          ],
          [
           "holguin"
          ],
          [
           "holguin"
          ],
          [
           "holguin"
          ],
          [
           "holguin"
          ],
          [
           "holguin"
          ],
          [
           "holguin"
          ],
          [
           "holguin"
          ],
          [
           "manaus"
          ],
          [
           "manaus"
          ],
          [
           "manaus"
          ],
          [
           "manaus"
          ],
          [
           "manaus"
          ],
          [
           "manaus"
          ],
          [
           "quito mariscal"
          ],
          [
           "quito mariscal"
          ],
          [
           "quito mariscal"
          ],
          [
           "quito mariscal"
          ],
          [
           "quito mariscal"
          ],
          [
           "quito mariscal"
          ],
          [
           "recife"
          ],
          [
           "recife"
          ],
          [
           "recife"
          ],
          [
           "recife"
          ],
          [
           "recife"
          ],
          [
           "salvador"
          ],
          [
           "salvador"
          ],
          [
           "salvador"
          ],
          [
           "salvador"
          ],
          [
           "salvador"
          ],
          [
           "salvador"
          ],
          [
           "santo domingo"
          ],
          [
           "santo domingo"
          ],
          [
           "santo domingo"
          ],
          [
           "santo domingo"
          ],
          [
           "santo domingo"
          ],
          [
           "santo domingo"
          ],
          [
           "santo domingo"
          ],
          [
           "santo domingo"
          ],
          [
           "sao paulo congonhas"
          ],
          [
           "sao paulo congonhas"
          ],
          [
           "sao paulo congonhas"
          ],
          [
           "sao paulo congonhas"
          ],
          [
           "sao paulo congonhas"
          ],
          [
           "sao paulo congonhas"
          ]
         ],
         "hovertemplate": "geo_area=Latin America<br>mean_overall_rating=%{x}<br>mean_experience_airport=%{y}<br>airport_name=%{customdata[0]}<extra></extra>",
         "legendgroup": "Latin America",
         "marker": {
          "color": "#00cc96",
          "symbol": "circle"
         },
         "mode": "markers",
         "name": "Latin America",
         "orientation": "v",
         "showlegend": true,
         "type": "scatter",
         "x": [
          2.3333333333333335,
          2.3333333333333335,
          2.3333333333333335,
          2.3333333333333335,
          2.3333333333333335,
          2.3333333333333335,
          2.3333333333333335,
          2.3333333333333335,
          2.3333333333333335,
          4,
          4,
          4,
          4,
          4,
          4,
          4,
          4,
          4,
          3,
          3,
          3,
          3,
          3,
          3,
          3,
          3,
          3,
          1.3333333333333333,
          1.3333333333333333,
          1.3333333333333333,
          1.3333333333333333,
          1.3333333333333333,
          1.3333333333333333,
          1.3333333333333333,
          2.5,
          2.5,
          2.5,
          2.5,
          2.5,
          2.5,
          2.5,
          3.4,
          3.4,
          3.4,
          3.4,
          3.4,
          1,
          1,
          1,
          1,
          1,
          1,
          1,
          3,
          3,
          3,
          3,
          3,
          3,
          2,
          2,
          2,
          2,
          2,
          2,
          5,
          5,
          5,
          5,
          5,
          2.3333333333333335,
          2.3333333333333335,
          2.3333333333333335,
          2.3333333333333335,
          2.3333333333333335,
          2.3333333333333335,
          4.666666666666667,
          4.666666666666667,
          4.666666666666667,
          4.666666666666667,
          4.666666666666667,
          4.666666666666667,
          4.666666666666667,
          4.666666666666667,
          3.75,
          3.75,
          3.75,
          3.75,
          3.75,
          3.75
         ],
         "xaxis": "x",
         "y": [
          4.5,
          4.5,
          4.5,
          4.5,
          4.5,
          4.5,
          4.5,
          4.5,
          4.5,
          3.8,
          3.8,
          3.8,
          3.8,
          3.8,
          3.8,
          3.8,
          3.8,
          3.8,
          3.5555555555555554,
          3.5555555555555554,
          3.5555555555555554,
          3.5555555555555554,
          3.5555555555555554,
          3.5555555555555554,
          3.5555555555555554,
          3.5555555555555554,
          3.5555555555555554,
          7,
          7,
          7,
          7,
          7,
          7,
          7,
          4.5,
          4.5,
          4.5,
          4.5,
          4.5,
          4.5,
          4.5,
          3.6,
          3.6,
          3.6,
          3.6,
          3.6,
          4,
          4,
          4,
          4,
          4,
          4,
          4,
          3.25,
          3.25,
          3.25,
          3.25,
          3.25,
          3.25,
          4.75,
          4.75,
          4.75,
          4.75,
          4.75,
          4.75,
          6.333333333333333,
          6.333333333333333,
          6.333333333333333,
          6.333333333333333,
          6.333333333333333,
          3.75,
          3.75,
          3.75,
          3.75,
          3.75,
          3.75,
          8,
          8,
          8,
          8,
          8,
          8,
          8,
          8,
          3.75,
          3.75,
          3.75,
          3.75,
          3.75,
          3.75
         ],
         "yaxis": "y"
        },
        {
         "customdata": [
          [
           "beirut"
          ],
          [
           "beirut"
          ],
          [
           "beirut"
          ],
          [
           "beirut"
          ],
          [
           "beirut"
          ],
          [
           "beirut"
          ],
          [
           "beirut"
          ],
          [
           "beirut"
          ],
          [
           "beirut"
          ],
          [
           "hamad doha"
          ],
          [
           "hamad doha"
          ],
          [
           "hamad doha"
          ],
          [
           "hamad doha"
          ],
          [
           "hamad doha"
          ],
          [
           "sharjah"
          ],
          [
           "sharjah"
          ],
          [
           "sharjah"
          ],
          [
           "sharjah"
          ],
          [
           "sharjah"
          ],
          [
           "sharjah"
          ],
          [
           "tehran mehrabad"
          ],
          [
           "tehran mehrabad"
          ],
          [
           "tehran mehrabad"
          ],
          [
           "tehran mehrabad"
          ],
          [
           "tehran mehrabad"
          ]
         ],
         "hovertemplate": "geo_area=Middle-East<br>mean_overall_rating=%{x}<br>mean_experience_airport=%{y}<br>airport_name=%{customdata[0]}<extra></extra>",
         "legendgroup": "Middle-East",
         "marker": {
          "color": "#ab63fa",
          "symbol": "circle"
         },
         "mode": "markers",
         "name": "Middle-East",
         "orientation": "v",
         "showlegend": true,
         "type": "scatter",
         "x": [
          3.8,
          3.8,
          3.8,
          3.8,
          3.8,
          3.8,
          3.8,
          3.8,
          3.8,
          null,
          null,
          null,
          null,
          null,
          2.6666666666666665,
          2.6666666666666665,
          2.6666666666666665,
          2.6666666666666665,
          2.6666666666666665,
          2.6666666666666665,
          4,
          4,
          4,
          4,
          4
         ],
         "xaxis": "x",
         "y": [
          5,
          5,
          5,
          5,
          5,
          5,
          5,
          5,
          5,
          null,
          null,
          null,
          null,
          null,
          4,
          4,
          4,
          4,
          4,
          4,
          3,
          3,
          3,
          3,
          3
         ],
         "yaxis": "y"
        },
        {
         "customdata": [
          [
           "bermuda"
          ],
          [
           "bermuda"
          ],
          [
           "bermuda"
          ],
          [
           "bermuda"
          ],
          [
           "bermuda"
          ],
          [
           "colorado springs"
          ],
          [
           "colorado springs"
          ],
          [
           "colorado springs"
          ],
          [
           "colorado springs"
          ],
          [
           "colorado springs"
          ],
          [
           "colorado springs"
          ],
          [
           "colorado springs"
          ],
          [
           "columbus"
          ],
          [
           "columbus"
          ],
          [
           "columbus"
          ],
          [
           "columbus"
          ],
          [
           "columbus"
          ],
          [
           "dallas love field"
          ],
          [
           "dallas love field"
          ],
          [
           "dallas love field"
          ],
          [
           "dallas love field"
          ],
          [
           "dallas love field"
          ],
          [
           "fort myers"
          ],
          [
           "fort myers"
          ],
          [
           "fort myers"
          ],
          [
           "fort myers"
          ],
          [
           "fort myers"
          ],
          [
           "fort myers"
          ],
          [
           "fort myers"
          ],
          [
           "fort myers"
          ],
          [
           "fort myers"
          ],
          [
           "hartford"
          ],
          [
           "hartford"
          ],
          [
           "hartford"
          ],
          [
           "hartford"
          ],
          [
           "hartford"
          ],
          [
           "hartford"
          ],
          [
           "hartford"
          ],
          [
           "hartford"
          ],
          [
           "hartford"
          ],
          [
           "hilo"
          ],
          [
           "hilo"
          ],
          [
           "hilo"
          ],
          [
           "hilo"
          ],
          [
           "hilo"
          ],
          [
           "hilo"
          ],
          [
           "indianapolis"
          ],
          [
           "indianapolis"
          ],
          [
           "indianapolis"
          ],
          [
           "indianapolis"
          ],
          [
           "indianapolis"
          ],
          [
           "indianapolis"
          ],
          [
           "indianapolis"
          ],
          [
           "indianapolis"
          ],
          [
           "indianapolis"
          ],
          [
           "jacksonville"
          ],
          [
           "jacksonville"
          ],
          [
           "jacksonville"
          ],
          [
           "jacksonville"
          ],
          [
           "jacksonville"
          ],
          [
           "john wayne"
          ],
          [
           "john wayne"
          ],
          [
           "john wayne"
          ],
          [
           "john wayne"
          ],
          [
           "john wayne"
          ],
          [
           "john wayne"
          ],
          [
           "little rock"
          ],
          [
           "little rock"
          ],
          [
           "little rock"
          ],
          [
           "little rock"
          ],
          [
           "little rock"
          ],
          [
           "little rock"
          ],
          [
           "long beach"
          ],
          [
           "long beach"
          ],
          [
           "long beach"
          ],
          [
           "long beach"
          ],
          [
           "long beach"
          ],
          [
           "long beach"
          ],
          [
           "long island macarthur"
          ],
          [
           "long island macarthur"
          ],
          [
           "long island macarthur"
          ],
          [
           "long island macarthur"
          ],
          [
           "long island macarthur"
          ],
          [
           "long island macarthur"
          ],
          [
           "long island macarthur"
          ],
          [
           "memphis"
          ],
          [
           "memphis"
          ],
          [
           "memphis"
          ],
          [
           "memphis"
          ],
          [
           "memphis"
          ],
          [
           "memphis"
          ],
          [
           "memphis"
          ],
          [
           "milwaukee"
          ],
          [
           "milwaukee"
          ],
          [
           "milwaukee"
          ],
          [
           "milwaukee"
          ],
          [
           "milwaukee"
          ],
          [
           "milwaukee"
          ],
          [
           "milwaukee"
          ],
          [
           "milwaukee"
          ],
          [
           "milwaukee"
          ],
          [
           "muscle shoals"
          ],
          [
           "muscle shoals"
          ],
          [
           "muscle shoals"
          ],
          [
           "muscle shoals"
          ],
          [
           "muscle shoals"
          ],
          [
           "nashville"
          ],
          [
           "nashville"
          ],
          [
           "nashville"
          ],
          [
           "nashville"
          ],
          [
           "nashville"
          ],
          [
           "nashville"
          ],
          [
           "sacramento"
          ],
          [
           "sacramento"
          ],
          [
           "sacramento"
          ],
          [
           "sacramento"
          ],
          [
           "sacramento"
          ],
          [
           "sacramento"
          ],
          [
           "sacramento"
          ],
          [
           "sacramento"
          ],
          [
           "sacramento"
          ]
         ],
         "hovertemplate": "geo_area=North America<br>mean_overall_rating=%{x}<br>mean_experience_airport=%{y}<br>airport_name=%{customdata[0]}<extra></extra>",
         "legendgroup": "North America",
         "marker": {
          "color": "#FFA15A",
          "symbol": "circle"
         },
         "mode": "markers",
         "name": "North America",
         "orientation": "v",
         "showlegend": true,
         "type": "scatter",
         "x": [
          null,
          null,
          null,
          null,
          null,
          5,
          5,
          5,
          5,
          5,
          5,
          5,
          3.6666666666666665,
          3.6666666666666665,
          3.6666666666666665,
          3.6666666666666665,
          3.6666666666666665,
          null,
          null,
          null,
          null,
          null,
          4.375,
          4.375,
          4.375,
          4.375,
          4.375,
          4.375,
          4.375,
          4.375,
          4.375,
          5,
          5,
          5,
          5,
          5,
          5,
          5,
          5,
          5,
          4,
          4,
          4,
          4,
          4,
          4,
          5,
          5,
          5,
          5,
          5,
          5,
          5,
          5,
          5,
          5,
          5,
          5,
          5,
          5,
          4,
          4,
          4,
          4,
          4,
          4,
          5,
          5,
          5,
          5,
          5,
          5,
          5,
          5,
          5,
          5,
          5,
          5,
          5,
          5,
          5,
          5,
          5,
          5,
          5,
          3.5,
          3.5,
          3.5,
          3.5,
          3.5,
          3.5,
          3.5,
          4.8,
          4.8,
          4.8,
          4.8,
          4.8,
          4.8,
          4.8,
          4.8,
          4.8,
          null,
          null,
          null,
          null,
          null,
          4.5,
          4.5,
          4.5,
          4.5,
          4.5,
          4.5,
          4.2,
          4.2,
          4.2,
          4.2,
          4.2,
          4.2,
          4.2,
          4.2,
          4.2
         ],
         "xaxis": "x",
         "y": [
          10,
          10,
          10,
          10,
          10,
          4.333333333333333,
          4.333333333333333,
          4.333333333333333,
          4.333333333333333,
          4.333333333333333,
          4.333333333333333,
          4.333333333333333,
          7.666666666666667,
          7.666666666666667,
          7.666666666666667,
          7.666666666666667,
          7.666666666666667,
          3.6666666666666665,
          3.6666666666666665,
          3.6666666666666665,
          3.6666666666666665,
          3.6666666666666665,
          8.11111111111111,
          8.11111111111111,
          8.11111111111111,
          8.11111111111111,
          8.11111111111111,
          8.11111111111111,
          8.11111111111111,
          8.11111111111111,
          8.11111111111111,
          4.666666666666667,
          4.666666666666667,
          4.666666666666667,
          4.666666666666667,
          4.666666666666667,
          4.666666666666667,
          4.666666666666667,
          4.666666666666667,
          4.666666666666667,
          5,
          5,
          5,
          5,
          5,
          5,
          5.75,
          5.75,
          5.75,
          5.75,
          5.75,
          5.75,
          5.75,
          5.75,
          5.75,
          5.6,
          5.6,
          5.6,
          5.6,
          5.6,
          7,
          7,
          7,
          7,
          7,
          7,
          7.333333333333333,
          7.333333333333333,
          7.333333333333333,
          7.333333333333333,
          7.333333333333333,
          7.333333333333333,
          4.666666666666667,
          4.666666666666667,
          4.666666666666667,
          4.666666666666667,
          4.666666666666667,
          4.666666666666667,
          7.5,
          7.5,
          7.5,
          7.5,
          7.5,
          7.5,
          7.5,
          6.5,
          6.5,
          6.5,
          6.5,
          6.5,
          6.5,
          6.5,
          8.285714285714286,
          8.285714285714286,
          8.285714285714286,
          8.285714285714286,
          8.285714285714286,
          8.285714285714286,
          8.285714285714286,
          8.285714285714286,
          8.285714285714286,
          null,
          null,
          null,
          null,
          null,
          7.666666666666667,
          7.666666666666667,
          7.666666666666667,
          7.666666666666667,
          7.666666666666667,
          7.666666666666667,
          7.2,
          7.2,
          7.2,
          7.2,
          7.2,
          7.2,
          7.2,
          7.2,
          7.2
         ],
         "yaxis": "y"
        },
        {
         "customdata": [
          [
           "chengdu"
          ],
          [
           "chengdu"
          ],
          [
           "chengdu"
          ],
          [
           "chengdu"
          ],
          [
           "chengdu"
          ],
          [
           "coimbatore"
          ],
          [
           "coimbatore"
          ],
          [
           "coimbatore"
          ],
          [
           "coimbatore"
          ],
          [
           "coimbatore"
          ],
          [
           "hangzhou"
          ],
          [
           "hangzhou"
          ],
          [
           "hangzhou"
          ],
          [
           "hangzhou"
          ],
          [
           "hangzhou"
          ],
          [
           "hangzhou"
          ],
          [
           "hangzhou"
          ],
          [
           "hangzhou"
          ],
          [
           "kunming"
          ],
          [
           "kunming"
          ],
          [
           "kunming"
          ],
          [
           "kunming"
          ],
          [
           "kunming"
          ],
          [
           "kunming"
          ],
          [
           "pune"
          ],
          [
           "pune"
          ],
          [
           "pune"
          ],
          [
           "pune"
          ],
          [
           "pune"
          ],
          [
           "pune"
          ],
          [
           "pune"
          ],
          [
           "pune"
          ],
          [
           "pune"
          ],
          [
           "qingdao"
          ],
          [
           "qingdao"
          ],
          [
           "qingdao"
          ],
          [
           "qingdao"
          ],
          [
           "qingdao"
          ],
          [
           "qingdao"
          ],
          [
           "qingdao"
          ],
          [
           "sapporo chitose"
          ],
          [
           "sapporo chitose"
          ],
          [
           "sapporo chitose"
          ],
          [
           "sapporo chitose"
          ],
          [
           "sapporo chitose"
          ],
          [
           "sapporo chitose"
          ],
          [
           "sapporo chitose"
          ],
          [
           "sapporo chitose"
          ],
          [
           "seoul gimpo"
          ],
          [
           "seoul gimpo"
          ],
          [
           "seoul gimpo"
          ],
          [
           "seoul gimpo"
          ],
          [
           "seoul gimpo"
          ],
          [
           "seoul gimpo"
          ],
          [
           "seoul gimpo"
          ],
          [
           "seoul gimpo"
          ],
          [
           "shenyang"
          ],
          [
           "shenyang"
          ],
          [
           "shenyang"
          ],
          [
           "shenyang"
          ],
          [
           "shenyang"
          ],
          [
           "shenyang"
          ],
          [
           "shenyang"
          ],
          [
           "xian xianyang"
          ],
          [
           "xian xianyang"
          ],
          [
           "xian xianyang"
          ],
          [
           "xian xianyang"
          ],
          [
           "xian xianyang"
          ],
          [
           "xian xianyang"
          ],
          [
           "xian xianyang"
          ],
          [
           "xian xianyang"
          ],
          [
           "xiamen"
          ],
          [
           "xiamen"
          ],
          [
           "xiamen"
          ],
          [
           "xiamen"
          ],
          [
           "xiamen"
          ],
          [
           "xiamen"
          ],
          [
           "xiamen"
          ],
          [
           "xiamen"
          ],
          [
           "xiamen"
          ]
         ],
         "hovertemplate": "geo_area=Asia<br>mean_overall_rating=%{x}<br>mean_experience_airport=%{y}<br>airport_name=%{customdata[0]}<extra></extra>",
         "legendgroup": "Asia",
         "marker": {
          "color": "#19d3f3",
          "symbol": "circle"
         },
         "mode": "markers",
         "name": "Asia",
         "orientation": "v",
         "showlegend": true,
         "type": "scatter",
         "x": [
          4,
          4,
          4,
          4,
          4,
          2.5,
          2.5,
          2.5,
          2.5,
          2.5,
          4.333333333333333,
          4.333333333333333,
          4.333333333333333,
          4.333333333333333,
          4.333333333333333,
          4.333333333333333,
          4.333333333333333,
          4.333333333333333,
          3.75,
          3.75,
          3.75,
          3.75,
          3.75,
          3.75,
          3,
          3,
          3,
          3,
          3,
          3,
          3,
          3,
          3,
          4.4,
          4.4,
          4.4,
          4.4,
          4.4,
          4.4,
          4.4,
          3.8,
          3.8,
          3.8,
          3.8,
          3.8,
          3.8,
          3.8,
          3.8,
          4,
          4,
          4,
          4,
          4,
          4,
          4,
          4,
          5,
          5,
          5,
          5,
          5,
          5,
          5,
          2.5,
          2.5,
          2.5,
          2.5,
          2.5,
          2.5,
          2.5,
          2.5,
          3.8,
          3.8,
          3.8,
          3.8,
          3.8,
          3.8,
          3.8,
          3.8,
          3.8
         ],
         "xaxis": "x",
         "y": [
          6.5,
          6.5,
          6.5,
          6.5,
          6.5,
          2,
          2,
          2,
          2,
          2,
          5.833333333333333,
          5.833333333333333,
          5.833333333333333,
          5.833333333333333,
          5.833333333333333,
          5.833333333333333,
          5.833333333333333,
          5.833333333333333,
          5.5,
          5.5,
          5.5,
          5.5,
          5.5,
          5.5,
          3,
          3,
          3,
          3,
          3,
          3,
          3,
          3,
          3,
          5.571428571428571,
          5.571428571428571,
          5.571428571428571,
          5.571428571428571,
          5.571428571428571,
          5.571428571428571,
          5.571428571428571,
          5.666666666666667,
          5.666666666666667,
          5.666666666666667,
          5.666666666666667,
          5.666666666666667,
          5.666666666666667,
          5.666666666666667,
          5.666666666666667,
          4.75,
          4.75,
          4.75,
          4.75,
          4.75,
          4.75,
          4.75,
          4.75,
          6.5,
          6.5,
          6.5,
          6.5,
          6.5,
          6.5,
          6.5,
          6,
          6,
          6,
          6,
          6,
          6,
          6,
          6,
          6.75,
          6.75,
          6.75,
          6.75,
          6.75,
          6.75,
          6.75,
          6.75,
          6.75
         ],
         "yaxis": "y"
        },
        {
         "customdata": [
          [
           "clark"
          ],
          [
           "clark"
          ],
          [
           "clark"
          ],
          [
           "clark"
          ],
          [
           "clark"
          ],
          [
           "clark"
          ],
          [
           "clark"
          ],
          [
           "hobart"
          ],
          [
           "hobart"
          ],
          [
           "hobart"
          ],
          [
           "hobart"
          ],
          [
           "hobart"
          ],
          [
           "hobart"
          ],
          [
           "hobart"
          ],
          [
           "hobart"
          ],
          [
           "hobart"
          ],
          [
           "kota kinabalu"
          ],
          [
           "kota kinabalu"
          ],
          [
           "kota kinabalu"
          ],
          [
           "kota kinabalu"
          ],
          [
           "kota kinabalu"
          ],
          [
           "launceston"
          ],
          [
           "launceston"
          ],
          [
           "launceston"
          ],
          [
           "launceston"
          ],
          [
           "launceston"
          ],
          [
           "medan"
          ],
          [
           "medan"
          ],
          [
           "medan"
          ],
          [
           "medan"
          ],
          [
           "medan"
          ],
          [
           "medan"
          ],
          [
           "medan"
          ],
          [
           "medan"
          ],
          [
           "subang kuala lumpur"
          ],
          [
           "subang kuala lumpur"
          ],
          [
           "subang kuala lumpur"
          ],
          [
           "subang kuala lumpur"
          ],
          [
           "subang kuala lumpur"
          ],
          [
           "tontouta"
          ],
          [
           "tontouta"
          ],
          [
           "tontouta"
          ],
          [
           "tontouta"
          ],
          [
           "tontouta"
          ],
          [
           "tontouta"
          ],
          [
           "tontouta"
          ],
          [
           "tontouta"
          ],
          [
           "vientiane"
          ],
          [
           "vientiane"
          ],
          [
           "vientiane"
          ],
          [
           "vientiane"
          ],
          [
           "vientiane"
          ],
          [
           "vientiane"
          ],
          [
           "vientiane"
          ],
          [
           "vientiane"
          ],
          [
           "yogyakarta"
          ],
          [
           "yogyakarta"
          ],
          [
           "yogyakarta"
          ],
          [
           "yogyakarta"
          ],
          [
           "yogyakarta"
          ],
          [
           "yogyakarta"
          ],
          [
           "yogyakarta"
          ]
         ],
         "hovertemplate": "geo_area=S-Asia Oceania<br>mean_overall_rating=%{x}<br>mean_experience_airport=%{y}<br>airport_name=%{customdata[0]}<extra></extra>",
         "legendgroup": "S-Asia Oceania",
         "marker": {
          "color": "#FF6692",
          "symbol": "circle"
         },
         "mode": "markers",
         "name": "S-Asia Oceania",
         "orientation": "v",
         "showlegend": true,
         "type": "scatter",
         "x": [
          3.6666666666666665,
          3.6666666666666665,
          3.6666666666666665,
          3.6666666666666665,
          3.6666666666666665,
          3.6666666666666665,
          3.6666666666666665,
          5,
          5,
          5,
          5,
          5,
          5,
          5,
          5,
          5,
          4.5,
          4.5,
          4.5,
          4.5,
          4.5,
          4,
          4,
          4,
          4,
          4,
          4,
          4,
          4,
          4,
          4,
          4,
          4,
          4,
          4.6,
          4.6,
          4.6,
          4.6,
          4.6,
          4,
          4,
          4,
          4,
          4,
          4,
          4,
          4,
          4.75,
          4.75,
          4.75,
          4.75,
          4.75,
          4.75,
          4.75,
          4.75,
          3.6666666666666665,
          3.6666666666666665,
          3.6666666666666665,
          3.6666666666666665,
          3.6666666666666665,
          3.6666666666666665,
          3.6666666666666665
         ],
         "xaxis": "x",
         "y": [
          6.166666666666667,
          6.166666666666667,
          6.166666666666667,
          6.166666666666667,
          6.166666666666667,
          6.166666666666667,
          6.166666666666667,
          7,
          7,
          7,
          7,
          7,
          7,
          7,
          7,
          7,
          5,
          5,
          5,
          5,
          5,
          6,
          6,
          6,
          6,
          6,
          6.428571428571429,
          6.428571428571429,
          6.428571428571429,
          6.428571428571429,
          6.428571428571429,
          6.428571428571429,
          6.428571428571429,
          6.428571428571429,
          5,
          5,
          5,
          5,
          5,
          7.666666666666667,
          7.666666666666667,
          7.666666666666667,
          7.666666666666667,
          7.666666666666667,
          7.666666666666667,
          7.666666666666667,
          7.666666666666667,
          7.5,
          7.5,
          7.5,
          7.5,
          7.5,
          7.5,
          7.5,
          7.5,
          4,
          4,
          4,
          4,
          4,
          4,
          4
         ],
         "yaxis": "y"
        }
       ],
       "layout": {
        "legend": {
         "title": {
          "text": "geo_area"
         },
         "tracegroupgap": 0
        },
        "template": {
         "data": {
          "bar": [
           {
            "error_x": {
             "color": "#2a3f5f"
            },
            "error_y": {
             "color": "#2a3f5f"
            },
            "marker": {
             "line": {
              "color": "#E5ECF6",
              "width": 0.5
             },
             "pattern": {
              "fillmode": "overlay",
              "size": 10,
              "solidity": 0.2
             }
            },
            "type": "bar"
           }
          ],
          "barpolar": [
           {
            "marker": {
             "line": {
              "color": "#E5ECF6",
              "width": 0.5
             },
             "pattern": {
              "fillmode": "overlay",
              "size": 10,
              "solidity": 0.2
             }
            },
            "type": "barpolar"
           }
          ],
          "carpet": [
           {
            "aaxis": {
             "endlinecolor": "#2a3f5f",
             "gridcolor": "white",
             "linecolor": "white",
             "minorgridcolor": "white",
             "startlinecolor": "#2a3f5f"
            },
            "baxis": {
             "endlinecolor": "#2a3f5f",
             "gridcolor": "white",
             "linecolor": "white",
             "minorgridcolor": "white",
             "startlinecolor": "#2a3f5f"
            },
            "type": "carpet"
           }
          ],
          "choropleth": [
           {
            "colorbar": {
             "outlinewidth": 0,
             "ticks": ""
            },
            "type": "choropleth"
           }
          ],
          "contour": [
           {
            "colorbar": {
             "outlinewidth": 0,
             "ticks": ""
            },
            "colorscale": [
             [
              0,
              "#0d0887"
             ],
             [
              0.1111111111111111,
              "#46039f"
             ],
             [
              0.2222222222222222,
              "#7201a8"
             ],
             [
              0.3333333333333333,
              "#9c179e"
             ],
             [
              0.4444444444444444,
              "#bd3786"
             ],
             [
              0.5555555555555556,
              "#d8576b"
             ],
             [
              0.6666666666666666,
              "#ed7953"
             ],
             [
              0.7777777777777778,
              "#fb9f3a"
             ],
             [
              0.8888888888888888,
              "#fdca26"
             ],
             [
              1,
              "#f0f921"
             ]
            ],
            "type": "contour"
           }
          ],
          "contourcarpet": [
           {
            "colorbar": {
             "outlinewidth": 0,
             "ticks": ""
            },
            "type": "contourcarpet"
           }
          ],
          "heatmap": [
           {
            "colorbar": {
             "outlinewidth": 0,
             "ticks": ""
            },
            "colorscale": [
             [
              0,
              "#0d0887"
             ],
             [
              0.1111111111111111,
              "#46039f"
             ],
             [
              0.2222222222222222,
              "#7201a8"
             ],
             [
              0.3333333333333333,
              "#9c179e"
             ],
             [
              0.4444444444444444,
              "#bd3786"
             ],
             [
              0.5555555555555556,
              "#d8576b"
             ],
             [
              0.6666666666666666,
              "#ed7953"
             ],
             [
              0.7777777777777778,
              "#fb9f3a"
             ],
             [
              0.8888888888888888,
              "#fdca26"
             ],
             [
              1,
              "#f0f921"
             ]
            ],
            "type": "heatmap"
           }
          ],
          "heatmapgl": [
           {
            "colorbar": {
             "outlinewidth": 0,
             "ticks": ""
            },
            "colorscale": [
             [
              0,
              "#0d0887"
             ],
             [
              0.1111111111111111,
              "#46039f"
             ],
             [
              0.2222222222222222,
              "#7201a8"
             ],
             [
              0.3333333333333333,
              "#9c179e"
             ],
             [
              0.4444444444444444,
              "#bd3786"
             ],
             [
              0.5555555555555556,
              "#d8576b"
             ],
             [
              0.6666666666666666,
              "#ed7953"
             ],
             [
              0.7777777777777778,
              "#fb9f3a"
             ],
             [
              0.8888888888888888,
              "#fdca26"
             ],
             [
              1,
              "#f0f921"
             ]
            ],
            "type": "heatmapgl"
           }
          ],
          "histogram": [
           {
            "marker": {
             "pattern": {
              "fillmode": "overlay",
              "size": 10,
              "solidity": 0.2
             }
            },
            "type": "histogram"
           }
          ],
          "histogram2d": [
           {
            "colorbar": {
             "outlinewidth": 0,
             "ticks": ""
            },
            "colorscale": [
             [
              0,
              "#0d0887"
             ],
             [
              0.1111111111111111,
              "#46039f"
             ],
             [
              0.2222222222222222,
              "#7201a8"
             ],
             [
              0.3333333333333333,
              "#9c179e"
             ],
             [
              0.4444444444444444,
              "#bd3786"
             ],
             [
              0.5555555555555556,
              "#d8576b"
             ],
             [
              0.6666666666666666,
              "#ed7953"
             ],
             [
              0.7777777777777778,
              "#fb9f3a"
             ],
             [
              0.8888888888888888,
              "#fdca26"
             ],
             [
              1,
              "#f0f921"
             ]
            ],
            "type": "histogram2d"
           }
          ],
          "histogram2dcontour": [
           {
            "colorbar": {
             "outlinewidth": 0,
             "ticks": ""
            },
            "colorscale": [
             [
              0,
              "#0d0887"
             ],
             [
              0.1111111111111111,
              "#46039f"
             ],
             [
              0.2222222222222222,
              "#7201a8"
             ],
             [
              0.3333333333333333,
              "#9c179e"
             ],
             [
              0.4444444444444444,
              "#bd3786"
             ],
             [
              0.5555555555555556,
              "#d8576b"
             ],
             [
              0.6666666666666666,
              "#ed7953"
             ],
             [
              0.7777777777777778,
              "#fb9f3a"
             ],
             [
              0.8888888888888888,
              "#fdca26"
             ],
             [
              1,
              "#f0f921"
             ]
            ],
            "type": "histogram2dcontour"
           }
          ],
          "mesh3d": [
           {
            "colorbar": {
             "outlinewidth": 0,
             "ticks": ""
            },
            "type": "mesh3d"
           }
          ],
          "parcoords": [
           {
            "line": {
             "colorbar": {
              "outlinewidth": 0,
              "ticks": ""
             }
            },
            "type": "parcoords"
           }
          ],
          "pie": [
           {
            "automargin": true,
            "type": "pie"
           }
          ],
          "scatter": [
           {
            "fillpattern": {
             "fillmode": "overlay",
             "size": 10,
             "solidity": 0.2
            },
            "type": "scatter"
           }
          ],
          "scatter3d": [
           {
            "line": {
             "colorbar": {
              "outlinewidth": 0,
              "ticks": ""
             }
            },
            "marker": {
             "colorbar": {
              "outlinewidth": 0,
              "ticks": ""
             }
            },
            "type": "scatter3d"
           }
          ],
          "scattercarpet": [
           {
            "marker": {
             "colorbar": {
              "outlinewidth": 0,
              "ticks": ""
             }
            },
            "type": "scattercarpet"
           }
          ],
          "scattergeo": [
           {
            "marker": {
             "colorbar": {
              "outlinewidth": 0,
              "ticks": ""
             }
            },
            "type": "scattergeo"
           }
          ],
          "scattergl": [
           {
            "marker": {
             "colorbar": {
              "outlinewidth": 0,
              "ticks": ""
             }
            },
            "type": "scattergl"
           }
          ],
          "scattermapbox": [
           {
            "marker": {
             "colorbar": {
              "outlinewidth": 0,
              "ticks": ""
             }
            },
            "type": "scattermapbox"
           }
          ],
          "scatterpolar": [
           {
            "marker": {
             "colorbar": {
              "outlinewidth": 0,
              "ticks": ""
             }
            },
            "type": "scatterpolar"
           }
          ],
          "scatterpolargl": [
           {
            "marker": {
             "colorbar": {
              "outlinewidth": 0,
              "ticks": ""
             }
            },
            "type": "scatterpolargl"
           }
          ],
          "scatterternary": [
           {
            "marker": {
             "colorbar": {
              "outlinewidth": 0,
              "ticks": ""
             }
            },
            "type": "scatterternary"
           }
          ],
          "surface": [
           {
            "colorbar": {
             "outlinewidth": 0,
             "ticks": ""
            },
            "colorscale": [
             [
              0,
              "#0d0887"
             ],
             [
              0.1111111111111111,
              "#46039f"
             ],
             [
              0.2222222222222222,
              "#7201a8"
             ],
             [
              0.3333333333333333,
              "#9c179e"
             ],
             [
              0.4444444444444444,
              "#bd3786"
             ],
             [
              0.5555555555555556,
              "#d8576b"
             ],
             [
              0.6666666666666666,
              "#ed7953"
             ],
             [
              0.7777777777777778,
              "#fb9f3a"
             ],
             [
              0.8888888888888888,
              "#fdca26"
             ],
             [
              1,
              "#f0f921"
             ]
            ],
            "type": "surface"
           }
          ],
          "table": [
           {
            "cells": {
             "fill": {
              "color": "#EBF0F8"
             },
             "line": {
              "color": "white"
             }
            },
            "header": {
             "fill": {
              "color": "#C8D4E3"
             },
             "line": {
              "color": "white"
             }
            },
            "type": "table"
           }
          ]
         },
         "layout": {
          "annotationdefaults": {
           "arrowcolor": "#2a3f5f",
           "arrowhead": 0,
           "arrowwidth": 1
          },
          "autotypenumbers": "strict",
          "coloraxis": {
           "colorbar": {
            "outlinewidth": 0,
            "ticks": ""
           }
          },
          "colorscale": {
           "diverging": [
            [
             0,
             "#8e0152"
            ],
            [
             0.1,
             "#c51b7d"
            ],
            [
             0.2,
             "#de77ae"
            ],
            [
             0.3,
             "#f1b6da"
            ],
            [
             0.4,
             "#fde0ef"
            ],
            [
             0.5,
             "#f7f7f7"
            ],
            [
             0.6,
             "#e6f5d0"
            ],
            [
             0.7,
             "#b8e186"
            ],
            [
             0.8,
             "#7fbc41"
            ],
            [
             0.9,
             "#4d9221"
            ],
            [
             1,
             "#276419"
            ]
           ],
           "sequential": [
            [
             0,
             "#0d0887"
            ],
            [
             0.1111111111111111,
             "#46039f"
            ],
            [
             0.2222222222222222,
             "#7201a8"
            ],
            [
             0.3333333333333333,
             "#9c179e"
            ],
            [
             0.4444444444444444,
             "#bd3786"
            ],
            [
             0.5555555555555556,
             "#d8576b"
            ],
            [
             0.6666666666666666,
             "#ed7953"
            ],
            [
             0.7777777777777778,
             "#fb9f3a"
            ],
            [
             0.8888888888888888,
             "#fdca26"
            ],
            [
             1,
             "#f0f921"
            ]
           ],
           "sequentialminus": [
            [
             0,
             "#0d0887"
            ],
            [
             0.1111111111111111,
             "#46039f"
            ],
            [
             0.2222222222222222,
             "#7201a8"
            ],
            [
             0.3333333333333333,
             "#9c179e"
            ],
            [
             0.4444444444444444,
             "#bd3786"
            ],
            [
             0.5555555555555556,
             "#d8576b"
            ],
            [
             0.6666666666666666,
             "#ed7953"
            ],
            [
             0.7777777777777778,
             "#fb9f3a"
            ],
            [
             0.8888888888888888,
             "#fdca26"
            ],
            [
             1,
             "#f0f921"
            ]
           ]
          },
          "colorway": [
           "#636efa",
           "#EF553B",
           "#00cc96",
           "#ab63fa",
           "#FFA15A",
           "#19d3f3",
           "#FF6692",
           "#B6E880",
           "#FF97FF",
           "#FECB52"
          ],
          "font": {
           "color": "#2a3f5f"
          },
          "geo": {
           "bgcolor": "white",
           "lakecolor": "white",
           "landcolor": "#E5ECF6",
           "showlakes": true,
           "showland": true,
           "subunitcolor": "white"
          },
          "hoverlabel": {
           "align": "left"
          },
          "hovermode": "closest",
          "mapbox": {
           "style": "light"
          },
          "paper_bgcolor": "white",
          "plot_bgcolor": "#E5ECF6",
          "polar": {
           "angularaxis": {
            "gridcolor": "white",
            "linecolor": "white",
            "ticks": ""
           },
           "bgcolor": "#E5ECF6",
           "radialaxis": {
            "gridcolor": "white",
            "linecolor": "white",
            "ticks": ""
           }
          },
          "scene": {
           "xaxis": {
            "backgroundcolor": "#E5ECF6",
            "gridcolor": "white",
            "gridwidth": 2,
            "linecolor": "white",
            "showbackground": true,
            "ticks": "",
            "zerolinecolor": "white"
           },
           "yaxis": {
            "backgroundcolor": "#E5ECF6",
            "gridcolor": "white",
            "gridwidth": 2,
            "linecolor": "white",
            "showbackground": true,
            "ticks": "",
            "zerolinecolor": "white"
           },
           "zaxis": {
            "backgroundcolor": "#E5ECF6",
            "gridcolor": "white",
            "gridwidth": 2,
            "linecolor": "white",
            "showbackground": true,
            "ticks": "",
            "zerolinecolor": "white"
           }
          },
          "shapedefaults": {
           "line": {
            "color": "#2a3f5f"
           }
          },
          "ternary": {
           "aaxis": {
            "gridcolor": "white",
            "linecolor": "white",
            "ticks": ""
           },
           "baxis": {
            "gridcolor": "white",
            "linecolor": "white",
            "ticks": ""
           },
           "bgcolor": "#E5ECF6",
           "caxis": {
            "gridcolor": "white",
            "linecolor": "white",
            "ticks": ""
           }
          },
          "title": {
           "x": 0.05
          },
          "xaxis": {
           "automargin": true,
           "gridcolor": "white",
           "linecolor": "white",
           "ticks": "",
           "title": {
            "standoff": 15
           },
           "zerolinecolor": "white",
           "zerolinewidth": 2
          },
          "yaxis": {
           "automargin": true,
           "gridcolor": "white",
           "linecolor": "white",
           "ticks": "",
           "title": {
            "standoff": 15
           },
           "zerolinecolor": "white",
           "zerolinewidth": 2
          }
         }
        },
        "title": {
         "text": "Overall Rating vs Experience Airport by Geo Area"
        },
        "xaxis": {
         "anchor": "y",
         "domain": [
          0,
          1
         ],
         "title": {
          "text": "mean_overall_rating"
         }
        },
        "yaxis": {
         "anchor": "x",
         "domain": [
          0,
          1
         ],
         "title": {
          "text": "mean_experience_airport"
         }
        }
       }
      }
     },
     "metadata": {},
     "output_type": "display_data"
    }
   ],
   "source": [
    "import plotly.express as px\n",
    "\n",
    "# Create an interactive scatter plot\n",
    "fig = px.scatter(small,\n",
    "                 x='mean_overall_rating',  # x-axis: overall rating\n",
    "                 y='mean_experience_airport',  # y-axis: experience rating\n",
    "                 color='geo_area',  # Color points based on geo_area\n",
    "                 title=\"Overall Rating vs Experience Airport by Geo Area\",\n",
    "                 labels={'overall_rating': 'Overall Rating', 'experience_airport': 'Exp'},\n",
    "                 hover_data=['airport_name'])  \n",
    "\n",
    "fig.show()\n"
   ]
  },
  {
   "cell_type": "code",
   "execution_count": 56,
   "metadata": {},
   "outputs": [
    {
     "data": {
      "application/vnd.plotly.v1+json": {
       "config": {
        "plotlyServerURL": "https://plot.ly"
       },
       "data": [
        {
         "customdata": [
          [
           "abuja"
          ],
          [
           "abuja"
          ],
          [
           "abuja"
          ],
          [
           "abuja"
          ],
          [
           "abuja"
          ],
          [
           "abuja"
          ],
          [
           "algiers"
          ],
          [
           "algiers"
          ],
          [
           "algiers"
          ],
          [
           "algiers"
          ],
          [
           "algiers"
          ],
          [
           "algiers"
          ],
          [
           "algiers"
          ],
          [
           "algiers"
          ],
          [
           "banjul"
          ],
          [
           "banjul"
          ],
          [
           "banjul"
          ],
          [
           "banjul"
          ],
          [
           "banjul"
          ],
          [
           "banjul"
          ],
          [
           "dakar"
          ],
          [
           "dakar"
          ],
          [
           "dakar"
          ],
          [
           "dakar"
          ],
          [
           "dakar"
          ],
          [
           "durban"
          ],
          [
           "durban"
          ],
          [
           "durban"
          ],
          [
           "durban"
          ],
          [
           "durban"
          ],
          [
           "durban"
          ],
          [
           "durban"
          ],
          [
           "durban"
          ],
          [
           "entebbe"
          ],
          [
           "entebbe"
          ],
          [
           "entebbe"
          ],
          [
           "entebbe"
          ],
          [
           "entebbe"
          ],
          [
           "entebbe"
          ],
          [
           "entebbe"
          ],
          [
           "entebbe"
          ],
          [
           "entebbe"
          ],
          [
           "freetown"
          ],
          [
           "freetown"
          ],
          [
           "freetown"
          ],
          [
           "freetown"
          ],
          [
           "freetown"
          ],
          [
           "freetown"
          ],
          [
           "freetown"
          ],
          [
           "hurghada"
          ],
          [
           "hurghada"
          ],
          [
           "hurghada"
          ],
          [
           "hurghada"
          ],
          [
           "hurghada"
          ],
          [
           "kilimanjaro"
          ],
          [
           "kilimanjaro"
          ],
          [
           "kilimanjaro"
          ],
          [
           "kilimanjaro"
          ],
          [
           "kilimanjaro"
          ],
          [
           "kilimanjaro"
          ],
          [
           "kilimanjaro"
          ],
          [
           "kilimanjaro"
          ],
          [
           "lusaka"
          ],
          [
           "lusaka"
          ],
          [
           "lusaka"
          ],
          [
           "lusaka"
          ],
          [
           "lusaka"
          ],
          [
           "luxor"
          ],
          [
           "luxor"
          ],
          [
           "luxor"
          ],
          [
           "luxor"
          ],
          [
           "luxor"
          ],
          [
           "luxor"
          ],
          [
           "luxor"
          ],
          [
           "luxor"
          ],
          [
           "mombasa"
          ],
          [
           "mombasa"
          ],
          [
           "mombasa"
          ],
          [
           "mombasa"
          ],
          [
           "mombasa"
          ],
          [
           "mombasa"
          ],
          [
           "mombasa"
          ],
          [
           "mombasa"
          ],
          [
           "mombasa"
          ],
          [
           "monastir"
          ],
          [
           "monastir"
          ],
          [
           "monastir"
          ],
          [
           "monastir"
          ],
          [
           "monastir"
          ],
          [
           "monastir"
          ],
          [
           "monastir"
          ],
          [
           "monastir"
          ],
          [
           "seychelles"
          ],
          [
           "seychelles"
          ],
          [
           "seychelles"
          ],
          [
           "seychelles"
          ],
          [
           "seychelles"
          ],
          [
           "seychelles"
          ],
          [
           "taba"
          ],
          [
           "taba"
          ],
          [
           "taba"
          ],
          [
           "taba"
          ],
          [
           "taba"
          ],
          [
           "windhoek"
          ],
          [
           "windhoek"
          ],
          [
           "windhoek"
          ],
          [
           "windhoek"
          ],
          [
           "windhoek"
          ],
          [
           "windhoek"
          ],
          [
           "zanzibar"
          ],
          [
           "zanzibar"
          ],
          [
           "zanzibar"
          ],
          [
           "zanzibar"
          ],
          [
           "zanzibar"
          ]
         ],
         "hovertemplate": "geo_area=Africa<br>mean_overall_rating=%{x}<br>mean_experience_airport=%{y}<br>airport_name=%{customdata[0]}<extra></extra>",
         "legendgroup": "Africa",
         "marker": {
          "color": "#636efa",
          "symbol": "circle"
         },
         "mode": "markers",
         "name": "Africa",
         "orientation": "v",
         "showlegend": true,
         "type": "scatter",
         "x": [
          2,
          2,
          2,
          2,
          2,
          2,
          4.333333333333333,
          4.333333333333333,
          4.333333333333333,
          4.333333333333333,
          4.333333333333333,
          4.333333333333333,
          4.333333333333333,
          4.333333333333333,
          2,
          2,
          2,
          2,
          2,
          2,
          3,
          3,
          3,
          3,
          3,
          5,
          5,
          5,
          5,
          5,
          5,
          5,
          5,
          4,
          4,
          4,
          4,
          4,
          4,
          4,
          4,
          4,
          4,
          4,
          4,
          4,
          4,
          4,
          4,
          3,
          3,
          3,
          3,
          3,
          4.333333333333333,
          4.333333333333333,
          4.333333333333333,
          4.333333333333333,
          4.333333333333333,
          4.333333333333333,
          4.333333333333333,
          4.333333333333333,
          5,
          5,
          5,
          5,
          5,
          2.5,
          2.5,
          2.5,
          2.5,
          2.5,
          2.5,
          2.5,
          2.5,
          3,
          3,
          3,
          3,
          3,
          3,
          3,
          3,
          3,
          1.5,
          1.5,
          1.5,
          1.5,
          1.5,
          1.5,
          1.5,
          1.5,
          3,
          3,
          3,
          3,
          3,
          3,
          1.6666666666666667,
          1.6666666666666667,
          1.6666666666666667,
          1.6666666666666667,
          1.6666666666666667,
          2.5,
          2.5,
          2.5,
          2.5,
          2.5,
          2.5,
          1.5,
          1.5,
          1.5,
          1.5,
          1.5
         ],
         "xaxis": "x",
         "y": [
          3.25,
          3.25,
          3.25,
          3.25,
          3.25,
          3.25,
          4.6,
          4.6,
          4.6,
          4.6,
          4.6,
          4.6,
          4.6,
          4.6,
          2.8333333333333335,
          2.8333333333333335,
          2.8333333333333335,
          2.8333333333333335,
          2.8333333333333335,
          2.8333333333333335,
          3,
          3,
          3,
          3,
          3,
          5.75,
          5.75,
          5.75,
          5.75,
          5.75,
          5.75,
          5.75,
          5.75,
          6.75,
          6.75,
          6.75,
          6.75,
          6.75,
          6.75,
          6.75,
          6.75,
          6.75,
          4.666666666666667,
          4.666666666666667,
          4.666666666666667,
          4.666666666666667,
          4.666666666666667,
          4.666666666666667,
          4.666666666666667,
          4.75,
          4.75,
          4.75,
          4.75,
          4.75,
          3.3333333333333335,
          3.3333333333333335,
          3.3333333333333335,
          3.3333333333333335,
          3.3333333333333335,
          3.3333333333333335,
          3.3333333333333335,
          3.3333333333333335,
          3,
          3,
          3,
          3,
          3,
          3.4,
          3.4,
          3.4,
          3.4,
          3.4,
          3.4,
          3.4,
          3.4,
          5,
          5,
          5,
          5,
          5,
          5,
          5,
          5,
          5,
          4.333333333333333,
          4.333333333333333,
          4.333333333333333,
          4.333333333333333,
          4.333333333333333,
          4.333333333333333,
          4.333333333333333,
          4.333333333333333,
          5.666666666666667,
          5.666666666666667,
          5.666666666666667,
          5.666666666666667,
          5.666666666666667,
          5.666666666666667,
          2,
          2,
          2,
          2,
          2,
          5.666666666666667,
          5.666666666666667,
          5.666666666666667,
          5.666666666666667,
          5.666666666666667,
          5.666666666666667,
          2.5,
          2.5,
          2.5,
          2.5,
          2.5
         ],
         "yaxis": "y"
        },
        {
         "customdata": [
          [
           "almeria"
          ],
          [
           "almeria"
          ],
          [
           "almeria"
          ],
          [
           "almeria"
          ],
          [
           "almeria"
          ],
          [
           "almeria"
          ],
          [
           "almeria"
          ],
          [
           "almeria"
          ],
          [
           "antwerp deurne"
          ],
          [
           "antwerp deurne"
          ],
          [
           "antwerp deurne"
          ],
          [
           "antwerp deurne"
          ],
          [
           "antwerp deurne"
          ],
          [
           "antwerp deurne"
          ],
          [
           "antwerp deurne"
          ],
          [
           "bergen"
          ],
          [
           "bergen"
          ],
          [
           "bergen"
          ],
          [
           "bergen"
          ],
          [
           "bergen"
          ],
          [
           "billund"
          ],
          [
           "billund"
          ],
          [
           "billund"
          ],
          [
           "billund"
          ],
          [
           "billund"
          ],
          [
           "billund"
          ],
          [
           "bourgas"
          ],
          [
           "bourgas"
          ],
          [
           "bourgas"
          ],
          [
           "bourgas"
          ],
          [
           "bourgas"
          ],
          [
           "carcassonne"
          ],
          [
           "carcassonne"
          ],
          [
           "carcassonne"
          ],
          [
           "carcassonne"
          ],
          [
           "carcassonne"
          ],
          [
           "carcassonne"
          ],
          [
           "carcassonne"
          ],
          [
           "carcassonne"
          ],
          [
           "carcassonne"
          ],
          [
           "chambery"
          ],
          [
           "chambery"
          ],
          [
           "chambery"
          ],
          [
           "chambery"
          ],
          [
           "chambery"
          ],
          [
           "chambery"
          ],
          [
           "chambery"
          ],
          [
           "coventry"
          ],
          [
           "coventry"
          ],
          [
           "coventry"
          ],
          [
           "coventry"
          ],
          [
           "coventry"
          ],
          [
           "dortmund"
          ],
          [
           "dortmund"
          ],
          [
           "dortmund"
          ],
          [
           "dortmund"
          ],
          [
           "dortmund"
          ],
          [
           "dortmund"
          ],
          [
           "dortmund"
          ],
          [
           "dortmund"
          ],
          [
           "dubrovnik"
          ],
          [
           "dubrovnik"
          ],
          [
           "dubrovnik"
          ],
          [
           "dubrovnik"
          ],
          [
           "dubrovnik"
          ],
          [
           "dubrovnik"
          ],
          [
           "dubrovnik"
          ],
          [
           "dundee"
          ],
          [
           "dundee"
          ],
          [
           "dundee"
          ],
          [
           "dundee"
          ],
          [
           "dundee"
          ],
          [
           "durhamtees valley"
          ],
          [
           "durhamtees valley"
          ],
          [
           "durhamtees valley"
          ],
          [
           "durhamtees valley"
          ],
          [
           "durhamtees valley"
          ],
          [
           "durhamtees valley"
          ],
          [
           "durhamtees valley"
          ],
          [
           "durhamtees valley"
          ],
          [
           "ercan"
          ],
          [
           "ercan"
          ],
          [
           "ercan"
          ],
          [
           "ercan"
          ],
          [
           "ercan"
          ],
          [
           "ercan"
          ],
          [
           "ercan"
          ],
          [
           "fuerteventura"
          ],
          [
           "fuerteventura"
          ],
          [
           "fuerteventura"
          ],
          [
           "fuerteventura"
          ],
          [
           "fuerteventura"
          ],
          [
           "fuerteventura"
          ],
          [
           "fuerteventura"
          ],
          [
           "fuerteventura"
          ],
          [
           "fuerteventura"
          ],
          [
           "gibraltar"
          ],
          [
           "gibraltar"
          ],
          [
           "gibraltar"
          ],
          [
           "gibraltar"
          ],
          [
           "gibraltar"
          ],
          [
           "gibraltar"
          ],
          [
           "gibraltar"
          ],
          [
           "gibraltar"
          ],
          [
           "granada"
          ],
          [
           "granada"
          ],
          [
           "granada"
          ],
          [
           "granada"
          ],
          [
           "granada"
          ],
          [
           "granada"
          ],
          [
           "guernsey"
          ],
          [
           "guernsey"
          ],
          [
           "guernsey"
          ],
          [
           "guernsey"
          ],
          [
           "guernsey"
          ],
          [
           "guernsey"
          ],
          [
           "guernsey"
          ],
          [
           "hamburg lubek"
          ],
          [
           "hamburg lubek"
          ],
          [
           "hamburg lubek"
          ],
          [
           "hamburg lubek"
          ],
          [
           "hamburg lubek"
          ],
          [
           "humberside"
          ],
          [
           "humberside"
          ],
          [
           "humberside"
          ],
          [
           "humberside"
          ],
          [
           "humberside"
          ],
          [
           "humberside"
          ],
          [
           "katowice"
          ],
          [
           "katowice"
          ],
          [
           "katowice"
          ],
          [
           "katowice"
          ],
          [
           "katowice"
          ],
          [
           "katowice"
          ],
          [
           "katowice"
          ],
          [
           "leipzighalle"
          ],
          [
           "leipzighalle"
          ],
          [
           "leipzighalle"
          ],
          [
           "leipzighalle"
          ],
          [
           "leipzighalle"
          ],
          [
           "linz"
          ],
          [
           "linz"
          ],
          [
           "linz"
          ],
          [
           "linz"
          ],
          [
           "linz"
          ],
          [
           "mahon"
          ],
          [
           "mahon"
          ],
          [
           "mahon"
          ],
          [
           "mahon"
          ],
          [
           "mahon"
          ],
          [
           "mahon"
          ],
          [
           "mahon"
          ],
          [
           "mahon"
          ],
          [
           "malmo"
          ],
          [
           "malmo"
          ],
          [
           "malmo"
          ],
          [
           "malmo"
          ],
          [
           "malmo"
          ],
          [
           "malmo"
          ],
          [
           "malmo"
          ],
          [
           "nimes"
          ],
          [
           "nimes"
          ],
          [
           "nimes"
          ],
          [
           "nimes"
          ],
          [
           "nimes"
          ],
          [
           "pau"
          ],
          [
           "pau"
          ],
          [
           "pau"
          ],
          [
           "pau"
          ],
          [
           "pau"
          ],
          [
           "perpignan"
          ],
          [
           "perpignan"
          ],
          [
           "perpignan"
          ],
          [
           "perpignan"
          ],
          [
           "perpignan"
          ],
          [
           "perpignan"
          ],
          [
           "perpignan"
          ],
          [
           "perpignan"
          ],
          [
           "ponta delgada"
          ],
          [
           "ponta delgada"
          ],
          [
           "ponta delgada"
          ],
          [
           "ponta delgada"
          ],
          [
           "ponta delgada"
          ],
          [
           "ponta delgada"
          ],
          [
           "poznan"
          ],
          [
           "poznan"
          ],
          [
           "poznan"
          ],
          [
           "poznan"
          ],
          [
           "poznan"
          ],
          [
           "pristina"
          ],
          [
           "pristina"
          ],
          [
           "pristina"
          ],
          [
           "pristina"
          ],
          [
           "pristina"
          ],
          [
           "pristina"
          ],
          [
           "pristina"
          ],
          [
           "pristina"
          ],
          [
           "salzburg"
          ],
          [
           "salzburg"
          ],
          [
           "salzburg"
          ],
          [
           "salzburg"
          ],
          [
           "salzburg"
          ],
          [
           "salzburg"
          ],
          [
           "salzburg"
          ],
          [
           "sarajevo"
          ],
          [
           "sarajevo"
          ],
          [
           "sarajevo"
          ],
          [
           "sarajevo"
          ],
          [
           "sarajevo"
          ],
          [
           "sarajevo"
          ],
          [
           "sarajevo"
          ],
          [
           "sarajevo"
          ],
          [
           "seville"
          ],
          [
           "seville"
          ],
          [
           "seville"
          ],
          [
           "seville"
          ],
          [
           "seville"
          ],
          [
           "seville"
          ],
          [
           "seville"
          ],
          [
           "seville"
          ],
          [
           "seville"
          ],
          [
           "skopje"
          ],
          [
           "skopje"
          ],
          [
           "skopje"
          ],
          [
           "skopje"
          ],
          [
           "skopje"
          ],
          [
           "stockholm vasteras"
          ],
          [
           "stockholm vasteras"
          ],
          [
           "stockholm vasteras"
          ],
          [
           "stockholm vasteras"
          ],
          [
           "stockholm vasteras"
          ],
          [
           "tirana"
          ],
          [
           "tirana"
          ],
          [
           "tirana"
          ],
          [
           "tirana"
          ],
          [
           "tirana"
          ],
          [
           "tirana"
          ],
          [
           "tirana"
          ],
          [
           "tirana"
          ],
          [
           "trieste"
          ],
          [
           "trieste"
          ],
          [
           "trieste"
          ],
          [
           "trieste"
          ],
          [
           "trieste"
          ],
          [
           "tromso"
          ],
          [
           "tromso"
          ],
          [
           "tromso"
          ],
          [
           "tromso"
          ],
          [
           "tromso"
          ],
          [
           "vnukovo"
          ],
          [
           "vnukovo"
          ],
          [
           "vnukovo"
          ],
          [
           "vnukovo"
          ],
          [
           "vnukovo"
          ],
          [
           "waterford"
          ],
          [
           "waterford"
          ],
          [
           "waterford"
          ],
          [
           "waterford"
          ],
          [
           "waterford"
          ],
          [
           "waterford"
          ],
          [
           "wroclaw strachowice"
          ],
          [
           "wroclaw strachowice"
          ],
          [
           "wroclaw strachowice"
          ],
          [
           "wroclaw strachowice"
          ],
          [
           "wroclaw strachowice"
          ],
          [
           "wroclaw strachowice"
          ],
          [
           "wroclaw strachowice"
          ],
          [
           "wroclaw strachowice"
          ],
          [
           "wroclaw strachowice"
          ]
         ],
         "hovertemplate": "geo_area=Europe<br>mean_overall_rating=%{x}<br>mean_experience_airport=%{y}<br>airport_name=%{customdata[0]}<extra></extra>",
         "legendgroup": "Europe",
         "marker": {
          "color": "#EF553B",
          "symbol": "circle"
         },
         "mode": "markers",
         "name": "Europe",
         "orientation": "v",
         "showlegend": true,
         "type": "scatter",
         "x": [
          5,
          5,
          5,
          5,
          5,
          5,
          5,
          5,
          5,
          5,
          5,
          5,
          5,
          5,
          5,
          3,
          3,
          3,
          3,
          3,
          2,
          2,
          2,
          2,
          2,
          2,
          4,
          4,
          4,
          4,
          4,
          5,
          5,
          5,
          5,
          5,
          5,
          5,
          5,
          5,
          2.5,
          2.5,
          2.5,
          2.5,
          2.5,
          2.5,
          2.5,
          null,
          null,
          null,
          null,
          null,
          4,
          4,
          4,
          4,
          4,
          4,
          4,
          4,
          4.5,
          4.5,
          4.5,
          4.5,
          4.5,
          4.5,
          4.5,
          null,
          null,
          null,
          null,
          null,
          3,
          3,
          3,
          3,
          3,
          3,
          3,
          3,
          2.5,
          2.5,
          2.5,
          2.5,
          2.5,
          2.5,
          2.5,
          4.2,
          4.2,
          4.2,
          4.2,
          4.2,
          4.2,
          4.2,
          4.2,
          4.2,
          4,
          4,
          4,
          4,
          4,
          4,
          4,
          4,
          4,
          4,
          4,
          4,
          4,
          4,
          4.666666666666667,
          4.666666666666667,
          4.666666666666667,
          4.666666666666667,
          4.666666666666667,
          4.666666666666667,
          4.666666666666667,
          null,
          null,
          null,
          null,
          null,
          5,
          5,
          5,
          5,
          5,
          5,
          4.2,
          4.2,
          4.2,
          4.2,
          4.2,
          4.2,
          4.2,
          5,
          5,
          5,
          5,
          5,
          null,
          null,
          null,
          null,
          null,
          4.5,
          4.5,
          4.5,
          4.5,
          4.5,
          4.5,
          4.5,
          4.5,
          null,
          null,
          null,
          null,
          null,
          null,
          null,
          3,
          3,
          3,
          3,
          3,
          null,
          null,
          null,
          null,
          null,
          3.3333333333333335,
          3.3333333333333335,
          3.3333333333333335,
          3.3333333333333335,
          3.3333333333333335,
          3.3333333333333335,
          3.3333333333333335,
          3.3333333333333335,
          3.6666666666666665,
          3.6666666666666665,
          3.6666666666666665,
          3.6666666666666665,
          3.6666666666666665,
          3.6666666666666665,
          5,
          5,
          5,
          5,
          5,
          4.5,
          4.5,
          4.5,
          4.5,
          4.5,
          4.5,
          4.5,
          4.5,
          3.75,
          3.75,
          3.75,
          3.75,
          3.75,
          3.75,
          3.75,
          5,
          5,
          5,
          5,
          5,
          5,
          5,
          5,
          4,
          4,
          4,
          4,
          4,
          4,
          4,
          4,
          4,
          4,
          4,
          4,
          4,
          4,
          5,
          5,
          5,
          5,
          5,
          3.5,
          3.5,
          3.5,
          3.5,
          3.5,
          3.5,
          3.5,
          3.5,
          3,
          3,
          3,
          3,
          3,
          4.333333333333333,
          4.333333333333333,
          4.333333333333333,
          4.333333333333333,
          4.333333333333333,
          4.5,
          4.5,
          4.5,
          4.5,
          4.5,
          3.5,
          3.5,
          3.5,
          3.5,
          3.5,
          3.5,
          4.857142857142857,
          4.857142857142857,
          4.857142857142857,
          4.857142857142857,
          4.857142857142857,
          4.857142857142857,
          4.857142857142857,
          4.857142857142857,
          4.857142857142857
         ],
         "xaxis": "x",
         "y": [
          3.6666666666666665,
          3.6666666666666665,
          3.6666666666666665,
          3.6666666666666665,
          3.6666666666666665,
          3.6666666666666665,
          3.6666666666666665,
          3.6666666666666665,
          6.25,
          6.25,
          6.25,
          6.25,
          6.25,
          6.25,
          6.25,
          null,
          null,
          null,
          null,
          null,
          8.333333333333334,
          8.333333333333334,
          8.333333333333334,
          8.333333333333334,
          8.333333333333334,
          8.333333333333334,
          3,
          3,
          3,
          3,
          3,
          6.333333333333333,
          6.333333333333333,
          6.333333333333333,
          6.333333333333333,
          6.333333333333333,
          6.333333333333333,
          6.333333333333333,
          6.333333333333333,
          6.333333333333333,
          3,
          3,
          3,
          3,
          3,
          3,
          3,
          4,
          4,
          4,
          4,
          4,
          6,
          6,
          6,
          6,
          6,
          6,
          6,
          6,
          5,
          5,
          5,
          5,
          5,
          5,
          5,
          4,
          4,
          4,
          4,
          4,
          3,
          3,
          3,
          3,
          3,
          3,
          3,
          3,
          5,
          5,
          5,
          5,
          5,
          5,
          5,
          6.666666666666667,
          6.666666666666667,
          6.666666666666667,
          6.666666666666667,
          6.666666666666667,
          6.666666666666667,
          6.666666666666667,
          6.666666666666667,
          6.666666666666667,
          5,
          5,
          5,
          5,
          5,
          5,
          5,
          5,
          5.666666666666667,
          5.666666666666667,
          5.666666666666667,
          5.666666666666667,
          5.666666666666667,
          5.666666666666667,
          6,
          6,
          6,
          6,
          6,
          6,
          6,
          4.5,
          4.5,
          4.5,
          4.5,
          4.5,
          7,
          7,
          7,
          7,
          7,
          7,
          9,
          9,
          9,
          9,
          9,
          9,
          9,
          5.666666666666667,
          5.666666666666667,
          5.666666666666667,
          5.666666666666667,
          5.666666666666667,
          null,
          null,
          null,
          null,
          null,
          7.5,
          7.5,
          7.5,
          7.5,
          7.5,
          7.5,
          7.5,
          7.5,
          4,
          4,
          4,
          4,
          4,
          4,
          4,
          5,
          5,
          5,
          5,
          5,
          4,
          4,
          4,
          4,
          4,
          4,
          4,
          4,
          4,
          4,
          4,
          4,
          4,
          5.6,
          5.6,
          5.6,
          5.6,
          5.6,
          5.6,
          10,
          10,
          10,
          10,
          10,
          6.25,
          6.25,
          6.25,
          6.25,
          6.25,
          6.25,
          6.25,
          6.25,
          5.8,
          5.8,
          5.8,
          5.8,
          5.8,
          5.8,
          5.8,
          3.75,
          3.75,
          3.75,
          3.75,
          3.75,
          3.75,
          3.75,
          3.75,
          5.666666666666667,
          5.666666666666667,
          5.666666666666667,
          5.666666666666667,
          5.666666666666667,
          5.666666666666667,
          5.666666666666667,
          5.666666666666667,
          5.666666666666667,
          5.75,
          5.75,
          5.75,
          5.75,
          5.75,
          10,
          10,
          10,
          10,
          10,
          5.714285714285714,
          5.714285714285714,
          5.714285714285714,
          5.714285714285714,
          5.714285714285714,
          5.714285714285714,
          5.714285714285714,
          5.714285714285714,
          3,
          3,
          3,
          3,
          3,
          8.333333333333334,
          8.333333333333334,
          8.333333333333334,
          8.333333333333334,
          8.333333333333334,
          6.5,
          6.5,
          6.5,
          6.5,
          6.5,
          5.5,
          5.5,
          5.5,
          5.5,
          5.5,
          5.5,
          8.833333333333334,
          8.833333333333334,
          8.833333333333334,
          8.833333333333334,
          8.833333333333334,
          8.833333333333334,
          8.833333333333334,
          8.833333333333334,
          8.833333333333334
         ],
         "yaxis": "y"
        },
        {
         "customdata": [
          [
           "aruba reina beatrix"
          ],
          [
           "aruba reina beatrix"
          ],
          [
           "aruba reina beatrix"
          ],
          [
           "aruba reina beatrix"
          ],
          [
           "aruba reina beatrix"
          ],
          [
           "aruba reina beatrix"
          ],
          [
           "aruba reina beatrix"
          ],
          [
           "aruba reina beatrix"
          ],
          [
           "aruba reina beatrix"
          ],
          [
           "belo horizonte confins"
          ],
          [
           "belo horizonte confins"
          ],
          [
           "belo horizonte confins"
          ],
          [
           "belo horizonte confins"
          ],
          [
           "belo horizonte confins"
          ],
          [
           "belo horizonte confins"
          ],
          [
           "belo horizonte confins"
          ],
          [
           "belo horizonte confins"
          ],
          [
           "belo horizonte confins"
          ],
          [
           "brasilia"
          ],
          [
           "brasilia"
          ],
          [
           "brasilia"
          ],
          [
           "brasilia"
          ],
          [
           "brasilia"
          ],
          [
           "brasilia"
          ],
          [
           "brasilia"
          ],
          [
           "brasilia"
          ],
          [
           "brasilia"
          ],
          [
           "crown point tobago"
          ],
          [
           "crown point tobago"
          ],
          [
           "crown point tobago"
          ],
          [
           "crown point tobago"
          ],
          [
           "crown point tobago"
          ],
          [
           "crown point tobago"
          ],
          [
           "crown point tobago"
          ],
          [
           "curacao"
          ],
          [
           "curacao"
          ],
          [
           "curacao"
          ],
          [
           "curacao"
          ],
          [
           "curacao"
          ],
          [
           "curacao"
          ],
          [
           "curacao"
          ],
          [
           "guayaquil"
          ],
          [
           "guayaquil"
          ],
          [
           "guayaquil"
          ],
          [
           "guayaquil"
          ],
          [
           "guayaquil"
          ],
          [
           "holguin"
          ],
          [
           "holguin"
          ],
          [
           "holguin"
          ],
          [
           "holguin"
          ],
          [
           "holguin"
          ],
          [
           "holguin"
          ],
          [
           "holguin"
          ],
          [
           "manaus"
          ],
          [
           "manaus"
          ],
          [
           "manaus"
          ],
          [
           "manaus"
          ],
          [
           "manaus"
          ],
          [
           "manaus"
          ],
          [
           "quito mariscal"
          ],
          [
           "quito mariscal"
          ],
          [
           "quito mariscal"
          ],
          [
           "quito mariscal"
          ],
          [
           "quito mariscal"
          ],
          [
           "quito mariscal"
          ],
          [
           "recife"
          ],
          [
           "recife"
          ],
          [
           "recife"
          ],
          [
           "recife"
          ],
          [
           "recife"
          ],
          [
           "salvador"
          ],
          [
           "salvador"
          ],
          [
           "salvador"
          ],
          [
           "salvador"
          ],
          [
           "salvador"
          ],
          [
           "salvador"
          ],
          [
           "santo domingo"
          ],
          [
           "santo domingo"
          ],
          [
           "santo domingo"
          ],
          [
           "santo domingo"
          ],
          [
           "santo domingo"
          ],
          [
           "santo domingo"
          ],
          [
           "santo domingo"
          ],
          [
           "santo domingo"
          ],
          [
           "sao paulo congonhas"
          ],
          [
           "sao paulo congonhas"
          ],
          [
           "sao paulo congonhas"
          ],
          [
           "sao paulo congonhas"
          ],
          [
           "sao paulo congonhas"
          ],
          [
           "sao paulo congonhas"
          ]
         ],
         "hovertemplate": "geo_area=Latin America<br>mean_overall_rating=%{x}<br>mean_experience_airport=%{y}<br>airport_name=%{customdata[0]}<extra></extra>",
         "legendgroup": "Latin America",
         "marker": {
          "color": "#00cc96",
          "symbol": "circle"
         },
         "mode": "markers",
         "name": "Latin America",
         "orientation": "v",
         "showlegend": true,
         "type": "scatter",
         "x": [
          2.3333333333333335,
          2.3333333333333335,
          2.3333333333333335,
          2.3333333333333335,
          2.3333333333333335,
          2.3333333333333335,
          2.3333333333333335,
          2.3333333333333335,
          2.3333333333333335,
          4,
          4,
          4,
          4,
          4,
          4,
          4,
          4,
          4,
          3,
          3,
          3,
          3,
          3,
          3,
          3,
          3,
          3,
          1.3333333333333333,
          1.3333333333333333,
          1.3333333333333333,
          1.3333333333333333,
          1.3333333333333333,
          1.3333333333333333,
          1.3333333333333333,
          2.5,
          2.5,
          2.5,
          2.5,
          2.5,
          2.5,
          2.5,
          3.4,
          3.4,
          3.4,
          3.4,
          3.4,
          1,
          1,
          1,
          1,
          1,
          1,
          1,
          3,
          3,
          3,
          3,
          3,
          3,
          2,
          2,
          2,
          2,
          2,
          2,
          5,
          5,
          5,
          5,
          5,
          2.3333333333333335,
          2.3333333333333335,
          2.3333333333333335,
          2.3333333333333335,
          2.3333333333333335,
          2.3333333333333335,
          4.666666666666667,
          4.666666666666667,
          4.666666666666667,
          4.666666666666667,
          4.666666666666667,
          4.666666666666667,
          4.666666666666667,
          4.666666666666667,
          3.75,
          3.75,
          3.75,
          3.75,
          3.75,
          3.75
         ],
         "xaxis": "x",
         "y": [
          4.5,
          4.5,
          4.5,
          4.5,
          4.5,
          4.5,
          4.5,
          4.5,
          4.5,
          3.8,
          3.8,
          3.8,
          3.8,
          3.8,
          3.8,
          3.8,
          3.8,
          3.8,
          3.5555555555555554,
          3.5555555555555554,
          3.5555555555555554,
          3.5555555555555554,
          3.5555555555555554,
          3.5555555555555554,
          3.5555555555555554,
          3.5555555555555554,
          3.5555555555555554,
          7,
          7,
          7,
          7,
          7,
          7,
          7,
          4.5,
          4.5,
          4.5,
          4.5,
          4.5,
          4.5,
          4.5,
          3.6,
          3.6,
          3.6,
          3.6,
          3.6,
          4,
          4,
          4,
          4,
          4,
          4,
          4,
          3.25,
          3.25,
          3.25,
          3.25,
          3.25,
          3.25,
          4.75,
          4.75,
          4.75,
          4.75,
          4.75,
          4.75,
          6.333333333333333,
          6.333333333333333,
          6.333333333333333,
          6.333333333333333,
          6.333333333333333,
          3.75,
          3.75,
          3.75,
          3.75,
          3.75,
          3.75,
          8,
          8,
          8,
          8,
          8,
          8,
          8,
          8,
          3.75,
          3.75,
          3.75,
          3.75,
          3.75,
          3.75
         ],
         "yaxis": "y"
        },
        {
         "customdata": [
          [
           "beirut"
          ],
          [
           "beirut"
          ],
          [
           "beirut"
          ],
          [
           "beirut"
          ],
          [
           "beirut"
          ],
          [
           "beirut"
          ],
          [
           "beirut"
          ],
          [
           "beirut"
          ],
          [
           "beirut"
          ],
          [
           "hamad doha"
          ],
          [
           "hamad doha"
          ],
          [
           "hamad doha"
          ],
          [
           "hamad doha"
          ],
          [
           "hamad doha"
          ],
          [
           "sharjah"
          ],
          [
           "sharjah"
          ],
          [
           "sharjah"
          ],
          [
           "sharjah"
          ],
          [
           "sharjah"
          ],
          [
           "sharjah"
          ],
          [
           "tehran mehrabad"
          ],
          [
           "tehran mehrabad"
          ],
          [
           "tehran mehrabad"
          ],
          [
           "tehran mehrabad"
          ],
          [
           "tehran mehrabad"
          ]
         ],
         "hovertemplate": "geo_area=Middle-East<br>mean_overall_rating=%{x}<br>mean_experience_airport=%{y}<br>airport_name=%{customdata[0]}<extra></extra>",
         "legendgroup": "Middle-East",
         "marker": {
          "color": "#ab63fa",
          "symbol": "circle"
         },
         "mode": "markers",
         "name": "Middle-East",
         "orientation": "v",
         "showlegend": true,
         "type": "scatter",
         "x": [
          3.8,
          3.8,
          3.8,
          3.8,
          3.8,
          3.8,
          3.8,
          3.8,
          3.8,
          null,
          null,
          null,
          null,
          null,
          2.6666666666666665,
          2.6666666666666665,
          2.6666666666666665,
          2.6666666666666665,
          2.6666666666666665,
          2.6666666666666665,
          4,
          4,
          4,
          4,
          4
         ],
         "xaxis": "x",
         "y": [
          5,
          5,
          5,
          5,
          5,
          5,
          5,
          5,
          5,
          null,
          null,
          null,
          null,
          null,
          4,
          4,
          4,
          4,
          4,
          4,
          3,
          3,
          3,
          3,
          3
         ],
         "yaxis": "y"
        },
        {
         "customdata": [
          [
           "bermuda"
          ],
          [
           "bermuda"
          ],
          [
           "bermuda"
          ],
          [
           "bermuda"
          ],
          [
           "bermuda"
          ],
          [
           "colorado springs"
          ],
          [
           "colorado springs"
          ],
          [
           "colorado springs"
          ],
          [
           "colorado springs"
          ],
          [
           "colorado springs"
          ],
          [
           "colorado springs"
          ],
          [
           "colorado springs"
          ],
          [
           "columbus"
          ],
          [
           "columbus"
          ],
          [
           "columbus"
          ],
          [
           "columbus"
          ],
          [
           "columbus"
          ],
          [
           "dallas love field"
          ],
          [
           "dallas love field"
          ],
          [
           "dallas love field"
          ],
          [
           "dallas love field"
          ],
          [
           "dallas love field"
          ],
          [
           "fort myers"
          ],
          [
           "fort myers"
          ],
          [
           "fort myers"
          ],
          [
           "fort myers"
          ],
          [
           "fort myers"
          ],
          [
           "fort myers"
          ],
          [
           "fort myers"
          ],
          [
           "fort myers"
          ],
          [
           "fort myers"
          ],
          [
           "hartford"
          ],
          [
           "hartford"
          ],
          [
           "hartford"
          ],
          [
           "hartford"
          ],
          [
           "hartford"
          ],
          [
           "hartford"
          ],
          [
           "hartford"
          ],
          [
           "hartford"
          ],
          [
           "hartford"
          ],
          [
           "hilo"
          ],
          [
           "hilo"
          ],
          [
           "hilo"
          ],
          [
           "hilo"
          ],
          [
           "hilo"
          ],
          [
           "hilo"
          ],
          [
           "indianapolis"
          ],
          [
           "indianapolis"
          ],
          [
           "indianapolis"
          ],
          [
           "indianapolis"
          ],
          [
           "indianapolis"
          ],
          [
           "indianapolis"
          ],
          [
           "indianapolis"
          ],
          [
           "indianapolis"
          ],
          [
           "indianapolis"
          ],
          [
           "jacksonville"
          ],
          [
           "jacksonville"
          ],
          [
           "jacksonville"
          ],
          [
           "jacksonville"
          ],
          [
           "jacksonville"
          ],
          [
           "john wayne"
          ],
          [
           "john wayne"
          ],
          [
           "john wayne"
          ],
          [
           "john wayne"
          ],
          [
           "john wayne"
          ],
          [
           "john wayne"
          ],
          [
           "little rock"
          ],
          [
           "little rock"
          ],
          [
           "little rock"
          ],
          [
           "little rock"
          ],
          [
           "little rock"
          ],
          [
           "little rock"
          ],
          [
           "long beach"
          ],
          [
           "long beach"
          ],
          [
           "long beach"
          ],
          [
           "long beach"
          ],
          [
           "long beach"
          ],
          [
           "long beach"
          ],
          [
           "long island macarthur"
          ],
          [
           "long island macarthur"
          ],
          [
           "long island macarthur"
          ],
          [
           "long island macarthur"
          ],
          [
           "long island macarthur"
          ],
          [
           "long island macarthur"
          ],
          [
           "long island macarthur"
          ],
          [
           "memphis"
          ],
          [
           "memphis"
          ],
          [
           "memphis"
          ],
          [
           "memphis"
          ],
          [
           "memphis"
          ],
          [
           "memphis"
          ],
          [
           "memphis"
          ],
          [
           "milwaukee"
          ],
          [
           "milwaukee"
          ],
          [
           "milwaukee"
          ],
          [
           "milwaukee"
          ],
          [
           "milwaukee"
          ],
          [
           "milwaukee"
          ],
          [
           "milwaukee"
          ],
          [
           "milwaukee"
          ],
          [
           "milwaukee"
          ],
          [
           "muscle shoals"
          ],
          [
           "muscle shoals"
          ],
          [
           "muscle shoals"
          ],
          [
           "muscle shoals"
          ],
          [
           "muscle shoals"
          ],
          [
           "nashville"
          ],
          [
           "nashville"
          ],
          [
           "nashville"
          ],
          [
           "nashville"
          ],
          [
           "nashville"
          ],
          [
           "nashville"
          ],
          [
           "sacramento"
          ],
          [
           "sacramento"
          ],
          [
           "sacramento"
          ],
          [
           "sacramento"
          ],
          [
           "sacramento"
          ],
          [
           "sacramento"
          ],
          [
           "sacramento"
          ],
          [
           "sacramento"
          ],
          [
           "sacramento"
          ]
         ],
         "hovertemplate": "geo_area=North America<br>mean_overall_rating=%{x}<br>mean_experience_airport=%{y}<br>airport_name=%{customdata[0]}<extra></extra>",
         "legendgroup": "North America",
         "marker": {
          "color": "#FFA15A",
          "symbol": "circle"
         },
         "mode": "markers",
         "name": "North America",
         "orientation": "v",
         "showlegend": true,
         "type": "scatter",
         "x": [
          null,
          null,
          null,
          null,
          null,
          5,
          5,
          5,
          5,
          5,
          5,
          5,
          3.6666666666666665,
          3.6666666666666665,
          3.6666666666666665,
          3.6666666666666665,
          3.6666666666666665,
          null,
          null,
          null,
          null,
          null,
          4.375,
          4.375,
          4.375,
          4.375,
          4.375,
          4.375,
          4.375,
          4.375,
          4.375,
          5,
          5,
          5,
          5,
          5,
          5,
          5,
          5,
          5,
          4,
          4,
          4,
          4,
          4,
          4,
          5,
          5,
          5,
          5,
          5,
          5,
          5,
          5,
          5,
          5,
          5,
          5,
          5,
          5,
          4,
          4,
          4,
          4,
          4,
          4,
          5,
          5,
          5,
          5,
          5,
          5,
          5,
          5,
          5,
          5,
          5,
          5,
          5,
          5,
          5,
          5,
          5,
          5,
          5,
          3.5,
          3.5,
          3.5,
          3.5,
          3.5,
          3.5,
          3.5,
          4.8,
          4.8,
          4.8,
          4.8,
          4.8,
          4.8,
          4.8,
          4.8,
          4.8,
          null,
          null,
          null,
          null,
          null,
          4.5,
          4.5,
          4.5,
          4.5,
          4.5,
          4.5,
          4.2,
          4.2,
          4.2,
          4.2,
          4.2,
          4.2,
          4.2,
          4.2,
          4.2
         ],
         "xaxis": "x",
         "y": [
          10,
          10,
          10,
          10,
          10,
          4.333333333333333,
          4.333333333333333,
          4.333333333333333,
          4.333333333333333,
          4.333333333333333,
          4.333333333333333,
          4.333333333333333,
          7.666666666666667,
          7.666666666666667,
          7.666666666666667,
          7.666666666666667,
          7.666666666666667,
          3.6666666666666665,
          3.6666666666666665,
          3.6666666666666665,
          3.6666666666666665,
          3.6666666666666665,
          8.11111111111111,
          8.11111111111111,
          8.11111111111111,
          8.11111111111111,
          8.11111111111111,
          8.11111111111111,
          8.11111111111111,
          8.11111111111111,
          8.11111111111111,
          4.666666666666667,
          4.666666666666667,
          4.666666666666667,
          4.666666666666667,
          4.666666666666667,
          4.666666666666667,
          4.666666666666667,
          4.666666666666667,
          4.666666666666667,
          5,
          5,
          5,
          5,
          5,
          5,
          5.75,
          5.75,
          5.75,
          5.75,
          5.75,
          5.75,
          5.75,
          5.75,
          5.75,
          5.6,
          5.6,
          5.6,
          5.6,
          5.6,
          7,
          7,
          7,
          7,
          7,
          7,
          7.333333333333333,
          7.333333333333333,
          7.333333333333333,
          7.333333333333333,
          7.333333333333333,
          7.333333333333333,
          4.666666666666667,
          4.666666666666667,
          4.666666666666667,
          4.666666666666667,
          4.666666666666667,
          4.666666666666667,
          7.5,
          7.5,
          7.5,
          7.5,
          7.5,
          7.5,
          7.5,
          6.5,
          6.5,
          6.5,
          6.5,
          6.5,
          6.5,
          6.5,
          8.285714285714286,
          8.285714285714286,
          8.285714285714286,
          8.285714285714286,
          8.285714285714286,
          8.285714285714286,
          8.285714285714286,
          8.285714285714286,
          8.285714285714286,
          null,
          null,
          null,
          null,
          null,
          7.666666666666667,
          7.666666666666667,
          7.666666666666667,
          7.666666666666667,
          7.666666666666667,
          7.666666666666667,
          7.2,
          7.2,
          7.2,
          7.2,
          7.2,
          7.2,
          7.2,
          7.2,
          7.2
         ],
         "yaxis": "y"
        },
        {
         "customdata": [
          [
           "chengdu"
          ],
          [
           "chengdu"
          ],
          [
           "chengdu"
          ],
          [
           "chengdu"
          ],
          [
           "chengdu"
          ],
          [
           "coimbatore"
          ],
          [
           "coimbatore"
          ],
          [
           "coimbatore"
          ],
          [
           "coimbatore"
          ],
          [
           "coimbatore"
          ],
          [
           "hangzhou"
          ],
          [
           "hangzhou"
          ],
          [
           "hangzhou"
          ],
          [
           "hangzhou"
          ],
          [
           "hangzhou"
          ],
          [
           "hangzhou"
          ],
          [
           "hangzhou"
          ],
          [
           "hangzhou"
          ],
          [
           "kunming"
          ],
          [
           "kunming"
          ],
          [
           "kunming"
          ],
          [
           "kunming"
          ],
          [
           "kunming"
          ],
          [
           "kunming"
          ],
          [
           "pune"
          ],
          [
           "pune"
          ],
          [
           "pune"
          ],
          [
           "pune"
          ],
          [
           "pune"
          ],
          [
           "pune"
          ],
          [
           "pune"
          ],
          [
           "pune"
          ],
          [
           "pune"
          ],
          [
           "qingdao"
          ],
          [
           "qingdao"
          ],
          [
           "qingdao"
          ],
          [
           "qingdao"
          ],
          [
           "qingdao"
          ],
          [
           "qingdao"
          ],
          [
           "qingdao"
          ],
          [
           "sapporo chitose"
          ],
          [
           "sapporo chitose"
          ],
          [
           "sapporo chitose"
          ],
          [
           "sapporo chitose"
          ],
          [
           "sapporo chitose"
          ],
          [
           "sapporo chitose"
          ],
          [
           "sapporo chitose"
          ],
          [
           "sapporo chitose"
          ],
          [
           "seoul gimpo"
          ],
          [
           "seoul gimpo"
          ],
          [
           "seoul gimpo"
          ],
          [
           "seoul gimpo"
          ],
          [
           "seoul gimpo"
          ],
          [
           "seoul gimpo"
          ],
          [
           "seoul gimpo"
          ],
          [
           "seoul gimpo"
          ],
          [
           "shenyang"
          ],
          [
           "shenyang"
          ],
          [
           "shenyang"
          ],
          [
           "shenyang"
          ],
          [
           "shenyang"
          ],
          [
           "shenyang"
          ],
          [
           "shenyang"
          ],
          [
           "xian xianyang"
          ],
          [
           "xian xianyang"
          ],
          [
           "xian xianyang"
          ],
          [
           "xian xianyang"
          ],
          [
           "xian xianyang"
          ],
          [
           "xian xianyang"
          ],
          [
           "xian xianyang"
          ],
          [
           "xian xianyang"
          ],
          [
           "xiamen"
          ],
          [
           "xiamen"
          ],
          [
           "xiamen"
          ],
          [
           "xiamen"
          ],
          [
           "xiamen"
          ],
          [
           "xiamen"
          ],
          [
           "xiamen"
          ],
          [
           "xiamen"
          ],
          [
           "xiamen"
          ]
         ],
         "hovertemplate": "geo_area=Asia<br>mean_overall_rating=%{x}<br>mean_experience_airport=%{y}<br>airport_name=%{customdata[0]}<extra></extra>",
         "legendgroup": "Asia",
         "marker": {
          "color": "#19d3f3",
          "symbol": "circle"
         },
         "mode": "markers",
         "name": "Asia",
         "orientation": "v",
         "showlegend": true,
         "type": "scatter",
         "x": [
          4,
          4,
          4,
          4,
          4,
          2.5,
          2.5,
          2.5,
          2.5,
          2.5,
          4.333333333333333,
          4.333333333333333,
          4.333333333333333,
          4.333333333333333,
          4.333333333333333,
          4.333333333333333,
          4.333333333333333,
          4.333333333333333,
          3.75,
          3.75,
          3.75,
          3.75,
          3.75,
          3.75,
          3,
          3,
          3,
          3,
          3,
          3,
          3,
          3,
          3,
          4.4,
          4.4,
          4.4,
          4.4,
          4.4,
          4.4,
          4.4,
          3.8,
          3.8,
          3.8,
          3.8,
          3.8,
          3.8,
          3.8,
          3.8,
          4,
          4,
          4,
          4,
          4,
          4,
          4,
          4,
          5,
          5,
          5,
          5,
          5,
          5,
          5,
          2.5,
          2.5,
          2.5,
          2.5,
          2.5,
          2.5,
          2.5,
          2.5,
          3.8,
          3.8,
          3.8,
          3.8,
          3.8,
          3.8,
          3.8,
          3.8,
          3.8
         ],
         "xaxis": "x",
         "y": [
          6.5,
          6.5,
          6.5,
          6.5,
          6.5,
          2,
          2,
          2,
          2,
          2,
          5.833333333333333,
          5.833333333333333,
          5.833333333333333,
          5.833333333333333,
          5.833333333333333,
          5.833333333333333,
          5.833333333333333,
          5.833333333333333,
          5.5,
          5.5,
          5.5,
          5.5,
          5.5,
          5.5,
          3,
          3,
          3,
          3,
          3,
          3,
          3,
          3,
          3,
          5.571428571428571,
          5.571428571428571,
          5.571428571428571,
          5.571428571428571,
          5.571428571428571,
          5.571428571428571,
          5.571428571428571,
          5.666666666666667,
          5.666666666666667,
          5.666666666666667,
          5.666666666666667,
          5.666666666666667,
          5.666666666666667,
          5.666666666666667,
          5.666666666666667,
          4.75,
          4.75,
          4.75,
          4.75,
          4.75,
          4.75,
          4.75,
          4.75,
          6.5,
          6.5,
          6.5,
          6.5,
          6.5,
          6.5,
          6.5,
          6,
          6,
          6,
          6,
          6,
          6,
          6,
          6,
          6.75,
          6.75,
          6.75,
          6.75,
          6.75,
          6.75,
          6.75,
          6.75,
          6.75
         ],
         "yaxis": "y"
        },
        {
         "customdata": [
          [
           "clark"
          ],
          [
           "clark"
          ],
          [
           "clark"
          ],
          [
           "clark"
          ],
          [
           "clark"
          ],
          [
           "clark"
          ],
          [
           "clark"
          ],
          [
           "hobart"
          ],
          [
           "hobart"
          ],
          [
           "hobart"
          ],
          [
           "hobart"
          ],
          [
           "hobart"
          ],
          [
           "hobart"
          ],
          [
           "hobart"
          ],
          [
           "hobart"
          ],
          [
           "hobart"
          ],
          [
           "kota kinabalu"
          ],
          [
           "kota kinabalu"
          ],
          [
           "kota kinabalu"
          ],
          [
           "kota kinabalu"
          ],
          [
           "kota kinabalu"
          ],
          [
           "launceston"
          ],
          [
           "launceston"
          ],
          [
           "launceston"
          ],
          [
           "launceston"
          ],
          [
           "launceston"
          ],
          [
           "medan"
          ],
          [
           "medan"
          ],
          [
           "medan"
          ],
          [
           "medan"
          ],
          [
           "medan"
          ],
          [
           "medan"
          ],
          [
           "medan"
          ],
          [
           "medan"
          ],
          [
           "subang kuala lumpur"
          ],
          [
           "subang kuala lumpur"
          ],
          [
           "subang kuala lumpur"
          ],
          [
           "subang kuala lumpur"
          ],
          [
           "subang kuala lumpur"
          ],
          [
           "tontouta"
          ],
          [
           "tontouta"
          ],
          [
           "tontouta"
          ],
          [
           "tontouta"
          ],
          [
           "tontouta"
          ],
          [
           "tontouta"
          ],
          [
           "tontouta"
          ],
          [
           "tontouta"
          ],
          [
           "vientiane"
          ],
          [
           "vientiane"
          ],
          [
           "vientiane"
          ],
          [
           "vientiane"
          ],
          [
           "vientiane"
          ],
          [
           "vientiane"
          ],
          [
           "vientiane"
          ],
          [
           "vientiane"
          ],
          [
           "yogyakarta"
          ],
          [
           "yogyakarta"
          ],
          [
           "yogyakarta"
          ],
          [
           "yogyakarta"
          ],
          [
           "yogyakarta"
          ],
          [
           "yogyakarta"
          ],
          [
           "yogyakarta"
          ]
         ],
         "hovertemplate": "geo_area=S-Asia Oceania<br>mean_overall_rating=%{x}<br>mean_experience_airport=%{y}<br>airport_name=%{customdata[0]}<extra></extra>",
         "legendgroup": "S-Asia Oceania",
         "marker": {
          "color": "#FF6692",
          "symbol": "circle"
         },
         "mode": "markers",
         "name": "S-Asia Oceania",
         "orientation": "v",
         "showlegend": true,
         "type": "scatter",
         "x": [
          3.6666666666666665,
          3.6666666666666665,
          3.6666666666666665,
          3.6666666666666665,
          3.6666666666666665,
          3.6666666666666665,
          3.6666666666666665,
          5,
          5,
          5,
          5,
          5,
          5,
          5,
          5,
          5,
          4.5,
          4.5,
          4.5,
          4.5,
          4.5,
          4,
          4,
          4,
          4,
          4,
          4,
          4,
          4,
          4,
          4,
          4,
          4,
          4,
          4.6,
          4.6,
          4.6,
          4.6,
          4.6,
          4,
          4,
          4,
          4,
          4,
          4,
          4,
          4,
          4.75,
          4.75,
          4.75,
          4.75,
          4.75,
          4.75,
          4.75,
          4.75,
          3.6666666666666665,
          3.6666666666666665,
          3.6666666666666665,
          3.6666666666666665,
          3.6666666666666665,
          3.6666666666666665,
          3.6666666666666665
         ],
         "xaxis": "x",
         "y": [
          6.166666666666667,
          6.166666666666667,
          6.166666666666667,
          6.166666666666667,
          6.166666666666667,
          6.166666666666667,
          6.166666666666667,
          7,
          7,
          7,
          7,
          7,
          7,
          7,
          7,
          7,
          5,
          5,
          5,
          5,
          5,
          6,
          6,
          6,
          6,
          6,
          6.428571428571429,
          6.428571428571429,
          6.428571428571429,
          6.428571428571429,
          6.428571428571429,
          6.428571428571429,
          6.428571428571429,
          6.428571428571429,
          5,
          5,
          5,
          5,
          5,
          7.666666666666667,
          7.666666666666667,
          7.666666666666667,
          7.666666666666667,
          7.666666666666667,
          7.666666666666667,
          7.666666666666667,
          7.666666666666667,
          7.5,
          7.5,
          7.5,
          7.5,
          7.5,
          7.5,
          7.5,
          7.5,
          4,
          4,
          4,
          4,
          4,
          4,
          4
         ],
         "yaxis": "y"
        }
       ],
       "layout": {
        "legend": {
         "title": {
          "text": "Geo Area"
         },
         "tracegroupgap": 0
        },
        "template": {
         "data": {
          "bar": [
           {
            "error_x": {
             "color": "#f2f5fa"
            },
            "error_y": {
             "color": "#f2f5fa"
            },
            "marker": {
             "line": {
              "color": "rgb(17,17,17)",
              "width": 0.5
             },
             "pattern": {
              "fillmode": "overlay",
              "size": 10,
              "solidity": 0.2
             }
            },
            "type": "bar"
           }
          ],
          "barpolar": [
           {
            "marker": {
             "line": {
              "color": "rgb(17,17,17)",
              "width": 0.5
             },
             "pattern": {
              "fillmode": "overlay",
              "size": 10,
              "solidity": 0.2
             }
            },
            "type": "barpolar"
           }
          ],
          "carpet": [
           {
            "aaxis": {
             "endlinecolor": "#A2B1C6",
             "gridcolor": "#506784",
             "linecolor": "#506784",
             "minorgridcolor": "#506784",
             "startlinecolor": "#A2B1C6"
            },
            "baxis": {
             "endlinecolor": "#A2B1C6",
             "gridcolor": "#506784",
             "linecolor": "#506784",
             "minorgridcolor": "#506784",
             "startlinecolor": "#A2B1C6"
            },
            "type": "carpet"
           }
          ],
          "choropleth": [
           {
            "colorbar": {
             "outlinewidth": 0,
             "ticks": ""
            },
            "type": "choropleth"
           }
          ],
          "contour": [
           {
            "colorbar": {
             "outlinewidth": 0,
             "ticks": ""
            },
            "colorscale": [
             [
              0,
              "#0d0887"
             ],
             [
              0.1111111111111111,
              "#46039f"
             ],
             [
              0.2222222222222222,
              "#7201a8"
             ],
             [
              0.3333333333333333,
              "#9c179e"
             ],
             [
              0.4444444444444444,
              "#bd3786"
             ],
             [
              0.5555555555555556,
              "#d8576b"
             ],
             [
              0.6666666666666666,
              "#ed7953"
             ],
             [
              0.7777777777777778,
              "#fb9f3a"
             ],
             [
              0.8888888888888888,
              "#fdca26"
             ],
             [
              1,
              "#f0f921"
             ]
            ],
            "type": "contour"
           }
          ],
          "contourcarpet": [
           {
            "colorbar": {
             "outlinewidth": 0,
             "ticks": ""
            },
            "type": "contourcarpet"
           }
          ],
          "heatmap": [
           {
            "colorbar": {
             "outlinewidth": 0,
             "ticks": ""
            },
            "colorscale": [
             [
              0,
              "#0d0887"
             ],
             [
              0.1111111111111111,
              "#46039f"
             ],
             [
              0.2222222222222222,
              "#7201a8"
             ],
             [
              0.3333333333333333,
              "#9c179e"
             ],
             [
              0.4444444444444444,
              "#bd3786"
             ],
             [
              0.5555555555555556,
              "#d8576b"
             ],
             [
              0.6666666666666666,
              "#ed7953"
             ],
             [
              0.7777777777777778,
              "#fb9f3a"
             ],
             [
              0.8888888888888888,
              "#fdca26"
             ],
             [
              1,
              "#f0f921"
             ]
            ],
            "type": "heatmap"
           }
          ],
          "heatmapgl": [
           {
            "colorbar": {
             "outlinewidth": 0,
             "ticks": ""
            },
            "colorscale": [
             [
              0,
              "#0d0887"
             ],
             [
              0.1111111111111111,
              "#46039f"
             ],
             [
              0.2222222222222222,
              "#7201a8"
             ],
             [
              0.3333333333333333,
              "#9c179e"
             ],
             [
              0.4444444444444444,
              "#bd3786"
             ],
             [
              0.5555555555555556,
              "#d8576b"
             ],
             [
              0.6666666666666666,
              "#ed7953"
             ],
             [
              0.7777777777777778,
              "#fb9f3a"
             ],
             [
              0.8888888888888888,
              "#fdca26"
             ],
             [
              1,
              "#f0f921"
             ]
            ],
            "type": "heatmapgl"
           }
          ],
          "histogram": [
           {
            "marker": {
             "pattern": {
              "fillmode": "overlay",
              "size": 10,
              "solidity": 0.2
             }
            },
            "type": "histogram"
           }
          ],
          "histogram2d": [
           {
            "colorbar": {
             "outlinewidth": 0,
             "ticks": ""
            },
            "colorscale": [
             [
              0,
              "#0d0887"
             ],
             [
              0.1111111111111111,
              "#46039f"
             ],
             [
              0.2222222222222222,
              "#7201a8"
             ],
             [
              0.3333333333333333,
              "#9c179e"
             ],
             [
              0.4444444444444444,
              "#bd3786"
             ],
             [
              0.5555555555555556,
              "#d8576b"
             ],
             [
              0.6666666666666666,
              "#ed7953"
             ],
             [
              0.7777777777777778,
              "#fb9f3a"
             ],
             [
              0.8888888888888888,
              "#fdca26"
             ],
             [
              1,
              "#f0f921"
             ]
            ],
            "type": "histogram2d"
           }
          ],
          "histogram2dcontour": [
           {
            "colorbar": {
             "outlinewidth": 0,
             "ticks": ""
            },
            "colorscale": [
             [
              0,
              "#0d0887"
             ],
             [
              0.1111111111111111,
              "#46039f"
             ],
             [
              0.2222222222222222,
              "#7201a8"
             ],
             [
              0.3333333333333333,
              "#9c179e"
             ],
             [
              0.4444444444444444,
              "#bd3786"
             ],
             [
              0.5555555555555556,
              "#d8576b"
             ],
             [
              0.6666666666666666,
              "#ed7953"
             ],
             [
              0.7777777777777778,
              "#fb9f3a"
             ],
             [
              0.8888888888888888,
              "#fdca26"
             ],
             [
              1,
              "#f0f921"
             ]
            ],
            "type": "histogram2dcontour"
           }
          ],
          "mesh3d": [
           {
            "colorbar": {
             "outlinewidth": 0,
             "ticks": ""
            },
            "type": "mesh3d"
           }
          ],
          "parcoords": [
           {
            "line": {
             "colorbar": {
              "outlinewidth": 0,
              "ticks": ""
             }
            },
            "type": "parcoords"
           }
          ],
          "pie": [
           {
            "automargin": true,
            "type": "pie"
           }
          ],
          "scatter": [
           {
            "marker": {
             "line": {
              "color": "#283442"
             }
            },
            "type": "scatter"
           }
          ],
          "scatter3d": [
           {
            "line": {
             "colorbar": {
              "outlinewidth": 0,
              "ticks": ""
             }
            },
            "marker": {
             "colorbar": {
              "outlinewidth": 0,
              "ticks": ""
             }
            },
            "type": "scatter3d"
           }
          ],
          "scattercarpet": [
           {
            "marker": {
             "colorbar": {
              "outlinewidth": 0,
              "ticks": ""
             }
            },
            "type": "scattercarpet"
           }
          ],
          "scattergeo": [
           {
            "marker": {
             "colorbar": {
              "outlinewidth": 0,
              "ticks": ""
             }
            },
            "type": "scattergeo"
           }
          ],
          "scattergl": [
           {
            "marker": {
             "line": {
              "color": "#283442"
             }
            },
            "type": "scattergl"
           }
          ],
          "scattermapbox": [
           {
            "marker": {
             "colorbar": {
              "outlinewidth": 0,
              "ticks": ""
             }
            },
            "type": "scattermapbox"
           }
          ],
          "scatterpolar": [
           {
            "marker": {
             "colorbar": {
              "outlinewidth": 0,
              "ticks": ""
             }
            },
            "type": "scatterpolar"
           }
          ],
          "scatterpolargl": [
           {
            "marker": {
             "colorbar": {
              "outlinewidth": 0,
              "ticks": ""
             }
            },
            "type": "scatterpolargl"
           }
          ],
          "scatterternary": [
           {
            "marker": {
             "colorbar": {
              "outlinewidth": 0,
              "ticks": ""
             }
            },
            "type": "scatterternary"
           }
          ],
          "surface": [
           {
            "colorbar": {
             "outlinewidth": 0,
             "ticks": ""
            },
            "colorscale": [
             [
              0,
              "#0d0887"
             ],
             [
              0.1111111111111111,
              "#46039f"
             ],
             [
              0.2222222222222222,
              "#7201a8"
             ],
             [
              0.3333333333333333,
              "#9c179e"
             ],
             [
              0.4444444444444444,
              "#bd3786"
             ],
             [
              0.5555555555555556,
              "#d8576b"
             ],
             [
              0.6666666666666666,
              "#ed7953"
             ],
             [
              0.7777777777777778,
              "#fb9f3a"
             ],
             [
              0.8888888888888888,
              "#fdca26"
             ],
             [
              1,
              "#f0f921"
             ]
            ],
            "type": "surface"
           }
          ],
          "table": [
           {
            "cells": {
             "fill": {
              "color": "#506784"
             },
             "line": {
              "color": "rgb(17,17,17)"
             }
            },
            "header": {
             "fill": {
              "color": "#2a3f5f"
             },
             "line": {
              "color": "rgb(17,17,17)"
             }
            },
            "type": "table"
           }
          ]
         },
         "layout": {
          "annotationdefaults": {
           "arrowcolor": "#f2f5fa",
           "arrowhead": 0,
           "arrowwidth": 1
          },
          "autotypenumbers": "strict",
          "coloraxis": {
           "colorbar": {
            "outlinewidth": 0,
            "ticks": ""
           }
          },
          "colorscale": {
           "diverging": [
            [
             0,
             "#8e0152"
            ],
            [
             0.1,
             "#c51b7d"
            ],
            [
             0.2,
             "#de77ae"
            ],
            [
             0.3,
             "#f1b6da"
            ],
            [
             0.4,
             "#fde0ef"
            ],
            [
             0.5,
             "#f7f7f7"
            ],
            [
             0.6,
             "#e6f5d0"
            ],
            [
             0.7,
             "#b8e186"
            ],
            [
             0.8,
             "#7fbc41"
            ],
            [
             0.9,
             "#4d9221"
            ],
            [
             1,
             "#276419"
            ]
           ],
           "sequential": [
            [
             0,
             "#0d0887"
            ],
            [
             0.1111111111111111,
             "#46039f"
            ],
            [
             0.2222222222222222,
             "#7201a8"
            ],
            [
             0.3333333333333333,
             "#9c179e"
            ],
            [
             0.4444444444444444,
             "#bd3786"
            ],
            [
             0.5555555555555556,
             "#d8576b"
            ],
            [
             0.6666666666666666,
             "#ed7953"
            ],
            [
             0.7777777777777778,
             "#fb9f3a"
            ],
            [
             0.8888888888888888,
             "#fdca26"
            ],
            [
             1,
             "#f0f921"
            ]
           ],
           "sequentialminus": [
            [
             0,
             "#0d0887"
            ],
            [
             0.1111111111111111,
             "#46039f"
            ],
            [
             0.2222222222222222,
             "#7201a8"
            ],
            [
             0.3333333333333333,
             "#9c179e"
            ],
            [
             0.4444444444444444,
             "#bd3786"
            ],
            [
             0.5555555555555556,
             "#d8576b"
            ],
            [
             0.6666666666666666,
             "#ed7953"
            ],
            [
             0.7777777777777778,
             "#fb9f3a"
            ],
            [
             0.8888888888888888,
             "#fdca26"
            ],
            [
             1,
             "#f0f921"
            ]
           ]
          },
          "colorway": [
           "#636efa",
           "#EF553B",
           "#00cc96",
           "#ab63fa",
           "#FFA15A",
           "#19d3f3",
           "#FF6692",
           "#B6E880",
           "#FF97FF",
           "#FECB52"
          ],
          "font": {
           "color": "#f2f5fa"
          },
          "geo": {
           "bgcolor": "rgb(17,17,17)",
           "lakecolor": "rgb(17,17,17)",
           "landcolor": "rgb(17,17,17)",
           "showlakes": true,
           "showland": true,
           "subunitcolor": "#506784"
          },
          "hoverlabel": {
           "align": "left"
          },
          "hovermode": "closest",
          "mapbox": {
           "style": "dark"
          },
          "paper_bgcolor": "rgb(17,17,17)",
          "plot_bgcolor": "rgb(17,17,17)",
          "polar": {
           "angularaxis": {
            "gridcolor": "#506784",
            "linecolor": "#506784",
            "ticks": ""
           },
           "bgcolor": "rgb(17,17,17)",
           "radialaxis": {
            "gridcolor": "#506784",
            "linecolor": "#506784",
            "ticks": ""
           }
          },
          "scene": {
           "xaxis": {
            "backgroundcolor": "rgb(17,17,17)",
            "gridcolor": "#506784",
            "gridwidth": 2,
            "linecolor": "#506784",
            "showbackground": true,
            "ticks": "",
            "zerolinecolor": "#C8D4E3"
           },
           "yaxis": {
            "backgroundcolor": "rgb(17,17,17)",
            "gridcolor": "#506784",
            "gridwidth": 2,
            "linecolor": "#506784",
            "showbackground": true,
            "ticks": "",
            "zerolinecolor": "#C8D4E3"
           },
           "zaxis": {
            "backgroundcolor": "rgb(17,17,17)",
            "gridcolor": "#506784",
            "gridwidth": 2,
            "linecolor": "#506784",
            "showbackground": true,
            "ticks": "",
            "zerolinecolor": "#C8D4E3"
           }
          },
          "shapedefaults": {
           "line": {
            "color": "#f2f5fa"
           }
          },
          "sliderdefaults": {
           "bgcolor": "#C8D4E3",
           "bordercolor": "rgb(17,17,17)",
           "borderwidth": 1,
           "tickwidth": 0
          },
          "ternary": {
           "aaxis": {
            "gridcolor": "#506784",
            "linecolor": "#506784",
            "ticks": ""
           },
           "baxis": {
            "gridcolor": "#506784",
            "linecolor": "#506784",
            "ticks": ""
           },
           "bgcolor": "rgb(17,17,17)",
           "caxis": {
            "gridcolor": "#506784",
            "linecolor": "#506784",
            "ticks": ""
           }
          },
          "title": {
           "x": 0.05
          },
          "updatemenudefaults": {
           "bgcolor": "#506784",
           "borderwidth": 0
          },
          "xaxis": {
           "automargin": true,
           "gridcolor": "#283442",
           "linecolor": "#506784",
           "ticks": "",
           "title": {
            "standoff": 15
           },
           "zerolinecolor": "#283442",
           "zerolinewidth": 2
          },
          "yaxis": {
           "automargin": true,
           "gridcolor": "#283442",
           "linecolor": "#506784",
           "ticks": "",
           "title": {
            "standoff": 15
           },
           "zerolinecolor": "#283442",
           "zerolinewidth": 2
          }
         }
        },
        "title": {
         "text": "Overall Rating vs Experience Airport by Geo Area"
        },
        "xaxis": {
         "anchor": "y",
         "domain": [
          0,
          1
         ],
         "title": {
          "text": "Overall Rating"
         }
        },
        "yaxis": {
         "anchor": "x",
         "domain": [
          0,
          1
         ],
         "title": {
          "text": "Experience Airport"
         }
        }
       }
      }
     },
     "metadata": {},
     "output_type": "display_data"
    }
   ],
   "source": [
    "fig.update_layout(\n",
    "    title=\"Overall Rating vs Experience Airport by Geo Area\",\n",
    "    xaxis_title=\"Overall Rating\",\n",
    "    yaxis_title=\"Experience Airport\",\n",
    "    legend_title=\"Geo Area\",\n",
    "    template=\"plotly_dark\"  \n",
    ")\n",
    "\n",
    "fig.show()\n"
   ]
  },
  {
   "cell_type": "code",
   "execution_count": 58,
   "metadata": {},
   "outputs": [
    {
     "data": {
      "application/vnd.plotly.v1+json": {
       "config": {
        "plotlyServerURL": "https://plot.ly"
       },
       "data": [
        {
         "customdata": [
          [
           "abuja"
          ],
          [
           "abuja"
          ],
          [
           "abuja"
          ],
          [
           "abuja"
          ],
          [
           "abuja"
          ],
          [
           "abuja"
          ],
          [
           "algiers"
          ],
          [
           "algiers"
          ],
          [
           "algiers"
          ],
          [
           "algiers"
          ],
          [
           "algiers"
          ],
          [
           "algiers"
          ],
          [
           "algiers"
          ],
          [
           "algiers"
          ],
          [
           "banjul"
          ],
          [
           "banjul"
          ],
          [
           "banjul"
          ],
          [
           "banjul"
          ],
          [
           "banjul"
          ],
          [
           "banjul"
          ],
          [
           "dakar"
          ],
          [
           "dakar"
          ],
          [
           "dakar"
          ],
          [
           "dakar"
          ],
          [
           "dakar"
          ],
          [
           "durban"
          ],
          [
           "durban"
          ],
          [
           "durban"
          ],
          [
           "durban"
          ],
          [
           "durban"
          ],
          [
           "durban"
          ],
          [
           "durban"
          ],
          [
           "durban"
          ],
          [
           "entebbe"
          ],
          [
           "entebbe"
          ],
          [
           "entebbe"
          ],
          [
           "entebbe"
          ],
          [
           "entebbe"
          ],
          [
           "entebbe"
          ],
          [
           "entebbe"
          ],
          [
           "entebbe"
          ],
          [
           "entebbe"
          ],
          [
           "freetown"
          ],
          [
           "freetown"
          ],
          [
           "freetown"
          ],
          [
           "freetown"
          ],
          [
           "freetown"
          ],
          [
           "freetown"
          ],
          [
           "freetown"
          ],
          [
           "hurghada"
          ],
          [
           "hurghada"
          ],
          [
           "hurghada"
          ],
          [
           "hurghada"
          ],
          [
           "hurghada"
          ],
          [
           "kilimanjaro"
          ],
          [
           "kilimanjaro"
          ],
          [
           "kilimanjaro"
          ],
          [
           "kilimanjaro"
          ],
          [
           "kilimanjaro"
          ],
          [
           "kilimanjaro"
          ],
          [
           "kilimanjaro"
          ],
          [
           "kilimanjaro"
          ],
          [
           "lusaka"
          ],
          [
           "lusaka"
          ],
          [
           "lusaka"
          ],
          [
           "lusaka"
          ],
          [
           "lusaka"
          ],
          [
           "luxor"
          ],
          [
           "luxor"
          ],
          [
           "luxor"
          ],
          [
           "luxor"
          ],
          [
           "luxor"
          ],
          [
           "luxor"
          ],
          [
           "luxor"
          ],
          [
           "luxor"
          ],
          [
           "mombasa"
          ],
          [
           "mombasa"
          ],
          [
           "mombasa"
          ],
          [
           "mombasa"
          ],
          [
           "mombasa"
          ],
          [
           "mombasa"
          ],
          [
           "mombasa"
          ],
          [
           "mombasa"
          ],
          [
           "mombasa"
          ],
          [
           "monastir"
          ],
          [
           "monastir"
          ],
          [
           "monastir"
          ],
          [
           "monastir"
          ],
          [
           "monastir"
          ],
          [
           "monastir"
          ],
          [
           "monastir"
          ],
          [
           "monastir"
          ],
          [
           "seychelles"
          ],
          [
           "seychelles"
          ],
          [
           "seychelles"
          ],
          [
           "seychelles"
          ],
          [
           "seychelles"
          ],
          [
           "seychelles"
          ],
          [
           "taba"
          ],
          [
           "taba"
          ],
          [
           "taba"
          ],
          [
           "taba"
          ],
          [
           "taba"
          ],
          [
           "windhoek"
          ],
          [
           "windhoek"
          ],
          [
           "windhoek"
          ],
          [
           "windhoek"
          ],
          [
           "windhoek"
          ],
          [
           "windhoek"
          ],
          [
           "zanzibar"
          ],
          [
           "zanzibar"
          ],
          [
           "zanzibar"
          ],
          [
           "zanzibar"
          ],
          [
           "zanzibar"
          ]
         ],
         "hovertemplate": "geo_area=Africa<br>mean_overall_rating=%{x}<br>mean_terminal_seating_rating=%{y}<br>airport_name=%{customdata[0]}<extra></extra>",
         "legendgroup": "Africa",
         "marker": {
          "color": "#636efa",
          "symbol": "circle"
         },
         "mode": "markers",
         "name": "Africa",
         "orientation": "v",
         "showlegend": true,
         "type": "scatter",
         "x": [
          2,
          2,
          2,
          2,
          2,
          2,
          4.333333333333333,
          4.333333333333333,
          4.333333333333333,
          4.333333333333333,
          4.333333333333333,
          4.333333333333333,
          4.333333333333333,
          4.333333333333333,
          2,
          2,
          2,
          2,
          2,
          2,
          3,
          3,
          3,
          3,
          3,
          5,
          5,
          5,
          5,
          5,
          5,
          5,
          5,
          4,
          4,
          4,
          4,
          4,
          4,
          4,
          4,
          4,
          4,
          4,
          4,
          4,
          4,
          4,
          4,
          3,
          3,
          3,
          3,
          3,
          4.333333333333333,
          4.333333333333333,
          4.333333333333333,
          4.333333333333333,
          4.333333333333333,
          4.333333333333333,
          4.333333333333333,
          4.333333333333333,
          5,
          5,
          5,
          5,
          5,
          2.5,
          2.5,
          2.5,
          2.5,
          2.5,
          2.5,
          2.5,
          2.5,
          3,
          3,
          3,
          3,
          3,
          3,
          3,
          3,
          3,
          1.5,
          1.5,
          1.5,
          1.5,
          1.5,
          1.5,
          1.5,
          1.5,
          3,
          3,
          3,
          3,
          3,
          3,
          1.6666666666666667,
          1.6666666666666667,
          1.6666666666666667,
          1.6666666666666667,
          1.6666666666666667,
          2.5,
          2.5,
          2.5,
          2.5,
          2.5,
          2.5,
          1.5,
          1.5,
          1.5,
          1.5,
          1.5
         ],
         "xaxis": "x",
         "y": [
          1.25,
          1.25,
          1.25,
          1.25,
          1.25,
          1.25,
          3.5,
          3.5,
          3.5,
          3.5,
          3.5,
          3.5,
          3.5,
          3.5,
          3,
          3,
          3,
          3,
          3,
          3,
          null,
          null,
          null,
          null,
          null,
          4.5,
          4.5,
          4.5,
          4.5,
          4.5,
          4.5,
          4.5,
          4.5,
          3.25,
          3.25,
          3.25,
          3.25,
          3.25,
          3.25,
          3.25,
          3.25,
          3.25,
          3,
          3,
          3,
          3,
          3,
          3,
          3,
          3.5,
          3.5,
          3.5,
          3.5,
          3.5,
          3,
          3,
          3,
          3,
          3,
          3,
          3,
          3,
          2,
          2,
          2,
          2,
          2,
          3,
          3,
          3,
          3,
          3,
          3,
          3,
          3,
          2.2,
          2.2,
          2.2,
          2.2,
          2.2,
          2.2,
          2.2,
          2.2,
          2.2,
          3.2,
          3.2,
          3.2,
          3.2,
          3.2,
          3.2,
          3.2,
          3.2,
          2.6666666666666665,
          2.6666666666666665,
          2.6666666666666665,
          2.6666666666666665,
          2.6666666666666665,
          2.6666666666666665,
          null,
          null,
          null,
          null,
          null,
          3.5,
          3.5,
          3.5,
          3.5,
          3.5,
          3.5,
          2,
          2,
          2,
          2,
          2
         ],
         "yaxis": "y"
        },
        {
         "customdata": [
          [
           "almeria"
          ],
          [
           "almeria"
          ],
          [
           "almeria"
          ],
          [
           "almeria"
          ],
          [
           "almeria"
          ],
          [
           "almeria"
          ],
          [
           "almeria"
          ],
          [
           "almeria"
          ],
          [
           "antwerp deurne"
          ],
          [
           "antwerp deurne"
          ],
          [
           "antwerp deurne"
          ],
          [
           "antwerp deurne"
          ],
          [
           "antwerp deurne"
          ],
          [
           "antwerp deurne"
          ],
          [
           "antwerp deurne"
          ],
          [
           "bergen"
          ],
          [
           "bergen"
          ],
          [
           "bergen"
          ],
          [
           "bergen"
          ],
          [
           "bergen"
          ],
          [
           "billund"
          ],
          [
           "billund"
          ],
          [
           "billund"
          ],
          [
           "billund"
          ],
          [
           "billund"
          ],
          [
           "billund"
          ],
          [
           "bourgas"
          ],
          [
           "bourgas"
          ],
          [
           "bourgas"
          ],
          [
           "bourgas"
          ],
          [
           "bourgas"
          ],
          [
           "carcassonne"
          ],
          [
           "carcassonne"
          ],
          [
           "carcassonne"
          ],
          [
           "carcassonne"
          ],
          [
           "carcassonne"
          ],
          [
           "carcassonne"
          ],
          [
           "carcassonne"
          ],
          [
           "carcassonne"
          ],
          [
           "carcassonne"
          ],
          [
           "chambery"
          ],
          [
           "chambery"
          ],
          [
           "chambery"
          ],
          [
           "chambery"
          ],
          [
           "chambery"
          ],
          [
           "chambery"
          ],
          [
           "chambery"
          ],
          [
           "coventry"
          ],
          [
           "coventry"
          ],
          [
           "coventry"
          ],
          [
           "coventry"
          ],
          [
           "coventry"
          ],
          [
           "dortmund"
          ],
          [
           "dortmund"
          ],
          [
           "dortmund"
          ],
          [
           "dortmund"
          ],
          [
           "dortmund"
          ],
          [
           "dortmund"
          ],
          [
           "dortmund"
          ],
          [
           "dortmund"
          ],
          [
           "dubrovnik"
          ],
          [
           "dubrovnik"
          ],
          [
           "dubrovnik"
          ],
          [
           "dubrovnik"
          ],
          [
           "dubrovnik"
          ],
          [
           "dubrovnik"
          ],
          [
           "dubrovnik"
          ],
          [
           "dundee"
          ],
          [
           "dundee"
          ],
          [
           "dundee"
          ],
          [
           "dundee"
          ],
          [
           "dundee"
          ],
          [
           "durhamtees valley"
          ],
          [
           "durhamtees valley"
          ],
          [
           "durhamtees valley"
          ],
          [
           "durhamtees valley"
          ],
          [
           "durhamtees valley"
          ],
          [
           "durhamtees valley"
          ],
          [
           "durhamtees valley"
          ],
          [
           "durhamtees valley"
          ],
          [
           "ercan"
          ],
          [
           "ercan"
          ],
          [
           "ercan"
          ],
          [
           "ercan"
          ],
          [
           "ercan"
          ],
          [
           "ercan"
          ],
          [
           "ercan"
          ],
          [
           "fuerteventura"
          ],
          [
           "fuerteventura"
          ],
          [
           "fuerteventura"
          ],
          [
           "fuerteventura"
          ],
          [
           "fuerteventura"
          ],
          [
           "fuerteventura"
          ],
          [
           "fuerteventura"
          ],
          [
           "fuerteventura"
          ],
          [
           "fuerteventura"
          ],
          [
           "gibraltar"
          ],
          [
           "gibraltar"
          ],
          [
           "gibraltar"
          ],
          [
           "gibraltar"
          ],
          [
           "gibraltar"
          ],
          [
           "gibraltar"
          ],
          [
           "gibraltar"
          ],
          [
           "gibraltar"
          ],
          [
           "granada"
          ],
          [
           "granada"
          ],
          [
           "granada"
          ],
          [
           "granada"
          ],
          [
           "granada"
          ],
          [
           "granada"
          ],
          [
           "guernsey"
          ],
          [
           "guernsey"
          ],
          [
           "guernsey"
          ],
          [
           "guernsey"
          ],
          [
           "guernsey"
          ],
          [
           "guernsey"
          ],
          [
           "guernsey"
          ],
          [
           "hamburg lubek"
          ],
          [
           "hamburg lubek"
          ],
          [
           "hamburg lubek"
          ],
          [
           "hamburg lubek"
          ],
          [
           "hamburg lubek"
          ],
          [
           "humberside"
          ],
          [
           "humberside"
          ],
          [
           "humberside"
          ],
          [
           "humberside"
          ],
          [
           "humberside"
          ],
          [
           "humberside"
          ],
          [
           "katowice"
          ],
          [
           "katowice"
          ],
          [
           "katowice"
          ],
          [
           "katowice"
          ],
          [
           "katowice"
          ],
          [
           "katowice"
          ],
          [
           "katowice"
          ],
          [
           "leipzighalle"
          ],
          [
           "leipzighalle"
          ],
          [
           "leipzighalle"
          ],
          [
           "leipzighalle"
          ],
          [
           "leipzighalle"
          ],
          [
           "linz"
          ],
          [
           "linz"
          ],
          [
           "linz"
          ],
          [
           "linz"
          ],
          [
           "linz"
          ],
          [
           "mahon"
          ],
          [
           "mahon"
          ],
          [
           "mahon"
          ],
          [
           "mahon"
          ],
          [
           "mahon"
          ],
          [
           "mahon"
          ],
          [
           "mahon"
          ],
          [
           "mahon"
          ],
          [
           "malmo"
          ],
          [
           "malmo"
          ],
          [
           "malmo"
          ],
          [
           "malmo"
          ],
          [
           "malmo"
          ],
          [
           "malmo"
          ],
          [
           "malmo"
          ],
          [
           "nimes"
          ],
          [
           "nimes"
          ],
          [
           "nimes"
          ],
          [
           "nimes"
          ],
          [
           "nimes"
          ],
          [
           "pau"
          ],
          [
           "pau"
          ],
          [
           "pau"
          ],
          [
           "pau"
          ],
          [
           "pau"
          ],
          [
           "perpignan"
          ],
          [
           "perpignan"
          ],
          [
           "perpignan"
          ],
          [
           "perpignan"
          ],
          [
           "perpignan"
          ],
          [
           "perpignan"
          ],
          [
           "perpignan"
          ],
          [
           "perpignan"
          ],
          [
           "ponta delgada"
          ],
          [
           "ponta delgada"
          ],
          [
           "ponta delgada"
          ],
          [
           "ponta delgada"
          ],
          [
           "ponta delgada"
          ],
          [
           "ponta delgada"
          ],
          [
           "poznan"
          ],
          [
           "poznan"
          ],
          [
           "poznan"
          ],
          [
           "poznan"
          ],
          [
           "poznan"
          ],
          [
           "pristina"
          ],
          [
           "pristina"
          ],
          [
           "pristina"
          ],
          [
           "pristina"
          ],
          [
           "pristina"
          ],
          [
           "pristina"
          ],
          [
           "pristina"
          ],
          [
           "pristina"
          ],
          [
           "salzburg"
          ],
          [
           "salzburg"
          ],
          [
           "salzburg"
          ],
          [
           "salzburg"
          ],
          [
           "salzburg"
          ],
          [
           "salzburg"
          ],
          [
           "salzburg"
          ],
          [
           "sarajevo"
          ],
          [
           "sarajevo"
          ],
          [
           "sarajevo"
          ],
          [
           "sarajevo"
          ],
          [
           "sarajevo"
          ],
          [
           "sarajevo"
          ],
          [
           "sarajevo"
          ],
          [
           "sarajevo"
          ],
          [
           "seville"
          ],
          [
           "seville"
          ],
          [
           "seville"
          ],
          [
           "seville"
          ],
          [
           "seville"
          ],
          [
           "seville"
          ],
          [
           "seville"
          ],
          [
           "seville"
          ],
          [
           "seville"
          ],
          [
           "skopje"
          ],
          [
           "skopje"
          ],
          [
           "skopje"
          ],
          [
           "skopje"
          ],
          [
           "skopje"
          ],
          [
           "stockholm vasteras"
          ],
          [
           "stockholm vasteras"
          ],
          [
           "stockholm vasteras"
          ],
          [
           "stockholm vasteras"
          ],
          [
           "stockholm vasteras"
          ],
          [
           "tirana"
          ],
          [
           "tirana"
          ],
          [
           "tirana"
          ],
          [
           "tirana"
          ],
          [
           "tirana"
          ],
          [
           "tirana"
          ],
          [
           "tirana"
          ],
          [
           "tirana"
          ],
          [
           "trieste"
          ],
          [
           "trieste"
          ],
          [
           "trieste"
          ],
          [
           "trieste"
          ],
          [
           "trieste"
          ],
          [
           "tromso"
          ],
          [
           "tromso"
          ],
          [
           "tromso"
          ],
          [
           "tromso"
          ],
          [
           "tromso"
          ],
          [
           "vnukovo"
          ],
          [
           "vnukovo"
          ],
          [
           "vnukovo"
          ],
          [
           "vnukovo"
          ],
          [
           "vnukovo"
          ],
          [
           "waterford"
          ],
          [
           "waterford"
          ],
          [
           "waterford"
          ],
          [
           "waterford"
          ],
          [
           "waterford"
          ],
          [
           "waterford"
          ],
          [
           "wroclaw strachowice"
          ],
          [
           "wroclaw strachowice"
          ],
          [
           "wroclaw strachowice"
          ],
          [
           "wroclaw strachowice"
          ],
          [
           "wroclaw strachowice"
          ],
          [
           "wroclaw strachowice"
          ],
          [
           "wroclaw strachowice"
          ],
          [
           "wroclaw strachowice"
          ],
          [
           "wroclaw strachowice"
          ]
         ],
         "hovertemplate": "geo_area=Europe<br>mean_overall_rating=%{x}<br>mean_terminal_seating_rating=%{y}<br>airport_name=%{customdata[0]}<extra></extra>",
         "legendgroup": "Europe",
         "marker": {
          "color": "#EF553B",
          "symbol": "circle"
         },
         "mode": "markers",
         "name": "Europe",
         "orientation": "v",
         "showlegend": true,
         "type": "scatter",
         "x": [
          5,
          5,
          5,
          5,
          5,
          5,
          5,
          5,
          5,
          5,
          5,
          5,
          5,
          5,
          5,
          3,
          3,
          3,
          3,
          3,
          2,
          2,
          2,
          2,
          2,
          2,
          4,
          4,
          4,
          4,
          4,
          5,
          5,
          5,
          5,
          5,
          5,
          5,
          5,
          5,
          2.5,
          2.5,
          2.5,
          2.5,
          2.5,
          2.5,
          2.5,
          null,
          null,
          null,
          null,
          null,
          4,
          4,
          4,
          4,
          4,
          4,
          4,
          4,
          4.5,
          4.5,
          4.5,
          4.5,
          4.5,
          4.5,
          4.5,
          null,
          null,
          null,
          null,
          null,
          3,
          3,
          3,
          3,
          3,
          3,
          3,
          3,
          2.5,
          2.5,
          2.5,
          2.5,
          2.5,
          2.5,
          2.5,
          4.2,
          4.2,
          4.2,
          4.2,
          4.2,
          4.2,
          4.2,
          4.2,
          4.2,
          4,
          4,
          4,
          4,
          4,
          4,
          4,
          4,
          4,
          4,
          4,
          4,
          4,
          4,
          4.666666666666667,
          4.666666666666667,
          4.666666666666667,
          4.666666666666667,
          4.666666666666667,
          4.666666666666667,
          4.666666666666667,
          null,
          null,
          null,
          null,
          null,
          5,
          5,
          5,
          5,
          5,
          5,
          4.2,
          4.2,
          4.2,
          4.2,
          4.2,
          4.2,
          4.2,
          5,
          5,
          5,
          5,
          5,
          null,
          null,
          null,
          null,
          null,
          4.5,
          4.5,
          4.5,
          4.5,
          4.5,
          4.5,
          4.5,
          4.5,
          null,
          null,
          null,
          null,
          null,
          null,
          null,
          3,
          3,
          3,
          3,
          3,
          null,
          null,
          null,
          null,
          null,
          3.3333333333333335,
          3.3333333333333335,
          3.3333333333333335,
          3.3333333333333335,
          3.3333333333333335,
          3.3333333333333335,
          3.3333333333333335,
          3.3333333333333335,
          3.6666666666666665,
          3.6666666666666665,
          3.6666666666666665,
          3.6666666666666665,
          3.6666666666666665,
          3.6666666666666665,
          5,
          5,
          5,
          5,
          5,
          4.5,
          4.5,
          4.5,
          4.5,
          4.5,
          4.5,
          4.5,
          4.5,
          3.75,
          3.75,
          3.75,
          3.75,
          3.75,
          3.75,
          3.75,
          5,
          5,
          5,
          5,
          5,
          5,
          5,
          5,
          4,
          4,
          4,
          4,
          4,
          4,
          4,
          4,
          4,
          4,
          4,
          4,
          4,
          4,
          5,
          5,
          5,
          5,
          5,
          3.5,
          3.5,
          3.5,
          3.5,
          3.5,
          3.5,
          3.5,
          3.5,
          3,
          3,
          3,
          3,
          3,
          4.333333333333333,
          4.333333333333333,
          4.333333333333333,
          4.333333333333333,
          4.333333333333333,
          4.5,
          4.5,
          4.5,
          4.5,
          4.5,
          3.5,
          3.5,
          3.5,
          3.5,
          3.5,
          3.5,
          4.857142857142857,
          4.857142857142857,
          4.857142857142857,
          4.857142857142857,
          4.857142857142857,
          4.857142857142857,
          4.857142857142857,
          4.857142857142857,
          4.857142857142857
         ],
         "xaxis": "x",
         "y": [
          3,
          3,
          3,
          3,
          3,
          3,
          3,
          3,
          4,
          4,
          4,
          4,
          4,
          4,
          4,
          3,
          3,
          3,
          3,
          3,
          3.5,
          3.5,
          3.5,
          3.5,
          3.5,
          3.5,
          2,
          2,
          2,
          2,
          2,
          3,
          3,
          3,
          3,
          3,
          3,
          3,
          3,
          3,
          null,
          null,
          null,
          null,
          null,
          null,
          null,
          5,
          5,
          5,
          5,
          5,
          3,
          3,
          3,
          3,
          3,
          3,
          3,
          3,
          3.5,
          3.5,
          3.5,
          3.5,
          3.5,
          3.5,
          3.5,
          null,
          null,
          null,
          null,
          null,
          2,
          2,
          2,
          2,
          2,
          2,
          2,
          2,
          4,
          4,
          4,
          4,
          4,
          4,
          4,
          4.6,
          4.6,
          4.6,
          4.6,
          4.6,
          4.6,
          4.6,
          4.6,
          4.6,
          4,
          4,
          4,
          4,
          4,
          4,
          4,
          4,
          2.6666666666666665,
          2.6666666666666665,
          2.6666666666666665,
          2.6666666666666665,
          2.6666666666666665,
          2.6666666666666665,
          3.5,
          3.5,
          3.5,
          3.5,
          3.5,
          3.5,
          3.5,
          null,
          null,
          null,
          null,
          null,
          3.25,
          3.25,
          3.25,
          3.25,
          3.25,
          3.25,
          4.666666666666667,
          4.666666666666667,
          4.666666666666667,
          4.666666666666667,
          4.666666666666667,
          4.666666666666667,
          4.666666666666667,
          4,
          4,
          4,
          4,
          4,
          null,
          null,
          null,
          null,
          null,
          5,
          5,
          5,
          5,
          5,
          5,
          5,
          5,
          null,
          null,
          null,
          null,
          null,
          null,
          null,
          null,
          null,
          null,
          null,
          null,
          5,
          5,
          5,
          5,
          5,
          2.25,
          2.25,
          2.25,
          2.25,
          2.25,
          2.25,
          2.25,
          2.25,
          4,
          4,
          4,
          4,
          4,
          4,
          4,
          4,
          4,
          4,
          4,
          4.5,
          4.5,
          4.5,
          4.5,
          4.5,
          4.5,
          4.5,
          4.5,
          2,
          2,
          2,
          2,
          2,
          2,
          2,
          5,
          5,
          5,
          5,
          5,
          5,
          5,
          5,
          4,
          4,
          4,
          4,
          4,
          4,
          4,
          4,
          4,
          4,
          4,
          4,
          4,
          4,
          4,
          4,
          4,
          4,
          4,
          3.5,
          3.5,
          3.5,
          3.5,
          3.5,
          3.5,
          3.5,
          3.5,
          1,
          1,
          1,
          1,
          1,
          4,
          4,
          4,
          4,
          4,
          2.5,
          2.5,
          2.5,
          2.5,
          2.5,
          4,
          4,
          4,
          4,
          4,
          4,
          4.166666666666667,
          4.166666666666667,
          4.166666666666667,
          4.166666666666667,
          4.166666666666667,
          4.166666666666667,
          4.166666666666667,
          4.166666666666667,
          4.166666666666667
         ],
         "yaxis": "y"
        },
        {
         "customdata": [
          [
           "aruba reina beatrix"
          ],
          [
           "aruba reina beatrix"
          ],
          [
           "aruba reina beatrix"
          ],
          [
           "aruba reina beatrix"
          ],
          [
           "aruba reina beatrix"
          ],
          [
           "aruba reina beatrix"
          ],
          [
           "aruba reina beatrix"
          ],
          [
           "aruba reina beatrix"
          ],
          [
           "aruba reina beatrix"
          ],
          [
           "belo horizonte confins"
          ],
          [
           "belo horizonte confins"
          ],
          [
           "belo horizonte confins"
          ],
          [
           "belo horizonte confins"
          ],
          [
           "belo horizonte confins"
          ],
          [
           "belo horizonte confins"
          ],
          [
           "belo horizonte confins"
          ],
          [
           "belo horizonte confins"
          ],
          [
           "belo horizonte confins"
          ],
          [
           "brasilia"
          ],
          [
           "brasilia"
          ],
          [
           "brasilia"
          ],
          [
           "brasilia"
          ],
          [
           "brasilia"
          ],
          [
           "brasilia"
          ],
          [
           "brasilia"
          ],
          [
           "brasilia"
          ],
          [
           "brasilia"
          ],
          [
           "crown point tobago"
          ],
          [
           "crown point tobago"
          ],
          [
           "crown point tobago"
          ],
          [
           "crown point tobago"
          ],
          [
           "crown point tobago"
          ],
          [
           "crown point tobago"
          ],
          [
           "crown point tobago"
          ],
          [
           "curacao"
          ],
          [
           "curacao"
          ],
          [
           "curacao"
          ],
          [
           "curacao"
          ],
          [
           "curacao"
          ],
          [
           "curacao"
          ],
          [
           "curacao"
          ],
          [
           "guayaquil"
          ],
          [
           "guayaquil"
          ],
          [
           "guayaquil"
          ],
          [
           "guayaquil"
          ],
          [
           "guayaquil"
          ],
          [
           "holguin"
          ],
          [
           "holguin"
          ],
          [
           "holguin"
          ],
          [
           "holguin"
          ],
          [
           "holguin"
          ],
          [
           "holguin"
          ],
          [
           "holguin"
          ],
          [
           "manaus"
          ],
          [
           "manaus"
          ],
          [
           "manaus"
          ],
          [
           "manaus"
          ],
          [
           "manaus"
          ],
          [
           "manaus"
          ],
          [
           "quito mariscal"
          ],
          [
           "quito mariscal"
          ],
          [
           "quito mariscal"
          ],
          [
           "quito mariscal"
          ],
          [
           "quito mariscal"
          ],
          [
           "quito mariscal"
          ],
          [
           "recife"
          ],
          [
           "recife"
          ],
          [
           "recife"
          ],
          [
           "recife"
          ],
          [
           "recife"
          ],
          [
           "salvador"
          ],
          [
           "salvador"
          ],
          [
           "salvador"
          ],
          [
           "salvador"
          ],
          [
           "salvador"
          ],
          [
           "salvador"
          ],
          [
           "santo domingo"
          ],
          [
           "santo domingo"
          ],
          [
           "santo domingo"
          ],
          [
           "santo domingo"
          ],
          [
           "santo domingo"
          ],
          [
           "santo domingo"
          ],
          [
           "santo domingo"
          ],
          [
           "santo domingo"
          ],
          [
           "sao paulo congonhas"
          ],
          [
           "sao paulo congonhas"
          ],
          [
           "sao paulo congonhas"
          ],
          [
           "sao paulo congonhas"
          ],
          [
           "sao paulo congonhas"
          ],
          [
           "sao paulo congonhas"
          ]
         ],
         "hovertemplate": "geo_area=Latin America<br>mean_overall_rating=%{x}<br>mean_terminal_seating_rating=%{y}<br>airport_name=%{customdata[0]}<extra></extra>",
         "legendgroup": "Latin America",
         "marker": {
          "color": "#00cc96",
          "symbol": "circle"
         },
         "mode": "markers",
         "name": "Latin America",
         "orientation": "v",
         "showlegend": true,
         "type": "scatter",
         "x": [
          2.3333333333333335,
          2.3333333333333335,
          2.3333333333333335,
          2.3333333333333335,
          2.3333333333333335,
          2.3333333333333335,
          2.3333333333333335,
          2.3333333333333335,
          2.3333333333333335,
          4,
          4,
          4,
          4,
          4,
          4,
          4,
          4,
          4,
          3,
          3,
          3,
          3,
          3,
          3,
          3,
          3,
          3,
          1.3333333333333333,
          1.3333333333333333,
          1.3333333333333333,
          1.3333333333333333,
          1.3333333333333333,
          1.3333333333333333,
          1.3333333333333333,
          2.5,
          2.5,
          2.5,
          2.5,
          2.5,
          2.5,
          2.5,
          3.4,
          3.4,
          3.4,
          3.4,
          3.4,
          1,
          1,
          1,
          1,
          1,
          1,
          1,
          3,
          3,
          3,
          3,
          3,
          3,
          2,
          2,
          2,
          2,
          2,
          2,
          5,
          5,
          5,
          5,
          5,
          2.3333333333333335,
          2.3333333333333335,
          2.3333333333333335,
          2.3333333333333335,
          2.3333333333333335,
          2.3333333333333335,
          4.666666666666667,
          4.666666666666667,
          4.666666666666667,
          4.666666666666667,
          4.666666666666667,
          4.666666666666667,
          4.666666666666667,
          4.666666666666667,
          3.75,
          3.75,
          3.75,
          3.75,
          3.75,
          3.75
         ],
         "xaxis": "x",
         "y": [
          3.8,
          3.8,
          3.8,
          3.8,
          3.8,
          3.8,
          3.8,
          3.8,
          3.8,
          2.25,
          2.25,
          2.25,
          2.25,
          2.25,
          2.25,
          2.25,
          2.25,
          2.25,
          2.5,
          2.5,
          2.5,
          2.5,
          2.5,
          2.5,
          2.5,
          2.5,
          2.5,
          2,
          2,
          2,
          2,
          2,
          2,
          2,
          2.6666666666666665,
          2.6666666666666665,
          2.6666666666666665,
          2.6666666666666665,
          2.6666666666666665,
          2.6666666666666665,
          2.6666666666666665,
          3.4,
          3.4,
          3.4,
          3.4,
          3.4,
          1,
          1,
          1,
          1,
          1,
          1,
          1,
          1.5,
          1.5,
          1.5,
          1.5,
          1.5,
          1.5,
          3,
          3,
          3,
          3,
          3,
          3,
          3,
          3,
          3,
          3,
          3,
          2.3333333333333335,
          2.3333333333333335,
          2.3333333333333335,
          2.3333333333333335,
          2.3333333333333335,
          2.3333333333333335,
          4.333333333333333,
          4.333333333333333,
          4.333333333333333,
          4.333333333333333,
          4.333333333333333,
          4.333333333333333,
          4.333333333333333,
          4.333333333333333,
          3,
          3,
          3,
          3,
          3,
          3
         ],
         "yaxis": "y"
        },
        {
         "customdata": [
          [
           "beirut"
          ],
          [
           "beirut"
          ],
          [
           "beirut"
          ],
          [
           "beirut"
          ],
          [
           "beirut"
          ],
          [
           "beirut"
          ],
          [
           "beirut"
          ],
          [
           "beirut"
          ],
          [
           "beirut"
          ],
          [
           "hamad doha"
          ],
          [
           "hamad doha"
          ],
          [
           "hamad doha"
          ],
          [
           "hamad doha"
          ],
          [
           "hamad doha"
          ],
          [
           "sharjah"
          ],
          [
           "sharjah"
          ],
          [
           "sharjah"
          ],
          [
           "sharjah"
          ],
          [
           "sharjah"
          ],
          [
           "sharjah"
          ],
          [
           "tehran mehrabad"
          ],
          [
           "tehran mehrabad"
          ],
          [
           "tehran mehrabad"
          ],
          [
           "tehran mehrabad"
          ],
          [
           "tehran mehrabad"
          ]
         ],
         "hovertemplate": "geo_area=Middle-East<br>mean_overall_rating=%{x}<br>mean_terminal_seating_rating=%{y}<br>airport_name=%{customdata[0]}<extra></extra>",
         "legendgroup": "Middle-East",
         "marker": {
          "color": "#ab63fa",
          "symbol": "circle"
         },
         "mode": "markers",
         "name": "Middle-East",
         "orientation": "v",
         "showlegend": true,
         "type": "scatter",
         "x": [
          3.8,
          3.8,
          3.8,
          3.8,
          3.8,
          3.8,
          3.8,
          3.8,
          3.8,
          null,
          null,
          null,
          null,
          null,
          2.6666666666666665,
          2.6666666666666665,
          2.6666666666666665,
          2.6666666666666665,
          2.6666666666666665,
          2.6666666666666665,
          4,
          4,
          4,
          4,
          4
         ],
         "xaxis": "x",
         "y": [
          3.25,
          3.25,
          3.25,
          3.25,
          3.25,
          3.25,
          3.25,
          3.25,
          3.25,
          3.25,
          3.25,
          3.25,
          3.25,
          3.25,
          2.5,
          2.5,
          2.5,
          2.5,
          2.5,
          2.5,
          2,
          2,
          2,
          2,
          2
         ],
         "yaxis": "y"
        },
        {
         "customdata": [
          [
           "bermuda"
          ],
          [
           "bermuda"
          ],
          [
           "bermuda"
          ],
          [
           "bermuda"
          ],
          [
           "bermuda"
          ],
          [
           "colorado springs"
          ],
          [
           "colorado springs"
          ],
          [
           "colorado springs"
          ],
          [
           "colorado springs"
          ],
          [
           "colorado springs"
          ],
          [
           "colorado springs"
          ],
          [
           "colorado springs"
          ],
          [
           "columbus"
          ],
          [
           "columbus"
          ],
          [
           "columbus"
          ],
          [
           "columbus"
          ],
          [
           "columbus"
          ],
          [
           "dallas love field"
          ],
          [
           "dallas love field"
          ],
          [
           "dallas love field"
          ],
          [
           "dallas love field"
          ],
          [
           "dallas love field"
          ],
          [
           "fort myers"
          ],
          [
           "fort myers"
          ],
          [
           "fort myers"
          ],
          [
           "fort myers"
          ],
          [
           "fort myers"
          ],
          [
           "fort myers"
          ],
          [
           "fort myers"
          ],
          [
           "fort myers"
          ],
          [
           "fort myers"
          ],
          [
           "hartford"
          ],
          [
           "hartford"
          ],
          [
           "hartford"
          ],
          [
           "hartford"
          ],
          [
           "hartford"
          ],
          [
           "hartford"
          ],
          [
           "hartford"
          ],
          [
           "hartford"
          ],
          [
           "hartford"
          ],
          [
           "hilo"
          ],
          [
           "hilo"
          ],
          [
           "hilo"
          ],
          [
           "hilo"
          ],
          [
           "hilo"
          ],
          [
           "hilo"
          ],
          [
           "indianapolis"
          ],
          [
           "indianapolis"
          ],
          [
           "indianapolis"
          ],
          [
           "indianapolis"
          ],
          [
           "indianapolis"
          ],
          [
           "indianapolis"
          ],
          [
           "indianapolis"
          ],
          [
           "indianapolis"
          ],
          [
           "indianapolis"
          ],
          [
           "jacksonville"
          ],
          [
           "jacksonville"
          ],
          [
           "jacksonville"
          ],
          [
           "jacksonville"
          ],
          [
           "jacksonville"
          ],
          [
           "john wayne"
          ],
          [
           "john wayne"
          ],
          [
           "john wayne"
          ],
          [
           "john wayne"
          ],
          [
           "john wayne"
          ],
          [
           "john wayne"
          ],
          [
           "little rock"
          ],
          [
           "little rock"
          ],
          [
           "little rock"
          ],
          [
           "little rock"
          ],
          [
           "little rock"
          ],
          [
           "little rock"
          ],
          [
           "long beach"
          ],
          [
           "long beach"
          ],
          [
           "long beach"
          ],
          [
           "long beach"
          ],
          [
           "long beach"
          ],
          [
           "long beach"
          ],
          [
           "long island macarthur"
          ],
          [
           "long island macarthur"
          ],
          [
           "long island macarthur"
          ],
          [
           "long island macarthur"
          ],
          [
           "long island macarthur"
          ],
          [
           "long island macarthur"
          ],
          [
           "long island macarthur"
          ],
          [
           "memphis"
          ],
          [
           "memphis"
          ],
          [
           "memphis"
          ],
          [
           "memphis"
          ],
          [
           "memphis"
          ],
          [
           "memphis"
          ],
          [
           "memphis"
          ],
          [
           "milwaukee"
          ],
          [
           "milwaukee"
          ],
          [
           "milwaukee"
          ],
          [
           "milwaukee"
          ],
          [
           "milwaukee"
          ],
          [
           "milwaukee"
          ],
          [
           "milwaukee"
          ],
          [
           "milwaukee"
          ],
          [
           "milwaukee"
          ],
          [
           "muscle shoals"
          ],
          [
           "muscle shoals"
          ],
          [
           "muscle shoals"
          ],
          [
           "muscle shoals"
          ],
          [
           "muscle shoals"
          ],
          [
           "nashville"
          ],
          [
           "nashville"
          ],
          [
           "nashville"
          ],
          [
           "nashville"
          ],
          [
           "nashville"
          ],
          [
           "nashville"
          ],
          [
           "sacramento"
          ],
          [
           "sacramento"
          ],
          [
           "sacramento"
          ],
          [
           "sacramento"
          ],
          [
           "sacramento"
          ],
          [
           "sacramento"
          ],
          [
           "sacramento"
          ],
          [
           "sacramento"
          ],
          [
           "sacramento"
          ]
         ],
         "hovertemplate": "geo_area=North America<br>mean_overall_rating=%{x}<br>mean_terminal_seating_rating=%{y}<br>airport_name=%{customdata[0]}<extra></extra>",
         "legendgroup": "North America",
         "marker": {
          "color": "#FFA15A",
          "symbol": "circle"
         },
         "mode": "markers",
         "name": "North America",
         "orientation": "v",
         "showlegend": true,
         "type": "scatter",
         "x": [
          null,
          null,
          null,
          null,
          null,
          5,
          5,
          5,
          5,
          5,
          5,
          5,
          3.6666666666666665,
          3.6666666666666665,
          3.6666666666666665,
          3.6666666666666665,
          3.6666666666666665,
          null,
          null,
          null,
          null,
          null,
          4.375,
          4.375,
          4.375,
          4.375,
          4.375,
          4.375,
          4.375,
          4.375,
          4.375,
          5,
          5,
          5,
          5,
          5,
          5,
          5,
          5,
          5,
          4,
          4,
          4,
          4,
          4,
          4,
          5,
          5,
          5,
          5,
          5,
          5,
          5,
          5,
          5,
          5,
          5,
          5,
          5,
          5,
          4,
          4,
          4,
          4,
          4,
          4,
          5,
          5,
          5,
          5,
          5,
          5,
          5,
          5,
          5,
          5,
          5,
          5,
          5,
          5,
          5,
          5,
          5,
          5,
          5,
          3.5,
          3.5,
          3.5,
          3.5,
          3.5,
          3.5,
          3.5,
          4.8,
          4.8,
          4.8,
          4.8,
          4.8,
          4.8,
          4.8,
          4.8,
          4.8,
          null,
          null,
          null,
          null,
          null,
          4.5,
          4.5,
          4.5,
          4.5,
          4.5,
          4.5,
          4.2,
          4.2,
          4.2,
          4.2,
          4.2,
          4.2,
          4.2,
          4.2,
          4.2
         ],
         "xaxis": "x",
         "y": [
          null,
          null,
          null,
          null,
          null,
          5,
          5,
          5,
          5,
          5,
          5,
          5,
          4.5,
          4.5,
          4.5,
          4.5,
          4.5,
          null,
          null,
          null,
          null,
          null,
          3.625,
          3.625,
          3.625,
          3.625,
          3.625,
          3.625,
          3.625,
          3.625,
          3.625,
          3.5,
          3.5,
          3.5,
          3.5,
          3.5,
          3.5,
          3.5,
          3.5,
          3.5,
          3,
          3,
          3,
          3,
          3,
          3,
          4.333333333333333,
          4.333333333333333,
          4.333333333333333,
          4.333333333333333,
          4.333333333333333,
          4.333333333333333,
          4.333333333333333,
          4.333333333333333,
          4.333333333333333,
          5,
          5,
          5,
          5,
          5,
          4.5,
          4.5,
          4.5,
          4.5,
          4.5,
          4.5,
          5,
          5,
          5,
          5,
          5,
          5,
          3,
          3,
          3,
          3,
          3,
          3,
          5,
          5,
          5,
          5,
          5,
          5,
          5,
          3,
          3,
          3,
          3,
          3,
          3,
          3,
          4.666666666666667,
          4.666666666666667,
          4.666666666666667,
          4.666666666666667,
          4.666666666666667,
          4.666666666666667,
          4.666666666666667,
          4.666666666666667,
          4.666666666666667,
          null,
          null,
          null,
          null,
          null,
          4.5,
          4.5,
          4.5,
          4.5,
          4.5,
          4.5,
          4,
          4,
          4,
          4,
          4,
          4,
          4,
          4,
          4
         ],
         "yaxis": "y"
        },
        {
         "customdata": [
          [
           "chengdu"
          ],
          [
           "chengdu"
          ],
          [
           "chengdu"
          ],
          [
           "chengdu"
          ],
          [
           "chengdu"
          ],
          [
           "coimbatore"
          ],
          [
           "coimbatore"
          ],
          [
           "coimbatore"
          ],
          [
           "coimbatore"
          ],
          [
           "coimbatore"
          ],
          [
           "hangzhou"
          ],
          [
           "hangzhou"
          ],
          [
           "hangzhou"
          ],
          [
           "hangzhou"
          ],
          [
           "hangzhou"
          ],
          [
           "hangzhou"
          ],
          [
           "hangzhou"
          ],
          [
           "hangzhou"
          ],
          [
           "kunming"
          ],
          [
           "kunming"
          ],
          [
           "kunming"
          ],
          [
           "kunming"
          ],
          [
           "kunming"
          ],
          [
           "kunming"
          ],
          [
           "pune"
          ],
          [
           "pune"
          ],
          [
           "pune"
          ],
          [
           "pune"
          ],
          [
           "pune"
          ],
          [
           "pune"
          ],
          [
           "pune"
          ],
          [
           "pune"
          ],
          [
           "pune"
          ],
          [
           "qingdao"
          ],
          [
           "qingdao"
          ],
          [
           "qingdao"
          ],
          [
           "qingdao"
          ],
          [
           "qingdao"
          ],
          [
           "qingdao"
          ],
          [
           "qingdao"
          ],
          [
           "sapporo chitose"
          ],
          [
           "sapporo chitose"
          ],
          [
           "sapporo chitose"
          ],
          [
           "sapporo chitose"
          ],
          [
           "sapporo chitose"
          ],
          [
           "sapporo chitose"
          ],
          [
           "sapporo chitose"
          ],
          [
           "sapporo chitose"
          ],
          [
           "seoul gimpo"
          ],
          [
           "seoul gimpo"
          ],
          [
           "seoul gimpo"
          ],
          [
           "seoul gimpo"
          ],
          [
           "seoul gimpo"
          ],
          [
           "seoul gimpo"
          ],
          [
           "seoul gimpo"
          ],
          [
           "seoul gimpo"
          ],
          [
           "shenyang"
          ],
          [
           "shenyang"
          ],
          [
           "shenyang"
          ],
          [
           "shenyang"
          ],
          [
           "shenyang"
          ],
          [
           "shenyang"
          ],
          [
           "shenyang"
          ],
          [
           "xian xianyang"
          ],
          [
           "xian xianyang"
          ],
          [
           "xian xianyang"
          ],
          [
           "xian xianyang"
          ],
          [
           "xian xianyang"
          ],
          [
           "xian xianyang"
          ],
          [
           "xian xianyang"
          ],
          [
           "xian xianyang"
          ],
          [
           "xiamen"
          ],
          [
           "xiamen"
          ],
          [
           "xiamen"
          ],
          [
           "xiamen"
          ],
          [
           "xiamen"
          ],
          [
           "xiamen"
          ],
          [
           "xiamen"
          ],
          [
           "xiamen"
          ],
          [
           "xiamen"
          ]
         ],
         "hovertemplate": "geo_area=Asia<br>mean_overall_rating=%{x}<br>mean_terminal_seating_rating=%{y}<br>airport_name=%{customdata[0]}<extra></extra>",
         "legendgroup": "Asia",
         "marker": {
          "color": "#19d3f3",
          "symbol": "circle"
         },
         "mode": "markers",
         "name": "Asia",
         "orientation": "v",
         "showlegend": true,
         "type": "scatter",
         "x": [
          4,
          4,
          4,
          4,
          4,
          2.5,
          2.5,
          2.5,
          2.5,
          2.5,
          4.333333333333333,
          4.333333333333333,
          4.333333333333333,
          4.333333333333333,
          4.333333333333333,
          4.333333333333333,
          4.333333333333333,
          4.333333333333333,
          3.75,
          3.75,
          3.75,
          3.75,
          3.75,
          3.75,
          3,
          3,
          3,
          3,
          3,
          3,
          3,
          3,
          3,
          4.4,
          4.4,
          4.4,
          4.4,
          4.4,
          4.4,
          4.4,
          3.8,
          3.8,
          3.8,
          3.8,
          3.8,
          3.8,
          3.8,
          3.8,
          4,
          4,
          4,
          4,
          4,
          4,
          4,
          4,
          5,
          5,
          5,
          5,
          5,
          5,
          5,
          2.5,
          2.5,
          2.5,
          2.5,
          2.5,
          2.5,
          2.5,
          2.5,
          3.8,
          3.8,
          3.8,
          3.8,
          3.8,
          3.8,
          3.8,
          3.8,
          3.8
         ],
         "xaxis": "x",
         "y": [
          3.25,
          3.25,
          3.25,
          3.25,
          3.25,
          1,
          1,
          1,
          1,
          1,
          4,
          4,
          4,
          4,
          4,
          4,
          4,
          4,
          2,
          2,
          2,
          2,
          2,
          2,
          2.75,
          2.75,
          2.75,
          2.75,
          2.75,
          2.75,
          2.75,
          2.75,
          2.75,
          3.8,
          3.8,
          3.8,
          3.8,
          3.8,
          3.8,
          3.8,
          3.75,
          3.75,
          3.75,
          3.75,
          3.75,
          3.75,
          3.75,
          3.75,
          3,
          3,
          3,
          3,
          3,
          3,
          3,
          3,
          3.25,
          3.25,
          3.25,
          3.25,
          3.25,
          3.25,
          3.25,
          3.5,
          3.5,
          3.5,
          3.5,
          3.5,
          3.5,
          3.5,
          3.5,
          4,
          4,
          4,
          4,
          4,
          4,
          4,
          4,
          4
         ],
         "yaxis": "y"
        },
        {
         "customdata": [
          [
           "clark"
          ],
          [
           "clark"
          ],
          [
           "clark"
          ],
          [
           "clark"
          ],
          [
           "clark"
          ],
          [
           "clark"
          ],
          [
           "clark"
          ],
          [
           "hobart"
          ],
          [
           "hobart"
          ],
          [
           "hobart"
          ],
          [
           "hobart"
          ],
          [
           "hobart"
          ],
          [
           "hobart"
          ],
          [
           "hobart"
          ],
          [
           "hobart"
          ],
          [
           "hobart"
          ],
          [
           "kota kinabalu"
          ],
          [
           "kota kinabalu"
          ],
          [
           "kota kinabalu"
          ],
          [
           "kota kinabalu"
          ],
          [
           "kota kinabalu"
          ],
          [
           "launceston"
          ],
          [
           "launceston"
          ],
          [
           "launceston"
          ],
          [
           "launceston"
          ],
          [
           "launceston"
          ],
          [
           "medan"
          ],
          [
           "medan"
          ],
          [
           "medan"
          ],
          [
           "medan"
          ],
          [
           "medan"
          ],
          [
           "medan"
          ],
          [
           "medan"
          ],
          [
           "medan"
          ],
          [
           "subang kuala lumpur"
          ],
          [
           "subang kuala lumpur"
          ],
          [
           "subang kuala lumpur"
          ],
          [
           "subang kuala lumpur"
          ],
          [
           "subang kuala lumpur"
          ],
          [
           "tontouta"
          ],
          [
           "tontouta"
          ],
          [
           "tontouta"
          ],
          [
           "tontouta"
          ],
          [
           "tontouta"
          ],
          [
           "tontouta"
          ],
          [
           "tontouta"
          ],
          [
           "tontouta"
          ],
          [
           "vientiane"
          ],
          [
           "vientiane"
          ],
          [
           "vientiane"
          ],
          [
           "vientiane"
          ],
          [
           "vientiane"
          ],
          [
           "vientiane"
          ],
          [
           "vientiane"
          ],
          [
           "vientiane"
          ],
          [
           "yogyakarta"
          ],
          [
           "yogyakarta"
          ],
          [
           "yogyakarta"
          ],
          [
           "yogyakarta"
          ],
          [
           "yogyakarta"
          ],
          [
           "yogyakarta"
          ],
          [
           "yogyakarta"
          ]
         ],
         "hovertemplate": "geo_area=S-Asia Oceania<br>mean_overall_rating=%{x}<br>mean_terminal_seating_rating=%{y}<br>airport_name=%{customdata[0]}<extra></extra>",
         "legendgroup": "S-Asia Oceania",
         "marker": {
          "color": "#FF6692",
          "symbol": "circle"
         },
         "mode": "markers",
         "name": "S-Asia Oceania",
         "orientation": "v",
         "showlegend": true,
         "type": "scatter",
         "x": [
          3.6666666666666665,
          3.6666666666666665,
          3.6666666666666665,
          3.6666666666666665,
          3.6666666666666665,
          3.6666666666666665,
          3.6666666666666665,
          5,
          5,
          5,
          5,
          5,
          5,
          5,
          5,
          5,
          4.5,
          4.5,
          4.5,
          4.5,
          4.5,
          4,
          4,
          4,
          4,
          4,
          4,
          4,
          4,
          4,
          4,
          4,
          4,
          4,
          4.6,
          4.6,
          4.6,
          4.6,
          4.6,
          4,
          4,
          4,
          4,
          4,
          4,
          4,
          4,
          4.75,
          4.75,
          4.75,
          4.75,
          4.75,
          4.75,
          4.75,
          4.75,
          3.6666666666666665,
          3.6666666666666665,
          3.6666666666666665,
          3.6666666666666665,
          3.6666666666666665,
          3.6666666666666665,
          3.6666666666666665
         ],
         "xaxis": "x",
         "y": [
          2.4285714285714284,
          2.4285714285714284,
          2.4285714285714284,
          2.4285714285714284,
          2.4285714285714284,
          2.4285714285714284,
          2.4285714285714284,
          4,
          4,
          4,
          4,
          4,
          4,
          4,
          4,
          4,
          2.5,
          2.5,
          2.5,
          2.5,
          2.5,
          4,
          4,
          4,
          4,
          4,
          3.375,
          3.375,
          3.375,
          3.375,
          3.375,
          3.375,
          3.375,
          3.375,
          2.8,
          2.8,
          2.8,
          2.8,
          2.8,
          4,
          4,
          4,
          4,
          4,
          4,
          4,
          4,
          4,
          4,
          4,
          4,
          4,
          4,
          4,
          4,
          3,
          3,
          3,
          3,
          3,
          3,
          3
         ],
         "yaxis": "y"
        }
       ],
       "layout": {
        "legend": {
         "title": {
          "text": "geo_area"
         },
         "tracegroupgap": 0
        },
        "template": {
         "data": {
          "bar": [
           {
            "error_x": {
             "color": "#2a3f5f"
            },
            "error_y": {
             "color": "#2a3f5f"
            },
            "marker": {
             "line": {
              "color": "#E5ECF6",
              "width": 0.5
             },
             "pattern": {
              "fillmode": "overlay",
              "size": 10,
              "solidity": 0.2
             }
            },
            "type": "bar"
           }
          ],
          "barpolar": [
           {
            "marker": {
             "line": {
              "color": "#E5ECF6",
              "width": 0.5
             },
             "pattern": {
              "fillmode": "overlay",
              "size": 10,
              "solidity": 0.2
             }
            },
            "type": "barpolar"
           }
          ],
          "carpet": [
           {
            "aaxis": {
             "endlinecolor": "#2a3f5f",
             "gridcolor": "white",
             "linecolor": "white",
             "minorgridcolor": "white",
             "startlinecolor": "#2a3f5f"
            },
            "baxis": {
             "endlinecolor": "#2a3f5f",
             "gridcolor": "white",
             "linecolor": "white",
             "minorgridcolor": "white",
             "startlinecolor": "#2a3f5f"
            },
            "type": "carpet"
           }
          ],
          "choropleth": [
           {
            "colorbar": {
             "outlinewidth": 0,
             "ticks": ""
            },
            "type": "choropleth"
           }
          ],
          "contour": [
           {
            "colorbar": {
             "outlinewidth": 0,
             "ticks": ""
            },
            "colorscale": [
             [
              0,
              "#0d0887"
             ],
             [
              0.1111111111111111,
              "#46039f"
             ],
             [
              0.2222222222222222,
              "#7201a8"
             ],
             [
              0.3333333333333333,
              "#9c179e"
             ],
             [
              0.4444444444444444,
              "#bd3786"
             ],
             [
              0.5555555555555556,
              "#d8576b"
             ],
             [
              0.6666666666666666,
              "#ed7953"
             ],
             [
              0.7777777777777778,
              "#fb9f3a"
             ],
             [
              0.8888888888888888,
              "#fdca26"
             ],
             [
              1,
              "#f0f921"
             ]
            ],
            "type": "contour"
           }
          ],
          "contourcarpet": [
           {
            "colorbar": {
             "outlinewidth": 0,
             "ticks": ""
            },
            "type": "contourcarpet"
           }
          ],
          "heatmap": [
           {
            "colorbar": {
             "outlinewidth": 0,
             "ticks": ""
            },
            "colorscale": [
             [
              0,
              "#0d0887"
             ],
             [
              0.1111111111111111,
              "#46039f"
             ],
             [
              0.2222222222222222,
              "#7201a8"
             ],
             [
              0.3333333333333333,
              "#9c179e"
             ],
             [
              0.4444444444444444,
              "#bd3786"
             ],
             [
              0.5555555555555556,
              "#d8576b"
             ],
             [
              0.6666666666666666,
              "#ed7953"
             ],
             [
              0.7777777777777778,
              "#fb9f3a"
             ],
             [
              0.8888888888888888,
              "#fdca26"
             ],
             [
              1,
              "#f0f921"
             ]
            ],
            "type": "heatmap"
           }
          ],
          "heatmapgl": [
           {
            "colorbar": {
             "outlinewidth": 0,
             "ticks": ""
            },
            "colorscale": [
             [
              0,
              "#0d0887"
             ],
             [
              0.1111111111111111,
              "#46039f"
             ],
             [
              0.2222222222222222,
              "#7201a8"
             ],
             [
              0.3333333333333333,
              "#9c179e"
             ],
             [
              0.4444444444444444,
              "#bd3786"
             ],
             [
              0.5555555555555556,
              "#d8576b"
             ],
             [
              0.6666666666666666,
              "#ed7953"
             ],
             [
              0.7777777777777778,
              "#fb9f3a"
             ],
             [
              0.8888888888888888,
              "#fdca26"
             ],
             [
              1,
              "#f0f921"
             ]
            ],
            "type": "heatmapgl"
           }
          ],
          "histogram": [
           {
            "marker": {
             "pattern": {
              "fillmode": "overlay",
              "size": 10,
              "solidity": 0.2
             }
            },
            "type": "histogram"
           }
          ],
          "histogram2d": [
           {
            "colorbar": {
             "outlinewidth": 0,
             "ticks": ""
            },
            "colorscale": [
             [
              0,
              "#0d0887"
             ],
             [
              0.1111111111111111,
              "#46039f"
             ],
             [
              0.2222222222222222,
              "#7201a8"
             ],
             [
              0.3333333333333333,
              "#9c179e"
             ],
             [
              0.4444444444444444,
              "#bd3786"
             ],
             [
              0.5555555555555556,
              "#d8576b"
             ],
             [
              0.6666666666666666,
              "#ed7953"
             ],
             [
              0.7777777777777778,
              "#fb9f3a"
             ],
             [
              0.8888888888888888,
              "#fdca26"
             ],
             [
              1,
              "#f0f921"
             ]
            ],
            "type": "histogram2d"
           }
          ],
          "histogram2dcontour": [
           {
            "colorbar": {
             "outlinewidth": 0,
             "ticks": ""
            },
            "colorscale": [
             [
              0,
              "#0d0887"
             ],
             [
              0.1111111111111111,
              "#46039f"
             ],
             [
              0.2222222222222222,
              "#7201a8"
             ],
             [
              0.3333333333333333,
              "#9c179e"
             ],
             [
              0.4444444444444444,
              "#bd3786"
             ],
             [
              0.5555555555555556,
              "#d8576b"
             ],
             [
              0.6666666666666666,
              "#ed7953"
             ],
             [
              0.7777777777777778,
              "#fb9f3a"
             ],
             [
              0.8888888888888888,
              "#fdca26"
             ],
             [
              1,
              "#f0f921"
             ]
            ],
            "type": "histogram2dcontour"
           }
          ],
          "mesh3d": [
           {
            "colorbar": {
             "outlinewidth": 0,
             "ticks": ""
            },
            "type": "mesh3d"
           }
          ],
          "parcoords": [
           {
            "line": {
             "colorbar": {
              "outlinewidth": 0,
              "ticks": ""
             }
            },
            "type": "parcoords"
           }
          ],
          "pie": [
           {
            "automargin": true,
            "type": "pie"
           }
          ],
          "scatter": [
           {
            "fillpattern": {
             "fillmode": "overlay",
             "size": 10,
             "solidity": 0.2
            },
            "type": "scatter"
           }
          ],
          "scatter3d": [
           {
            "line": {
             "colorbar": {
              "outlinewidth": 0,
              "ticks": ""
             }
            },
            "marker": {
             "colorbar": {
              "outlinewidth": 0,
              "ticks": ""
             }
            },
            "type": "scatter3d"
           }
          ],
          "scattercarpet": [
           {
            "marker": {
             "colorbar": {
              "outlinewidth": 0,
              "ticks": ""
             }
            },
            "type": "scattercarpet"
           }
          ],
          "scattergeo": [
           {
            "marker": {
             "colorbar": {
              "outlinewidth": 0,
              "ticks": ""
             }
            },
            "type": "scattergeo"
           }
          ],
          "scattergl": [
           {
            "marker": {
             "colorbar": {
              "outlinewidth": 0,
              "ticks": ""
             }
            },
            "type": "scattergl"
           }
          ],
          "scattermapbox": [
           {
            "marker": {
             "colorbar": {
              "outlinewidth": 0,
              "ticks": ""
             }
            },
            "type": "scattermapbox"
           }
          ],
          "scatterpolar": [
           {
            "marker": {
             "colorbar": {
              "outlinewidth": 0,
              "ticks": ""
             }
            },
            "type": "scatterpolar"
           }
          ],
          "scatterpolargl": [
           {
            "marker": {
             "colorbar": {
              "outlinewidth": 0,
              "ticks": ""
             }
            },
            "type": "scatterpolargl"
           }
          ],
          "scatterternary": [
           {
            "marker": {
             "colorbar": {
              "outlinewidth": 0,
              "ticks": ""
             }
            },
            "type": "scatterternary"
           }
          ],
          "surface": [
           {
            "colorbar": {
             "outlinewidth": 0,
             "ticks": ""
            },
            "colorscale": [
             [
              0,
              "#0d0887"
             ],
             [
              0.1111111111111111,
              "#46039f"
             ],
             [
              0.2222222222222222,
              "#7201a8"
             ],
             [
              0.3333333333333333,
              "#9c179e"
             ],
             [
              0.4444444444444444,
              "#bd3786"
             ],
             [
              0.5555555555555556,
              "#d8576b"
             ],
             [
              0.6666666666666666,
              "#ed7953"
             ],
             [
              0.7777777777777778,
              "#fb9f3a"
             ],
             [
              0.8888888888888888,
              "#fdca26"
             ],
             [
              1,
              "#f0f921"
             ]
            ],
            "type": "surface"
           }
          ],
          "table": [
           {
            "cells": {
             "fill": {
              "color": "#EBF0F8"
             },
             "line": {
              "color": "white"
             }
            },
            "header": {
             "fill": {
              "color": "#C8D4E3"
             },
             "line": {
              "color": "white"
             }
            },
            "type": "table"
           }
          ]
         },
         "layout": {
          "annotationdefaults": {
           "arrowcolor": "#2a3f5f",
           "arrowhead": 0,
           "arrowwidth": 1
          },
          "autotypenumbers": "strict",
          "coloraxis": {
           "colorbar": {
            "outlinewidth": 0,
            "ticks": ""
           }
          },
          "colorscale": {
           "diverging": [
            [
             0,
             "#8e0152"
            ],
            [
             0.1,
             "#c51b7d"
            ],
            [
             0.2,
             "#de77ae"
            ],
            [
             0.3,
             "#f1b6da"
            ],
            [
             0.4,
             "#fde0ef"
            ],
            [
             0.5,
             "#f7f7f7"
            ],
            [
             0.6,
             "#e6f5d0"
            ],
            [
             0.7,
             "#b8e186"
            ],
            [
             0.8,
             "#7fbc41"
            ],
            [
             0.9,
             "#4d9221"
            ],
            [
             1,
             "#276419"
            ]
           ],
           "sequential": [
            [
             0,
             "#0d0887"
            ],
            [
             0.1111111111111111,
             "#46039f"
            ],
            [
             0.2222222222222222,
             "#7201a8"
            ],
            [
             0.3333333333333333,
             "#9c179e"
            ],
            [
             0.4444444444444444,
             "#bd3786"
            ],
            [
             0.5555555555555556,
             "#d8576b"
            ],
            [
             0.6666666666666666,
             "#ed7953"
            ],
            [
             0.7777777777777778,
             "#fb9f3a"
            ],
            [
             0.8888888888888888,
             "#fdca26"
            ],
            [
             1,
             "#f0f921"
            ]
           ],
           "sequentialminus": [
            [
             0,
             "#0d0887"
            ],
            [
             0.1111111111111111,
             "#46039f"
            ],
            [
             0.2222222222222222,
             "#7201a8"
            ],
            [
             0.3333333333333333,
             "#9c179e"
            ],
            [
             0.4444444444444444,
             "#bd3786"
            ],
            [
             0.5555555555555556,
             "#d8576b"
            ],
            [
             0.6666666666666666,
             "#ed7953"
            ],
            [
             0.7777777777777778,
             "#fb9f3a"
            ],
            [
             0.8888888888888888,
             "#fdca26"
            ],
            [
             1,
             "#f0f921"
            ]
           ]
          },
          "colorway": [
           "#636efa",
           "#EF553B",
           "#00cc96",
           "#ab63fa",
           "#FFA15A",
           "#19d3f3",
           "#FF6692",
           "#B6E880",
           "#FF97FF",
           "#FECB52"
          ],
          "font": {
           "color": "#2a3f5f"
          },
          "geo": {
           "bgcolor": "white",
           "lakecolor": "white",
           "landcolor": "#E5ECF6",
           "showlakes": true,
           "showland": true,
           "subunitcolor": "white"
          },
          "hoverlabel": {
           "align": "left"
          },
          "hovermode": "closest",
          "mapbox": {
           "style": "light"
          },
          "paper_bgcolor": "white",
          "plot_bgcolor": "#E5ECF6",
          "polar": {
           "angularaxis": {
            "gridcolor": "white",
            "linecolor": "white",
            "ticks": ""
           },
           "bgcolor": "#E5ECF6",
           "radialaxis": {
            "gridcolor": "white",
            "linecolor": "white",
            "ticks": ""
           }
          },
          "scene": {
           "xaxis": {
            "backgroundcolor": "#E5ECF6",
            "gridcolor": "white",
            "gridwidth": 2,
            "linecolor": "white",
            "showbackground": true,
            "ticks": "",
            "zerolinecolor": "white"
           },
           "yaxis": {
            "backgroundcolor": "#E5ECF6",
            "gridcolor": "white",
            "gridwidth": 2,
            "linecolor": "white",
            "showbackground": true,
            "ticks": "",
            "zerolinecolor": "white"
           },
           "zaxis": {
            "backgroundcolor": "#E5ECF6",
            "gridcolor": "white",
            "gridwidth": 2,
            "linecolor": "white",
            "showbackground": true,
            "ticks": "",
            "zerolinecolor": "white"
           }
          },
          "shapedefaults": {
           "line": {
            "color": "#2a3f5f"
           }
          },
          "ternary": {
           "aaxis": {
            "gridcolor": "white",
            "linecolor": "white",
            "ticks": ""
           },
           "baxis": {
            "gridcolor": "white",
            "linecolor": "white",
            "ticks": ""
           },
           "bgcolor": "#E5ECF6",
           "caxis": {
            "gridcolor": "white",
            "linecolor": "white",
            "ticks": ""
           }
          },
          "title": {
           "x": 0.05
          },
          "xaxis": {
           "automargin": true,
           "gridcolor": "white",
           "linecolor": "white",
           "ticks": "",
           "title": {
            "standoff": 15
           },
           "zerolinecolor": "white",
           "zerolinewidth": 2
          },
          "yaxis": {
           "automargin": true,
           "gridcolor": "white",
           "linecolor": "white",
           "ticks": "",
           "title": {
            "standoff": 15
           },
           "zerolinecolor": "white",
           "zerolinewidth": 2
          }
         }
        },
        "title": {
         "text": "Overall Rating vs Terminal Seating by Geo Area"
        },
        "xaxis": {
         "anchor": "y",
         "domain": [
          0,
          1
         ],
         "title": {
          "text": "mean_overall_rating"
         }
        },
        "yaxis": {
         "anchor": "x",
         "domain": [
          0,
          1
         ],
         "title": {
          "text": "mean_terminal_seating_rating"
         }
        }
       }
      }
     },
     "metadata": {},
     "output_type": "display_data"
    }
   ],
   "source": [
    "\n",
    "fig = px.scatter(small,\n",
    "                 x='mean_overall_rating',  \n",
    "                 y='mean_terminal_seating_rating',  \n",
    "                 color='geo_area',  \n",
    "                 title=\"Overall Rating vs Terminal Seating by Geo Area\",\n",
    "                 labels={'overall_rating': 'Overall Rating', 'terminal_seating_rating': 'Terminal'},\n",
    "                 hover_data=['airport_name'])  \n",
    "\n",
    "\n",
    "fig.show()"
   ]
  },
  {
   "cell_type": "code",
   "execution_count": 59,
   "metadata": {},
   "outputs": [
    {
     "data": {
      "application/vnd.plotly.v1+json": {
       "config": {
        "plotlyServerURL": "https://plot.ly"
       },
       "data": [
        {
         "customdata": [
          [
           "abuja"
          ],
          [
           "abuja"
          ],
          [
           "abuja"
          ],
          [
           "abuja"
          ],
          [
           "abuja"
          ],
          [
           "abuja"
          ],
          [
           "algiers"
          ],
          [
           "algiers"
          ],
          [
           "algiers"
          ],
          [
           "algiers"
          ],
          [
           "algiers"
          ],
          [
           "algiers"
          ],
          [
           "algiers"
          ],
          [
           "algiers"
          ],
          [
           "banjul"
          ],
          [
           "banjul"
          ],
          [
           "banjul"
          ],
          [
           "banjul"
          ],
          [
           "banjul"
          ],
          [
           "banjul"
          ],
          [
           "dakar"
          ],
          [
           "dakar"
          ],
          [
           "dakar"
          ],
          [
           "dakar"
          ],
          [
           "dakar"
          ],
          [
           "durban"
          ],
          [
           "durban"
          ],
          [
           "durban"
          ],
          [
           "durban"
          ],
          [
           "durban"
          ],
          [
           "durban"
          ],
          [
           "durban"
          ],
          [
           "durban"
          ],
          [
           "entebbe"
          ],
          [
           "entebbe"
          ],
          [
           "entebbe"
          ],
          [
           "entebbe"
          ],
          [
           "entebbe"
          ],
          [
           "entebbe"
          ],
          [
           "entebbe"
          ],
          [
           "entebbe"
          ],
          [
           "entebbe"
          ],
          [
           "freetown"
          ],
          [
           "freetown"
          ],
          [
           "freetown"
          ],
          [
           "freetown"
          ],
          [
           "freetown"
          ],
          [
           "freetown"
          ],
          [
           "freetown"
          ],
          [
           "hurghada"
          ],
          [
           "hurghada"
          ],
          [
           "hurghada"
          ],
          [
           "hurghada"
          ],
          [
           "hurghada"
          ],
          [
           "kilimanjaro"
          ],
          [
           "kilimanjaro"
          ],
          [
           "kilimanjaro"
          ],
          [
           "kilimanjaro"
          ],
          [
           "kilimanjaro"
          ],
          [
           "kilimanjaro"
          ],
          [
           "kilimanjaro"
          ],
          [
           "kilimanjaro"
          ],
          [
           "lusaka"
          ],
          [
           "lusaka"
          ],
          [
           "lusaka"
          ],
          [
           "lusaka"
          ],
          [
           "lusaka"
          ],
          [
           "luxor"
          ],
          [
           "luxor"
          ],
          [
           "luxor"
          ],
          [
           "luxor"
          ],
          [
           "luxor"
          ],
          [
           "luxor"
          ],
          [
           "luxor"
          ],
          [
           "luxor"
          ],
          [
           "mombasa"
          ],
          [
           "mombasa"
          ],
          [
           "mombasa"
          ],
          [
           "mombasa"
          ],
          [
           "mombasa"
          ],
          [
           "mombasa"
          ],
          [
           "mombasa"
          ],
          [
           "mombasa"
          ],
          [
           "mombasa"
          ],
          [
           "monastir"
          ],
          [
           "monastir"
          ],
          [
           "monastir"
          ],
          [
           "monastir"
          ],
          [
           "monastir"
          ],
          [
           "monastir"
          ],
          [
           "monastir"
          ],
          [
           "monastir"
          ],
          [
           "seychelles"
          ],
          [
           "seychelles"
          ],
          [
           "seychelles"
          ],
          [
           "seychelles"
          ],
          [
           "seychelles"
          ],
          [
           "seychelles"
          ],
          [
           "taba"
          ],
          [
           "taba"
          ],
          [
           "taba"
          ],
          [
           "taba"
          ],
          [
           "taba"
          ],
          [
           "windhoek"
          ],
          [
           "windhoek"
          ],
          [
           "windhoek"
          ],
          [
           "windhoek"
          ],
          [
           "windhoek"
          ],
          [
           "windhoek"
          ],
          [
           "zanzibar"
          ],
          [
           "zanzibar"
          ],
          [
           "zanzibar"
          ],
          [
           "zanzibar"
          ],
          [
           "zanzibar"
          ]
         ],
         "hovertemplate": "geo_area=Africa<br>mean_overall_rating=%{x}<br>mean_terminal_seating_rating=%{y}<br>airport_name=%{customdata[0]}<extra></extra>",
         "legendgroup": "Africa",
         "marker": {
          "color": "#636efa",
          "symbol": "circle"
         },
         "mode": "markers",
         "name": "Africa",
         "orientation": "v",
         "showlegend": true,
         "type": "scatter",
         "x": [
          2,
          2,
          2,
          2,
          2,
          2,
          4.333333333333333,
          4.333333333333333,
          4.333333333333333,
          4.333333333333333,
          4.333333333333333,
          4.333333333333333,
          4.333333333333333,
          4.333333333333333,
          2,
          2,
          2,
          2,
          2,
          2,
          3,
          3,
          3,
          3,
          3,
          5,
          5,
          5,
          5,
          5,
          5,
          5,
          5,
          4,
          4,
          4,
          4,
          4,
          4,
          4,
          4,
          4,
          4,
          4,
          4,
          4,
          4,
          4,
          4,
          3,
          3,
          3,
          3,
          3,
          4.333333333333333,
          4.333333333333333,
          4.333333333333333,
          4.333333333333333,
          4.333333333333333,
          4.333333333333333,
          4.333333333333333,
          4.333333333333333,
          5,
          5,
          5,
          5,
          5,
          2.5,
          2.5,
          2.5,
          2.5,
          2.5,
          2.5,
          2.5,
          2.5,
          3,
          3,
          3,
          3,
          3,
          3,
          3,
          3,
          3,
          1.5,
          1.5,
          1.5,
          1.5,
          1.5,
          1.5,
          1.5,
          1.5,
          3,
          3,
          3,
          3,
          3,
          3,
          1.6666666666666667,
          1.6666666666666667,
          1.6666666666666667,
          1.6666666666666667,
          1.6666666666666667,
          2.5,
          2.5,
          2.5,
          2.5,
          2.5,
          2.5,
          1.5,
          1.5,
          1.5,
          1.5,
          1.5
         ],
         "xaxis": "x",
         "y": [
          1.25,
          1.25,
          1.25,
          1.25,
          1.25,
          1.25,
          3.5,
          3.5,
          3.5,
          3.5,
          3.5,
          3.5,
          3.5,
          3.5,
          3,
          3,
          3,
          3,
          3,
          3,
          null,
          null,
          null,
          null,
          null,
          4.5,
          4.5,
          4.5,
          4.5,
          4.5,
          4.5,
          4.5,
          4.5,
          3.25,
          3.25,
          3.25,
          3.25,
          3.25,
          3.25,
          3.25,
          3.25,
          3.25,
          3,
          3,
          3,
          3,
          3,
          3,
          3,
          3.5,
          3.5,
          3.5,
          3.5,
          3.5,
          3,
          3,
          3,
          3,
          3,
          3,
          3,
          3,
          2,
          2,
          2,
          2,
          2,
          3,
          3,
          3,
          3,
          3,
          3,
          3,
          3,
          2.2,
          2.2,
          2.2,
          2.2,
          2.2,
          2.2,
          2.2,
          2.2,
          2.2,
          3.2,
          3.2,
          3.2,
          3.2,
          3.2,
          3.2,
          3.2,
          3.2,
          2.6666666666666665,
          2.6666666666666665,
          2.6666666666666665,
          2.6666666666666665,
          2.6666666666666665,
          2.6666666666666665,
          null,
          null,
          null,
          null,
          null,
          3.5,
          3.5,
          3.5,
          3.5,
          3.5,
          3.5,
          2,
          2,
          2,
          2,
          2
         ],
         "yaxis": "y"
        },
        {
         "customdata": [
          [
           "almeria"
          ],
          [
           "almeria"
          ],
          [
           "almeria"
          ],
          [
           "almeria"
          ],
          [
           "almeria"
          ],
          [
           "almeria"
          ],
          [
           "almeria"
          ],
          [
           "almeria"
          ],
          [
           "antwerp deurne"
          ],
          [
           "antwerp deurne"
          ],
          [
           "antwerp deurne"
          ],
          [
           "antwerp deurne"
          ],
          [
           "antwerp deurne"
          ],
          [
           "antwerp deurne"
          ],
          [
           "antwerp deurne"
          ],
          [
           "bergen"
          ],
          [
           "bergen"
          ],
          [
           "bergen"
          ],
          [
           "bergen"
          ],
          [
           "bergen"
          ],
          [
           "billund"
          ],
          [
           "billund"
          ],
          [
           "billund"
          ],
          [
           "billund"
          ],
          [
           "billund"
          ],
          [
           "billund"
          ],
          [
           "bourgas"
          ],
          [
           "bourgas"
          ],
          [
           "bourgas"
          ],
          [
           "bourgas"
          ],
          [
           "bourgas"
          ],
          [
           "carcassonne"
          ],
          [
           "carcassonne"
          ],
          [
           "carcassonne"
          ],
          [
           "carcassonne"
          ],
          [
           "carcassonne"
          ],
          [
           "carcassonne"
          ],
          [
           "carcassonne"
          ],
          [
           "carcassonne"
          ],
          [
           "carcassonne"
          ],
          [
           "chambery"
          ],
          [
           "chambery"
          ],
          [
           "chambery"
          ],
          [
           "chambery"
          ],
          [
           "chambery"
          ],
          [
           "chambery"
          ],
          [
           "chambery"
          ],
          [
           "coventry"
          ],
          [
           "coventry"
          ],
          [
           "coventry"
          ],
          [
           "coventry"
          ],
          [
           "coventry"
          ],
          [
           "dortmund"
          ],
          [
           "dortmund"
          ],
          [
           "dortmund"
          ],
          [
           "dortmund"
          ],
          [
           "dortmund"
          ],
          [
           "dortmund"
          ],
          [
           "dortmund"
          ],
          [
           "dortmund"
          ],
          [
           "dubrovnik"
          ],
          [
           "dubrovnik"
          ],
          [
           "dubrovnik"
          ],
          [
           "dubrovnik"
          ],
          [
           "dubrovnik"
          ],
          [
           "dubrovnik"
          ],
          [
           "dubrovnik"
          ],
          [
           "dundee"
          ],
          [
           "dundee"
          ],
          [
           "dundee"
          ],
          [
           "dundee"
          ],
          [
           "dundee"
          ],
          [
           "durhamtees valley"
          ],
          [
           "durhamtees valley"
          ],
          [
           "durhamtees valley"
          ],
          [
           "durhamtees valley"
          ],
          [
           "durhamtees valley"
          ],
          [
           "durhamtees valley"
          ],
          [
           "durhamtees valley"
          ],
          [
           "durhamtees valley"
          ],
          [
           "ercan"
          ],
          [
           "ercan"
          ],
          [
           "ercan"
          ],
          [
           "ercan"
          ],
          [
           "ercan"
          ],
          [
           "ercan"
          ],
          [
           "ercan"
          ],
          [
           "fuerteventura"
          ],
          [
           "fuerteventura"
          ],
          [
           "fuerteventura"
          ],
          [
           "fuerteventura"
          ],
          [
           "fuerteventura"
          ],
          [
           "fuerteventura"
          ],
          [
           "fuerteventura"
          ],
          [
           "fuerteventura"
          ],
          [
           "fuerteventura"
          ],
          [
           "gibraltar"
          ],
          [
           "gibraltar"
          ],
          [
           "gibraltar"
          ],
          [
           "gibraltar"
          ],
          [
           "gibraltar"
          ],
          [
           "gibraltar"
          ],
          [
           "gibraltar"
          ],
          [
           "gibraltar"
          ],
          [
           "granada"
          ],
          [
           "granada"
          ],
          [
           "granada"
          ],
          [
           "granada"
          ],
          [
           "granada"
          ],
          [
           "granada"
          ],
          [
           "guernsey"
          ],
          [
           "guernsey"
          ],
          [
           "guernsey"
          ],
          [
           "guernsey"
          ],
          [
           "guernsey"
          ],
          [
           "guernsey"
          ],
          [
           "guernsey"
          ],
          [
           "hamburg lubek"
          ],
          [
           "hamburg lubek"
          ],
          [
           "hamburg lubek"
          ],
          [
           "hamburg lubek"
          ],
          [
           "hamburg lubek"
          ],
          [
           "humberside"
          ],
          [
           "humberside"
          ],
          [
           "humberside"
          ],
          [
           "humberside"
          ],
          [
           "humberside"
          ],
          [
           "humberside"
          ],
          [
           "katowice"
          ],
          [
           "katowice"
          ],
          [
           "katowice"
          ],
          [
           "katowice"
          ],
          [
           "katowice"
          ],
          [
           "katowice"
          ],
          [
           "katowice"
          ],
          [
           "leipzighalle"
          ],
          [
           "leipzighalle"
          ],
          [
           "leipzighalle"
          ],
          [
           "leipzighalle"
          ],
          [
           "leipzighalle"
          ],
          [
           "linz"
          ],
          [
           "linz"
          ],
          [
           "linz"
          ],
          [
           "linz"
          ],
          [
           "linz"
          ],
          [
           "mahon"
          ],
          [
           "mahon"
          ],
          [
           "mahon"
          ],
          [
           "mahon"
          ],
          [
           "mahon"
          ],
          [
           "mahon"
          ],
          [
           "mahon"
          ],
          [
           "mahon"
          ],
          [
           "malmo"
          ],
          [
           "malmo"
          ],
          [
           "malmo"
          ],
          [
           "malmo"
          ],
          [
           "malmo"
          ],
          [
           "malmo"
          ],
          [
           "malmo"
          ],
          [
           "nimes"
          ],
          [
           "nimes"
          ],
          [
           "nimes"
          ],
          [
           "nimes"
          ],
          [
           "nimes"
          ],
          [
           "pau"
          ],
          [
           "pau"
          ],
          [
           "pau"
          ],
          [
           "pau"
          ],
          [
           "pau"
          ],
          [
           "perpignan"
          ],
          [
           "perpignan"
          ],
          [
           "perpignan"
          ],
          [
           "perpignan"
          ],
          [
           "perpignan"
          ],
          [
           "perpignan"
          ],
          [
           "perpignan"
          ],
          [
           "perpignan"
          ],
          [
           "ponta delgada"
          ],
          [
           "ponta delgada"
          ],
          [
           "ponta delgada"
          ],
          [
           "ponta delgada"
          ],
          [
           "ponta delgada"
          ],
          [
           "ponta delgada"
          ],
          [
           "poznan"
          ],
          [
           "poznan"
          ],
          [
           "poznan"
          ],
          [
           "poznan"
          ],
          [
           "poznan"
          ],
          [
           "pristina"
          ],
          [
           "pristina"
          ],
          [
           "pristina"
          ],
          [
           "pristina"
          ],
          [
           "pristina"
          ],
          [
           "pristina"
          ],
          [
           "pristina"
          ],
          [
           "pristina"
          ],
          [
           "salzburg"
          ],
          [
           "salzburg"
          ],
          [
           "salzburg"
          ],
          [
           "salzburg"
          ],
          [
           "salzburg"
          ],
          [
           "salzburg"
          ],
          [
           "salzburg"
          ],
          [
           "sarajevo"
          ],
          [
           "sarajevo"
          ],
          [
           "sarajevo"
          ],
          [
           "sarajevo"
          ],
          [
           "sarajevo"
          ],
          [
           "sarajevo"
          ],
          [
           "sarajevo"
          ],
          [
           "sarajevo"
          ],
          [
           "seville"
          ],
          [
           "seville"
          ],
          [
           "seville"
          ],
          [
           "seville"
          ],
          [
           "seville"
          ],
          [
           "seville"
          ],
          [
           "seville"
          ],
          [
           "seville"
          ],
          [
           "seville"
          ],
          [
           "skopje"
          ],
          [
           "skopje"
          ],
          [
           "skopje"
          ],
          [
           "skopje"
          ],
          [
           "skopje"
          ],
          [
           "stockholm vasteras"
          ],
          [
           "stockholm vasteras"
          ],
          [
           "stockholm vasteras"
          ],
          [
           "stockholm vasteras"
          ],
          [
           "stockholm vasteras"
          ],
          [
           "tirana"
          ],
          [
           "tirana"
          ],
          [
           "tirana"
          ],
          [
           "tirana"
          ],
          [
           "tirana"
          ],
          [
           "tirana"
          ],
          [
           "tirana"
          ],
          [
           "tirana"
          ],
          [
           "trieste"
          ],
          [
           "trieste"
          ],
          [
           "trieste"
          ],
          [
           "trieste"
          ],
          [
           "trieste"
          ],
          [
           "tromso"
          ],
          [
           "tromso"
          ],
          [
           "tromso"
          ],
          [
           "tromso"
          ],
          [
           "tromso"
          ],
          [
           "vnukovo"
          ],
          [
           "vnukovo"
          ],
          [
           "vnukovo"
          ],
          [
           "vnukovo"
          ],
          [
           "vnukovo"
          ],
          [
           "waterford"
          ],
          [
           "waterford"
          ],
          [
           "waterford"
          ],
          [
           "waterford"
          ],
          [
           "waterford"
          ],
          [
           "waterford"
          ],
          [
           "wroclaw strachowice"
          ],
          [
           "wroclaw strachowice"
          ],
          [
           "wroclaw strachowice"
          ],
          [
           "wroclaw strachowice"
          ],
          [
           "wroclaw strachowice"
          ],
          [
           "wroclaw strachowice"
          ],
          [
           "wroclaw strachowice"
          ],
          [
           "wroclaw strachowice"
          ],
          [
           "wroclaw strachowice"
          ]
         ],
         "hovertemplate": "geo_area=Europe<br>mean_overall_rating=%{x}<br>mean_terminal_seating_rating=%{y}<br>airport_name=%{customdata[0]}<extra></extra>",
         "legendgroup": "Europe",
         "marker": {
          "color": "#EF553B",
          "symbol": "circle"
         },
         "mode": "markers",
         "name": "Europe",
         "orientation": "v",
         "showlegend": true,
         "type": "scatter",
         "x": [
          5,
          5,
          5,
          5,
          5,
          5,
          5,
          5,
          5,
          5,
          5,
          5,
          5,
          5,
          5,
          3,
          3,
          3,
          3,
          3,
          2,
          2,
          2,
          2,
          2,
          2,
          4,
          4,
          4,
          4,
          4,
          5,
          5,
          5,
          5,
          5,
          5,
          5,
          5,
          5,
          2.5,
          2.5,
          2.5,
          2.5,
          2.5,
          2.5,
          2.5,
          null,
          null,
          null,
          null,
          null,
          4,
          4,
          4,
          4,
          4,
          4,
          4,
          4,
          4.5,
          4.5,
          4.5,
          4.5,
          4.5,
          4.5,
          4.5,
          null,
          null,
          null,
          null,
          null,
          3,
          3,
          3,
          3,
          3,
          3,
          3,
          3,
          2.5,
          2.5,
          2.5,
          2.5,
          2.5,
          2.5,
          2.5,
          4.2,
          4.2,
          4.2,
          4.2,
          4.2,
          4.2,
          4.2,
          4.2,
          4.2,
          4,
          4,
          4,
          4,
          4,
          4,
          4,
          4,
          4,
          4,
          4,
          4,
          4,
          4,
          4.666666666666667,
          4.666666666666667,
          4.666666666666667,
          4.666666666666667,
          4.666666666666667,
          4.666666666666667,
          4.666666666666667,
          null,
          null,
          null,
          null,
          null,
          5,
          5,
          5,
          5,
          5,
          5,
          4.2,
          4.2,
          4.2,
          4.2,
          4.2,
          4.2,
          4.2,
          5,
          5,
          5,
          5,
          5,
          null,
          null,
          null,
          null,
          null,
          4.5,
          4.5,
          4.5,
          4.5,
          4.5,
          4.5,
          4.5,
          4.5,
          null,
          null,
          null,
          null,
          null,
          null,
          null,
          3,
          3,
          3,
          3,
          3,
          null,
          null,
          null,
          null,
          null,
          3.3333333333333335,
          3.3333333333333335,
          3.3333333333333335,
          3.3333333333333335,
          3.3333333333333335,
          3.3333333333333335,
          3.3333333333333335,
          3.3333333333333335,
          3.6666666666666665,
          3.6666666666666665,
          3.6666666666666665,
          3.6666666666666665,
          3.6666666666666665,
          3.6666666666666665,
          5,
          5,
          5,
          5,
          5,
          4.5,
          4.5,
          4.5,
          4.5,
          4.5,
          4.5,
          4.5,
          4.5,
          3.75,
          3.75,
          3.75,
          3.75,
          3.75,
          3.75,
          3.75,
          5,
          5,
          5,
          5,
          5,
          5,
          5,
          5,
          4,
          4,
          4,
          4,
          4,
          4,
          4,
          4,
          4,
          4,
          4,
          4,
          4,
          4,
          5,
          5,
          5,
          5,
          5,
          3.5,
          3.5,
          3.5,
          3.5,
          3.5,
          3.5,
          3.5,
          3.5,
          3,
          3,
          3,
          3,
          3,
          4.333333333333333,
          4.333333333333333,
          4.333333333333333,
          4.333333333333333,
          4.333333333333333,
          4.5,
          4.5,
          4.5,
          4.5,
          4.5,
          3.5,
          3.5,
          3.5,
          3.5,
          3.5,
          3.5,
          4.857142857142857,
          4.857142857142857,
          4.857142857142857,
          4.857142857142857,
          4.857142857142857,
          4.857142857142857,
          4.857142857142857,
          4.857142857142857,
          4.857142857142857
         ],
         "xaxis": "x",
         "y": [
          3,
          3,
          3,
          3,
          3,
          3,
          3,
          3,
          4,
          4,
          4,
          4,
          4,
          4,
          4,
          3,
          3,
          3,
          3,
          3,
          3.5,
          3.5,
          3.5,
          3.5,
          3.5,
          3.5,
          2,
          2,
          2,
          2,
          2,
          3,
          3,
          3,
          3,
          3,
          3,
          3,
          3,
          3,
          null,
          null,
          null,
          null,
          null,
          null,
          null,
          5,
          5,
          5,
          5,
          5,
          3,
          3,
          3,
          3,
          3,
          3,
          3,
          3,
          3.5,
          3.5,
          3.5,
          3.5,
          3.5,
          3.5,
          3.5,
          null,
          null,
          null,
          null,
          null,
          2,
          2,
          2,
          2,
          2,
          2,
          2,
          2,
          4,
          4,
          4,
          4,
          4,
          4,
          4,
          4.6,
          4.6,
          4.6,
          4.6,
          4.6,
          4.6,
          4.6,
          4.6,
          4.6,
          4,
          4,
          4,
          4,
          4,
          4,
          4,
          4,
          2.6666666666666665,
          2.6666666666666665,
          2.6666666666666665,
          2.6666666666666665,
          2.6666666666666665,
          2.6666666666666665,
          3.5,
          3.5,
          3.5,
          3.5,
          3.5,
          3.5,
          3.5,
          null,
          null,
          null,
          null,
          null,
          3.25,
          3.25,
          3.25,
          3.25,
          3.25,
          3.25,
          4.666666666666667,
          4.666666666666667,
          4.666666666666667,
          4.666666666666667,
          4.666666666666667,
          4.666666666666667,
          4.666666666666667,
          4,
          4,
          4,
          4,
          4,
          null,
          null,
          null,
          null,
          null,
          5,
          5,
          5,
          5,
          5,
          5,
          5,
          5,
          null,
          null,
          null,
          null,
          null,
          null,
          null,
          null,
          null,
          null,
          null,
          null,
          5,
          5,
          5,
          5,
          5,
          2.25,
          2.25,
          2.25,
          2.25,
          2.25,
          2.25,
          2.25,
          2.25,
          4,
          4,
          4,
          4,
          4,
          4,
          4,
          4,
          4,
          4,
          4,
          4.5,
          4.5,
          4.5,
          4.5,
          4.5,
          4.5,
          4.5,
          4.5,
          2,
          2,
          2,
          2,
          2,
          2,
          2,
          5,
          5,
          5,
          5,
          5,
          5,
          5,
          5,
          4,
          4,
          4,
          4,
          4,
          4,
          4,
          4,
          4,
          4,
          4,
          4,
          4,
          4,
          4,
          4,
          4,
          4,
          4,
          3.5,
          3.5,
          3.5,
          3.5,
          3.5,
          3.5,
          3.5,
          3.5,
          1,
          1,
          1,
          1,
          1,
          4,
          4,
          4,
          4,
          4,
          2.5,
          2.5,
          2.5,
          2.5,
          2.5,
          4,
          4,
          4,
          4,
          4,
          4,
          4.166666666666667,
          4.166666666666667,
          4.166666666666667,
          4.166666666666667,
          4.166666666666667,
          4.166666666666667,
          4.166666666666667,
          4.166666666666667,
          4.166666666666667
         ],
         "yaxis": "y"
        },
        {
         "customdata": [
          [
           "aruba reina beatrix"
          ],
          [
           "aruba reina beatrix"
          ],
          [
           "aruba reina beatrix"
          ],
          [
           "aruba reina beatrix"
          ],
          [
           "aruba reina beatrix"
          ],
          [
           "aruba reina beatrix"
          ],
          [
           "aruba reina beatrix"
          ],
          [
           "aruba reina beatrix"
          ],
          [
           "aruba reina beatrix"
          ],
          [
           "belo horizonte confins"
          ],
          [
           "belo horizonte confins"
          ],
          [
           "belo horizonte confins"
          ],
          [
           "belo horizonte confins"
          ],
          [
           "belo horizonte confins"
          ],
          [
           "belo horizonte confins"
          ],
          [
           "belo horizonte confins"
          ],
          [
           "belo horizonte confins"
          ],
          [
           "belo horizonte confins"
          ],
          [
           "brasilia"
          ],
          [
           "brasilia"
          ],
          [
           "brasilia"
          ],
          [
           "brasilia"
          ],
          [
           "brasilia"
          ],
          [
           "brasilia"
          ],
          [
           "brasilia"
          ],
          [
           "brasilia"
          ],
          [
           "brasilia"
          ],
          [
           "crown point tobago"
          ],
          [
           "crown point tobago"
          ],
          [
           "crown point tobago"
          ],
          [
           "crown point tobago"
          ],
          [
           "crown point tobago"
          ],
          [
           "crown point tobago"
          ],
          [
           "crown point tobago"
          ],
          [
           "curacao"
          ],
          [
           "curacao"
          ],
          [
           "curacao"
          ],
          [
           "curacao"
          ],
          [
           "curacao"
          ],
          [
           "curacao"
          ],
          [
           "curacao"
          ],
          [
           "guayaquil"
          ],
          [
           "guayaquil"
          ],
          [
           "guayaquil"
          ],
          [
           "guayaquil"
          ],
          [
           "guayaquil"
          ],
          [
           "holguin"
          ],
          [
           "holguin"
          ],
          [
           "holguin"
          ],
          [
           "holguin"
          ],
          [
           "holguin"
          ],
          [
           "holguin"
          ],
          [
           "holguin"
          ],
          [
           "manaus"
          ],
          [
           "manaus"
          ],
          [
           "manaus"
          ],
          [
           "manaus"
          ],
          [
           "manaus"
          ],
          [
           "manaus"
          ],
          [
           "quito mariscal"
          ],
          [
           "quito mariscal"
          ],
          [
           "quito mariscal"
          ],
          [
           "quito mariscal"
          ],
          [
           "quito mariscal"
          ],
          [
           "quito mariscal"
          ],
          [
           "recife"
          ],
          [
           "recife"
          ],
          [
           "recife"
          ],
          [
           "recife"
          ],
          [
           "recife"
          ],
          [
           "salvador"
          ],
          [
           "salvador"
          ],
          [
           "salvador"
          ],
          [
           "salvador"
          ],
          [
           "salvador"
          ],
          [
           "salvador"
          ],
          [
           "santo domingo"
          ],
          [
           "santo domingo"
          ],
          [
           "santo domingo"
          ],
          [
           "santo domingo"
          ],
          [
           "santo domingo"
          ],
          [
           "santo domingo"
          ],
          [
           "santo domingo"
          ],
          [
           "santo domingo"
          ],
          [
           "sao paulo congonhas"
          ],
          [
           "sao paulo congonhas"
          ],
          [
           "sao paulo congonhas"
          ],
          [
           "sao paulo congonhas"
          ],
          [
           "sao paulo congonhas"
          ],
          [
           "sao paulo congonhas"
          ]
         ],
         "hovertemplate": "geo_area=Latin America<br>mean_overall_rating=%{x}<br>mean_terminal_seating_rating=%{y}<br>airport_name=%{customdata[0]}<extra></extra>",
         "legendgroup": "Latin America",
         "marker": {
          "color": "#00cc96",
          "symbol": "circle"
         },
         "mode": "markers",
         "name": "Latin America",
         "orientation": "v",
         "showlegend": true,
         "type": "scatter",
         "x": [
          2.3333333333333335,
          2.3333333333333335,
          2.3333333333333335,
          2.3333333333333335,
          2.3333333333333335,
          2.3333333333333335,
          2.3333333333333335,
          2.3333333333333335,
          2.3333333333333335,
          4,
          4,
          4,
          4,
          4,
          4,
          4,
          4,
          4,
          3,
          3,
          3,
          3,
          3,
          3,
          3,
          3,
          3,
          1.3333333333333333,
          1.3333333333333333,
          1.3333333333333333,
          1.3333333333333333,
          1.3333333333333333,
          1.3333333333333333,
          1.3333333333333333,
          2.5,
          2.5,
          2.5,
          2.5,
          2.5,
          2.5,
          2.5,
          3.4,
          3.4,
          3.4,
          3.4,
          3.4,
          1,
          1,
          1,
          1,
          1,
          1,
          1,
          3,
          3,
          3,
          3,
          3,
          3,
          2,
          2,
          2,
          2,
          2,
          2,
          5,
          5,
          5,
          5,
          5,
          2.3333333333333335,
          2.3333333333333335,
          2.3333333333333335,
          2.3333333333333335,
          2.3333333333333335,
          2.3333333333333335,
          4.666666666666667,
          4.666666666666667,
          4.666666666666667,
          4.666666666666667,
          4.666666666666667,
          4.666666666666667,
          4.666666666666667,
          4.666666666666667,
          3.75,
          3.75,
          3.75,
          3.75,
          3.75,
          3.75
         ],
         "xaxis": "x",
         "y": [
          3.8,
          3.8,
          3.8,
          3.8,
          3.8,
          3.8,
          3.8,
          3.8,
          3.8,
          2.25,
          2.25,
          2.25,
          2.25,
          2.25,
          2.25,
          2.25,
          2.25,
          2.25,
          2.5,
          2.5,
          2.5,
          2.5,
          2.5,
          2.5,
          2.5,
          2.5,
          2.5,
          2,
          2,
          2,
          2,
          2,
          2,
          2,
          2.6666666666666665,
          2.6666666666666665,
          2.6666666666666665,
          2.6666666666666665,
          2.6666666666666665,
          2.6666666666666665,
          2.6666666666666665,
          3.4,
          3.4,
          3.4,
          3.4,
          3.4,
          1,
          1,
          1,
          1,
          1,
          1,
          1,
          1.5,
          1.5,
          1.5,
          1.5,
          1.5,
          1.5,
          3,
          3,
          3,
          3,
          3,
          3,
          3,
          3,
          3,
          3,
          3,
          2.3333333333333335,
          2.3333333333333335,
          2.3333333333333335,
          2.3333333333333335,
          2.3333333333333335,
          2.3333333333333335,
          4.333333333333333,
          4.333333333333333,
          4.333333333333333,
          4.333333333333333,
          4.333333333333333,
          4.333333333333333,
          4.333333333333333,
          4.333333333333333,
          3,
          3,
          3,
          3,
          3,
          3
         ],
         "yaxis": "y"
        },
        {
         "customdata": [
          [
           "beirut"
          ],
          [
           "beirut"
          ],
          [
           "beirut"
          ],
          [
           "beirut"
          ],
          [
           "beirut"
          ],
          [
           "beirut"
          ],
          [
           "beirut"
          ],
          [
           "beirut"
          ],
          [
           "beirut"
          ],
          [
           "hamad doha"
          ],
          [
           "hamad doha"
          ],
          [
           "hamad doha"
          ],
          [
           "hamad doha"
          ],
          [
           "hamad doha"
          ],
          [
           "sharjah"
          ],
          [
           "sharjah"
          ],
          [
           "sharjah"
          ],
          [
           "sharjah"
          ],
          [
           "sharjah"
          ],
          [
           "sharjah"
          ],
          [
           "tehran mehrabad"
          ],
          [
           "tehran mehrabad"
          ],
          [
           "tehran mehrabad"
          ],
          [
           "tehran mehrabad"
          ],
          [
           "tehran mehrabad"
          ]
         ],
         "hovertemplate": "geo_area=Middle-East<br>mean_overall_rating=%{x}<br>mean_terminal_seating_rating=%{y}<br>airport_name=%{customdata[0]}<extra></extra>",
         "legendgroup": "Middle-East",
         "marker": {
          "color": "#ab63fa",
          "symbol": "circle"
         },
         "mode": "markers",
         "name": "Middle-East",
         "orientation": "v",
         "showlegend": true,
         "type": "scatter",
         "x": [
          3.8,
          3.8,
          3.8,
          3.8,
          3.8,
          3.8,
          3.8,
          3.8,
          3.8,
          null,
          null,
          null,
          null,
          null,
          2.6666666666666665,
          2.6666666666666665,
          2.6666666666666665,
          2.6666666666666665,
          2.6666666666666665,
          2.6666666666666665,
          4,
          4,
          4,
          4,
          4
         ],
         "xaxis": "x",
         "y": [
          3.25,
          3.25,
          3.25,
          3.25,
          3.25,
          3.25,
          3.25,
          3.25,
          3.25,
          3.25,
          3.25,
          3.25,
          3.25,
          3.25,
          2.5,
          2.5,
          2.5,
          2.5,
          2.5,
          2.5,
          2,
          2,
          2,
          2,
          2
         ],
         "yaxis": "y"
        },
        {
         "customdata": [
          [
           "bermuda"
          ],
          [
           "bermuda"
          ],
          [
           "bermuda"
          ],
          [
           "bermuda"
          ],
          [
           "bermuda"
          ],
          [
           "colorado springs"
          ],
          [
           "colorado springs"
          ],
          [
           "colorado springs"
          ],
          [
           "colorado springs"
          ],
          [
           "colorado springs"
          ],
          [
           "colorado springs"
          ],
          [
           "colorado springs"
          ],
          [
           "columbus"
          ],
          [
           "columbus"
          ],
          [
           "columbus"
          ],
          [
           "columbus"
          ],
          [
           "columbus"
          ],
          [
           "dallas love field"
          ],
          [
           "dallas love field"
          ],
          [
           "dallas love field"
          ],
          [
           "dallas love field"
          ],
          [
           "dallas love field"
          ],
          [
           "fort myers"
          ],
          [
           "fort myers"
          ],
          [
           "fort myers"
          ],
          [
           "fort myers"
          ],
          [
           "fort myers"
          ],
          [
           "fort myers"
          ],
          [
           "fort myers"
          ],
          [
           "fort myers"
          ],
          [
           "fort myers"
          ],
          [
           "hartford"
          ],
          [
           "hartford"
          ],
          [
           "hartford"
          ],
          [
           "hartford"
          ],
          [
           "hartford"
          ],
          [
           "hartford"
          ],
          [
           "hartford"
          ],
          [
           "hartford"
          ],
          [
           "hartford"
          ],
          [
           "hilo"
          ],
          [
           "hilo"
          ],
          [
           "hilo"
          ],
          [
           "hilo"
          ],
          [
           "hilo"
          ],
          [
           "hilo"
          ],
          [
           "indianapolis"
          ],
          [
           "indianapolis"
          ],
          [
           "indianapolis"
          ],
          [
           "indianapolis"
          ],
          [
           "indianapolis"
          ],
          [
           "indianapolis"
          ],
          [
           "indianapolis"
          ],
          [
           "indianapolis"
          ],
          [
           "indianapolis"
          ],
          [
           "jacksonville"
          ],
          [
           "jacksonville"
          ],
          [
           "jacksonville"
          ],
          [
           "jacksonville"
          ],
          [
           "jacksonville"
          ],
          [
           "john wayne"
          ],
          [
           "john wayne"
          ],
          [
           "john wayne"
          ],
          [
           "john wayne"
          ],
          [
           "john wayne"
          ],
          [
           "john wayne"
          ],
          [
           "little rock"
          ],
          [
           "little rock"
          ],
          [
           "little rock"
          ],
          [
           "little rock"
          ],
          [
           "little rock"
          ],
          [
           "little rock"
          ],
          [
           "long beach"
          ],
          [
           "long beach"
          ],
          [
           "long beach"
          ],
          [
           "long beach"
          ],
          [
           "long beach"
          ],
          [
           "long beach"
          ],
          [
           "long island macarthur"
          ],
          [
           "long island macarthur"
          ],
          [
           "long island macarthur"
          ],
          [
           "long island macarthur"
          ],
          [
           "long island macarthur"
          ],
          [
           "long island macarthur"
          ],
          [
           "long island macarthur"
          ],
          [
           "memphis"
          ],
          [
           "memphis"
          ],
          [
           "memphis"
          ],
          [
           "memphis"
          ],
          [
           "memphis"
          ],
          [
           "memphis"
          ],
          [
           "memphis"
          ],
          [
           "milwaukee"
          ],
          [
           "milwaukee"
          ],
          [
           "milwaukee"
          ],
          [
           "milwaukee"
          ],
          [
           "milwaukee"
          ],
          [
           "milwaukee"
          ],
          [
           "milwaukee"
          ],
          [
           "milwaukee"
          ],
          [
           "milwaukee"
          ],
          [
           "muscle shoals"
          ],
          [
           "muscle shoals"
          ],
          [
           "muscle shoals"
          ],
          [
           "muscle shoals"
          ],
          [
           "muscle shoals"
          ],
          [
           "nashville"
          ],
          [
           "nashville"
          ],
          [
           "nashville"
          ],
          [
           "nashville"
          ],
          [
           "nashville"
          ],
          [
           "nashville"
          ],
          [
           "sacramento"
          ],
          [
           "sacramento"
          ],
          [
           "sacramento"
          ],
          [
           "sacramento"
          ],
          [
           "sacramento"
          ],
          [
           "sacramento"
          ],
          [
           "sacramento"
          ],
          [
           "sacramento"
          ],
          [
           "sacramento"
          ]
         ],
         "hovertemplate": "geo_area=North America<br>mean_overall_rating=%{x}<br>mean_terminal_seating_rating=%{y}<br>airport_name=%{customdata[0]}<extra></extra>",
         "legendgroup": "North America",
         "marker": {
          "color": "#FFA15A",
          "symbol": "circle"
         },
         "mode": "markers",
         "name": "North America",
         "orientation": "v",
         "showlegend": true,
         "type": "scatter",
         "x": [
          null,
          null,
          null,
          null,
          null,
          5,
          5,
          5,
          5,
          5,
          5,
          5,
          3.6666666666666665,
          3.6666666666666665,
          3.6666666666666665,
          3.6666666666666665,
          3.6666666666666665,
          null,
          null,
          null,
          null,
          null,
          4.375,
          4.375,
          4.375,
          4.375,
          4.375,
          4.375,
          4.375,
          4.375,
          4.375,
          5,
          5,
          5,
          5,
          5,
          5,
          5,
          5,
          5,
          4,
          4,
          4,
          4,
          4,
          4,
          5,
          5,
          5,
          5,
          5,
          5,
          5,
          5,
          5,
          5,
          5,
          5,
          5,
          5,
          4,
          4,
          4,
          4,
          4,
          4,
          5,
          5,
          5,
          5,
          5,
          5,
          5,
          5,
          5,
          5,
          5,
          5,
          5,
          5,
          5,
          5,
          5,
          5,
          5,
          3.5,
          3.5,
          3.5,
          3.5,
          3.5,
          3.5,
          3.5,
          4.8,
          4.8,
          4.8,
          4.8,
          4.8,
          4.8,
          4.8,
          4.8,
          4.8,
          null,
          null,
          null,
          null,
          null,
          4.5,
          4.5,
          4.5,
          4.5,
          4.5,
          4.5,
          4.2,
          4.2,
          4.2,
          4.2,
          4.2,
          4.2,
          4.2,
          4.2,
          4.2
         ],
         "xaxis": "x",
         "y": [
          null,
          null,
          null,
          null,
          null,
          5,
          5,
          5,
          5,
          5,
          5,
          5,
          4.5,
          4.5,
          4.5,
          4.5,
          4.5,
          null,
          null,
          null,
          null,
          null,
          3.625,
          3.625,
          3.625,
          3.625,
          3.625,
          3.625,
          3.625,
          3.625,
          3.625,
          3.5,
          3.5,
          3.5,
          3.5,
          3.5,
          3.5,
          3.5,
          3.5,
          3.5,
          3,
          3,
          3,
          3,
          3,
          3,
          4.333333333333333,
          4.333333333333333,
          4.333333333333333,
          4.333333333333333,
          4.333333333333333,
          4.333333333333333,
          4.333333333333333,
          4.333333333333333,
          4.333333333333333,
          5,
          5,
          5,
          5,
          5,
          4.5,
          4.5,
          4.5,
          4.5,
          4.5,
          4.5,
          5,
          5,
          5,
          5,
          5,
          5,
          3,
          3,
          3,
          3,
          3,
          3,
          5,
          5,
          5,
          5,
          5,
          5,
          5,
          3,
          3,
          3,
          3,
          3,
          3,
          3,
          4.666666666666667,
          4.666666666666667,
          4.666666666666667,
          4.666666666666667,
          4.666666666666667,
          4.666666666666667,
          4.666666666666667,
          4.666666666666667,
          4.666666666666667,
          null,
          null,
          null,
          null,
          null,
          4.5,
          4.5,
          4.5,
          4.5,
          4.5,
          4.5,
          4,
          4,
          4,
          4,
          4,
          4,
          4,
          4,
          4
         ],
         "yaxis": "y"
        },
        {
         "customdata": [
          [
           "chengdu"
          ],
          [
           "chengdu"
          ],
          [
           "chengdu"
          ],
          [
           "chengdu"
          ],
          [
           "chengdu"
          ],
          [
           "coimbatore"
          ],
          [
           "coimbatore"
          ],
          [
           "coimbatore"
          ],
          [
           "coimbatore"
          ],
          [
           "coimbatore"
          ],
          [
           "hangzhou"
          ],
          [
           "hangzhou"
          ],
          [
           "hangzhou"
          ],
          [
           "hangzhou"
          ],
          [
           "hangzhou"
          ],
          [
           "hangzhou"
          ],
          [
           "hangzhou"
          ],
          [
           "hangzhou"
          ],
          [
           "kunming"
          ],
          [
           "kunming"
          ],
          [
           "kunming"
          ],
          [
           "kunming"
          ],
          [
           "kunming"
          ],
          [
           "kunming"
          ],
          [
           "pune"
          ],
          [
           "pune"
          ],
          [
           "pune"
          ],
          [
           "pune"
          ],
          [
           "pune"
          ],
          [
           "pune"
          ],
          [
           "pune"
          ],
          [
           "pune"
          ],
          [
           "pune"
          ],
          [
           "qingdao"
          ],
          [
           "qingdao"
          ],
          [
           "qingdao"
          ],
          [
           "qingdao"
          ],
          [
           "qingdao"
          ],
          [
           "qingdao"
          ],
          [
           "qingdao"
          ],
          [
           "sapporo chitose"
          ],
          [
           "sapporo chitose"
          ],
          [
           "sapporo chitose"
          ],
          [
           "sapporo chitose"
          ],
          [
           "sapporo chitose"
          ],
          [
           "sapporo chitose"
          ],
          [
           "sapporo chitose"
          ],
          [
           "sapporo chitose"
          ],
          [
           "seoul gimpo"
          ],
          [
           "seoul gimpo"
          ],
          [
           "seoul gimpo"
          ],
          [
           "seoul gimpo"
          ],
          [
           "seoul gimpo"
          ],
          [
           "seoul gimpo"
          ],
          [
           "seoul gimpo"
          ],
          [
           "seoul gimpo"
          ],
          [
           "shenyang"
          ],
          [
           "shenyang"
          ],
          [
           "shenyang"
          ],
          [
           "shenyang"
          ],
          [
           "shenyang"
          ],
          [
           "shenyang"
          ],
          [
           "shenyang"
          ],
          [
           "xian xianyang"
          ],
          [
           "xian xianyang"
          ],
          [
           "xian xianyang"
          ],
          [
           "xian xianyang"
          ],
          [
           "xian xianyang"
          ],
          [
           "xian xianyang"
          ],
          [
           "xian xianyang"
          ],
          [
           "xian xianyang"
          ],
          [
           "xiamen"
          ],
          [
           "xiamen"
          ],
          [
           "xiamen"
          ],
          [
           "xiamen"
          ],
          [
           "xiamen"
          ],
          [
           "xiamen"
          ],
          [
           "xiamen"
          ],
          [
           "xiamen"
          ],
          [
           "xiamen"
          ]
         ],
         "hovertemplate": "geo_area=Asia<br>mean_overall_rating=%{x}<br>mean_terminal_seating_rating=%{y}<br>airport_name=%{customdata[0]}<extra></extra>",
         "legendgroup": "Asia",
         "marker": {
          "color": "#19d3f3",
          "symbol": "circle"
         },
         "mode": "markers",
         "name": "Asia",
         "orientation": "v",
         "showlegend": true,
         "type": "scatter",
         "x": [
          4,
          4,
          4,
          4,
          4,
          2.5,
          2.5,
          2.5,
          2.5,
          2.5,
          4.333333333333333,
          4.333333333333333,
          4.333333333333333,
          4.333333333333333,
          4.333333333333333,
          4.333333333333333,
          4.333333333333333,
          4.333333333333333,
          3.75,
          3.75,
          3.75,
          3.75,
          3.75,
          3.75,
          3,
          3,
          3,
          3,
          3,
          3,
          3,
          3,
          3,
          4.4,
          4.4,
          4.4,
          4.4,
          4.4,
          4.4,
          4.4,
          3.8,
          3.8,
          3.8,
          3.8,
          3.8,
          3.8,
          3.8,
          3.8,
          4,
          4,
          4,
          4,
          4,
          4,
          4,
          4,
          5,
          5,
          5,
          5,
          5,
          5,
          5,
          2.5,
          2.5,
          2.5,
          2.5,
          2.5,
          2.5,
          2.5,
          2.5,
          3.8,
          3.8,
          3.8,
          3.8,
          3.8,
          3.8,
          3.8,
          3.8,
          3.8
         ],
         "xaxis": "x",
         "y": [
          3.25,
          3.25,
          3.25,
          3.25,
          3.25,
          1,
          1,
          1,
          1,
          1,
          4,
          4,
          4,
          4,
          4,
          4,
          4,
          4,
          2,
          2,
          2,
          2,
          2,
          2,
          2.75,
          2.75,
          2.75,
          2.75,
          2.75,
          2.75,
          2.75,
          2.75,
          2.75,
          3.8,
          3.8,
          3.8,
          3.8,
          3.8,
          3.8,
          3.8,
          3.75,
          3.75,
          3.75,
          3.75,
          3.75,
          3.75,
          3.75,
          3.75,
          3,
          3,
          3,
          3,
          3,
          3,
          3,
          3,
          3.25,
          3.25,
          3.25,
          3.25,
          3.25,
          3.25,
          3.25,
          3.5,
          3.5,
          3.5,
          3.5,
          3.5,
          3.5,
          3.5,
          3.5,
          4,
          4,
          4,
          4,
          4,
          4,
          4,
          4,
          4
         ],
         "yaxis": "y"
        },
        {
         "customdata": [
          [
           "clark"
          ],
          [
           "clark"
          ],
          [
           "clark"
          ],
          [
           "clark"
          ],
          [
           "clark"
          ],
          [
           "clark"
          ],
          [
           "clark"
          ],
          [
           "hobart"
          ],
          [
           "hobart"
          ],
          [
           "hobart"
          ],
          [
           "hobart"
          ],
          [
           "hobart"
          ],
          [
           "hobart"
          ],
          [
           "hobart"
          ],
          [
           "hobart"
          ],
          [
           "hobart"
          ],
          [
           "kota kinabalu"
          ],
          [
           "kota kinabalu"
          ],
          [
           "kota kinabalu"
          ],
          [
           "kota kinabalu"
          ],
          [
           "kota kinabalu"
          ],
          [
           "launceston"
          ],
          [
           "launceston"
          ],
          [
           "launceston"
          ],
          [
           "launceston"
          ],
          [
           "launceston"
          ],
          [
           "medan"
          ],
          [
           "medan"
          ],
          [
           "medan"
          ],
          [
           "medan"
          ],
          [
           "medan"
          ],
          [
           "medan"
          ],
          [
           "medan"
          ],
          [
           "medan"
          ],
          [
           "subang kuala lumpur"
          ],
          [
           "subang kuala lumpur"
          ],
          [
           "subang kuala lumpur"
          ],
          [
           "subang kuala lumpur"
          ],
          [
           "subang kuala lumpur"
          ],
          [
           "tontouta"
          ],
          [
           "tontouta"
          ],
          [
           "tontouta"
          ],
          [
           "tontouta"
          ],
          [
           "tontouta"
          ],
          [
           "tontouta"
          ],
          [
           "tontouta"
          ],
          [
           "tontouta"
          ],
          [
           "vientiane"
          ],
          [
           "vientiane"
          ],
          [
           "vientiane"
          ],
          [
           "vientiane"
          ],
          [
           "vientiane"
          ],
          [
           "vientiane"
          ],
          [
           "vientiane"
          ],
          [
           "vientiane"
          ],
          [
           "yogyakarta"
          ],
          [
           "yogyakarta"
          ],
          [
           "yogyakarta"
          ],
          [
           "yogyakarta"
          ],
          [
           "yogyakarta"
          ],
          [
           "yogyakarta"
          ],
          [
           "yogyakarta"
          ]
         ],
         "hovertemplate": "geo_area=S-Asia Oceania<br>mean_overall_rating=%{x}<br>mean_terminal_seating_rating=%{y}<br>airport_name=%{customdata[0]}<extra></extra>",
         "legendgroup": "S-Asia Oceania",
         "marker": {
          "color": "#FF6692",
          "symbol": "circle"
         },
         "mode": "markers",
         "name": "S-Asia Oceania",
         "orientation": "v",
         "showlegend": true,
         "type": "scatter",
         "x": [
          3.6666666666666665,
          3.6666666666666665,
          3.6666666666666665,
          3.6666666666666665,
          3.6666666666666665,
          3.6666666666666665,
          3.6666666666666665,
          5,
          5,
          5,
          5,
          5,
          5,
          5,
          5,
          5,
          4.5,
          4.5,
          4.5,
          4.5,
          4.5,
          4,
          4,
          4,
          4,
          4,
          4,
          4,
          4,
          4,
          4,
          4,
          4,
          4,
          4.6,
          4.6,
          4.6,
          4.6,
          4.6,
          4,
          4,
          4,
          4,
          4,
          4,
          4,
          4,
          4.75,
          4.75,
          4.75,
          4.75,
          4.75,
          4.75,
          4.75,
          4.75,
          3.6666666666666665,
          3.6666666666666665,
          3.6666666666666665,
          3.6666666666666665,
          3.6666666666666665,
          3.6666666666666665,
          3.6666666666666665
         ],
         "xaxis": "x",
         "y": [
          2.4285714285714284,
          2.4285714285714284,
          2.4285714285714284,
          2.4285714285714284,
          2.4285714285714284,
          2.4285714285714284,
          2.4285714285714284,
          4,
          4,
          4,
          4,
          4,
          4,
          4,
          4,
          4,
          2.5,
          2.5,
          2.5,
          2.5,
          2.5,
          4,
          4,
          4,
          4,
          4,
          3.375,
          3.375,
          3.375,
          3.375,
          3.375,
          3.375,
          3.375,
          3.375,
          2.8,
          2.8,
          2.8,
          2.8,
          2.8,
          4,
          4,
          4,
          4,
          4,
          4,
          4,
          4,
          4,
          4,
          4,
          4,
          4,
          4,
          4,
          4,
          3,
          3,
          3,
          3,
          3,
          3,
          3
         ],
         "yaxis": "y"
        }
       ],
       "layout": {
        "legend": {
         "title": {
          "text": "Geo Area"
         },
         "tracegroupgap": 0
        },
        "template": {
         "data": {
          "bar": [
           {
            "error_x": {
             "color": "#f2f5fa"
            },
            "error_y": {
             "color": "#f2f5fa"
            },
            "marker": {
             "line": {
              "color": "rgb(17,17,17)",
              "width": 0.5
             },
             "pattern": {
              "fillmode": "overlay",
              "size": 10,
              "solidity": 0.2
             }
            },
            "type": "bar"
           }
          ],
          "barpolar": [
           {
            "marker": {
             "line": {
              "color": "rgb(17,17,17)",
              "width": 0.5
             },
             "pattern": {
              "fillmode": "overlay",
              "size": 10,
              "solidity": 0.2
             }
            },
            "type": "barpolar"
           }
          ],
          "carpet": [
           {
            "aaxis": {
             "endlinecolor": "#A2B1C6",
             "gridcolor": "#506784",
             "linecolor": "#506784",
             "minorgridcolor": "#506784",
             "startlinecolor": "#A2B1C6"
            },
            "baxis": {
             "endlinecolor": "#A2B1C6",
             "gridcolor": "#506784",
             "linecolor": "#506784",
             "minorgridcolor": "#506784",
             "startlinecolor": "#A2B1C6"
            },
            "type": "carpet"
           }
          ],
          "choropleth": [
           {
            "colorbar": {
             "outlinewidth": 0,
             "ticks": ""
            },
            "type": "choropleth"
           }
          ],
          "contour": [
           {
            "colorbar": {
             "outlinewidth": 0,
             "ticks": ""
            },
            "colorscale": [
             [
              0,
              "#0d0887"
             ],
             [
              0.1111111111111111,
              "#46039f"
             ],
             [
              0.2222222222222222,
              "#7201a8"
             ],
             [
              0.3333333333333333,
              "#9c179e"
             ],
             [
              0.4444444444444444,
              "#bd3786"
             ],
             [
              0.5555555555555556,
              "#d8576b"
             ],
             [
              0.6666666666666666,
              "#ed7953"
             ],
             [
              0.7777777777777778,
              "#fb9f3a"
             ],
             [
              0.8888888888888888,
              "#fdca26"
             ],
             [
              1,
              "#f0f921"
             ]
            ],
            "type": "contour"
           }
          ],
          "contourcarpet": [
           {
            "colorbar": {
             "outlinewidth": 0,
             "ticks": ""
            },
            "type": "contourcarpet"
           }
          ],
          "heatmap": [
           {
            "colorbar": {
             "outlinewidth": 0,
             "ticks": ""
            },
            "colorscale": [
             [
              0,
              "#0d0887"
             ],
             [
              0.1111111111111111,
              "#46039f"
             ],
             [
              0.2222222222222222,
              "#7201a8"
             ],
             [
              0.3333333333333333,
              "#9c179e"
             ],
             [
              0.4444444444444444,
              "#bd3786"
             ],
             [
              0.5555555555555556,
              "#d8576b"
             ],
             [
              0.6666666666666666,
              "#ed7953"
             ],
             [
              0.7777777777777778,
              "#fb9f3a"
             ],
             [
              0.8888888888888888,
              "#fdca26"
             ],
             [
              1,
              "#f0f921"
             ]
            ],
            "type": "heatmap"
           }
          ],
          "heatmapgl": [
           {
            "colorbar": {
             "outlinewidth": 0,
             "ticks": ""
            },
            "colorscale": [
             [
              0,
              "#0d0887"
             ],
             [
              0.1111111111111111,
              "#46039f"
             ],
             [
              0.2222222222222222,
              "#7201a8"
             ],
             [
              0.3333333333333333,
              "#9c179e"
             ],
             [
              0.4444444444444444,
              "#bd3786"
             ],
             [
              0.5555555555555556,
              "#d8576b"
             ],
             [
              0.6666666666666666,
              "#ed7953"
             ],
             [
              0.7777777777777778,
              "#fb9f3a"
             ],
             [
              0.8888888888888888,
              "#fdca26"
             ],
             [
              1,
              "#f0f921"
             ]
            ],
            "type": "heatmapgl"
           }
          ],
          "histogram": [
           {
            "marker": {
             "pattern": {
              "fillmode": "overlay",
              "size": 10,
              "solidity": 0.2
             }
            },
            "type": "histogram"
           }
          ],
          "histogram2d": [
           {
            "colorbar": {
             "outlinewidth": 0,
             "ticks": ""
            },
            "colorscale": [
             [
              0,
              "#0d0887"
             ],
             [
              0.1111111111111111,
              "#46039f"
             ],
             [
              0.2222222222222222,
              "#7201a8"
             ],
             [
              0.3333333333333333,
              "#9c179e"
             ],
             [
              0.4444444444444444,
              "#bd3786"
             ],
             [
              0.5555555555555556,
              "#d8576b"
             ],
             [
              0.6666666666666666,
              "#ed7953"
             ],
             [
              0.7777777777777778,
              "#fb9f3a"
             ],
             [
              0.8888888888888888,
              "#fdca26"
             ],
             [
              1,
              "#f0f921"
             ]
            ],
            "type": "histogram2d"
           }
          ],
          "histogram2dcontour": [
           {
            "colorbar": {
             "outlinewidth": 0,
             "ticks": ""
            },
            "colorscale": [
             [
              0,
              "#0d0887"
             ],
             [
              0.1111111111111111,
              "#46039f"
             ],
             [
              0.2222222222222222,
              "#7201a8"
             ],
             [
              0.3333333333333333,
              "#9c179e"
             ],
             [
              0.4444444444444444,
              "#bd3786"
             ],
             [
              0.5555555555555556,
              "#d8576b"
             ],
             [
              0.6666666666666666,
              "#ed7953"
             ],
             [
              0.7777777777777778,
              "#fb9f3a"
             ],
             [
              0.8888888888888888,
              "#fdca26"
             ],
             [
              1,
              "#f0f921"
             ]
            ],
            "type": "histogram2dcontour"
           }
          ],
          "mesh3d": [
           {
            "colorbar": {
             "outlinewidth": 0,
             "ticks": ""
            },
            "type": "mesh3d"
           }
          ],
          "parcoords": [
           {
            "line": {
             "colorbar": {
              "outlinewidth": 0,
              "ticks": ""
             }
            },
            "type": "parcoords"
           }
          ],
          "pie": [
           {
            "automargin": true,
            "type": "pie"
           }
          ],
          "scatter": [
           {
            "marker": {
             "line": {
              "color": "#283442"
             }
            },
            "type": "scatter"
           }
          ],
          "scatter3d": [
           {
            "line": {
             "colorbar": {
              "outlinewidth": 0,
              "ticks": ""
             }
            },
            "marker": {
             "colorbar": {
              "outlinewidth": 0,
              "ticks": ""
             }
            },
            "type": "scatter3d"
           }
          ],
          "scattercarpet": [
           {
            "marker": {
             "colorbar": {
              "outlinewidth": 0,
              "ticks": ""
             }
            },
            "type": "scattercarpet"
           }
          ],
          "scattergeo": [
           {
            "marker": {
             "colorbar": {
              "outlinewidth": 0,
              "ticks": ""
             }
            },
            "type": "scattergeo"
           }
          ],
          "scattergl": [
           {
            "marker": {
             "line": {
              "color": "#283442"
             }
            },
            "type": "scattergl"
           }
          ],
          "scattermapbox": [
           {
            "marker": {
             "colorbar": {
              "outlinewidth": 0,
              "ticks": ""
             }
            },
            "type": "scattermapbox"
           }
          ],
          "scatterpolar": [
           {
            "marker": {
             "colorbar": {
              "outlinewidth": 0,
              "ticks": ""
             }
            },
            "type": "scatterpolar"
           }
          ],
          "scatterpolargl": [
           {
            "marker": {
             "colorbar": {
              "outlinewidth": 0,
              "ticks": ""
             }
            },
            "type": "scatterpolargl"
           }
          ],
          "scatterternary": [
           {
            "marker": {
             "colorbar": {
              "outlinewidth": 0,
              "ticks": ""
             }
            },
            "type": "scatterternary"
           }
          ],
          "surface": [
           {
            "colorbar": {
             "outlinewidth": 0,
             "ticks": ""
            },
            "colorscale": [
             [
              0,
              "#0d0887"
             ],
             [
              0.1111111111111111,
              "#46039f"
             ],
             [
              0.2222222222222222,
              "#7201a8"
             ],
             [
              0.3333333333333333,
              "#9c179e"
             ],
             [
              0.4444444444444444,
              "#bd3786"
             ],
             [
              0.5555555555555556,
              "#d8576b"
             ],
             [
              0.6666666666666666,
              "#ed7953"
             ],
             [
              0.7777777777777778,
              "#fb9f3a"
             ],
             [
              0.8888888888888888,
              "#fdca26"
             ],
             [
              1,
              "#f0f921"
             ]
            ],
            "type": "surface"
           }
          ],
          "table": [
           {
            "cells": {
             "fill": {
              "color": "#506784"
             },
             "line": {
              "color": "rgb(17,17,17)"
             }
            },
            "header": {
             "fill": {
              "color": "#2a3f5f"
             },
             "line": {
              "color": "rgb(17,17,17)"
             }
            },
            "type": "table"
           }
          ]
         },
         "layout": {
          "annotationdefaults": {
           "arrowcolor": "#f2f5fa",
           "arrowhead": 0,
           "arrowwidth": 1
          },
          "autotypenumbers": "strict",
          "coloraxis": {
           "colorbar": {
            "outlinewidth": 0,
            "ticks": ""
           }
          },
          "colorscale": {
           "diverging": [
            [
             0,
             "#8e0152"
            ],
            [
             0.1,
             "#c51b7d"
            ],
            [
             0.2,
             "#de77ae"
            ],
            [
             0.3,
             "#f1b6da"
            ],
            [
             0.4,
             "#fde0ef"
            ],
            [
             0.5,
             "#f7f7f7"
            ],
            [
             0.6,
             "#e6f5d0"
            ],
            [
             0.7,
             "#b8e186"
            ],
            [
             0.8,
             "#7fbc41"
            ],
            [
             0.9,
             "#4d9221"
            ],
            [
             1,
             "#276419"
            ]
           ],
           "sequential": [
            [
             0,
             "#0d0887"
            ],
            [
             0.1111111111111111,
             "#46039f"
            ],
            [
             0.2222222222222222,
             "#7201a8"
            ],
            [
             0.3333333333333333,
             "#9c179e"
            ],
            [
             0.4444444444444444,
             "#bd3786"
            ],
            [
             0.5555555555555556,
             "#d8576b"
            ],
            [
             0.6666666666666666,
             "#ed7953"
            ],
            [
             0.7777777777777778,
             "#fb9f3a"
            ],
            [
             0.8888888888888888,
             "#fdca26"
            ],
            [
             1,
             "#f0f921"
            ]
           ],
           "sequentialminus": [
            [
             0,
             "#0d0887"
            ],
            [
             0.1111111111111111,
             "#46039f"
            ],
            [
             0.2222222222222222,
             "#7201a8"
            ],
            [
             0.3333333333333333,
             "#9c179e"
            ],
            [
             0.4444444444444444,
             "#bd3786"
            ],
            [
             0.5555555555555556,
             "#d8576b"
            ],
            [
             0.6666666666666666,
             "#ed7953"
            ],
            [
             0.7777777777777778,
             "#fb9f3a"
            ],
            [
             0.8888888888888888,
             "#fdca26"
            ],
            [
             1,
             "#f0f921"
            ]
           ]
          },
          "colorway": [
           "#636efa",
           "#EF553B",
           "#00cc96",
           "#ab63fa",
           "#FFA15A",
           "#19d3f3",
           "#FF6692",
           "#B6E880",
           "#FF97FF",
           "#FECB52"
          ],
          "font": {
           "color": "#f2f5fa"
          },
          "geo": {
           "bgcolor": "rgb(17,17,17)",
           "lakecolor": "rgb(17,17,17)",
           "landcolor": "rgb(17,17,17)",
           "showlakes": true,
           "showland": true,
           "subunitcolor": "#506784"
          },
          "hoverlabel": {
           "align": "left"
          },
          "hovermode": "closest",
          "mapbox": {
           "style": "dark"
          },
          "paper_bgcolor": "rgb(17,17,17)",
          "plot_bgcolor": "rgb(17,17,17)",
          "polar": {
           "angularaxis": {
            "gridcolor": "#506784",
            "linecolor": "#506784",
            "ticks": ""
           },
           "bgcolor": "rgb(17,17,17)",
           "radialaxis": {
            "gridcolor": "#506784",
            "linecolor": "#506784",
            "ticks": ""
           }
          },
          "scene": {
           "xaxis": {
            "backgroundcolor": "rgb(17,17,17)",
            "gridcolor": "#506784",
            "gridwidth": 2,
            "linecolor": "#506784",
            "showbackground": true,
            "ticks": "",
            "zerolinecolor": "#C8D4E3"
           },
           "yaxis": {
            "backgroundcolor": "rgb(17,17,17)",
            "gridcolor": "#506784",
            "gridwidth": 2,
            "linecolor": "#506784",
            "showbackground": true,
            "ticks": "",
            "zerolinecolor": "#C8D4E3"
           },
           "zaxis": {
            "backgroundcolor": "rgb(17,17,17)",
            "gridcolor": "#506784",
            "gridwidth": 2,
            "linecolor": "#506784",
            "showbackground": true,
            "ticks": "",
            "zerolinecolor": "#C8D4E3"
           }
          },
          "shapedefaults": {
           "line": {
            "color": "#f2f5fa"
           }
          },
          "sliderdefaults": {
           "bgcolor": "#C8D4E3",
           "bordercolor": "rgb(17,17,17)",
           "borderwidth": 1,
           "tickwidth": 0
          },
          "ternary": {
           "aaxis": {
            "gridcolor": "#506784",
            "linecolor": "#506784",
            "ticks": ""
           },
           "baxis": {
            "gridcolor": "#506784",
            "linecolor": "#506784",
            "ticks": ""
           },
           "bgcolor": "rgb(17,17,17)",
           "caxis": {
            "gridcolor": "#506784",
            "linecolor": "#506784",
            "ticks": ""
           }
          },
          "title": {
           "x": 0.05
          },
          "updatemenudefaults": {
           "bgcolor": "#506784",
           "borderwidth": 0
          },
          "xaxis": {
           "automargin": true,
           "gridcolor": "#283442",
           "linecolor": "#506784",
           "ticks": "",
           "title": {
            "standoff": 15
           },
           "zerolinecolor": "#283442",
           "zerolinewidth": 2
          },
          "yaxis": {
           "automargin": true,
           "gridcolor": "#283442",
           "linecolor": "#506784",
           "ticks": "",
           "title": {
            "standoff": 15
           },
           "zerolinecolor": "#283442",
           "zerolinewidth": 2
          }
         }
        },
        "title": {
         "text": "Overall Rating vs Terminal Seating by Geo Area"
        },
        "xaxis": {
         "anchor": "y",
         "domain": [
          0,
          1
         ],
         "title": {
          "text": "Overall Rating"
         }
        },
        "yaxis": {
         "anchor": "x",
         "domain": [
          0,
          1
         ],
         "title": {
          "text": "Terminal seating"
         }
        }
       }
      }
     },
     "metadata": {},
     "output_type": "display_data"
    }
   ],
   "source": [
    "fig.update_layout(\n",
    "    title=\"Overall Rating vs Terminal Seating by Geo Area\",\n",
    "    xaxis_title=\"Overall Rating\",\n",
    "    yaxis_title=\"Terminal seating\",\n",
    "    legend_title=\"Geo Area\",\n",
    "    template=\"plotly_dark\"  \n",
    ")\n",
    "\n",
    "fig.show()"
   ]
  },
  {
   "cell_type": "code",
   "execution_count": 60,
   "metadata": {},
   "outputs": [
    {
     "data": {
      "application/vnd.plotly.v1+json": {
       "config": {
        "plotlyServerURL": "https://plot.ly"
       },
       "data": [
        {
         "customdata": [
          [
           "abuja"
          ],
          [
           "abuja"
          ],
          [
           "abuja"
          ],
          [
           "abuja"
          ],
          [
           "abuja"
          ],
          [
           "abuja"
          ],
          [
           "algiers"
          ],
          [
           "algiers"
          ],
          [
           "algiers"
          ],
          [
           "algiers"
          ],
          [
           "algiers"
          ],
          [
           "algiers"
          ],
          [
           "algiers"
          ],
          [
           "algiers"
          ],
          [
           "banjul"
          ],
          [
           "banjul"
          ],
          [
           "banjul"
          ],
          [
           "banjul"
          ],
          [
           "banjul"
          ],
          [
           "banjul"
          ],
          [
           "dakar"
          ],
          [
           "dakar"
          ],
          [
           "dakar"
          ],
          [
           "dakar"
          ],
          [
           "dakar"
          ],
          [
           "durban"
          ],
          [
           "durban"
          ],
          [
           "durban"
          ],
          [
           "durban"
          ],
          [
           "durban"
          ],
          [
           "durban"
          ],
          [
           "durban"
          ],
          [
           "durban"
          ],
          [
           "entebbe"
          ],
          [
           "entebbe"
          ],
          [
           "entebbe"
          ],
          [
           "entebbe"
          ],
          [
           "entebbe"
          ],
          [
           "entebbe"
          ],
          [
           "entebbe"
          ],
          [
           "entebbe"
          ],
          [
           "entebbe"
          ],
          [
           "freetown"
          ],
          [
           "freetown"
          ],
          [
           "freetown"
          ],
          [
           "freetown"
          ],
          [
           "freetown"
          ],
          [
           "freetown"
          ],
          [
           "freetown"
          ],
          [
           "hurghada"
          ],
          [
           "hurghada"
          ],
          [
           "hurghada"
          ],
          [
           "hurghada"
          ],
          [
           "hurghada"
          ],
          [
           "kilimanjaro"
          ],
          [
           "kilimanjaro"
          ],
          [
           "kilimanjaro"
          ],
          [
           "kilimanjaro"
          ],
          [
           "kilimanjaro"
          ],
          [
           "kilimanjaro"
          ],
          [
           "kilimanjaro"
          ],
          [
           "kilimanjaro"
          ],
          [
           "lusaka"
          ],
          [
           "lusaka"
          ],
          [
           "lusaka"
          ],
          [
           "lusaka"
          ],
          [
           "lusaka"
          ],
          [
           "luxor"
          ],
          [
           "luxor"
          ],
          [
           "luxor"
          ],
          [
           "luxor"
          ],
          [
           "luxor"
          ],
          [
           "luxor"
          ],
          [
           "luxor"
          ],
          [
           "luxor"
          ],
          [
           "mombasa"
          ],
          [
           "mombasa"
          ],
          [
           "mombasa"
          ],
          [
           "mombasa"
          ],
          [
           "mombasa"
          ],
          [
           "mombasa"
          ],
          [
           "mombasa"
          ],
          [
           "mombasa"
          ],
          [
           "mombasa"
          ],
          [
           "monastir"
          ],
          [
           "monastir"
          ],
          [
           "monastir"
          ],
          [
           "monastir"
          ],
          [
           "monastir"
          ],
          [
           "monastir"
          ],
          [
           "monastir"
          ],
          [
           "monastir"
          ],
          [
           "seychelles"
          ],
          [
           "seychelles"
          ],
          [
           "seychelles"
          ],
          [
           "seychelles"
          ],
          [
           "seychelles"
          ],
          [
           "seychelles"
          ],
          [
           "taba"
          ],
          [
           "taba"
          ],
          [
           "taba"
          ],
          [
           "taba"
          ],
          [
           "taba"
          ],
          [
           "windhoek"
          ],
          [
           "windhoek"
          ],
          [
           "windhoek"
          ],
          [
           "windhoek"
          ],
          [
           "windhoek"
          ],
          [
           "windhoek"
          ],
          [
           "zanzibar"
          ],
          [
           "zanzibar"
          ],
          [
           "zanzibar"
          ],
          [
           "zanzibar"
          ],
          [
           "zanzibar"
          ]
         ],
         "hovertemplate": "geo_area=Africa<br>mean_overall_rating=%{x}<br>mean_terminal_cleanliness_rating=%{y}<br>airport_name=%{customdata[0]}<extra></extra>",
         "legendgroup": "Africa",
         "marker": {
          "color": "#636efa",
          "symbol": "circle"
         },
         "mode": "markers",
         "name": "Africa",
         "orientation": "v",
         "showlegend": true,
         "type": "scatter",
         "x": [
          2,
          2,
          2,
          2,
          2,
          2,
          4.333333333333333,
          4.333333333333333,
          4.333333333333333,
          4.333333333333333,
          4.333333333333333,
          4.333333333333333,
          4.333333333333333,
          4.333333333333333,
          2,
          2,
          2,
          2,
          2,
          2,
          3,
          3,
          3,
          3,
          3,
          5,
          5,
          5,
          5,
          5,
          5,
          5,
          5,
          4,
          4,
          4,
          4,
          4,
          4,
          4,
          4,
          4,
          4,
          4,
          4,
          4,
          4,
          4,
          4,
          3,
          3,
          3,
          3,
          3,
          4.333333333333333,
          4.333333333333333,
          4.333333333333333,
          4.333333333333333,
          4.333333333333333,
          4.333333333333333,
          4.333333333333333,
          4.333333333333333,
          5,
          5,
          5,
          5,
          5,
          2.5,
          2.5,
          2.5,
          2.5,
          2.5,
          2.5,
          2.5,
          2.5,
          3,
          3,
          3,
          3,
          3,
          3,
          3,
          3,
          3,
          1.5,
          1.5,
          1.5,
          1.5,
          1.5,
          1.5,
          1.5,
          1.5,
          3,
          3,
          3,
          3,
          3,
          3,
          1.6666666666666667,
          1.6666666666666667,
          1.6666666666666667,
          1.6666666666666667,
          1.6666666666666667,
          2.5,
          2.5,
          2.5,
          2.5,
          2.5,
          2.5,
          1.5,
          1.5,
          1.5,
          1.5,
          1.5
         ],
         "xaxis": "x",
         "y": [
          3,
          3,
          3,
          3,
          3,
          3,
          5,
          5,
          5,
          5,
          5,
          5,
          5,
          5,
          3,
          3,
          3,
          3,
          3,
          3,
          null,
          null,
          null,
          null,
          null,
          4.5,
          4.5,
          4.5,
          4.5,
          4.5,
          4.5,
          4.5,
          4.5,
          4,
          4,
          4,
          4,
          4,
          4,
          4,
          4,
          4,
          5,
          5,
          5,
          5,
          5,
          5,
          5,
          3.5,
          3.5,
          3.5,
          3.5,
          3.5,
          4.333333333333333,
          4.333333333333333,
          4.333333333333333,
          4.333333333333333,
          4.333333333333333,
          4.333333333333333,
          4.333333333333333,
          4.333333333333333,
          3,
          3,
          3,
          3,
          3,
          3.5,
          3.5,
          3.5,
          3.5,
          3.5,
          3.5,
          3.5,
          3.5,
          3.3333333333333335,
          3.3333333333333335,
          3.3333333333333335,
          3.3333333333333335,
          3.3333333333333335,
          3.3333333333333335,
          3.3333333333333335,
          3.3333333333333335,
          3.3333333333333335,
          3,
          3,
          3,
          3,
          3,
          3,
          3,
          3,
          4,
          4,
          4,
          4,
          4,
          4,
          null,
          null,
          null,
          null,
          null,
          3.5,
          3.5,
          3.5,
          3.5,
          3.5,
          3.5,
          1.75,
          1.75,
          1.75,
          1.75,
          1.75
         ],
         "yaxis": "y"
        },
        {
         "customdata": [
          [
           "almeria"
          ],
          [
           "almeria"
          ],
          [
           "almeria"
          ],
          [
           "almeria"
          ],
          [
           "almeria"
          ],
          [
           "almeria"
          ],
          [
           "almeria"
          ],
          [
           "almeria"
          ],
          [
           "antwerp deurne"
          ],
          [
           "antwerp deurne"
          ],
          [
           "antwerp deurne"
          ],
          [
           "antwerp deurne"
          ],
          [
           "antwerp deurne"
          ],
          [
           "antwerp deurne"
          ],
          [
           "antwerp deurne"
          ],
          [
           "bergen"
          ],
          [
           "bergen"
          ],
          [
           "bergen"
          ],
          [
           "bergen"
          ],
          [
           "bergen"
          ],
          [
           "billund"
          ],
          [
           "billund"
          ],
          [
           "billund"
          ],
          [
           "billund"
          ],
          [
           "billund"
          ],
          [
           "billund"
          ],
          [
           "bourgas"
          ],
          [
           "bourgas"
          ],
          [
           "bourgas"
          ],
          [
           "bourgas"
          ],
          [
           "bourgas"
          ],
          [
           "carcassonne"
          ],
          [
           "carcassonne"
          ],
          [
           "carcassonne"
          ],
          [
           "carcassonne"
          ],
          [
           "carcassonne"
          ],
          [
           "carcassonne"
          ],
          [
           "carcassonne"
          ],
          [
           "carcassonne"
          ],
          [
           "carcassonne"
          ],
          [
           "chambery"
          ],
          [
           "chambery"
          ],
          [
           "chambery"
          ],
          [
           "chambery"
          ],
          [
           "chambery"
          ],
          [
           "chambery"
          ],
          [
           "chambery"
          ],
          [
           "coventry"
          ],
          [
           "coventry"
          ],
          [
           "coventry"
          ],
          [
           "coventry"
          ],
          [
           "coventry"
          ],
          [
           "dortmund"
          ],
          [
           "dortmund"
          ],
          [
           "dortmund"
          ],
          [
           "dortmund"
          ],
          [
           "dortmund"
          ],
          [
           "dortmund"
          ],
          [
           "dortmund"
          ],
          [
           "dortmund"
          ],
          [
           "dubrovnik"
          ],
          [
           "dubrovnik"
          ],
          [
           "dubrovnik"
          ],
          [
           "dubrovnik"
          ],
          [
           "dubrovnik"
          ],
          [
           "dubrovnik"
          ],
          [
           "dubrovnik"
          ],
          [
           "dundee"
          ],
          [
           "dundee"
          ],
          [
           "dundee"
          ],
          [
           "dundee"
          ],
          [
           "dundee"
          ],
          [
           "durhamtees valley"
          ],
          [
           "durhamtees valley"
          ],
          [
           "durhamtees valley"
          ],
          [
           "durhamtees valley"
          ],
          [
           "durhamtees valley"
          ],
          [
           "durhamtees valley"
          ],
          [
           "durhamtees valley"
          ],
          [
           "durhamtees valley"
          ],
          [
           "ercan"
          ],
          [
           "ercan"
          ],
          [
           "ercan"
          ],
          [
           "ercan"
          ],
          [
           "ercan"
          ],
          [
           "ercan"
          ],
          [
           "ercan"
          ],
          [
           "fuerteventura"
          ],
          [
           "fuerteventura"
          ],
          [
           "fuerteventura"
          ],
          [
           "fuerteventura"
          ],
          [
           "fuerteventura"
          ],
          [
           "fuerteventura"
          ],
          [
           "fuerteventura"
          ],
          [
           "fuerteventura"
          ],
          [
           "fuerteventura"
          ],
          [
           "gibraltar"
          ],
          [
           "gibraltar"
          ],
          [
           "gibraltar"
          ],
          [
           "gibraltar"
          ],
          [
           "gibraltar"
          ],
          [
           "gibraltar"
          ],
          [
           "gibraltar"
          ],
          [
           "gibraltar"
          ],
          [
           "granada"
          ],
          [
           "granada"
          ],
          [
           "granada"
          ],
          [
           "granada"
          ],
          [
           "granada"
          ],
          [
           "granada"
          ],
          [
           "guernsey"
          ],
          [
           "guernsey"
          ],
          [
           "guernsey"
          ],
          [
           "guernsey"
          ],
          [
           "guernsey"
          ],
          [
           "guernsey"
          ],
          [
           "guernsey"
          ],
          [
           "hamburg lubek"
          ],
          [
           "hamburg lubek"
          ],
          [
           "hamburg lubek"
          ],
          [
           "hamburg lubek"
          ],
          [
           "hamburg lubek"
          ],
          [
           "humberside"
          ],
          [
           "humberside"
          ],
          [
           "humberside"
          ],
          [
           "humberside"
          ],
          [
           "humberside"
          ],
          [
           "humberside"
          ],
          [
           "katowice"
          ],
          [
           "katowice"
          ],
          [
           "katowice"
          ],
          [
           "katowice"
          ],
          [
           "katowice"
          ],
          [
           "katowice"
          ],
          [
           "katowice"
          ],
          [
           "leipzighalle"
          ],
          [
           "leipzighalle"
          ],
          [
           "leipzighalle"
          ],
          [
           "leipzighalle"
          ],
          [
           "leipzighalle"
          ],
          [
           "linz"
          ],
          [
           "linz"
          ],
          [
           "linz"
          ],
          [
           "linz"
          ],
          [
           "linz"
          ],
          [
           "mahon"
          ],
          [
           "mahon"
          ],
          [
           "mahon"
          ],
          [
           "mahon"
          ],
          [
           "mahon"
          ],
          [
           "mahon"
          ],
          [
           "mahon"
          ],
          [
           "mahon"
          ],
          [
           "malmo"
          ],
          [
           "malmo"
          ],
          [
           "malmo"
          ],
          [
           "malmo"
          ],
          [
           "malmo"
          ],
          [
           "malmo"
          ],
          [
           "malmo"
          ],
          [
           "nimes"
          ],
          [
           "nimes"
          ],
          [
           "nimes"
          ],
          [
           "nimes"
          ],
          [
           "nimes"
          ],
          [
           "pau"
          ],
          [
           "pau"
          ],
          [
           "pau"
          ],
          [
           "pau"
          ],
          [
           "pau"
          ],
          [
           "perpignan"
          ],
          [
           "perpignan"
          ],
          [
           "perpignan"
          ],
          [
           "perpignan"
          ],
          [
           "perpignan"
          ],
          [
           "perpignan"
          ],
          [
           "perpignan"
          ],
          [
           "perpignan"
          ],
          [
           "ponta delgada"
          ],
          [
           "ponta delgada"
          ],
          [
           "ponta delgada"
          ],
          [
           "ponta delgada"
          ],
          [
           "ponta delgada"
          ],
          [
           "ponta delgada"
          ],
          [
           "poznan"
          ],
          [
           "poznan"
          ],
          [
           "poznan"
          ],
          [
           "poznan"
          ],
          [
           "poznan"
          ],
          [
           "pristina"
          ],
          [
           "pristina"
          ],
          [
           "pristina"
          ],
          [
           "pristina"
          ],
          [
           "pristina"
          ],
          [
           "pristina"
          ],
          [
           "pristina"
          ],
          [
           "pristina"
          ],
          [
           "salzburg"
          ],
          [
           "salzburg"
          ],
          [
           "salzburg"
          ],
          [
           "salzburg"
          ],
          [
           "salzburg"
          ],
          [
           "salzburg"
          ],
          [
           "salzburg"
          ],
          [
           "sarajevo"
          ],
          [
           "sarajevo"
          ],
          [
           "sarajevo"
          ],
          [
           "sarajevo"
          ],
          [
           "sarajevo"
          ],
          [
           "sarajevo"
          ],
          [
           "sarajevo"
          ],
          [
           "sarajevo"
          ],
          [
           "seville"
          ],
          [
           "seville"
          ],
          [
           "seville"
          ],
          [
           "seville"
          ],
          [
           "seville"
          ],
          [
           "seville"
          ],
          [
           "seville"
          ],
          [
           "seville"
          ],
          [
           "seville"
          ],
          [
           "skopje"
          ],
          [
           "skopje"
          ],
          [
           "skopje"
          ],
          [
           "skopje"
          ],
          [
           "skopje"
          ],
          [
           "stockholm vasteras"
          ],
          [
           "stockholm vasteras"
          ],
          [
           "stockholm vasteras"
          ],
          [
           "stockholm vasteras"
          ],
          [
           "stockholm vasteras"
          ],
          [
           "tirana"
          ],
          [
           "tirana"
          ],
          [
           "tirana"
          ],
          [
           "tirana"
          ],
          [
           "tirana"
          ],
          [
           "tirana"
          ],
          [
           "tirana"
          ],
          [
           "tirana"
          ],
          [
           "trieste"
          ],
          [
           "trieste"
          ],
          [
           "trieste"
          ],
          [
           "trieste"
          ],
          [
           "trieste"
          ],
          [
           "tromso"
          ],
          [
           "tromso"
          ],
          [
           "tromso"
          ],
          [
           "tromso"
          ],
          [
           "tromso"
          ],
          [
           "vnukovo"
          ],
          [
           "vnukovo"
          ],
          [
           "vnukovo"
          ],
          [
           "vnukovo"
          ],
          [
           "vnukovo"
          ],
          [
           "waterford"
          ],
          [
           "waterford"
          ],
          [
           "waterford"
          ],
          [
           "waterford"
          ],
          [
           "waterford"
          ],
          [
           "waterford"
          ],
          [
           "wroclaw strachowice"
          ],
          [
           "wroclaw strachowice"
          ],
          [
           "wroclaw strachowice"
          ],
          [
           "wroclaw strachowice"
          ],
          [
           "wroclaw strachowice"
          ],
          [
           "wroclaw strachowice"
          ],
          [
           "wroclaw strachowice"
          ],
          [
           "wroclaw strachowice"
          ],
          [
           "wroclaw strachowice"
          ]
         ],
         "hovertemplate": "geo_area=Europe<br>mean_overall_rating=%{x}<br>mean_terminal_cleanliness_rating=%{y}<br>airport_name=%{customdata[0]}<extra></extra>",
         "legendgroup": "Europe",
         "marker": {
          "color": "#EF553B",
          "symbol": "circle"
         },
         "mode": "markers",
         "name": "Europe",
         "orientation": "v",
         "showlegend": true,
         "type": "scatter",
         "x": [
          5,
          5,
          5,
          5,
          5,
          5,
          5,
          5,
          5,
          5,
          5,
          5,
          5,
          5,
          5,
          3,
          3,
          3,
          3,
          3,
          2,
          2,
          2,
          2,
          2,
          2,
          4,
          4,
          4,
          4,
          4,
          5,
          5,
          5,
          5,
          5,
          5,
          5,
          5,
          5,
          2.5,
          2.5,
          2.5,
          2.5,
          2.5,
          2.5,
          2.5,
          null,
          null,
          null,
          null,
          null,
          4,
          4,
          4,
          4,
          4,
          4,
          4,
          4,
          4.5,
          4.5,
          4.5,
          4.5,
          4.5,
          4.5,
          4.5,
          null,
          null,
          null,
          null,
          null,
          3,
          3,
          3,
          3,
          3,
          3,
          3,
          3,
          2.5,
          2.5,
          2.5,
          2.5,
          2.5,
          2.5,
          2.5,
          4.2,
          4.2,
          4.2,
          4.2,
          4.2,
          4.2,
          4.2,
          4.2,
          4.2,
          4,
          4,
          4,
          4,
          4,
          4,
          4,
          4,
          4,
          4,
          4,
          4,
          4,
          4,
          4.666666666666667,
          4.666666666666667,
          4.666666666666667,
          4.666666666666667,
          4.666666666666667,
          4.666666666666667,
          4.666666666666667,
          null,
          null,
          null,
          null,
          null,
          5,
          5,
          5,
          5,
          5,
          5,
          4.2,
          4.2,
          4.2,
          4.2,
          4.2,
          4.2,
          4.2,
          5,
          5,
          5,
          5,
          5,
          null,
          null,
          null,
          null,
          null,
          4.5,
          4.5,
          4.5,
          4.5,
          4.5,
          4.5,
          4.5,
          4.5,
          null,
          null,
          null,
          null,
          null,
          null,
          null,
          3,
          3,
          3,
          3,
          3,
          null,
          null,
          null,
          null,
          null,
          3.3333333333333335,
          3.3333333333333335,
          3.3333333333333335,
          3.3333333333333335,
          3.3333333333333335,
          3.3333333333333335,
          3.3333333333333335,
          3.3333333333333335,
          3.6666666666666665,
          3.6666666666666665,
          3.6666666666666665,
          3.6666666666666665,
          3.6666666666666665,
          3.6666666666666665,
          5,
          5,
          5,
          5,
          5,
          4.5,
          4.5,
          4.5,
          4.5,
          4.5,
          4.5,
          4.5,
          4.5,
          3.75,
          3.75,
          3.75,
          3.75,
          3.75,
          3.75,
          3.75,
          5,
          5,
          5,
          5,
          5,
          5,
          5,
          5,
          4,
          4,
          4,
          4,
          4,
          4,
          4,
          4,
          4,
          4,
          4,
          4,
          4,
          4,
          5,
          5,
          5,
          5,
          5,
          3.5,
          3.5,
          3.5,
          3.5,
          3.5,
          3.5,
          3.5,
          3.5,
          3,
          3,
          3,
          3,
          3,
          4.333333333333333,
          4.333333333333333,
          4.333333333333333,
          4.333333333333333,
          4.333333333333333,
          4.5,
          4.5,
          4.5,
          4.5,
          4.5,
          3.5,
          3.5,
          3.5,
          3.5,
          3.5,
          3.5,
          4.857142857142857,
          4.857142857142857,
          4.857142857142857,
          4.857142857142857,
          4.857142857142857,
          4.857142857142857,
          4.857142857142857,
          4.857142857142857,
          4.857142857142857
         ],
         "xaxis": "x",
         "y": [
          5,
          5,
          5,
          5,
          5,
          5,
          5,
          5,
          4,
          4,
          4,
          4,
          4,
          4,
          4,
          2,
          2,
          2,
          2,
          2,
          3,
          3,
          3,
          3,
          3,
          3,
          2,
          2,
          2,
          2,
          2,
          3,
          3,
          3,
          3,
          3,
          3,
          3,
          3,
          3,
          null,
          null,
          null,
          null,
          null,
          null,
          null,
          null,
          null,
          null,
          null,
          null,
          4.5,
          4.5,
          4.5,
          4.5,
          4.5,
          4.5,
          4.5,
          4.5,
          5,
          5,
          5,
          5,
          5,
          5,
          5,
          null,
          null,
          null,
          null,
          null,
          1,
          1,
          1,
          1,
          1,
          1,
          1,
          1,
          4,
          4,
          4,
          4,
          4,
          4,
          4,
          4.8,
          4.8,
          4.8,
          4.8,
          4.8,
          4.8,
          4.8,
          4.8,
          4.8,
          4.5,
          4.5,
          4.5,
          4.5,
          4.5,
          4.5,
          4.5,
          4.5,
          4,
          4,
          4,
          4,
          4,
          4,
          4.666666666666667,
          4.666666666666667,
          4.666666666666667,
          4.666666666666667,
          4.666666666666667,
          4.666666666666667,
          4.666666666666667,
          null,
          null,
          null,
          null,
          null,
          5,
          5,
          5,
          5,
          5,
          5,
          5,
          5,
          5,
          5,
          5,
          5,
          5,
          5,
          5,
          5,
          5,
          5,
          null,
          null,
          null,
          null,
          null,
          5,
          5,
          5,
          5,
          5,
          5,
          5,
          5,
          null,
          null,
          null,
          null,
          null,
          null,
          null,
          null,
          null,
          null,
          null,
          null,
          null,
          null,
          null,
          null,
          null,
          4,
          4,
          4,
          4,
          4,
          4,
          4,
          4,
          3.6666666666666665,
          3.6666666666666665,
          3.6666666666666665,
          3.6666666666666665,
          3.6666666666666665,
          3.6666666666666665,
          5,
          5,
          5,
          5,
          5,
          4.5,
          4.5,
          4.5,
          4.5,
          4.5,
          4.5,
          4.5,
          4.5,
          4,
          4,
          4,
          4,
          4,
          4,
          4,
          5,
          5,
          5,
          5,
          5,
          5,
          5,
          5,
          4,
          4,
          4,
          4,
          4,
          4,
          4,
          4,
          4,
          4.333333333333333,
          4.333333333333333,
          4.333333333333333,
          4.333333333333333,
          4.333333333333333,
          5,
          5,
          5,
          5,
          5,
          5,
          5,
          5,
          5,
          5,
          5,
          5,
          5,
          1,
          1,
          1,
          1,
          1,
          4.333333333333333,
          4.333333333333333,
          4.333333333333333,
          4.333333333333333,
          4.333333333333333,
          5,
          5,
          5,
          5,
          5,
          5,
          5,
          5,
          5,
          5,
          5,
          4.666666666666667,
          4.666666666666667,
          4.666666666666667,
          4.666666666666667,
          4.666666666666667,
          4.666666666666667,
          4.666666666666667,
          4.666666666666667,
          4.666666666666667
         ],
         "yaxis": "y"
        },
        {
         "customdata": [
          [
           "aruba reina beatrix"
          ],
          [
           "aruba reina beatrix"
          ],
          [
           "aruba reina beatrix"
          ],
          [
           "aruba reina beatrix"
          ],
          [
           "aruba reina beatrix"
          ],
          [
           "aruba reina beatrix"
          ],
          [
           "aruba reina beatrix"
          ],
          [
           "aruba reina beatrix"
          ],
          [
           "aruba reina beatrix"
          ],
          [
           "belo horizonte confins"
          ],
          [
           "belo horizonte confins"
          ],
          [
           "belo horizonte confins"
          ],
          [
           "belo horizonte confins"
          ],
          [
           "belo horizonte confins"
          ],
          [
           "belo horizonte confins"
          ],
          [
           "belo horizonte confins"
          ],
          [
           "belo horizonte confins"
          ],
          [
           "belo horizonte confins"
          ],
          [
           "brasilia"
          ],
          [
           "brasilia"
          ],
          [
           "brasilia"
          ],
          [
           "brasilia"
          ],
          [
           "brasilia"
          ],
          [
           "brasilia"
          ],
          [
           "brasilia"
          ],
          [
           "brasilia"
          ],
          [
           "brasilia"
          ],
          [
           "crown point tobago"
          ],
          [
           "crown point tobago"
          ],
          [
           "crown point tobago"
          ],
          [
           "crown point tobago"
          ],
          [
           "crown point tobago"
          ],
          [
           "crown point tobago"
          ],
          [
           "crown point tobago"
          ],
          [
           "curacao"
          ],
          [
           "curacao"
          ],
          [
           "curacao"
          ],
          [
           "curacao"
          ],
          [
           "curacao"
          ],
          [
           "curacao"
          ],
          [
           "curacao"
          ],
          [
           "guayaquil"
          ],
          [
           "guayaquil"
          ],
          [
           "guayaquil"
          ],
          [
           "guayaquil"
          ],
          [
           "guayaquil"
          ],
          [
           "holguin"
          ],
          [
           "holguin"
          ],
          [
           "holguin"
          ],
          [
           "holguin"
          ],
          [
           "holguin"
          ],
          [
           "holguin"
          ],
          [
           "holguin"
          ],
          [
           "manaus"
          ],
          [
           "manaus"
          ],
          [
           "manaus"
          ],
          [
           "manaus"
          ],
          [
           "manaus"
          ],
          [
           "manaus"
          ],
          [
           "quito mariscal"
          ],
          [
           "quito mariscal"
          ],
          [
           "quito mariscal"
          ],
          [
           "quito mariscal"
          ],
          [
           "quito mariscal"
          ],
          [
           "quito mariscal"
          ],
          [
           "recife"
          ],
          [
           "recife"
          ],
          [
           "recife"
          ],
          [
           "recife"
          ],
          [
           "recife"
          ],
          [
           "salvador"
          ],
          [
           "salvador"
          ],
          [
           "salvador"
          ],
          [
           "salvador"
          ],
          [
           "salvador"
          ],
          [
           "salvador"
          ],
          [
           "santo domingo"
          ],
          [
           "santo domingo"
          ],
          [
           "santo domingo"
          ],
          [
           "santo domingo"
          ],
          [
           "santo domingo"
          ],
          [
           "santo domingo"
          ],
          [
           "santo domingo"
          ],
          [
           "santo domingo"
          ],
          [
           "sao paulo congonhas"
          ],
          [
           "sao paulo congonhas"
          ],
          [
           "sao paulo congonhas"
          ],
          [
           "sao paulo congonhas"
          ],
          [
           "sao paulo congonhas"
          ],
          [
           "sao paulo congonhas"
          ]
         ],
         "hovertemplate": "geo_area=Latin America<br>mean_overall_rating=%{x}<br>mean_terminal_cleanliness_rating=%{y}<br>airport_name=%{customdata[0]}<extra></extra>",
         "legendgroup": "Latin America",
         "marker": {
          "color": "#00cc96",
          "symbol": "circle"
         },
         "mode": "markers",
         "name": "Latin America",
         "orientation": "v",
         "showlegend": true,
         "type": "scatter",
         "x": [
          2.3333333333333335,
          2.3333333333333335,
          2.3333333333333335,
          2.3333333333333335,
          2.3333333333333335,
          2.3333333333333335,
          2.3333333333333335,
          2.3333333333333335,
          2.3333333333333335,
          4,
          4,
          4,
          4,
          4,
          4,
          4,
          4,
          4,
          3,
          3,
          3,
          3,
          3,
          3,
          3,
          3,
          3,
          1.3333333333333333,
          1.3333333333333333,
          1.3333333333333333,
          1.3333333333333333,
          1.3333333333333333,
          1.3333333333333333,
          1.3333333333333333,
          2.5,
          2.5,
          2.5,
          2.5,
          2.5,
          2.5,
          2.5,
          3.4,
          3.4,
          3.4,
          3.4,
          3.4,
          1,
          1,
          1,
          1,
          1,
          1,
          1,
          3,
          3,
          3,
          3,
          3,
          3,
          2,
          2,
          2,
          2,
          2,
          2,
          5,
          5,
          5,
          5,
          5,
          2.3333333333333335,
          2.3333333333333335,
          2.3333333333333335,
          2.3333333333333335,
          2.3333333333333335,
          2.3333333333333335,
          4.666666666666667,
          4.666666666666667,
          4.666666666666667,
          4.666666666666667,
          4.666666666666667,
          4.666666666666667,
          4.666666666666667,
          4.666666666666667,
          3.75,
          3.75,
          3.75,
          3.75,
          3.75,
          3.75
         ],
         "xaxis": "x",
         "y": [
          4.2,
          4.2,
          4.2,
          4.2,
          4.2,
          4.2,
          4.2,
          4.2,
          4.2,
          3.5,
          3.5,
          3.5,
          3.5,
          3.5,
          3.5,
          3.5,
          3.5,
          3.5,
          3.5,
          3.5,
          3.5,
          3.5,
          3.5,
          3.5,
          3.5,
          3.5,
          3.5,
          2.5,
          2.5,
          2.5,
          2.5,
          2.5,
          2.5,
          2.5,
          4,
          4,
          4,
          4,
          4,
          4,
          4,
          4.6,
          4.6,
          4.6,
          4.6,
          4.6,
          2.5,
          2.5,
          2.5,
          2.5,
          2.5,
          2.5,
          2.5,
          3,
          3,
          3,
          3,
          3,
          3,
          4,
          4,
          4,
          4,
          4,
          4,
          4.5,
          4.5,
          4.5,
          4.5,
          4.5,
          3,
          3,
          3,
          3,
          3,
          3,
          5,
          5,
          5,
          5,
          5,
          5,
          5,
          5,
          3.8,
          3.8,
          3.8,
          3.8,
          3.8,
          3.8
         ],
         "yaxis": "y"
        },
        {
         "customdata": [
          [
           "beirut"
          ],
          [
           "beirut"
          ],
          [
           "beirut"
          ],
          [
           "beirut"
          ],
          [
           "beirut"
          ],
          [
           "beirut"
          ],
          [
           "beirut"
          ],
          [
           "beirut"
          ],
          [
           "beirut"
          ],
          [
           "hamad doha"
          ],
          [
           "hamad doha"
          ],
          [
           "hamad doha"
          ],
          [
           "hamad doha"
          ],
          [
           "hamad doha"
          ],
          [
           "sharjah"
          ],
          [
           "sharjah"
          ],
          [
           "sharjah"
          ],
          [
           "sharjah"
          ],
          [
           "sharjah"
          ],
          [
           "sharjah"
          ],
          [
           "tehran mehrabad"
          ],
          [
           "tehran mehrabad"
          ],
          [
           "tehran mehrabad"
          ],
          [
           "tehran mehrabad"
          ],
          [
           "tehran mehrabad"
          ]
         ],
         "hovertemplate": "geo_area=Middle-East<br>mean_overall_rating=%{x}<br>mean_terminal_cleanliness_rating=%{y}<br>airport_name=%{customdata[0]}<extra></extra>",
         "legendgroup": "Middle-East",
         "marker": {
          "color": "#ab63fa",
          "symbol": "circle"
         },
         "mode": "markers",
         "name": "Middle-East",
         "orientation": "v",
         "showlegend": true,
         "type": "scatter",
         "x": [
          3.8,
          3.8,
          3.8,
          3.8,
          3.8,
          3.8,
          3.8,
          3.8,
          3.8,
          null,
          null,
          null,
          null,
          null,
          2.6666666666666665,
          2.6666666666666665,
          2.6666666666666665,
          2.6666666666666665,
          2.6666666666666665,
          2.6666666666666665,
          4,
          4,
          4,
          4,
          4
         ],
         "xaxis": "x",
         "y": [
          4.25,
          4.25,
          4.25,
          4.25,
          4.25,
          4.25,
          4.25,
          4.25,
          4.25,
          null,
          null,
          null,
          null,
          null,
          3.5,
          3.5,
          3.5,
          3.5,
          3.5,
          3.5,
          2,
          2,
          2,
          2,
          2
         ],
         "yaxis": "y"
        },
        {
         "customdata": [
          [
           "bermuda"
          ],
          [
           "bermuda"
          ],
          [
           "bermuda"
          ],
          [
           "bermuda"
          ],
          [
           "bermuda"
          ],
          [
           "colorado springs"
          ],
          [
           "colorado springs"
          ],
          [
           "colorado springs"
          ],
          [
           "colorado springs"
          ],
          [
           "colorado springs"
          ],
          [
           "colorado springs"
          ],
          [
           "colorado springs"
          ],
          [
           "columbus"
          ],
          [
           "columbus"
          ],
          [
           "columbus"
          ],
          [
           "columbus"
          ],
          [
           "columbus"
          ],
          [
           "dallas love field"
          ],
          [
           "dallas love field"
          ],
          [
           "dallas love field"
          ],
          [
           "dallas love field"
          ],
          [
           "dallas love field"
          ],
          [
           "fort myers"
          ],
          [
           "fort myers"
          ],
          [
           "fort myers"
          ],
          [
           "fort myers"
          ],
          [
           "fort myers"
          ],
          [
           "fort myers"
          ],
          [
           "fort myers"
          ],
          [
           "fort myers"
          ],
          [
           "fort myers"
          ],
          [
           "hartford"
          ],
          [
           "hartford"
          ],
          [
           "hartford"
          ],
          [
           "hartford"
          ],
          [
           "hartford"
          ],
          [
           "hartford"
          ],
          [
           "hartford"
          ],
          [
           "hartford"
          ],
          [
           "hartford"
          ],
          [
           "hilo"
          ],
          [
           "hilo"
          ],
          [
           "hilo"
          ],
          [
           "hilo"
          ],
          [
           "hilo"
          ],
          [
           "hilo"
          ],
          [
           "indianapolis"
          ],
          [
           "indianapolis"
          ],
          [
           "indianapolis"
          ],
          [
           "indianapolis"
          ],
          [
           "indianapolis"
          ],
          [
           "indianapolis"
          ],
          [
           "indianapolis"
          ],
          [
           "indianapolis"
          ],
          [
           "indianapolis"
          ],
          [
           "jacksonville"
          ],
          [
           "jacksonville"
          ],
          [
           "jacksonville"
          ],
          [
           "jacksonville"
          ],
          [
           "jacksonville"
          ],
          [
           "john wayne"
          ],
          [
           "john wayne"
          ],
          [
           "john wayne"
          ],
          [
           "john wayne"
          ],
          [
           "john wayne"
          ],
          [
           "john wayne"
          ],
          [
           "little rock"
          ],
          [
           "little rock"
          ],
          [
           "little rock"
          ],
          [
           "little rock"
          ],
          [
           "little rock"
          ],
          [
           "little rock"
          ],
          [
           "long beach"
          ],
          [
           "long beach"
          ],
          [
           "long beach"
          ],
          [
           "long beach"
          ],
          [
           "long beach"
          ],
          [
           "long beach"
          ],
          [
           "long island macarthur"
          ],
          [
           "long island macarthur"
          ],
          [
           "long island macarthur"
          ],
          [
           "long island macarthur"
          ],
          [
           "long island macarthur"
          ],
          [
           "long island macarthur"
          ],
          [
           "long island macarthur"
          ],
          [
           "memphis"
          ],
          [
           "memphis"
          ],
          [
           "memphis"
          ],
          [
           "memphis"
          ],
          [
           "memphis"
          ],
          [
           "memphis"
          ],
          [
           "memphis"
          ],
          [
           "milwaukee"
          ],
          [
           "milwaukee"
          ],
          [
           "milwaukee"
          ],
          [
           "milwaukee"
          ],
          [
           "milwaukee"
          ],
          [
           "milwaukee"
          ],
          [
           "milwaukee"
          ],
          [
           "milwaukee"
          ],
          [
           "milwaukee"
          ],
          [
           "muscle shoals"
          ],
          [
           "muscle shoals"
          ],
          [
           "muscle shoals"
          ],
          [
           "muscle shoals"
          ],
          [
           "muscle shoals"
          ],
          [
           "nashville"
          ],
          [
           "nashville"
          ],
          [
           "nashville"
          ],
          [
           "nashville"
          ],
          [
           "nashville"
          ],
          [
           "nashville"
          ],
          [
           "sacramento"
          ],
          [
           "sacramento"
          ],
          [
           "sacramento"
          ],
          [
           "sacramento"
          ],
          [
           "sacramento"
          ],
          [
           "sacramento"
          ],
          [
           "sacramento"
          ],
          [
           "sacramento"
          ],
          [
           "sacramento"
          ]
         ],
         "hovertemplate": "geo_area=North America<br>mean_overall_rating=%{x}<br>mean_terminal_cleanliness_rating=%{y}<br>airport_name=%{customdata[0]}<extra></extra>",
         "legendgroup": "North America",
         "marker": {
          "color": "#FFA15A",
          "symbol": "circle"
         },
         "mode": "markers",
         "name": "North America",
         "orientation": "v",
         "showlegend": true,
         "type": "scatter",
         "x": [
          null,
          null,
          null,
          null,
          null,
          5,
          5,
          5,
          5,
          5,
          5,
          5,
          3.6666666666666665,
          3.6666666666666665,
          3.6666666666666665,
          3.6666666666666665,
          3.6666666666666665,
          null,
          null,
          null,
          null,
          null,
          4.375,
          4.375,
          4.375,
          4.375,
          4.375,
          4.375,
          4.375,
          4.375,
          4.375,
          5,
          5,
          5,
          5,
          5,
          5,
          5,
          5,
          5,
          4,
          4,
          4,
          4,
          4,
          4,
          5,
          5,
          5,
          5,
          5,
          5,
          5,
          5,
          5,
          5,
          5,
          5,
          5,
          5,
          4,
          4,
          4,
          4,
          4,
          4,
          5,
          5,
          5,
          5,
          5,
          5,
          5,
          5,
          5,
          5,
          5,
          5,
          5,
          5,
          5,
          5,
          5,
          5,
          5,
          3.5,
          3.5,
          3.5,
          3.5,
          3.5,
          3.5,
          3.5,
          4.8,
          4.8,
          4.8,
          4.8,
          4.8,
          4.8,
          4.8,
          4.8,
          4.8,
          null,
          null,
          null,
          null,
          null,
          4.5,
          4.5,
          4.5,
          4.5,
          4.5,
          4.5,
          4.2,
          4.2,
          4.2,
          4.2,
          4.2,
          4.2,
          4.2,
          4.2,
          4.2
         ],
         "xaxis": "x",
         "y": [
          null,
          null,
          null,
          null,
          null,
          5,
          5,
          5,
          5,
          5,
          5,
          5,
          5,
          5,
          5,
          5,
          5,
          null,
          null,
          null,
          null,
          null,
          4.75,
          4.75,
          4.75,
          4.75,
          4.75,
          4.75,
          4.75,
          4.75,
          4.75,
          4.5,
          4.5,
          4.5,
          4.5,
          4.5,
          4.5,
          4.5,
          4.5,
          4.5,
          4.333333333333333,
          4.333333333333333,
          4.333333333333333,
          4.333333333333333,
          4.333333333333333,
          4.333333333333333,
          3,
          3,
          3,
          3,
          3,
          3,
          3,
          3,
          3,
          5,
          5,
          5,
          5,
          5,
          4,
          4,
          4,
          4,
          4,
          4,
          null,
          null,
          null,
          null,
          null,
          null,
          4,
          4,
          4,
          4,
          4,
          4,
          5,
          5,
          5,
          5,
          5,
          5,
          5,
          3.25,
          3.25,
          3.25,
          3.25,
          3.25,
          3.25,
          3.25,
          4.6,
          4.6,
          4.6,
          4.6,
          4.6,
          4.6,
          4.6,
          4.6,
          4.6,
          null,
          null,
          null,
          null,
          null,
          4.5,
          4.5,
          4.5,
          4.5,
          4.5,
          4.5,
          4.2,
          4.2,
          4.2,
          4.2,
          4.2,
          4.2,
          4.2,
          4.2,
          4.2
         ],
         "yaxis": "y"
        },
        {
         "customdata": [
          [
           "chengdu"
          ],
          [
           "chengdu"
          ],
          [
           "chengdu"
          ],
          [
           "chengdu"
          ],
          [
           "chengdu"
          ],
          [
           "coimbatore"
          ],
          [
           "coimbatore"
          ],
          [
           "coimbatore"
          ],
          [
           "coimbatore"
          ],
          [
           "coimbatore"
          ],
          [
           "hangzhou"
          ],
          [
           "hangzhou"
          ],
          [
           "hangzhou"
          ],
          [
           "hangzhou"
          ],
          [
           "hangzhou"
          ],
          [
           "hangzhou"
          ],
          [
           "hangzhou"
          ],
          [
           "hangzhou"
          ],
          [
           "kunming"
          ],
          [
           "kunming"
          ],
          [
           "kunming"
          ],
          [
           "kunming"
          ],
          [
           "kunming"
          ],
          [
           "kunming"
          ],
          [
           "pune"
          ],
          [
           "pune"
          ],
          [
           "pune"
          ],
          [
           "pune"
          ],
          [
           "pune"
          ],
          [
           "pune"
          ],
          [
           "pune"
          ],
          [
           "pune"
          ],
          [
           "pune"
          ],
          [
           "qingdao"
          ],
          [
           "qingdao"
          ],
          [
           "qingdao"
          ],
          [
           "qingdao"
          ],
          [
           "qingdao"
          ],
          [
           "qingdao"
          ],
          [
           "qingdao"
          ],
          [
           "sapporo chitose"
          ],
          [
           "sapporo chitose"
          ],
          [
           "sapporo chitose"
          ],
          [
           "sapporo chitose"
          ],
          [
           "sapporo chitose"
          ],
          [
           "sapporo chitose"
          ],
          [
           "sapporo chitose"
          ],
          [
           "sapporo chitose"
          ],
          [
           "seoul gimpo"
          ],
          [
           "seoul gimpo"
          ],
          [
           "seoul gimpo"
          ],
          [
           "seoul gimpo"
          ],
          [
           "seoul gimpo"
          ],
          [
           "seoul gimpo"
          ],
          [
           "seoul gimpo"
          ],
          [
           "seoul gimpo"
          ],
          [
           "shenyang"
          ],
          [
           "shenyang"
          ],
          [
           "shenyang"
          ],
          [
           "shenyang"
          ],
          [
           "shenyang"
          ],
          [
           "shenyang"
          ],
          [
           "shenyang"
          ],
          [
           "xian xianyang"
          ],
          [
           "xian xianyang"
          ],
          [
           "xian xianyang"
          ],
          [
           "xian xianyang"
          ],
          [
           "xian xianyang"
          ],
          [
           "xian xianyang"
          ],
          [
           "xian xianyang"
          ],
          [
           "xian xianyang"
          ],
          [
           "xiamen"
          ],
          [
           "xiamen"
          ],
          [
           "xiamen"
          ],
          [
           "xiamen"
          ],
          [
           "xiamen"
          ],
          [
           "xiamen"
          ],
          [
           "xiamen"
          ],
          [
           "xiamen"
          ],
          [
           "xiamen"
          ]
         ],
         "hovertemplate": "geo_area=Asia<br>mean_overall_rating=%{x}<br>mean_terminal_cleanliness_rating=%{y}<br>airport_name=%{customdata[0]}<extra></extra>",
         "legendgroup": "Asia",
         "marker": {
          "color": "#19d3f3",
          "symbol": "circle"
         },
         "mode": "markers",
         "name": "Asia",
         "orientation": "v",
         "showlegend": true,
         "type": "scatter",
         "x": [
          4,
          4,
          4,
          4,
          4,
          2.5,
          2.5,
          2.5,
          2.5,
          2.5,
          4.333333333333333,
          4.333333333333333,
          4.333333333333333,
          4.333333333333333,
          4.333333333333333,
          4.333333333333333,
          4.333333333333333,
          4.333333333333333,
          3.75,
          3.75,
          3.75,
          3.75,
          3.75,
          3.75,
          3,
          3,
          3,
          3,
          3,
          3,
          3,
          3,
          3,
          4.4,
          4.4,
          4.4,
          4.4,
          4.4,
          4.4,
          4.4,
          3.8,
          3.8,
          3.8,
          3.8,
          3.8,
          3.8,
          3.8,
          3.8,
          4,
          4,
          4,
          4,
          4,
          4,
          4,
          4,
          5,
          5,
          5,
          5,
          5,
          5,
          5,
          2.5,
          2.5,
          2.5,
          2.5,
          2.5,
          2.5,
          2.5,
          2.5,
          3.8,
          3.8,
          3.8,
          3.8,
          3.8,
          3.8,
          3.8,
          3.8,
          3.8
         ],
         "xaxis": "x",
         "y": [
          3.75,
          3.75,
          3.75,
          3.75,
          3.75,
          2.5,
          2.5,
          2.5,
          2.5,
          2.5,
          4.333333333333333,
          4.333333333333333,
          4.333333333333333,
          4.333333333333333,
          4.333333333333333,
          4.333333333333333,
          4.333333333333333,
          4.333333333333333,
          4,
          4,
          4,
          4,
          4,
          4,
          3,
          3,
          3,
          3,
          3,
          3,
          3,
          3,
          3,
          4.6,
          4.6,
          4.6,
          4.6,
          4.6,
          4.6,
          4.6,
          4.5,
          4.5,
          4.5,
          4.5,
          4.5,
          4.5,
          4.5,
          4.5,
          4,
          4,
          4,
          4,
          4,
          4,
          4,
          4,
          4.333333333333333,
          4.333333333333333,
          4.333333333333333,
          4.333333333333333,
          4.333333333333333,
          4.333333333333333,
          4.333333333333333,
          3.75,
          3.75,
          3.75,
          3.75,
          3.75,
          3.75,
          3.75,
          3.75,
          4,
          4,
          4,
          4,
          4,
          4,
          4,
          4,
          4
         ],
         "yaxis": "y"
        },
        {
         "customdata": [
          [
           "clark"
          ],
          [
           "clark"
          ],
          [
           "clark"
          ],
          [
           "clark"
          ],
          [
           "clark"
          ],
          [
           "clark"
          ],
          [
           "clark"
          ],
          [
           "hobart"
          ],
          [
           "hobart"
          ],
          [
           "hobart"
          ],
          [
           "hobart"
          ],
          [
           "hobart"
          ],
          [
           "hobart"
          ],
          [
           "hobart"
          ],
          [
           "hobart"
          ],
          [
           "hobart"
          ],
          [
           "kota kinabalu"
          ],
          [
           "kota kinabalu"
          ],
          [
           "kota kinabalu"
          ],
          [
           "kota kinabalu"
          ],
          [
           "kota kinabalu"
          ],
          [
           "launceston"
          ],
          [
           "launceston"
          ],
          [
           "launceston"
          ],
          [
           "launceston"
          ],
          [
           "launceston"
          ],
          [
           "medan"
          ],
          [
           "medan"
          ],
          [
           "medan"
          ],
          [
           "medan"
          ],
          [
           "medan"
          ],
          [
           "medan"
          ],
          [
           "medan"
          ],
          [
           "medan"
          ],
          [
           "subang kuala lumpur"
          ],
          [
           "subang kuala lumpur"
          ],
          [
           "subang kuala lumpur"
          ],
          [
           "subang kuala lumpur"
          ],
          [
           "subang kuala lumpur"
          ],
          [
           "tontouta"
          ],
          [
           "tontouta"
          ],
          [
           "tontouta"
          ],
          [
           "tontouta"
          ],
          [
           "tontouta"
          ],
          [
           "tontouta"
          ],
          [
           "tontouta"
          ],
          [
           "tontouta"
          ],
          [
           "vientiane"
          ],
          [
           "vientiane"
          ],
          [
           "vientiane"
          ],
          [
           "vientiane"
          ],
          [
           "vientiane"
          ],
          [
           "vientiane"
          ],
          [
           "vientiane"
          ],
          [
           "vientiane"
          ],
          [
           "yogyakarta"
          ],
          [
           "yogyakarta"
          ],
          [
           "yogyakarta"
          ],
          [
           "yogyakarta"
          ],
          [
           "yogyakarta"
          ],
          [
           "yogyakarta"
          ],
          [
           "yogyakarta"
          ]
         ],
         "hovertemplate": "geo_area=S-Asia Oceania<br>mean_overall_rating=%{x}<br>mean_terminal_cleanliness_rating=%{y}<br>airport_name=%{customdata[0]}<extra></extra>",
         "legendgroup": "S-Asia Oceania",
         "marker": {
          "color": "#FF6692",
          "symbol": "circle"
         },
         "mode": "markers",
         "name": "S-Asia Oceania",
         "orientation": "v",
         "showlegend": true,
         "type": "scatter",
         "x": [
          3.6666666666666665,
          3.6666666666666665,
          3.6666666666666665,
          3.6666666666666665,
          3.6666666666666665,
          3.6666666666666665,
          3.6666666666666665,
          5,
          5,
          5,
          5,
          5,
          5,
          5,
          5,
          5,
          4.5,
          4.5,
          4.5,
          4.5,
          4.5,
          4,
          4,
          4,
          4,
          4,
          4,
          4,
          4,
          4,
          4,
          4,
          4,
          4,
          4.6,
          4.6,
          4.6,
          4.6,
          4.6,
          4,
          4,
          4,
          4,
          4,
          4,
          4,
          4,
          4.75,
          4.75,
          4.75,
          4.75,
          4.75,
          4.75,
          4.75,
          4.75,
          3.6666666666666665,
          3.6666666666666665,
          3.6666666666666665,
          3.6666666666666665,
          3.6666666666666665,
          3.6666666666666665,
          3.6666666666666665
         ],
         "xaxis": "x",
         "y": [
          4,
          4,
          4,
          4,
          4,
          4,
          4,
          5,
          5,
          5,
          5,
          5,
          5,
          5,
          5,
          5,
          4.5,
          4.5,
          4.5,
          4.5,
          4.5,
          4,
          4,
          4,
          4,
          4,
          3.4285714285714284,
          3.4285714285714284,
          3.4285714285714284,
          3.4285714285714284,
          3.4285714285714284,
          3.4285714285714284,
          3.4285714285714284,
          3.4285714285714284,
          4.6,
          4.6,
          4.6,
          4.6,
          4.6,
          4.5,
          4.5,
          4.5,
          4.5,
          4.5,
          4.5,
          4.5,
          4.5,
          4.5,
          4.5,
          4.5,
          4.5,
          4.5,
          4.5,
          4.5,
          4.5,
          2.6666666666666665,
          2.6666666666666665,
          2.6666666666666665,
          2.6666666666666665,
          2.6666666666666665,
          2.6666666666666665,
          2.6666666666666665
         ],
         "yaxis": "y"
        }
       ],
       "layout": {
        "legend": {
         "title": {
          "text": "geo_area"
         },
         "tracegroupgap": 0
        },
        "template": {
         "data": {
          "bar": [
           {
            "error_x": {
             "color": "#2a3f5f"
            },
            "error_y": {
             "color": "#2a3f5f"
            },
            "marker": {
             "line": {
              "color": "#E5ECF6",
              "width": 0.5
             },
             "pattern": {
              "fillmode": "overlay",
              "size": 10,
              "solidity": 0.2
             }
            },
            "type": "bar"
           }
          ],
          "barpolar": [
           {
            "marker": {
             "line": {
              "color": "#E5ECF6",
              "width": 0.5
             },
             "pattern": {
              "fillmode": "overlay",
              "size": 10,
              "solidity": 0.2
             }
            },
            "type": "barpolar"
           }
          ],
          "carpet": [
           {
            "aaxis": {
             "endlinecolor": "#2a3f5f",
             "gridcolor": "white",
             "linecolor": "white",
             "minorgridcolor": "white",
             "startlinecolor": "#2a3f5f"
            },
            "baxis": {
             "endlinecolor": "#2a3f5f",
             "gridcolor": "white",
             "linecolor": "white",
             "minorgridcolor": "white",
             "startlinecolor": "#2a3f5f"
            },
            "type": "carpet"
           }
          ],
          "choropleth": [
           {
            "colorbar": {
             "outlinewidth": 0,
             "ticks": ""
            },
            "type": "choropleth"
           }
          ],
          "contour": [
           {
            "colorbar": {
             "outlinewidth": 0,
             "ticks": ""
            },
            "colorscale": [
             [
              0,
              "#0d0887"
             ],
             [
              0.1111111111111111,
              "#46039f"
             ],
             [
              0.2222222222222222,
              "#7201a8"
             ],
             [
              0.3333333333333333,
              "#9c179e"
             ],
             [
              0.4444444444444444,
              "#bd3786"
             ],
             [
              0.5555555555555556,
              "#d8576b"
             ],
             [
              0.6666666666666666,
              "#ed7953"
             ],
             [
              0.7777777777777778,
              "#fb9f3a"
             ],
             [
              0.8888888888888888,
              "#fdca26"
             ],
             [
              1,
              "#f0f921"
             ]
            ],
            "type": "contour"
           }
          ],
          "contourcarpet": [
           {
            "colorbar": {
             "outlinewidth": 0,
             "ticks": ""
            },
            "type": "contourcarpet"
           }
          ],
          "heatmap": [
           {
            "colorbar": {
             "outlinewidth": 0,
             "ticks": ""
            },
            "colorscale": [
             [
              0,
              "#0d0887"
             ],
             [
              0.1111111111111111,
              "#46039f"
             ],
             [
              0.2222222222222222,
              "#7201a8"
             ],
             [
              0.3333333333333333,
              "#9c179e"
             ],
             [
              0.4444444444444444,
              "#bd3786"
             ],
             [
              0.5555555555555556,
              "#d8576b"
             ],
             [
              0.6666666666666666,
              "#ed7953"
             ],
             [
              0.7777777777777778,
              "#fb9f3a"
             ],
             [
              0.8888888888888888,
              "#fdca26"
             ],
             [
              1,
              "#f0f921"
             ]
            ],
            "type": "heatmap"
           }
          ],
          "heatmapgl": [
           {
            "colorbar": {
             "outlinewidth": 0,
             "ticks": ""
            },
            "colorscale": [
             [
              0,
              "#0d0887"
             ],
             [
              0.1111111111111111,
              "#46039f"
             ],
             [
              0.2222222222222222,
              "#7201a8"
             ],
             [
              0.3333333333333333,
              "#9c179e"
             ],
             [
              0.4444444444444444,
              "#bd3786"
             ],
             [
              0.5555555555555556,
              "#d8576b"
             ],
             [
              0.6666666666666666,
              "#ed7953"
             ],
             [
              0.7777777777777778,
              "#fb9f3a"
             ],
             [
              0.8888888888888888,
              "#fdca26"
             ],
             [
              1,
              "#f0f921"
             ]
            ],
            "type": "heatmapgl"
           }
          ],
          "histogram": [
           {
            "marker": {
             "pattern": {
              "fillmode": "overlay",
              "size": 10,
              "solidity": 0.2
             }
            },
            "type": "histogram"
           }
          ],
          "histogram2d": [
           {
            "colorbar": {
             "outlinewidth": 0,
             "ticks": ""
            },
            "colorscale": [
             [
              0,
              "#0d0887"
             ],
             [
              0.1111111111111111,
              "#46039f"
             ],
             [
              0.2222222222222222,
              "#7201a8"
             ],
             [
              0.3333333333333333,
              "#9c179e"
             ],
             [
              0.4444444444444444,
              "#bd3786"
             ],
             [
              0.5555555555555556,
              "#d8576b"
             ],
             [
              0.6666666666666666,
              "#ed7953"
             ],
             [
              0.7777777777777778,
              "#fb9f3a"
             ],
             [
              0.8888888888888888,
              "#fdca26"
             ],
             [
              1,
              "#f0f921"
             ]
            ],
            "type": "histogram2d"
           }
          ],
          "histogram2dcontour": [
           {
            "colorbar": {
             "outlinewidth": 0,
             "ticks": ""
            },
            "colorscale": [
             [
              0,
              "#0d0887"
             ],
             [
              0.1111111111111111,
              "#46039f"
             ],
             [
              0.2222222222222222,
              "#7201a8"
             ],
             [
              0.3333333333333333,
              "#9c179e"
             ],
             [
              0.4444444444444444,
              "#bd3786"
             ],
             [
              0.5555555555555556,
              "#d8576b"
             ],
             [
              0.6666666666666666,
              "#ed7953"
             ],
             [
              0.7777777777777778,
              "#fb9f3a"
             ],
             [
              0.8888888888888888,
              "#fdca26"
             ],
             [
              1,
              "#f0f921"
             ]
            ],
            "type": "histogram2dcontour"
           }
          ],
          "mesh3d": [
           {
            "colorbar": {
             "outlinewidth": 0,
             "ticks": ""
            },
            "type": "mesh3d"
           }
          ],
          "parcoords": [
           {
            "line": {
             "colorbar": {
              "outlinewidth": 0,
              "ticks": ""
             }
            },
            "type": "parcoords"
           }
          ],
          "pie": [
           {
            "automargin": true,
            "type": "pie"
           }
          ],
          "scatter": [
           {
            "fillpattern": {
             "fillmode": "overlay",
             "size": 10,
             "solidity": 0.2
            },
            "type": "scatter"
           }
          ],
          "scatter3d": [
           {
            "line": {
             "colorbar": {
              "outlinewidth": 0,
              "ticks": ""
             }
            },
            "marker": {
             "colorbar": {
              "outlinewidth": 0,
              "ticks": ""
             }
            },
            "type": "scatter3d"
           }
          ],
          "scattercarpet": [
           {
            "marker": {
             "colorbar": {
              "outlinewidth": 0,
              "ticks": ""
             }
            },
            "type": "scattercarpet"
           }
          ],
          "scattergeo": [
           {
            "marker": {
             "colorbar": {
              "outlinewidth": 0,
              "ticks": ""
             }
            },
            "type": "scattergeo"
           }
          ],
          "scattergl": [
           {
            "marker": {
             "colorbar": {
              "outlinewidth": 0,
              "ticks": ""
             }
            },
            "type": "scattergl"
           }
          ],
          "scattermapbox": [
           {
            "marker": {
             "colorbar": {
              "outlinewidth": 0,
              "ticks": ""
             }
            },
            "type": "scattermapbox"
           }
          ],
          "scatterpolar": [
           {
            "marker": {
             "colorbar": {
              "outlinewidth": 0,
              "ticks": ""
             }
            },
            "type": "scatterpolar"
           }
          ],
          "scatterpolargl": [
           {
            "marker": {
             "colorbar": {
              "outlinewidth": 0,
              "ticks": ""
             }
            },
            "type": "scatterpolargl"
           }
          ],
          "scatterternary": [
           {
            "marker": {
             "colorbar": {
              "outlinewidth": 0,
              "ticks": ""
             }
            },
            "type": "scatterternary"
           }
          ],
          "surface": [
           {
            "colorbar": {
             "outlinewidth": 0,
             "ticks": ""
            },
            "colorscale": [
             [
              0,
              "#0d0887"
             ],
             [
              0.1111111111111111,
              "#46039f"
             ],
             [
              0.2222222222222222,
              "#7201a8"
             ],
             [
              0.3333333333333333,
              "#9c179e"
             ],
             [
              0.4444444444444444,
              "#bd3786"
             ],
             [
              0.5555555555555556,
              "#d8576b"
             ],
             [
              0.6666666666666666,
              "#ed7953"
             ],
             [
              0.7777777777777778,
              "#fb9f3a"
             ],
             [
              0.8888888888888888,
              "#fdca26"
             ],
             [
              1,
              "#f0f921"
             ]
            ],
            "type": "surface"
           }
          ],
          "table": [
           {
            "cells": {
             "fill": {
              "color": "#EBF0F8"
             },
             "line": {
              "color": "white"
             }
            },
            "header": {
             "fill": {
              "color": "#C8D4E3"
             },
             "line": {
              "color": "white"
             }
            },
            "type": "table"
           }
          ]
         },
         "layout": {
          "annotationdefaults": {
           "arrowcolor": "#2a3f5f",
           "arrowhead": 0,
           "arrowwidth": 1
          },
          "autotypenumbers": "strict",
          "coloraxis": {
           "colorbar": {
            "outlinewidth": 0,
            "ticks": ""
           }
          },
          "colorscale": {
           "diverging": [
            [
             0,
             "#8e0152"
            ],
            [
             0.1,
             "#c51b7d"
            ],
            [
             0.2,
             "#de77ae"
            ],
            [
             0.3,
             "#f1b6da"
            ],
            [
             0.4,
             "#fde0ef"
            ],
            [
             0.5,
             "#f7f7f7"
            ],
            [
             0.6,
             "#e6f5d0"
            ],
            [
             0.7,
             "#b8e186"
            ],
            [
             0.8,
             "#7fbc41"
            ],
            [
             0.9,
             "#4d9221"
            ],
            [
             1,
             "#276419"
            ]
           ],
           "sequential": [
            [
             0,
             "#0d0887"
            ],
            [
             0.1111111111111111,
             "#46039f"
            ],
            [
             0.2222222222222222,
             "#7201a8"
            ],
            [
             0.3333333333333333,
             "#9c179e"
            ],
            [
             0.4444444444444444,
             "#bd3786"
            ],
            [
             0.5555555555555556,
             "#d8576b"
            ],
            [
             0.6666666666666666,
             "#ed7953"
            ],
            [
             0.7777777777777778,
             "#fb9f3a"
            ],
            [
             0.8888888888888888,
             "#fdca26"
            ],
            [
             1,
             "#f0f921"
            ]
           ],
           "sequentialminus": [
            [
             0,
             "#0d0887"
            ],
            [
             0.1111111111111111,
             "#46039f"
            ],
            [
             0.2222222222222222,
             "#7201a8"
            ],
            [
             0.3333333333333333,
             "#9c179e"
            ],
            [
             0.4444444444444444,
             "#bd3786"
            ],
            [
             0.5555555555555556,
             "#d8576b"
            ],
            [
             0.6666666666666666,
             "#ed7953"
            ],
            [
             0.7777777777777778,
             "#fb9f3a"
            ],
            [
             0.8888888888888888,
             "#fdca26"
            ],
            [
             1,
             "#f0f921"
            ]
           ]
          },
          "colorway": [
           "#636efa",
           "#EF553B",
           "#00cc96",
           "#ab63fa",
           "#FFA15A",
           "#19d3f3",
           "#FF6692",
           "#B6E880",
           "#FF97FF",
           "#FECB52"
          ],
          "font": {
           "color": "#2a3f5f"
          },
          "geo": {
           "bgcolor": "white",
           "lakecolor": "white",
           "landcolor": "#E5ECF6",
           "showlakes": true,
           "showland": true,
           "subunitcolor": "white"
          },
          "hoverlabel": {
           "align": "left"
          },
          "hovermode": "closest",
          "mapbox": {
           "style": "light"
          },
          "paper_bgcolor": "white",
          "plot_bgcolor": "#E5ECF6",
          "polar": {
           "angularaxis": {
            "gridcolor": "white",
            "linecolor": "white",
            "ticks": ""
           },
           "bgcolor": "#E5ECF6",
           "radialaxis": {
            "gridcolor": "white",
            "linecolor": "white",
            "ticks": ""
           }
          },
          "scene": {
           "xaxis": {
            "backgroundcolor": "#E5ECF6",
            "gridcolor": "white",
            "gridwidth": 2,
            "linecolor": "white",
            "showbackground": true,
            "ticks": "",
            "zerolinecolor": "white"
           },
           "yaxis": {
            "backgroundcolor": "#E5ECF6",
            "gridcolor": "white",
            "gridwidth": 2,
            "linecolor": "white",
            "showbackground": true,
            "ticks": "",
            "zerolinecolor": "white"
           },
           "zaxis": {
            "backgroundcolor": "#E5ECF6",
            "gridcolor": "white",
            "gridwidth": 2,
            "linecolor": "white",
            "showbackground": true,
            "ticks": "",
            "zerolinecolor": "white"
           }
          },
          "shapedefaults": {
           "line": {
            "color": "#2a3f5f"
           }
          },
          "ternary": {
           "aaxis": {
            "gridcolor": "white",
            "linecolor": "white",
            "ticks": ""
           },
           "baxis": {
            "gridcolor": "white",
            "linecolor": "white",
            "ticks": ""
           },
           "bgcolor": "#E5ECF6",
           "caxis": {
            "gridcolor": "white",
            "linecolor": "white",
            "ticks": ""
           }
          },
          "title": {
           "x": 0.05
          },
          "xaxis": {
           "automargin": true,
           "gridcolor": "white",
           "linecolor": "white",
           "ticks": "",
           "title": {
            "standoff": 15
           },
           "zerolinecolor": "white",
           "zerolinewidth": 2
          },
          "yaxis": {
           "automargin": true,
           "gridcolor": "white",
           "linecolor": "white",
           "ticks": "",
           "title": {
            "standoff": 15
           },
           "zerolinecolor": "white",
           "zerolinewidth": 2
          }
         }
        },
        "title": {
         "text": "Overall Rating vs Terminal Cleanliness by Geo Area"
        },
        "xaxis": {
         "anchor": "y",
         "domain": [
          0,
          1
         ],
         "title": {
          "text": "mean_overall_rating"
         }
        },
        "yaxis": {
         "anchor": "x",
         "domain": [
          0,
          1
         ],
         "title": {
          "text": "mean_terminal_cleanliness_rating"
         }
        }
       }
      }
     },
     "metadata": {},
     "output_type": "display_data"
    }
   ],
   "source": [
    "\n",
    "fig = px.scatter(small,\n",
    "                 x='mean_overall_rating',  \n",
    "                 y='mean_terminal_cleanliness_rating',  \n",
    "                 color='geo_area',  \n",
    "                 title=\"Overall Rating vs Terminal Cleanliness by Geo Area\",\n",
    "                 labels={'overall_rating': 'Overall Rating', 'terminal_cleanliness_rating': 'Terminal Cleanliness'},\n",
    "                 hover_data=['airport_name'])  \n",
    "\n",
    "\n",
    "fig.show()"
   ]
  },
  {
   "cell_type": "code",
   "execution_count": 61,
   "metadata": {},
   "outputs": [
    {
     "data": {
      "application/vnd.plotly.v1+json": {
       "config": {
        "plotlyServerURL": "https://plot.ly"
       },
       "data": [
        {
         "customdata": [
          [
           "abuja"
          ],
          [
           "abuja"
          ],
          [
           "abuja"
          ],
          [
           "abuja"
          ],
          [
           "abuja"
          ],
          [
           "abuja"
          ],
          [
           "algiers"
          ],
          [
           "algiers"
          ],
          [
           "algiers"
          ],
          [
           "algiers"
          ],
          [
           "algiers"
          ],
          [
           "algiers"
          ],
          [
           "algiers"
          ],
          [
           "algiers"
          ],
          [
           "banjul"
          ],
          [
           "banjul"
          ],
          [
           "banjul"
          ],
          [
           "banjul"
          ],
          [
           "banjul"
          ],
          [
           "banjul"
          ],
          [
           "dakar"
          ],
          [
           "dakar"
          ],
          [
           "dakar"
          ],
          [
           "dakar"
          ],
          [
           "dakar"
          ],
          [
           "durban"
          ],
          [
           "durban"
          ],
          [
           "durban"
          ],
          [
           "durban"
          ],
          [
           "durban"
          ],
          [
           "durban"
          ],
          [
           "durban"
          ],
          [
           "durban"
          ],
          [
           "entebbe"
          ],
          [
           "entebbe"
          ],
          [
           "entebbe"
          ],
          [
           "entebbe"
          ],
          [
           "entebbe"
          ],
          [
           "entebbe"
          ],
          [
           "entebbe"
          ],
          [
           "entebbe"
          ],
          [
           "entebbe"
          ],
          [
           "freetown"
          ],
          [
           "freetown"
          ],
          [
           "freetown"
          ],
          [
           "freetown"
          ],
          [
           "freetown"
          ],
          [
           "freetown"
          ],
          [
           "freetown"
          ],
          [
           "hurghada"
          ],
          [
           "hurghada"
          ],
          [
           "hurghada"
          ],
          [
           "hurghada"
          ],
          [
           "hurghada"
          ],
          [
           "kilimanjaro"
          ],
          [
           "kilimanjaro"
          ],
          [
           "kilimanjaro"
          ],
          [
           "kilimanjaro"
          ],
          [
           "kilimanjaro"
          ],
          [
           "kilimanjaro"
          ],
          [
           "kilimanjaro"
          ],
          [
           "kilimanjaro"
          ],
          [
           "lusaka"
          ],
          [
           "lusaka"
          ],
          [
           "lusaka"
          ],
          [
           "lusaka"
          ],
          [
           "lusaka"
          ],
          [
           "luxor"
          ],
          [
           "luxor"
          ],
          [
           "luxor"
          ],
          [
           "luxor"
          ],
          [
           "luxor"
          ],
          [
           "luxor"
          ],
          [
           "luxor"
          ],
          [
           "luxor"
          ],
          [
           "mombasa"
          ],
          [
           "mombasa"
          ],
          [
           "mombasa"
          ],
          [
           "mombasa"
          ],
          [
           "mombasa"
          ],
          [
           "mombasa"
          ],
          [
           "mombasa"
          ],
          [
           "mombasa"
          ],
          [
           "mombasa"
          ],
          [
           "monastir"
          ],
          [
           "monastir"
          ],
          [
           "monastir"
          ],
          [
           "monastir"
          ],
          [
           "monastir"
          ],
          [
           "monastir"
          ],
          [
           "monastir"
          ],
          [
           "monastir"
          ],
          [
           "seychelles"
          ],
          [
           "seychelles"
          ],
          [
           "seychelles"
          ],
          [
           "seychelles"
          ],
          [
           "seychelles"
          ],
          [
           "seychelles"
          ],
          [
           "taba"
          ],
          [
           "taba"
          ],
          [
           "taba"
          ],
          [
           "taba"
          ],
          [
           "taba"
          ],
          [
           "windhoek"
          ],
          [
           "windhoek"
          ],
          [
           "windhoek"
          ],
          [
           "windhoek"
          ],
          [
           "windhoek"
          ],
          [
           "windhoek"
          ],
          [
           "zanzibar"
          ],
          [
           "zanzibar"
          ],
          [
           "zanzibar"
          ],
          [
           "zanzibar"
          ],
          [
           "zanzibar"
          ]
         ],
         "hovertemplate": "geo_area=Africa<br>mean_overall_rating=%{x}<br>mean_terminal_cleanliness_rating=%{y}<br>airport_name=%{customdata[0]}<extra></extra>",
         "legendgroup": "Africa",
         "marker": {
          "color": "#636efa",
          "symbol": "circle"
         },
         "mode": "markers",
         "name": "Africa",
         "orientation": "v",
         "showlegend": true,
         "type": "scatter",
         "x": [
          2,
          2,
          2,
          2,
          2,
          2,
          4.333333333333333,
          4.333333333333333,
          4.333333333333333,
          4.333333333333333,
          4.333333333333333,
          4.333333333333333,
          4.333333333333333,
          4.333333333333333,
          2,
          2,
          2,
          2,
          2,
          2,
          3,
          3,
          3,
          3,
          3,
          5,
          5,
          5,
          5,
          5,
          5,
          5,
          5,
          4,
          4,
          4,
          4,
          4,
          4,
          4,
          4,
          4,
          4,
          4,
          4,
          4,
          4,
          4,
          4,
          3,
          3,
          3,
          3,
          3,
          4.333333333333333,
          4.333333333333333,
          4.333333333333333,
          4.333333333333333,
          4.333333333333333,
          4.333333333333333,
          4.333333333333333,
          4.333333333333333,
          5,
          5,
          5,
          5,
          5,
          2.5,
          2.5,
          2.5,
          2.5,
          2.5,
          2.5,
          2.5,
          2.5,
          3,
          3,
          3,
          3,
          3,
          3,
          3,
          3,
          3,
          1.5,
          1.5,
          1.5,
          1.5,
          1.5,
          1.5,
          1.5,
          1.5,
          3,
          3,
          3,
          3,
          3,
          3,
          1.6666666666666667,
          1.6666666666666667,
          1.6666666666666667,
          1.6666666666666667,
          1.6666666666666667,
          2.5,
          2.5,
          2.5,
          2.5,
          2.5,
          2.5,
          1.5,
          1.5,
          1.5,
          1.5,
          1.5
         ],
         "xaxis": "x",
         "y": [
          3,
          3,
          3,
          3,
          3,
          3,
          5,
          5,
          5,
          5,
          5,
          5,
          5,
          5,
          3,
          3,
          3,
          3,
          3,
          3,
          null,
          null,
          null,
          null,
          null,
          4.5,
          4.5,
          4.5,
          4.5,
          4.5,
          4.5,
          4.5,
          4.5,
          4,
          4,
          4,
          4,
          4,
          4,
          4,
          4,
          4,
          5,
          5,
          5,
          5,
          5,
          5,
          5,
          3.5,
          3.5,
          3.5,
          3.5,
          3.5,
          4.333333333333333,
          4.333333333333333,
          4.333333333333333,
          4.333333333333333,
          4.333333333333333,
          4.333333333333333,
          4.333333333333333,
          4.333333333333333,
          3,
          3,
          3,
          3,
          3,
          3.5,
          3.5,
          3.5,
          3.5,
          3.5,
          3.5,
          3.5,
          3.5,
          3.3333333333333335,
          3.3333333333333335,
          3.3333333333333335,
          3.3333333333333335,
          3.3333333333333335,
          3.3333333333333335,
          3.3333333333333335,
          3.3333333333333335,
          3.3333333333333335,
          3,
          3,
          3,
          3,
          3,
          3,
          3,
          3,
          4,
          4,
          4,
          4,
          4,
          4,
          null,
          null,
          null,
          null,
          null,
          3.5,
          3.5,
          3.5,
          3.5,
          3.5,
          3.5,
          1.75,
          1.75,
          1.75,
          1.75,
          1.75
         ],
         "yaxis": "y"
        },
        {
         "customdata": [
          [
           "almeria"
          ],
          [
           "almeria"
          ],
          [
           "almeria"
          ],
          [
           "almeria"
          ],
          [
           "almeria"
          ],
          [
           "almeria"
          ],
          [
           "almeria"
          ],
          [
           "almeria"
          ],
          [
           "antwerp deurne"
          ],
          [
           "antwerp deurne"
          ],
          [
           "antwerp deurne"
          ],
          [
           "antwerp deurne"
          ],
          [
           "antwerp deurne"
          ],
          [
           "antwerp deurne"
          ],
          [
           "antwerp deurne"
          ],
          [
           "bergen"
          ],
          [
           "bergen"
          ],
          [
           "bergen"
          ],
          [
           "bergen"
          ],
          [
           "bergen"
          ],
          [
           "billund"
          ],
          [
           "billund"
          ],
          [
           "billund"
          ],
          [
           "billund"
          ],
          [
           "billund"
          ],
          [
           "billund"
          ],
          [
           "bourgas"
          ],
          [
           "bourgas"
          ],
          [
           "bourgas"
          ],
          [
           "bourgas"
          ],
          [
           "bourgas"
          ],
          [
           "carcassonne"
          ],
          [
           "carcassonne"
          ],
          [
           "carcassonne"
          ],
          [
           "carcassonne"
          ],
          [
           "carcassonne"
          ],
          [
           "carcassonne"
          ],
          [
           "carcassonne"
          ],
          [
           "carcassonne"
          ],
          [
           "carcassonne"
          ],
          [
           "chambery"
          ],
          [
           "chambery"
          ],
          [
           "chambery"
          ],
          [
           "chambery"
          ],
          [
           "chambery"
          ],
          [
           "chambery"
          ],
          [
           "chambery"
          ],
          [
           "coventry"
          ],
          [
           "coventry"
          ],
          [
           "coventry"
          ],
          [
           "coventry"
          ],
          [
           "coventry"
          ],
          [
           "dortmund"
          ],
          [
           "dortmund"
          ],
          [
           "dortmund"
          ],
          [
           "dortmund"
          ],
          [
           "dortmund"
          ],
          [
           "dortmund"
          ],
          [
           "dortmund"
          ],
          [
           "dortmund"
          ],
          [
           "dubrovnik"
          ],
          [
           "dubrovnik"
          ],
          [
           "dubrovnik"
          ],
          [
           "dubrovnik"
          ],
          [
           "dubrovnik"
          ],
          [
           "dubrovnik"
          ],
          [
           "dubrovnik"
          ],
          [
           "dundee"
          ],
          [
           "dundee"
          ],
          [
           "dundee"
          ],
          [
           "dundee"
          ],
          [
           "dundee"
          ],
          [
           "durhamtees valley"
          ],
          [
           "durhamtees valley"
          ],
          [
           "durhamtees valley"
          ],
          [
           "durhamtees valley"
          ],
          [
           "durhamtees valley"
          ],
          [
           "durhamtees valley"
          ],
          [
           "durhamtees valley"
          ],
          [
           "durhamtees valley"
          ],
          [
           "ercan"
          ],
          [
           "ercan"
          ],
          [
           "ercan"
          ],
          [
           "ercan"
          ],
          [
           "ercan"
          ],
          [
           "ercan"
          ],
          [
           "ercan"
          ],
          [
           "fuerteventura"
          ],
          [
           "fuerteventura"
          ],
          [
           "fuerteventura"
          ],
          [
           "fuerteventura"
          ],
          [
           "fuerteventura"
          ],
          [
           "fuerteventura"
          ],
          [
           "fuerteventura"
          ],
          [
           "fuerteventura"
          ],
          [
           "fuerteventura"
          ],
          [
           "gibraltar"
          ],
          [
           "gibraltar"
          ],
          [
           "gibraltar"
          ],
          [
           "gibraltar"
          ],
          [
           "gibraltar"
          ],
          [
           "gibraltar"
          ],
          [
           "gibraltar"
          ],
          [
           "gibraltar"
          ],
          [
           "granada"
          ],
          [
           "granada"
          ],
          [
           "granada"
          ],
          [
           "granada"
          ],
          [
           "granada"
          ],
          [
           "granada"
          ],
          [
           "guernsey"
          ],
          [
           "guernsey"
          ],
          [
           "guernsey"
          ],
          [
           "guernsey"
          ],
          [
           "guernsey"
          ],
          [
           "guernsey"
          ],
          [
           "guernsey"
          ],
          [
           "hamburg lubek"
          ],
          [
           "hamburg lubek"
          ],
          [
           "hamburg lubek"
          ],
          [
           "hamburg lubek"
          ],
          [
           "hamburg lubek"
          ],
          [
           "humberside"
          ],
          [
           "humberside"
          ],
          [
           "humberside"
          ],
          [
           "humberside"
          ],
          [
           "humberside"
          ],
          [
           "humberside"
          ],
          [
           "katowice"
          ],
          [
           "katowice"
          ],
          [
           "katowice"
          ],
          [
           "katowice"
          ],
          [
           "katowice"
          ],
          [
           "katowice"
          ],
          [
           "katowice"
          ],
          [
           "leipzighalle"
          ],
          [
           "leipzighalle"
          ],
          [
           "leipzighalle"
          ],
          [
           "leipzighalle"
          ],
          [
           "leipzighalle"
          ],
          [
           "linz"
          ],
          [
           "linz"
          ],
          [
           "linz"
          ],
          [
           "linz"
          ],
          [
           "linz"
          ],
          [
           "mahon"
          ],
          [
           "mahon"
          ],
          [
           "mahon"
          ],
          [
           "mahon"
          ],
          [
           "mahon"
          ],
          [
           "mahon"
          ],
          [
           "mahon"
          ],
          [
           "mahon"
          ],
          [
           "malmo"
          ],
          [
           "malmo"
          ],
          [
           "malmo"
          ],
          [
           "malmo"
          ],
          [
           "malmo"
          ],
          [
           "malmo"
          ],
          [
           "malmo"
          ],
          [
           "nimes"
          ],
          [
           "nimes"
          ],
          [
           "nimes"
          ],
          [
           "nimes"
          ],
          [
           "nimes"
          ],
          [
           "pau"
          ],
          [
           "pau"
          ],
          [
           "pau"
          ],
          [
           "pau"
          ],
          [
           "pau"
          ],
          [
           "perpignan"
          ],
          [
           "perpignan"
          ],
          [
           "perpignan"
          ],
          [
           "perpignan"
          ],
          [
           "perpignan"
          ],
          [
           "perpignan"
          ],
          [
           "perpignan"
          ],
          [
           "perpignan"
          ],
          [
           "ponta delgada"
          ],
          [
           "ponta delgada"
          ],
          [
           "ponta delgada"
          ],
          [
           "ponta delgada"
          ],
          [
           "ponta delgada"
          ],
          [
           "ponta delgada"
          ],
          [
           "poznan"
          ],
          [
           "poznan"
          ],
          [
           "poznan"
          ],
          [
           "poznan"
          ],
          [
           "poznan"
          ],
          [
           "pristina"
          ],
          [
           "pristina"
          ],
          [
           "pristina"
          ],
          [
           "pristina"
          ],
          [
           "pristina"
          ],
          [
           "pristina"
          ],
          [
           "pristina"
          ],
          [
           "pristina"
          ],
          [
           "salzburg"
          ],
          [
           "salzburg"
          ],
          [
           "salzburg"
          ],
          [
           "salzburg"
          ],
          [
           "salzburg"
          ],
          [
           "salzburg"
          ],
          [
           "salzburg"
          ],
          [
           "sarajevo"
          ],
          [
           "sarajevo"
          ],
          [
           "sarajevo"
          ],
          [
           "sarajevo"
          ],
          [
           "sarajevo"
          ],
          [
           "sarajevo"
          ],
          [
           "sarajevo"
          ],
          [
           "sarajevo"
          ],
          [
           "seville"
          ],
          [
           "seville"
          ],
          [
           "seville"
          ],
          [
           "seville"
          ],
          [
           "seville"
          ],
          [
           "seville"
          ],
          [
           "seville"
          ],
          [
           "seville"
          ],
          [
           "seville"
          ],
          [
           "skopje"
          ],
          [
           "skopje"
          ],
          [
           "skopje"
          ],
          [
           "skopje"
          ],
          [
           "skopje"
          ],
          [
           "stockholm vasteras"
          ],
          [
           "stockholm vasteras"
          ],
          [
           "stockholm vasteras"
          ],
          [
           "stockholm vasteras"
          ],
          [
           "stockholm vasteras"
          ],
          [
           "tirana"
          ],
          [
           "tirana"
          ],
          [
           "tirana"
          ],
          [
           "tirana"
          ],
          [
           "tirana"
          ],
          [
           "tirana"
          ],
          [
           "tirana"
          ],
          [
           "tirana"
          ],
          [
           "trieste"
          ],
          [
           "trieste"
          ],
          [
           "trieste"
          ],
          [
           "trieste"
          ],
          [
           "trieste"
          ],
          [
           "tromso"
          ],
          [
           "tromso"
          ],
          [
           "tromso"
          ],
          [
           "tromso"
          ],
          [
           "tromso"
          ],
          [
           "vnukovo"
          ],
          [
           "vnukovo"
          ],
          [
           "vnukovo"
          ],
          [
           "vnukovo"
          ],
          [
           "vnukovo"
          ],
          [
           "waterford"
          ],
          [
           "waterford"
          ],
          [
           "waterford"
          ],
          [
           "waterford"
          ],
          [
           "waterford"
          ],
          [
           "waterford"
          ],
          [
           "wroclaw strachowice"
          ],
          [
           "wroclaw strachowice"
          ],
          [
           "wroclaw strachowice"
          ],
          [
           "wroclaw strachowice"
          ],
          [
           "wroclaw strachowice"
          ],
          [
           "wroclaw strachowice"
          ],
          [
           "wroclaw strachowice"
          ],
          [
           "wroclaw strachowice"
          ],
          [
           "wroclaw strachowice"
          ]
         ],
         "hovertemplate": "geo_area=Europe<br>mean_overall_rating=%{x}<br>mean_terminal_cleanliness_rating=%{y}<br>airport_name=%{customdata[0]}<extra></extra>",
         "legendgroup": "Europe",
         "marker": {
          "color": "#EF553B",
          "symbol": "circle"
         },
         "mode": "markers",
         "name": "Europe",
         "orientation": "v",
         "showlegend": true,
         "type": "scatter",
         "x": [
          5,
          5,
          5,
          5,
          5,
          5,
          5,
          5,
          5,
          5,
          5,
          5,
          5,
          5,
          5,
          3,
          3,
          3,
          3,
          3,
          2,
          2,
          2,
          2,
          2,
          2,
          4,
          4,
          4,
          4,
          4,
          5,
          5,
          5,
          5,
          5,
          5,
          5,
          5,
          5,
          2.5,
          2.5,
          2.5,
          2.5,
          2.5,
          2.5,
          2.5,
          null,
          null,
          null,
          null,
          null,
          4,
          4,
          4,
          4,
          4,
          4,
          4,
          4,
          4.5,
          4.5,
          4.5,
          4.5,
          4.5,
          4.5,
          4.5,
          null,
          null,
          null,
          null,
          null,
          3,
          3,
          3,
          3,
          3,
          3,
          3,
          3,
          2.5,
          2.5,
          2.5,
          2.5,
          2.5,
          2.5,
          2.5,
          4.2,
          4.2,
          4.2,
          4.2,
          4.2,
          4.2,
          4.2,
          4.2,
          4.2,
          4,
          4,
          4,
          4,
          4,
          4,
          4,
          4,
          4,
          4,
          4,
          4,
          4,
          4,
          4.666666666666667,
          4.666666666666667,
          4.666666666666667,
          4.666666666666667,
          4.666666666666667,
          4.666666666666667,
          4.666666666666667,
          null,
          null,
          null,
          null,
          null,
          5,
          5,
          5,
          5,
          5,
          5,
          4.2,
          4.2,
          4.2,
          4.2,
          4.2,
          4.2,
          4.2,
          5,
          5,
          5,
          5,
          5,
          null,
          null,
          null,
          null,
          null,
          4.5,
          4.5,
          4.5,
          4.5,
          4.5,
          4.5,
          4.5,
          4.5,
          null,
          null,
          null,
          null,
          null,
          null,
          null,
          3,
          3,
          3,
          3,
          3,
          null,
          null,
          null,
          null,
          null,
          3.3333333333333335,
          3.3333333333333335,
          3.3333333333333335,
          3.3333333333333335,
          3.3333333333333335,
          3.3333333333333335,
          3.3333333333333335,
          3.3333333333333335,
          3.6666666666666665,
          3.6666666666666665,
          3.6666666666666665,
          3.6666666666666665,
          3.6666666666666665,
          3.6666666666666665,
          5,
          5,
          5,
          5,
          5,
          4.5,
          4.5,
          4.5,
          4.5,
          4.5,
          4.5,
          4.5,
          4.5,
          3.75,
          3.75,
          3.75,
          3.75,
          3.75,
          3.75,
          3.75,
          5,
          5,
          5,
          5,
          5,
          5,
          5,
          5,
          4,
          4,
          4,
          4,
          4,
          4,
          4,
          4,
          4,
          4,
          4,
          4,
          4,
          4,
          5,
          5,
          5,
          5,
          5,
          3.5,
          3.5,
          3.5,
          3.5,
          3.5,
          3.5,
          3.5,
          3.5,
          3,
          3,
          3,
          3,
          3,
          4.333333333333333,
          4.333333333333333,
          4.333333333333333,
          4.333333333333333,
          4.333333333333333,
          4.5,
          4.5,
          4.5,
          4.5,
          4.5,
          3.5,
          3.5,
          3.5,
          3.5,
          3.5,
          3.5,
          4.857142857142857,
          4.857142857142857,
          4.857142857142857,
          4.857142857142857,
          4.857142857142857,
          4.857142857142857,
          4.857142857142857,
          4.857142857142857,
          4.857142857142857
         ],
         "xaxis": "x",
         "y": [
          5,
          5,
          5,
          5,
          5,
          5,
          5,
          5,
          4,
          4,
          4,
          4,
          4,
          4,
          4,
          2,
          2,
          2,
          2,
          2,
          3,
          3,
          3,
          3,
          3,
          3,
          2,
          2,
          2,
          2,
          2,
          3,
          3,
          3,
          3,
          3,
          3,
          3,
          3,
          3,
          null,
          null,
          null,
          null,
          null,
          null,
          null,
          null,
          null,
          null,
          null,
          null,
          4.5,
          4.5,
          4.5,
          4.5,
          4.5,
          4.5,
          4.5,
          4.5,
          5,
          5,
          5,
          5,
          5,
          5,
          5,
          null,
          null,
          null,
          null,
          null,
          1,
          1,
          1,
          1,
          1,
          1,
          1,
          1,
          4,
          4,
          4,
          4,
          4,
          4,
          4,
          4.8,
          4.8,
          4.8,
          4.8,
          4.8,
          4.8,
          4.8,
          4.8,
          4.8,
          4.5,
          4.5,
          4.5,
          4.5,
          4.5,
          4.5,
          4.5,
          4.5,
          4,
          4,
          4,
          4,
          4,
          4,
          4.666666666666667,
          4.666666666666667,
          4.666666666666667,
          4.666666666666667,
          4.666666666666667,
          4.666666666666667,
          4.666666666666667,
          null,
          null,
          null,
          null,
          null,
          5,
          5,
          5,
          5,
          5,
          5,
          5,
          5,
          5,
          5,
          5,
          5,
          5,
          5,
          5,
          5,
          5,
          5,
          null,
          null,
          null,
          null,
          null,
          5,
          5,
          5,
          5,
          5,
          5,
          5,
          5,
          null,
          null,
          null,
          null,
          null,
          null,
          null,
          null,
          null,
          null,
          null,
          null,
          null,
          null,
          null,
          null,
          null,
          4,
          4,
          4,
          4,
          4,
          4,
          4,
          4,
          3.6666666666666665,
          3.6666666666666665,
          3.6666666666666665,
          3.6666666666666665,
          3.6666666666666665,
          3.6666666666666665,
          5,
          5,
          5,
          5,
          5,
          4.5,
          4.5,
          4.5,
          4.5,
          4.5,
          4.5,
          4.5,
          4.5,
          4,
          4,
          4,
          4,
          4,
          4,
          4,
          5,
          5,
          5,
          5,
          5,
          5,
          5,
          5,
          4,
          4,
          4,
          4,
          4,
          4,
          4,
          4,
          4,
          4.333333333333333,
          4.333333333333333,
          4.333333333333333,
          4.333333333333333,
          4.333333333333333,
          5,
          5,
          5,
          5,
          5,
          5,
          5,
          5,
          5,
          5,
          5,
          5,
          5,
          1,
          1,
          1,
          1,
          1,
          4.333333333333333,
          4.333333333333333,
          4.333333333333333,
          4.333333333333333,
          4.333333333333333,
          5,
          5,
          5,
          5,
          5,
          5,
          5,
          5,
          5,
          5,
          5,
          4.666666666666667,
          4.666666666666667,
          4.666666666666667,
          4.666666666666667,
          4.666666666666667,
          4.666666666666667,
          4.666666666666667,
          4.666666666666667,
          4.666666666666667
         ],
         "yaxis": "y"
        },
        {
         "customdata": [
          [
           "aruba reina beatrix"
          ],
          [
           "aruba reina beatrix"
          ],
          [
           "aruba reina beatrix"
          ],
          [
           "aruba reina beatrix"
          ],
          [
           "aruba reina beatrix"
          ],
          [
           "aruba reina beatrix"
          ],
          [
           "aruba reina beatrix"
          ],
          [
           "aruba reina beatrix"
          ],
          [
           "aruba reina beatrix"
          ],
          [
           "belo horizonte confins"
          ],
          [
           "belo horizonte confins"
          ],
          [
           "belo horizonte confins"
          ],
          [
           "belo horizonte confins"
          ],
          [
           "belo horizonte confins"
          ],
          [
           "belo horizonte confins"
          ],
          [
           "belo horizonte confins"
          ],
          [
           "belo horizonte confins"
          ],
          [
           "belo horizonte confins"
          ],
          [
           "brasilia"
          ],
          [
           "brasilia"
          ],
          [
           "brasilia"
          ],
          [
           "brasilia"
          ],
          [
           "brasilia"
          ],
          [
           "brasilia"
          ],
          [
           "brasilia"
          ],
          [
           "brasilia"
          ],
          [
           "brasilia"
          ],
          [
           "crown point tobago"
          ],
          [
           "crown point tobago"
          ],
          [
           "crown point tobago"
          ],
          [
           "crown point tobago"
          ],
          [
           "crown point tobago"
          ],
          [
           "crown point tobago"
          ],
          [
           "crown point tobago"
          ],
          [
           "curacao"
          ],
          [
           "curacao"
          ],
          [
           "curacao"
          ],
          [
           "curacao"
          ],
          [
           "curacao"
          ],
          [
           "curacao"
          ],
          [
           "curacao"
          ],
          [
           "guayaquil"
          ],
          [
           "guayaquil"
          ],
          [
           "guayaquil"
          ],
          [
           "guayaquil"
          ],
          [
           "guayaquil"
          ],
          [
           "holguin"
          ],
          [
           "holguin"
          ],
          [
           "holguin"
          ],
          [
           "holguin"
          ],
          [
           "holguin"
          ],
          [
           "holguin"
          ],
          [
           "holguin"
          ],
          [
           "manaus"
          ],
          [
           "manaus"
          ],
          [
           "manaus"
          ],
          [
           "manaus"
          ],
          [
           "manaus"
          ],
          [
           "manaus"
          ],
          [
           "quito mariscal"
          ],
          [
           "quito mariscal"
          ],
          [
           "quito mariscal"
          ],
          [
           "quito mariscal"
          ],
          [
           "quito mariscal"
          ],
          [
           "quito mariscal"
          ],
          [
           "recife"
          ],
          [
           "recife"
          ],
          [
           "recife"
          ],
          [
           "recife"
          ],
          [
           "recife"
          ],
          [
           "salvador"
          ],
          [
           "salvador"
          ],
          [
           "salvador"
          ],
          [
           "salvador"
          ],
          [
           "salvador"
          ],
          [
           "salvador"
          ],
          [
           "santo domingo"
          ],
          [
           "santo domingo"
          ],
          [
           "santo domingo"
          ],
          [
           "santo domingo"
          ],
          [
           "santo domingo"
          ],
          [
           "santo domingo"
          ],
          [
           "santo domingo"
          ],
          [
           "santo domingo"
          ],
          [
           "sao paulo congonhas"
          ],
          [
           "sao paulo congonhas"
          ],
          [
           "sao paulo congonhas"
          ],
          [
           "sao paulo congonhas"
          ],
          [
           "sao paulo congonhas"
          ],
          [
           "sao paulo congonhas"
          ]
         ],
         "hovertemplate": "geo_area=Latin America<br>mean_overall_rating=%{x}<br>mean_terminal_cleanliness_rating=%{y}<br>airport_name=%{customdata[0]}<extra></extra>",
         "legendgroup": "Latin America",
         "marker": {
          "color": "#00cc96",
          "symbol": "circle"
         },
         "mode": "markers",
         "name": "Latin America",
         "orientation": "v",
         "showlegend": true,
         "type": "scatter",
         "x": [
          2.3333333333333335,
          2.3333333333333335,
          2.3333333333333335,
          2.3333333333333335,
          2.3333333333333335,
          2.3333333333333335,
          2.3333333333333335,
          2.3333333333333335,
          2.3333333333333335,
          4,
          4,
          4,
          4,
          4,
          4,
          4,
          4,
          4,
          3,
          3,
          3,
          3,
          3,
          3,
          3,
          3,
          3,
          1.3333333333333333,
          1.3333333333333333,
          1.3333333333333333,
          1.3333333333333333,
          1.3333333333333333,
          1.3333333333333333,
          1.3333333333333333,
          2.5,
          2.5,
          2.5,
          2.5,
          2.5,
          2.5,
          2.5,
          3.4,
          3.4,
          3.4,
          3.4,
          3.4,
          1,
          1,
          1,
          1,
          1,
          1,
          1,
          3,
          3,
          3,
          3,
          3,
          3,
          2,
          2,
          2,
          2,
          2,
          2,
          5,
          5,
          5,
          5,
          5,
          2.3333333333333335,
          2.3333333333333335,
          2.3333333333333335,
          2.3333333333333335,
          2.3333333333333335,
          2.3333333333333335,
          4.666666666666667,
          4.666666666666667,
          4.666666666666667,
          4.666666666666667,
          4.666666666666667,
          4.666666666666667,
          4.666666666666667,
          4.666666666666667,
          3.75,
          3.75,
          3.75,
          3.75,
          3.75,
          3.75
         ],
         "xaxis": "x",
         "y": [
          4.2,
          4.2,
          4.2,
          4.2,
          4.2,
          4.2,
          4.2,
          4.2,
          4.2,
          3.5,
          3.5,
          3.5,
          3.5,
          3.5,
          3.5,
          3.5,
          3.5,
          3.5,
          3.5,
          3.5,
          3.5,
          3.5,
          3.5,
          3.5,
          3.5,
          3.5,
          3.5,
          2.5,
          2.5,
          2.5,
          2.5,
          2.5,
          2.5,
          2.5,
          4,
          4,
          4,
          4,
          4,
          4,
          4,
          4.6,
          4.6,
          4.6,
          4.6,
          4.6,
          2.5,
          2.5,
          2.5,
          2.5,
          2.5,
          2.5,
          2.5,
          3,
          3,
          3,
          3,
          3,
          3,
          4,
          4,
          4,
          4,
          4,
          4,
          4.5,
          4.5,
          4.5,
          4.5,
          4.5,
          3,
          3,
          3,
          3,
          3,
          3,
          5,
          5,
          5,
          5,
          5,
          5,
          5,
          5,
          3.8,
          3.8,
          3.8,
          3.8,
          3.8,
          3.8
         ],
         "yaxis": "y"
        },
        {
         "customdata": [
          [
           "beirut"
          ],
          [
           "beirut"
          ],
          [
           "beirut"
          ],
          [
           "beirut"
          ],
          [
           "beirut"
          ],
          [
           "beirut"
          ],
          [
           "beirut"
          ],
          [
           "beirut"
          ],
          [
           "beirut"
          ],
          [
           "hamad doha"
          ],
          [
           "hamad doha"
          ],
          [
           "hamad doha"
          ],
          [
           "hamad doha"
          ],
          [
           "hamad doha"
          ],
          [
           "sharjah"
          ],
          [
           "sharjah"
          ],
          [
           "sharjah"
          ],
          [
           "sharjah"
          ],
          [
           "sharjah"
          ],
          [
           "sharjah"
          ],
          [
           "tehran mehrabad"
          ],
          [
           "tehran mehrabad"
          ],
          [
           "tehran mehrabad"
          ],
          [
           "tehran mehrabad"
          ],
          [
           "tehran mehrabad"
          ]
         ],
         "hovertemplate": "geo_area=Middle-East<br>mean_overall_rating=%{x}<br>mean_terminal_cleanliness_rating=%{y}<br>airport_name=%{customdata[0]}<extra></extra>",
         "legendgroup": "Middle-East",
         "marker": {
          "color": "#ab63fa",
          "symbol": "circle"
         },
         "mode": "markers",
         "name": "Middle-East",
         "orientation": "v",
         "showlegend": true,
         "type": "scatter",
         "x": [
          3.8,
          3.8,
          3.8,
          3.8,
          3.8,
          3.8,
          3.8,
          3.8,
          3.8,
          null,
          null,
          null,
          null,
          null,
          2.6666666666666665,
          2.6666666666666665,
          2.6666666666666665,
          2.6666666666666665,
          2.6666666666666665,
          2.6666666666666665,
          4,
          4,
          4,
          4,
          4
         ],
         "xaxis": "x",
         "y": [
          4.25,
          4.25,
          4.25,
          4.25,
          4.25,
          4.25,
          4.25,
          4.25,
          4.25,
          null,
          null,
          null,
          null,
          null,
          3.5,
          3.5,
          3.5,
          3.5,
          3.5,
          3.5,
          2,
          2,
          2,
          2,
          2
         ],
         "yaxis": "y"
        },
        {
         "customdata": [
          [
           "bermuda"
          ],
          [
           "bermuda"
          ],
          [
           "bermuda"
          ],
          [
           "bermuda"
          ],
          [
           "bermuda"
          ],
          [
           "colorado springs"
          ],
          [
           "colorado springs"
          ],
          [
           "colorado springs"
          ],
          [
           "colorado springs"
          ],
          [
           "colorado springs"
          ],
          [
           "colorado springs"
          ],
          [
           "colorado springs"
          ],
          [
           "columbus"
          ],
          [
           "columbus"
          ],
          [
           "columbus"
          ],
          [
           "columbus"
          ],
          [
           "columbus"
          ],
          [
           "dallas love field"
          ],
          [
           "dallas love field"
          ],
          [
           "dallas love field"
          ],
          [
           "dallas love field"
          ],
          [
           "dallas love field"
          ],
          [
           "fort myers"
          ],
          [
           "fort myers"
          ],
          [
           "fort myers"
          ],
          [
           "fort myers"
          ],
          [
           "fort myers"
          ],
          [
           "fort myers"
          ],
          [
           "fort myers"
          ],
          [
           "fort myers"
          ],
          [
           "fort myers"
          ],
          [
           "hartford"
          ],
          [
           "hartford"
          ],
          [
           "hartford"
          ],
          [
           "hartford"
          ],
          [
           "hartford"
          ],
          [
           "hartford"
          ],
          [
           "hartford"
          ],
          [
           "hartford"
          ],
          [
           "hartford"
          ],
          [
           "hilo"
          ],
          [
           "hilo"
          ],
          [
           "hilo"
          ],
          [
           "hilo"
          ],
          [
           "hilo"
          ],
          [
           "hilo"
          ],
          [
           "indianapolis"
          ],
          [
           "indianapolis"
          ],
          [
           "indianapolis"
          ],
          [
           "indianapolis"
          ],
          [
           "indianapolis"
          ],
          [
           "indianapolis"
          ],
          [
           "indianapolis"
          ],
          [
           "indianapolis"
          ],
          [
           "indianapolis"
          ],
          [
           "jacksonville"
          ],
          [
           "jacksonville"
          ],
          [
           "jacksonville"
          ],
          [
           "jacksonville"
          ],
          [
           "jacksonville"
          ],
          [
           "john wayne"
          ],
          [
           "john wayne"
          ],
          [
           "john wayne"
          ],
          [
           "john wayne"
          ],
          [
           "john wayne"
          ],
          [
           "john wayne"
          ],
          [
           "little rock"
          ],
          [
           "little rock"
          ],
          [
           "little rock"
          ],
          [
           "little rock"
          ],
          [
           "little rock"
          ],
          [
           "little rock"
          ],
          [
           "long beach"
          ],
          [
           "long beach"
          ],
          [
           "long beach"
          ],
          [
           "long beach"
          ],
          [
           "long beach"
          ],
          [
           "long beach"
          ],
          [
           "long island macarthur"
          ],
          [
           "long island macarthur"
          ],
          [
           "long island macarthur"
          ],
          [
           "long island macarthur"
          ],
          [
           "long island macarthur"
          ],
          [
           "long island macarthur"
          ],
          [
           "long island macarthur"
          ],
          [
           "memphis"
          ],
          [
           "memphis"
          ],
          [
           "memphis"
          ],
          [
           "memphis"
          ],
          [
           "memphis"
          ],
          [
           "memphis"
          ],
          [
           "memphis"
          ],
          [
           "milwaukee"
          ],
          [
           "milwaukee"
          ],
          [
           "milwaukee"
          ],
          [
           "milwaukee"
          ],
          [
           "milwaukee"
          ],
          [
           "milwaukee"
          ],
          [
           "milwaukee"
          ],
          [
           "milwaukee"
          ],
          [
           "milwaukee"
          ],
          [
           "muscle shoals"
          ],
          [
           "muscle shoals"
          ],
          [
           "muscle shoals"
          ],
          [
           "muscle shoals"
          ],
          [
           "muscle shoals"
          ],
          [
           "nashville"
          ],
          [
           "nashville"
          ],
          [
           "nashville"
          ],
          [
           "nashville"
          ],
          [
           "nashville"
          ],
          [
           "nashville"
          ],
          [
           "sacramento"
          ],
          [
           "sacramento"
          ],
          [
           "sacramento"
          ],
          [
           "sacramento"
          ],
          [
           "sacramento"
          ],
          [
           "sacramento"
          ],
          [
           "sacramento"
          ],
          [
           "sacramento"
          ],
          [
           "sacramento"
          ]
         ],
         "hovertemplate": "geo_area=North America<br>mean_overall_rating=%{x}<br>mean_terminal_cleanliness_rating=%{y}<br>airport_name=%{customdata[0]}<extra></extra>",
         "legendgroup": "North America",
         "marker": {
          "color": "#FFA15A",
          "symbol": "circle"
         },
         "mode": "markers",
         "name": "North America",
         "orientation": "v",
         "showlegend": true,
         "type": "scatter",
         "x": [
          null,
          null,
          null,
          null,
          null,
          5,
          5,
          5,
          5,
          5,
          5,
          5,
          3.6666666666666665,
          3.6666666666666665,
          3.6666666666666665,
          3.6666666666666665,
          3.6666666666666665,
          null,
          null,
          null,
          null,
          null,
          4.375,
          4.375,
          4.375,
          4.375,
          4.375,
          4.375,
          4.375,
          4.375,
          4.375,
          5,
          5,
          5,
          5,
          5,
          5,
          5,
          5,
          5,
          4,
          4,
          4,
          4,
          4,
          4,
          5,
          5,
          5,
          5,
          5,
          5,
          5,
          5,
          5,
          5,
          5,
          5,
          5,
          5,
          4,
          4,
          4,
          4,
          4,
          4,
          5,
          5,
          5,
          5,
          5,
          5,
          5,
          5,
          5,
          5,
          5,
          5,
          5,
          5,
          5,
          5,
          5,
          5,
          5,
          3.5,
          3.5,
          3.5,
          3.5,
          3.5,
          3.5,
          3.5,
          4.8,
          4.8,
          4.8,
          4.8,
          4.8,
          4.8,
          4.8,
          4.8,
          4.8,
          null,
          null,
          null,
          null,
          null,
          4.5,
          4.5,
          4.5,
          4.5,
          4.5,
          4.5,
          4.2,
          4.2,
          4.2,
          4.2,
          4.2,
          4.2,
          4.2,
          4.2,
          4.2
         ],
         "xaxis": "x",
         "y": [
          null,
          null,
          null,
          null,
          null,
          5,
          5,
          5,
          5,
          5,
          5,
          5,
          5,
          5,
          5,
          5,
          5,
          null,
          null,
          null,
          null,
          null,
          4.75,
          4.75,
          4.75,
          4.75,
          4.75,
          4.75,
          4.75,
          4.75,
          4.75,
          4.5,
          4.5,
          4.5,
          4.5,
          4.5,
          4.5,
          4.5,
          4.5,
          4.5,
          4.333333333333333,
          4.333333333333333,
          4.333333333333333,
          4.333333333333333,
          4.333333333333333,
          4.333333333333333,
          3,
          3,
          3,
          3,
          3,
          3,
          3,
          3,
          3,
          5,
          5,
          5,
          5,
          5,
          4,
          4,
          4,
          4,
          4,
          4,
          null,
          null,
          null,
          null,
          null,
          null,
          4,
          4,
          4,
          4,
          4,
          4,
          5,
          5,
          5,
          5,
          5,
          5,
          5,
          3.25,
          3.25,
          3.25,
          3.25,
          3.25,
          3.25,
          3.25,
          4.6,
          4.6,
          4.6,
          4.6,
          4.6,
          4.6,
          4.6,
          4.6,
          4.6,
          null,
          null,
          null,
          null,
          null,
          4.5,
          4.5,
          4.5,
          4.5,
          4.5,
          4.5,
          4.2,
          4.2,
          4.2,
          4.2,
          4.2,
          4.2,
          4.2,
          4.2,
          4.2
         ],
         "yaxis": "y"
        },
        {
         "customdata": [
          [
           "chengdu"
          ],
          [
           "chengdu"
          ],
          [
           "chengdu"
          ],
          [
           "chengdu"
          ],
          [
           "chengdu"
          ],
          [
           "coimbatore"
          ],
          [
           "coimbatore"
          ],
          [
           "coimbatore"
          ],
          [
           "coimbatore"
          ],
          [
           "coimbatore"
          ],
          [
           "hangzhou"
          ],
          [
           "hangzhou"
          ],
          [
           "hangzhou"
          ],
          [
           "hangzhou"
          ],
          [
           "hangzhou"
          ],
          [
           "hangzhou"
          ],
          [
           "hangzhou"
          ],
          [
           "hangzhou"
          ],
          [
           "kunming"
          ],
          [
           "kunming"
          ],
          [
           "kunming"
          ],
          [
           "kunming"
          ],
          [
           "kunming"
          ],
          [
           "kunming"
          ],
          [
           "pune"
          ],
          [
           "pune"
          ],
          [
           "pune"
          ],
          [
           "pune"
          ],
          [
           "pune"
          ],
          [
           "pune"
          ],
          [
           "pune"
          ],
          [
           "pune"
          ],
          [
           "pune"
          ],
          [
           "qingdao"
          ],
          [
           "qingdao"
          ],
          [
           "qingdao"
          ],
          [
           "qingdao"
          ],
          [
           "qingdao"
          ],
          [
           "qingdao"
          ],
          [
           "qingdao"
          ],
          [
           "sapporo chitose"
          ],
          [
           "sapporo chitose"
          ],
          [
           "sapporo chitose"
          ],
          [
           "sapporo chitose"
          ],
          [
           "sapporo chitose"
          ],
          [
           "sapporo chitose"
          ],
          [
           "sapporo chitose"
          ],
          [
           "sapporo chitose"
          ],
          [
           "seoul gimpo"
          ],
          [
           "seoul gimpo"
          ],
          [
           "seoul gimpo"
          ],
          [
           "seoul gimpo"
          ],
          [
           "seoul gimpo"
          ],
          [
           "seoul gimpo"
          ],
          [
           "seoul gimpo"
          ],
          [
           "seoul gimpo"
          ],
          [
           "shenyang"
          ],
          [
           "shenyang"
          ],
          [
           "shenyang"
          ],
          [
           "shenyang"
          ],
          [
           "shenyang"
          ],
          [
           "shenyang"
          ],
          [
           "shenyang"
          ],
          [
           "xian xianyang"
          ],
          [
           "xian xianyang"
          ],
          [
           "xian xianyang"
          ],
          [
           "xian xianyang"
          ],
          [
           "xian xianyang"
          ],
          [
           "xian xianyang"
          ],
          [
           "xian xianyang"
          ],
          [
           "xian xianyang"
          ],
          [
           "xiamen"
          ],
          [
           "xiamen"
          ],
          [
           "xiamen"
          ],
          [
           "xiamen"
          ],
          [
           "xiamen"
          ],
          [
           "xiamen"
          ],
          [
           "xiamen"
          ],
          [
           "xiamen"
          ],
          [
           "xiamen"
          ]
         ],
         "hovertemplate": "geo_area=Asia<br>mean_overall_rating=%{x}<br>mean_terminal_cleanliness_rating=%{y}<br>airport_name=%{customdata[0]}<extra></extra>",
         "legendgroup": "Asia",
         "marker": {
          "color": "#19d3f3",
          "symbol": "circle"
         },
         "mode": "markers",
         "name": "Asia",
         "orientation": "v",
         "showlegend": true,
         "type": "scatter",
         "x": [
          4,
          4,
          4,
          4,
          4,
          2.5,
          2.5,
          2.5,
          2.5,
          2.5,
          4.333333333333333,
          4.333333333333333,
          4.333333333333333,
          4.333333333333333,
          4.333333333333333,
          4.333333333333333,
          4.333333333333333,
          4.333333333333333,
          3.75,
          3.75,
          3.75,
          3.75,
          3.75,
          3.75,
          3,
          3,
          3,
          3,
          3,
          3,
          3,
          3,
          3,
          4.4,
          4.4,
          4.4,
          4.4,
          4.4,
          4.4,
          4.4,
          3.8,
          3.8,
          3.8,
          3.8,
          3.8,
          3.8,
          3.8,
          3.8,
          4,
          4,
          4,
          4,
          4,
          4,
          4,
          4,
          5,
          5,
          5,
          5,
          5,
          5,
          5,
          2.5,
          2.5,
          2.5,
          2.5,
          2.5,
          2.5,
          2.5,
          2.5,
          3.8,
          3.8,
          3.8,
          3.8,
          3.8,
          3.8,
          3.8,
          3.8,
          3.8
         ],
         "xaxis": "x",
         "y": [
          3.75,
          3.75,
          3.75,
          3.75,
          3.75,
          2.5,
          2.5,
          2.5,
          2.5,
          2.5,
          4.333333333333333,
          4.333333333333333,
          4.333333333333333,
          4.333333333333333,
          4.333333333333333,
          4.333333333333333,
          4.333333333333333,
          4.333333333333333,
          4,
          4,
          4,
          4,
          4,
          4,
          3,
          3,
          3,
          3,
          3,
          3,
          3,
          3,
          3,
          4.6,
          4.6,
          4.6,
          4.6,
          4.6,
          4.6,
          4.6,
          4.5,
          4.5,
          4.5,
          4.5,
          4.5,
          4.5,
          4.5,
          4.5,
          4,
          4,
          4,
          4,
          4,
          4,
          4,
          4,
          4.333333333333333,
          4.333333333333333,
          4.333333333333333,
          4.333333333333333,
          4.333333333333333,
          4.333333333333333,
          4.333333333333333,
          3.75,
          3.75,
          3.75,
          3.75,
          3.75,
          3.75,
          3.75,
          3.75,
          4,
          4,
          4,
          4,
          4,
          4,
          4,
          4,
          4
         ],
         "yaxis": "y"
        },
        {
         "customdata": [
          [
           "clark"
          ],
          [
           "clark"
          ],
          [
           "clark"
          ],
          [
           "clark"
          ],
          [
           "clark"
          ],
          [
           "clark"
          ],
          [
           "clark"
          ],
          [
           "hobart"
          ],
          [
           "hobart"
          ],
          [
           "hobart"
          ],
          [
           "hobart"
          ],
          [
           "hobart"
          ],
          [
           "hobart"
          ],
          [
           "hobart"
          ],
          [
           "hobart"
          ],
          [
           "hobart"
          ],
          [
           "kota kinabalu"
          ],
          [
           "kota kinabalu"
          ],
          [
           "kota kinabalu"
          ],
          [
           "kota kinabalu"
          ],
          [
           "kota kinabalu"
          ],
          [
           "launceston"
          ],
          [
           "launceston"
          ],
          [
           "launceston"
          ],
          [
           "launceston"
          ],
          [
           "launceston"
          ],
          [
           "medan"
          ],
          [
           "medan"
          ],
          [
           "medan"
          ],
          [
           "medan"
          ],
          [
           "medan"
          ],
          [
           "medan"
          ],
          [
           "medan"
          ],
          [
           "medan"
          ],
          [
           "subang kuala lumpur"
          ],
          [
           "subang kuala lumpur"
          ],
          [
           "subang kuala lumpur"
          ],
          [
           "subang kuala lumpur"
          ],
          [
           "subang kuala lumpur"
          ],
          [
           "tontouta"
          ],
          [
           "tontouta"
          ],
          [
           "tontouta"
          ],
          [
           "tontouta"
          ],
          [
           "tontouta"
          ],
          [
           "tontouta"
          ],
          [
           "tontouta"
          ],
          [
           "tontouta"
          ],
          [
           "vientiane"
          ],
          [
           "vientiane"
          ],
          [
           "vientiane"
          ],
          [
           "vientiane"
          ],
          [
           "vientiane"
          ],
          [
           "vientiane"
          ],
          [
           "vientiane"
          ],
          [
           "vientiane"
          ],
          [
           "yogyakarta"
          ],
          [
           "yogyakarta"
          ],
          [
           "yogyakarta"
          ],
          [
           "yogyakarta"
          ],
          [
           "yogyakarta"
          ],
          [
           "yogyakarta"
          ],
          [
           "yogyakarta"
          ]
         ],
         "hovertemplate": "geo_area=S-Asia Oceania<br>mean_overall_rating=%{x}<br>mean_terminal_cleanliness_rating=%{y}<br>airport_name=%{customdata[0]}<extra></extra>",
         "legendgroup": "S-Asia Oceania",
         "marker": {
          "color": "#FF6692",
          "symbol": "circle"
         },
         "mode": "markers",
         "name": "S-Asia Oceania",
         "orientation": "v",
         "showlegend": true,
         "type": "scatter",
         "x": [
          3.6666666666666665,
          3.6666666666666665,
          3.6666666666666665,
          3.6666666666666665,
          3.6666666666666665,
          3.6666666666666665,
          3.6666666666666665,
          5,
          5,
          5,
          5,
          5,
          5,
          5,
          5,
          5,
          4.5,
          4.5,
          4.5,
          4.5,
          4.5,
          4,
          4,
          4,
          4,
          4,
          4,
          4,
          4,
          4,
          4,
          4,
          4,
          4,
          4.6,
          4.6,
          4.6,
          4.6,
          4.6,
          4,
          4,
          4,
          4,
          4,
          4,
          4,
          4,
          4.75,
          4.75,
          4.75,
          4.75,
          4.75,
          4.75,
          4.75,
          4.75,
          3.6666666666666665,
          3.6666666666666665,
          3.6666666666666665,
          3.6666666666666665,
          3.6666666666666665,
          3.6666666666666665,
          3.6666666666666665
         ],
         "xaxis": "x",
         "y": [
          4,
          4,
          4,
          4,
          4,
          4,
          4,
          5,
          5,
          5,
          5,
          5,
          5,
          5,
          5,
          5,
          4.5,
          4.5,
          4.5,
          4.5,
          4.5,
          4,
          4,
          4,
          4,
          4,
          3.4285714285714284,
          3.4285714285714284,
          3.4285714285714284,
          3.4285714285714284,
          3.4285714285714284,
          3.4285714285714284,
          3.4285714285714284,
          3.4285714285714284,
          4.6,
          4.6,
          4.6,
          4.6,
          4.6,
          4.5,
          4.5,
          4.5,
          4.5,
          4.5,
          4.5,
          4.5,
          4.5,
          4.5,
          4.5,
          4.5,
          4.5,
          4.5,
          4.5,
          4.5,
          4.5,
          2.6666666666666665,
          2.6666666666666665,
          2.6666666666666665,
          2.6666666666666665,
          2.6666666666666665,
          2.6666666666666665,
          2.6666666666666665
         ],
         "yaxis": "y"
        }
       ],
       "layout": {
        "legend": {
         "title": {
          "text": "Geo Area"
         },
         "tracegroupgap": 0
        },
        "template": {
         "data": {
          "bar": [
           {
            "error_x": {
             "color": "#f2f5fa"
            },
            "error_y": {
             "color": "#f2f5fa"
            },
            "marker": {
             "line": {
              "color": "rgb(17,17,17)",
              "width": 0.5
             },
             "pattern": {
              "fillmode": "overlay",
              "size": 10,
              "solidity": 0.2
             }
            },
            "type": "bar"
           }
          ],
          "barpolar": [
           {
            "marker": {
             "line": {
              "color": "rgb(17,17,17)",
              "width": 0.5
             },
             "pattern": {
              "fillmode": "overlay",
              "size": 10,
              "solidity": 0.2
             }
            },
            "type": "barpolar"
           }
          ],
          "carpet": [
           {
            "aaxis": {
             "endlinecolor": "#A2B1C6",
             "gridcolor": "#506784",
             "linecolor": "#506784",
             "minorgridcolor": "#506784",
             "startlinecolor": "#A2B1C6"
            },
            "baxis": {
             "endlinecolor": "#A2B1C6",
             "gridcolor": "#506784",
             "linecolor": "#506784",
             "minorgridcolor": "#506784",
             "startlinecolor": "#A2B1C6"
            },
            "type": "carpet"
           }
          ],
          "choropleth": [
           {
            "colorbar": {
             "outlinewidth": 0,
             "ticks": ""
            },
            "type": "choropleth"
           }
          ],
          "contour": [
           {
            "colorbar": {
             "outlinewidth": 0,
             "ticks": ""
            },
            "colorscale": [
             [
              0,
              "#0d0887"
             ],
             [
              0.1111111111111111,
              "#46039f"
             ],
             [
              0.2222222222222222,
              "#7201a8"
             ],
             [
              0.3333333333333333,
              "#9c179e"
             ],
             [
              0.4444444444444444,
              "#bd3786"
             ],
             [
              0.5555555555555556,
              "#d8576b"
             ],
             [
              0.6666666666666666,
              "#ed7953"
             ],
             [
              0.7777777777777778,
              "#fb9f3a"
             ],
             [
              0.8888888888888888,
              "#fdca26"
             ],
             [
              1,
              "#f0f921"
             ]
            ],
            "type": "contour"
           }
          ],
          "contourcarpet": [
           {
            "colorbar": {
             "outlinewidth": 0,
             "ticks": ""
            },
            "type": "contourcarpet"
           }
          ],
          "heatmap": [
           {
            "colorbar": {
             "outlinewidth": 0,
             "ticks": ""
            },
            "colorscale": [
             [
              0,
              "#0d0887"
             ],
             [
              0.1111111111111111,
              "#46039f"
             ],
             [
              0.2222222222222222,
              "#7201a8"
             ],
             [
              0.3333333333333333,
              "#9c179e"
             ],
             [
              0.4444444444444444,
              "#bd3786"
             ],
             [
              0.5555555555555556,
              "#d8576b"
             ],
             [
              0.6666666666666666,
              "#ed7953"
             ],
             [
              0.7777777777777778,
              "#fb9f3a"
             ],
             [
              0.8888888888888888,
              "#fdca26"
             ],
             [
              1,
              "#f0f921"
             ]
            ],
            "type": "heatmap"
           }
          ],
          "heatmapgl": [
           {
            "colorbar": {
             "outlinewidth": 0,
             "ticks": ""
            },
            "colorscale": [
             [
              0,
              "#0d0887"
             ],
             [
              0.1111111111111111,
              "#46039f"
             ],
             [
              0.2222222222222222,
              "#7201a8"
             ],
             [
              0.3333333333333333,
              "#9c179e"
             ],
             [
              0.4444444444444444,
              "#bd3786"
             ],
             [
              0.5555555555555556,
              "#d8576b"
             ],
             [
              0.6666666666666666,
              "#ed7953"
             ],
             [
              0.7777777777777778,
              "#fb9f3a"
             ],
             [
              0.8888888888888888,
              "#fdca26"
             ],
             [
              1,
              "#f0f921"
             ]
            ],
            "type": "heatmapgl"
           }
          ],
          "histogram": [
           {
            "marker": {
             "pattern": {
              "fillmode": "overlay",
              "size": 10,
              "solidity": 0.2
             }
            },
            "type": "histogram"
           }
          ],
          "histogram2d": [
           {
            "colorbar": {
             "outlinewidth": 0,
             "ticks": ""
            },
            "colorscale": [
             [
              0,
              "#0d0887"
             ],
             [
              0.1111111111111111,
              "#46039f"
             ],
             [
              0.2222222222222222,
              "#7201a8"
             ],
             [
              0.3333333333333333,
              "#9c179e"
             ],
             [
              0.4444444444444444,
              "#bd3786"
             ],
             [
              0.5555555555555556,
              "#d8576b"
             ],
             [
              0.6666666666666666,
              "#ed7953"
             ],
             [
              0.7777777777777778,
              "#fb9f3a"
             ],
             [
              0.8888888888888888,
              "#fdca26"
             ],
             [
              1,
              "#f0f921"
             ]
            ],
            "type": "histogram2d"
           }
          ],
          "histogram2dcontour": [
           {
            "colorbar": {
             "outlinewidth": 0,
             "ticks": ""
            },
            "colorscale": [
             [
              0,
              "#0d0887"
             ],
             [
              0.1111111111111111,
              "#46039f"
             ],
             [
              0.2222222222222222,
              "#7201a8"
             ],
             [
              0.3333333333333333,
              "#9c179e"
             ],
             [
              0.4444444444444444,
              "#bd3786"
             ],
             [
              0.5555555555555556,
              "#d8576b"
             ],
             [
              0.6666666666666666,
              "#ed7953"
             ],
             [
              0.7777777777777778,
              "#fb9f3a"
             ],
             [
              0.8888888888888888,
              "#fdca26"
             ],
             [
              1,
              "#f0f921"
             ]
            ],
            "type": "histogram2dcontour"
           }
          ],
          "mesh3d": [
           {
            "colorbar": {
             "outlinewidth": 0,
             "ticks": ""
            },
            "type": "mesh3d"
           }
          ],
          "parcoords": [
           {
            "line": {
             "colorbar": {
              "outlinewidth": 0,
              "ticks": ""
             }
            },
            "type": "parcoords"
           }
          ],
          "pie": [
           {
            "automargin": true,
            "type": "pie"
           }
          ],
          "scatter": [
           {
            "marker": {
             "line": {
              "color": "#283442"
             }
            },
            "type": "scatter"
           }
          ],
          "scatter3d": [
           {
            "line": {
             "colorbar": {
              "outlinewidth": 0,
              "ticks": ""
             }
            },
            "marker": {
             "colorbar": {
              "outlinewidth": 0,
              "ticks": ""
             }
            },
            "type": "scatter3d"
           }
          ],
          "scattercarpet": [
           {
            "marker": {
             "colorbar": {
              "outlinewidth": 0,
              "ticks": ""
             }
            },
            "type": "scattercarpet"
           }
          ],
          "scattergeo": [
           {
            "marker": {
             "colorbar": {
              "outlinewidth": 0,
              "ticks": ""
             }
            },
            "type": "scattergeo"
           }
          ],
          "scattergl": [
           {
            "marker": {
             "line": {
              "color": "#283442"
             }
            },
            "type": "scattergl"
           }
          ],
          "scattermapbox": [
           {
            "marker": {
             "colorbar": {
              "outlinewidth": 0,
              "ticks": ""
             }
            },
            "type": "scattermapbox"
           }
          ],
          "scatterpolar": [
           {
            "marker": {
             "colorbar": {
              "outlinewidth": 0,
              "ticks": ""
             }
            },
            "type": "scatterpolar"
           }
          ],
          "scatterpolargl": [
           {
            "marker": {
             "colorbar": {
              "outlinewidth": 0,
              "ticks": ""
             }
            },
            "type": "scatterpolargl"
           }
          ],
          "scatterternary": [
           {
            "marker": {
             "colorbar": {
              "outlinewidth": 0,
              "ticks": ""
             }
            },
            "type": "scatterternary"
           }
          ],
          "surface": [
           {
            "colorbar": {
             "outlinewidth": 0,
             "ticks": ""
            },
            "colorscale": [
             [
              0,
              "#0d0887"
             ],
             [
              0.1111111111111111,
              "#46039f"
             ],
             [
              0.2222222222222222,
              "#7201a8"
             ],
             [
              0.3333333333333333,
              "#9c179e"
             ],
             [
              0.4444444444444444,
              "#bd3786"
             ],
             [
              0.5555555555555556,
              "#d8576b"
             ],
             [
              0.6666666666666666,
              "#ed7953"
             ],
             [
              0.7777777777777778,
              "#fb9f3a"
             ],
             [
              0.8888888888888888,
              "#fdca26"
             ],
             [
              1,
              "#f0f921"
             ]
            ],
            "type": "surface"
           }
          ],
          "table": [
           {
            "cells": {
             "fill": {
              "color": "#506784"
             },
             "line": {
              "color": "rgb(17,17,17)"
             }
            },
            "header": {
             "fill": {
              "color": "#2a3f5f"
             },
             "line": {
              "color": "rgb(17,17,17)"
             }
            },
            "type": "table"
           }
          ]
         },
         "layout": {
          "annotationdefaults": {
           "arrowcolor": "#f2f5fa",
           "arrowhead": 0,
           "arrowwidth": 1
          },
          "autotypenumbers": "strict",
          "coloraxis": {
           "colorbar": {
            "outlinewidth": 0,
            "ticks": ""
           }
          },
          "colorscale": {
           "diverging": [
            [
             0,
             "#8e0152"
            ],
            [
             0.1,
             "#c51b7d"
            ],
            [
             0.2,
             "#de77ae"
            ],
            [
             0.3,
             "#f1b6da"
            ],
            [
             0.4,
             "#fde0ef"
            ],
            [
             0.5,
             "#f7f7f7"
            ],
            [
             0.6,
             "#e6f5d0"
            ],
            [
             0.7,
             "#b8e186"
            ],
            [
             0.8,
             "#7fbc41"
            ],
            [
             0.9,
             "#4d9221"
            ],
            [
             1,
             "#276419"
            ]
           ],
           "sequential": [
            [
             0,
             "#0d0887"
            ],
            [
             0.1111111111111111,
             "#46039f"
            ],
            [
             0.2222222222222222,
             "#7201a8"
            ],
            [
             0.3333333333333333,
             "#9c179e"
            ],
            [
             0.4444444444444444,
             "#bd3786"
            ],
            [
             0.5555555555555556,
             "#d8576b"
            ],
            [
             0.6666666666666666,
             "#ed7953"
            ],
            [
             0.7777777777777778,
             "#fb9f3a"
            ],
            [
             0.8888888888888888,
             "#fdca26"
            ],
            [
             1,
             "#f0f921"
            ]
           ],
           "sequentialminus": [
            [
             0,
             "#0d0887"
            ],
            [
             0.1111111111111111,
             "#46039f"
            ],
            [
             0.2222222222222222,
             "#7201a8"
            ],
            [
             0.3333333333333333,
             "#9c179e"
            ],
            [
             0.4444444444444444,
             "#bd3786"
            ],
            [
             0.5555555555555556,
             "#d8576b"
            ],
            [
             0.6666666666666666,
             "#ed7953"
            ],
            [
             0.7777777777777778,
             "#fb9f3a"
            ],
            [
             0.8888888888888888,
             "#fdca26"
            ],
            [
             1,
             "#f0f921"
            ]
           ]
          },
          "colorway": [
           "#636efa",
           "#EF553B",
           "#00cc96",
           "#ab63fa",
           "#FFA15A",
           "#19d3f3",
           "#FF6692",
           "#B6E880",
           "#FF97FF",
           "#FECB52"
          ],
          "font": {
           "color": "#f2f5fa"
          },
          "geo": {
           "bgcolor": "rgb(17,17,17)",
           "lakecolor": "rgb(17,17,17)",
           "landcolor": "rgb(17,17,17)",
           "showlakes": true,
           "showland": true,
           "subunitcolor": "#506784"
          },
          "hoverlabel": {
           "align": "left"
          },
          "hovermode": "closest",
          "mapbox": {
           "style": "dark"
          },
          "paper_bgcolor": "rgb(17,17,17)",
          "plot_bgcolor": "rgb(17,17,17)",
          "polar": {
           "angularaxis": {
            "gridcolor": "#506784",
            "linecolor": "#506784",
            "ticks": ""
           },
           "bgcolor": "rgb(17,17,17)",
           "radialaxis": {
            "gridcolor": "#506784",
            "linecolor": "#506784",
            "ticks": ""
           }
          },
          "scene": {
           "xaxis": {
            "backgroundcolor": "rgb(17,17,17)",
            "gridcolor": "#506784",
            "gridwidth": 2,
            "linecolor": "#506784",
            "showbackground": true,
            "ticks": "",
            "zerolinecolor": "#C8D4E3"
           },
           "yaxis": {
            "backgroundcolor": "rgb(17,17,17)",
            "gridcolor": "#506784",
            "gridwidth": 2,
            "linecolor": "#506784",
            "showbackground": true,
            "ticks": "",
            "zerolinecolor": "#C8D4E3"
           },
           "zaxis": {
            "backgroundcolor": "rgb(17,17,17)",
            "gridcolor": "#506784",
            "gridwidth": 2,
            "linecolor": "#506784",
            "showbackground": true,
            "ticks": "",
            "zerolinecolor": "#C8D4E3"
           }
          },
          "shapedefaults": {
           "line": {
            "color": "#f2f5fa"
           }
          },
          "sliderdefaults": {
           "bgcolor": "#C8D4E3",
           "bordercolor": "rgb(17,17,17)",
           "borderwidth": 1,
           "tickwidth": 0
          },
          "ternary": {
           "aaxis": {
            "gridcolor": "#506784",
            "linecolor": "#506784",
            "ticks": ""
           },
           "baxis": {
            "gridcolor": "#506784",
            "linecolor": "#506784",
            "ticks": ""
           },
           "bgcolor": "rgb(17,17,17)",
           "caxis": {
            "gridcolor": "#506784",
            "linecolor": "#506784",
            "ticks": ""
           }
          },
          "title": {
           "x": 0.05
          },
          "updatemenudefaults": {
           "bgcolor": "#506784",
           "borderwidth": 0
          },
          "xaxis": {
           "automargin": true,
           "gridcolor": "#283442",
           "linecolor": "#506784",
           "ticks": "",
           "title": {
            "standoff": 15
           },
           "zerolinecolor": "#283442",
           "zerolinewidth": 2
          },
          "yaxis": {
           "automargin": true,
           "gridcolor": "#283442",
           "linecolor": "#506784",
           "ticks": "",
           "title": {
            "standoff": 15
           },
           "zerolinecolor": "#283442",
           "zerolinewidth": 2
          }
         }
        },
        "title": {
         "text": "Overall Rating vs Terminal Cleanliness by Geo Area"
        },
        "xaxis": {
         "anchor": "y",
         "domain": [
          0,
          1
         ],
         "title": {
          "text": "Overall Rating"
         }
        },
        "yaxis": {
         "anchor": "x",
         "domain": [
          0,
          1
         ],
         "title": {
          "text": "Terminal cleanliness"
         }
        }
       }
      }
     },
     "metadata": {},
     "output_type": "display_data"
    }
   ],
   "source": [
    "fig.update_layout(\n",
    "    title=\"Overall Rating vs Terminal Cleanliness by Geo Area\",\n",
    "    xaxis_title=\"Overall Rating\",\n",
    "    yaxis_title=\"Terminal cleanliness\",\n",
    "    legend_title=\"Geo Area\",\n",
    "    template=\"plotly_dark\"  # Change to a dark theme for the plot\n",
    ")\n",
    "\n",
    "fig.show()"
   ]
  },
  {
   "cell_type": "code",
   "execution_count": 62,
   "metadata": {},
   "outputs": [],
   "source": [
    "small_not_na = small.dropna()"
   ]
  },
  {
   "cell_type": "code",
   "execution_count": 63,
   "metadata": {},
   "outputs": [
    {
     "name": "stderr",
     "output_type": "stream",
     "text": [
      "/var/folders/t8/zlgx07xx3m14kxtv1vv3m6lw0000gn/T/ipykernel_1242/541241282.py:13: SettingWithCopyWarning:\n",
      "\n",
      "\n",
      "A value is trying to be set on a copy of a slice from a DataFrame.\n",
      "Try using .loc[row_indexer,col_indexer] = value instead\n",
      "\n",
      "See the caveats in the documentation: https://pandas.pydata.org/pandas-docs/stable/user_guide/indexing.html#returning-a-view-versus-a-copy\n",
      "\n"
     ]
    },
    {
     "data": {
      "text/html": [
       "<div>\n",
       "<style scoped>\n",
       "    .dataframe tbody tr th:only-of-type {\n",
       "        vertical-align: middle;\n",
       "    }\n",
       "\n",
       "    .dataframe tbody tr th {\n",
       "        vertical-align: top;\n",
       "    }\n",
       "\n",
       "    .dataframe thead th {\n",
       "        text-align: right;\n",
       "    }\n",
       "</style>\n",
       "<table border=\"1\" class=\"dataframe\">\n",
       "  <thead>\n",
       "    <tr style=\"text-align: right;\">\n",
       "      <th></th>\n",
       "      <th>airport_name</th>\n",
       "      <th>author</th>\n",
       "      <th>author_country</th>\n",
       "      <th>date</th>\n",
       "      <th>content</th>\n",
       "      <th>experience_airport</th>\n",
       "      <th>overall_rating</th>\n",
       "      <th>terminal_cleanliness_rating</th>\n",
       "      <th>terminal_seating_rating</th>\n",
       "      <th>recommended</th>\n",
       "      <th>count</th>\n",
       "      <th>recommended_mean</th>\n",
       "      <th>geo_area</th>\n",
       "      <th>mean_experience_airport</th>\n",
       "      <th>mean_overall_rating</th>\n",
       "      <th>mean_terminal_cleanliness_rating</th>\n",
       "      <th>mean_terminal_seating_rating</th>\n",
       "    </tr>\n",
       "  </thead>\n",
       "  <tbody>\n",
       "    <tr>\n",
       "      <th>0</th>\n",
       "      <td>abuja</td>\n",
       "      <td>Alan Wan</td>\n",
       "      <td>United Kingdom</td>\n",
       "      <td>2012-02-28</td>\n",
       "      <td>On arrival as we flew Business Class we were n...</td>\n",
       "      <td>6.0</td>\n",
       "      <td>2.0</td>\n",
       "      <td>3.0</td>\n",
       "      <td>1.0</td>\n",
       "      <td>0.0</td>\n",
       "      <td>6</td>\n",
       "      <td>0.000000</td>\n",
       "      <td>Africa</td>\n",
       "      <td>3.250000</td>\n",
       "      <td>2.000000</td>\n",
       "      <td>3.00</td>\n",
       "      <td>1.25</td>\n",
       "    </tr>\n",
       "    <tr>\n",
       "      <th>1</th>\n",
       "      <td>abuja</td>\n",
       "      <td>A Cobo</td>\n",
       "      <td>United States</td>\n",
       "      <td>2011-08-08</td>\n",
       "      <td>Abuja international arrivals greets you with a...</td>\n",
       "      <td>2.0</td>\n",
       "      <td>1.0</td>\n",
       "      <td>3.0</td>\n",
       "      <td>1.0</td>\n",
       "      <td>0.0</td>\n",
       "      <td>6</td>\n",
       "      <td>0.000000</td>\n",
       "      <td>Africa</td>\n",
       "      <td>3.250000</td>\n",
       "      <td>2.000000</td>\n",
       "      <td>3.00</td>\n",
       "      <td>1.25</td>\n",
       "    </tr>\n",
       "    <tr>\n",
       "      <th>2</th>\n",
       "      <td>abuja</td>\n",
       "      <td>Antonio Tettamanzy</td>\n",
       "      <td>Brazil</td>\n",
       "      <td>2011-04-14</td>\n",
       "      <td>It was better than expected but can be quite m...</td>\n",
       "      <td>3.0</td>\n",
       "      <td>3.0</td>\n",
       "      <td>3.0</td>\n",
       "      <td>1.0</td>\n",
       "      <td>0.0</td>\n",
       "      <td>6</td>\n",
       "      <td>0.000000</td>\n",
       "      <td>Africa</td>\n",
       "      <td>3.250000</td>\n",
       "      <td>2.000000</td>\n",
       "      <td>3.00</td>\n",
       "      <td>1.25</td>\n",
       "    </tr>\n",
       "    <tr>\n",
       "      <th>3</th>\n",
       "      <td>abuja</td>\n",
       "      <td>C Stafford</td>\n",
       "      <td>NaN</td>\n",
       "      <td>2010-01-31</td>\n",
       "      <td>Upon arrival from Amsterdam on KLM I went to u...</td>\n",
       "      <td>2.0</td>\n",
       "      <td>NaN</td>\n",
       "      <td>NaN</td>\n",
       "      <td>NaN</td>\n",
       "      <td>0.0</td>\n",
       "      <td>6</td>\n",
       "      <td>0.000000</td>\n",
       "      <td>Africa</td>\n",
       "      <td>3.250000</td>\n",
       "      <td>2.000000</td>\n",
       "      <td>3.00</td>\n",
       "      <td>1.25</td>\n",
       "    </tr>\n",
       "    <tr>\n",
       "      <th>4</th>\n",
       "      <td>abuja</td>\n",
       "      <td>Mark Bickerton</td>\n",
       "      <td>NaN</td>\n",
       "      <td>2009-05-24</td>\n",
       "      <td>The international terminal is nice and quite w...</td>\n",
       "      <td>NaN</td>\n",
       "      <td>NaN</td>\n",
       "      <td>NaN</td>\n",
       "      <td>2.0</td>\n",
       "      <td>0.0</td>\n",
       "      <td>6</td>\n",
       "      <td>0.000000</td>\n",
       "      <td>Africa</td>\n",
       "      <td>3.250000</td>\n",
       "      <td>2.000000</td>\n",
       "      <td>3.00</td>\n",
       "      <td>1.25</td>\n",
       "    </tr>\n",
       "    <tr>\n",
       "      <th>5</th>\n",
       "      <td>abuja</td>\n",
       "      <td>S Adewale</td>\n",
       "      <td>NaN</td>\n",
       "      <td>2007-03-03</td>\n",
       "      <td>In Nigerian standards relatively clean and org...</td>\n",
       "      <td>NaN</td>\n",
       "      <td>NaN</td>\n",
       "      <td>NaN</td>\n",
       "      <td>NaN</td>\n",
       "      <td>0.0</td>\n",
       "      <td>6</td>\n",
       "      <td>0.000000</td>\n",
       "      <td>Africa</td>\n",
       "      <td>3.250000</td>\n",
       "      <td>2.000000</td>\n",
       "      <td>3.00</td>\n",
       "      <td>1.25</td>\n",
       "    </tr>\n",
       "    <tr>\n",
       "      <th>6</th>\n",
       "      <td>algiers</td>\n",
       "      <td>Qaddoumi Samar</td>\n",
       "      <td>Kuwait</td>\n",
       "      <td>2013-05-16</td>\n",
       "      <td>Algiers airport is huge and clean but I did no...</td>\n",
       "      <td>5.0</td>\n",
       "      <td>4.0</td>\n",
       "      <td>5.0</td>\n",
       "      <td>3.0</td>\n",
       "      <td>0.0</td>\n",
       "      <td>8</td>\n",
       "      <td>0.166667</td>\n",
       "      <td>Africa</td>\n",
       "      <td>4.600000</td>\n",
       "      <td>4.333333</td>\n",
       "      <td>5.00</td>\n",
       "      <td>3.50</td>\n",
       "    </tr>\n",
       "    <tr>\n",
       "      <th>7</th>\n",
       "      <td>algiers</td>\n",
       "      <td>R Oussalah</td>\n",
       "      <td>Taiwan</td>\n",
       "      <td>2012-10-10</td>\n",
       "      <td>This is the first time in over a year I used t...</td>\n",
       "      <td>7.0</td>\n",
       "      <td>4.0</td>\n",
       "      <td>5.0</td>\n",
       "      <td>3.0</td>\n",
       "      <td>1.0</td>\n",
       "      <td>8</td>\n",
       "      <td>0.166667</td>\n",
       "      <td>Africa</td>\n",
       "      <td>4.600000</td>\n",
       "      <td>4.333333</td>\n",
       "      <td>5.00</td>\n",
       "      <td>3.50</td>\n",
       "    </tr>\n",
       "    <tr>\n",
       "      <th>8</th>\n",
       "      <td>algiers</td>\n",
       "      <td>Mohamed Salah</td>\n",
       "      <td>France</td>\n",
       "      <td>2011-07-27</td>\n",
       "      <td>Good airport international terminal T1 is nice...</td>\n",
       "      <td>4.0</td>\n",
       "      <td>5.0</td>\n",
       "      <td>5.0</td>\n",
       "      <td>5.0</td>\n",
       "      <td>0.0</td>\n",
       "      <td>8</td>\n",
       "      <td>0.166667</td>\n",
       "      <td>Africa</td>\n",
       "      <td>4.600000</td>\n",
       "      <td>4.333333</td>\n",
       "      <td>5.00</td>\n",
       "      <td>3.50</td>\n",
       "    </tr>\n",
       "    <tr>\n",
       "      <th>9</th>\n",
       "      <td>algiers</td>\n",
       "      <td>R Oussalah</td>\n",
       "      <td>Italy</td>\n",
       "      <td>2011-01-19</td>\n",
       "      <td>For departures Algiers new airport is fairly s...</td>\n",
       "      <td>NaN</td>\n",
       "      <td>NaN</td>\n",
       "      <td>NaN</td>\n",
       "      <td>NaN</td>\n",
       "      <td>NaN</td>\n",
       "      <td>8</td>\n",
       "      <td>0.166667</td>\n",
       "      <td>Africa</td>\n",
       "      <td>4.600000</td>\n",
       "      <td>4.333333</td>\n",
       "      <td>5.00</td>\n",
       "      <td>3.50</td>\n",
       "    </tr>\n",
       "    <tr>\n",
       "      <th>10</th>\n",
       "      <td>algiers</td>\n",
       "      <td>Mark Wadham</td>\n",
       "      <td>NaN</td>\n",
       "      <td>2010-05-26</td>\n",
       "      <td>The airport building in itself is fairly attra...</td>\n",
       "      <td>NaN</td>\n",
       "      <td>NaN</td>\n",
       "      <td>NaN</td>\n",
       "      <td>3.0</td>\n",
       "      <td>NaN</td>\n",
       "      <td>8</td>\n",
       "      <td>0.166667</td>\n",
       "      <td>Africa</td>\n",
       "      <td>4.600000</td>\n",
       "      <td>4.333333</td>\n",
       "      <td>5.00</td>\n",
       "      <td>3.50</td>\n",
       "    </tr>\n",
       "    <tr>\n",
       "      <th>11</th>\n",
       "      <td>algiers</td>\n",
       "      <td>M Fadjar</td>\n",
       "      <td>NaN</td>\n",
       "      <td>2009-10-12</td>\n",
       "      <td>Algiers airport has improved a lot lately espe...</td>\n",
       "      <td>3.0</td>\n",
       "      <td>NaN</td>\n",
       "      <td>NaN</td>\n",
       "      <td>NaN</td>\n",
       "      <td>0.0</td>\n",
       "      <td>8</td>\n",
       "      <td>0.166667</td>\n",
       "      <td>Africa</td>\n",
       "      <td>4.600000</td>\n",
       "      <td>4.333333</td>\n",
       "      <td>5.00</td>\n",
       "      <td>3.50</td>\n",
       "    </tr>\n",
       "    <tr>\n",
       "      <th>12</th>\n",
       "      <td>algiers</td>\n",
       "      <td>Reyad Kesri</td>\n",
       "      <td>NaN</td>\n",
       "      <td>2009-06-03</td>\n",
       "      <td>Algiers new terminal is up to international st...</td>\n",
       "      <td>4.0</td>\n",
       "      <td>NaN</td>\n",
       "      <td>NaN</td>\n",
       "      <td>NaN</td>\n",
       "      <td>0.0</td>\n",
       "      <td>8</td>\n",
       "      <td>0.166667</td>\n",
       "      <td>Africa</td>\n",
       "      <td>4.600000</td>\n",
       "      <td>4.333333</td>\n",
       "      <td>5.00</td>\n",
       "      <td>3.50</td>\n",
       "    </tr>\n",
       "    <tr>\n",
       "      <th>13</th>\n",
       "      <td>algiers</td>\n",
       "      <td>S Farooq</td>\n",
       "      <td>NaN</td>\n",
       "      <td>2007-04-03</td>\n",
       "      <td>Inbound no hassles and after claiming baggage ...</td>\n",
       "      <td>NaN</td>\n",
       "      <td>NaN</td>\n",
       "      <td>NaN</td>\n",
       "      <td>NaN</td>\n",
       "      <td>0.0</td>\n",
       "      <td>8</td>\n",
       "      <td>0.166667</td>\n",
       "      <td>Africa</td>\n",
       "      <td>4.600000</td>\n",
       "      <td>4.333333</td>\n",
       "      <td>5.00</td>\n",
       "      <td>3.50</td>\n",
       "    </tr>\n",
       "    <tr>\n",
       "      <th>14</th>\n",
       "      <td>almeria</td>\n",
       "      <td>Stuart Ward</td>\n",
       "      <td>United Kingdom</td>\n",
       "      <td>2011-07-10</td>\n",
       "      <td>Interesting to see the airport since last year...</td>\n",
       "      <td>4.0</td>\n",
       "      <td>5.0</td>\n",
       "      <td>5.0</td>\n",
       "      <td>3.0</td>\n",
       "      <td>0.0</td>\n",
       "      <td>8</td>\n",
       "      <td>0.000000</td>\n",
       "      <td>Europe</td>\n",
       "      <td>3.666667</td>\n",
       "      <td>5.000000</td>\n",
       "      <td>5.00</td>\n",
       "      <td>3.00</td>\n",
       "    </tr>\n",
       "    <tr>\n",
       "      <th>15</th>\n",
       "      <td>almeria</td>\n",
       "      <td>Stuart Ward</td>\n",
       "      <td>NaN</td>\n",
       "      <td>2010-10-24</td>\n",
       "      <td>Arrival okay queue to go through passport was ...</td>\n",
       "      <td>4.0</td>\n",
       "      <td>NaN</td>\n",
       "      <td>NaN</td>\n",
       "      <td>NaN</td>\n",
       "      <td>0.0</td>\n",
       "      <td>8</td>\n",
       "      <td>0.000000</td>\n",
       "      <td>Europe</td>\n",
       "      <td>3.666667</td>\n",
       "      <td>5.000000</td>\n",
       "      <td>5.00</td>\n",
       "      <td>3.00</td>\n",
       "    </tr>\n",
       "    <tr>\n",
       "      <th>16</th>\n",
       "      <td>almeria</td>\n",
       "      <td>Susan Davis</td>\n",
       "      <td>NaN</td>\n",
       "      <td>2007-07-18</td>\n",
       "      <td>I found the airport to be more than adequate. ...</td>\n",
       "      <td>3.0</td>\n",
       "      <td>NaN</td>\n",
       "      <td>NaN</td>\n",
       "      <td>NaN</td>\n",
       "      <td>0.0</td>\n",
       "      <td>8</td>\n",
       "      <td>0.000000</td>\n",
       "      <td>Europe</td>\n",
       "      <td>3.666667</td>\n",
       "      <td>5.000000</td>\n",
       "      <td>5.00</td>\n",
       "      <td>3.00</td>\n",
       "    </tr>\n",
       "    <tr>\n",
       "      <th>17</th>\n",
       "      <td>almeria</td>\n",
       "      <td>S William</td>\n",
       "      <td>NaN</td>\n",
       "      <td>2007-03-25</td>\n",
       "      <td>Almeria was unfortunately not built to handle ...</td>\n",
       "      <td>NaN</td>\n",
       "      <td>NaN</td>\n",
       "      <td>NaN</td>\n",
       "      <td>NaN</td>\n",
       "      <td>0.0</td>\n",
       "      <td>8</td>\n",
       "      <td>0.000000</td>\n",
       "      <td>Europe</td>\n",
       "      <td>3.666667</td>\n",
       "      <td>5.000000</td>\n",
       "      <td>5.00</td>\n",
       "      <td>3.00</td>\n",
       "    </tr>\n",
       "    <tr>\n",
       "      <th>18</th>\n",
       "      <td>almeria</td>\n",
       "      <td>Dan Thorneycroft</td>\n",
       "      <td>NaN</td>\n",
       "      <td>2006-08-25</td>\n",
       "      <td>Reading some of the other reports of Almeria a...</td>\n",
       "      <td>NaN</td>\n",
       "      <td>NaN</td>\n",
       "      <td>NaN</td>\n",
       "      <td>NaN</td>\n",
       "      <td>0.0</td>\n",
       "      <td>8</td>\n",
       "      <td>0.000000</td>\n",
       "      <td>Europe</td>\n",
       "      <td>3.666667</td>\n",
       "      <td>5.000000</td>\n",
       "      <td>5.00</td>\n",
       "      <td>3.00</td>\n",
       "    </tr>\n",
       "    <tr>\n",
       "      <th>19</th>\n",
       "      <td>almeria</td>\n",
       "      <td>Mohd Kastor</td>\n",
       "      <td>NaN</td>\n",
       "      <td>2006-05-31</td>\n",
       "      <td>A small airport with limited but more than eno...</td>\n",
       "      <td>NaN</td>\n",
       "      <td>NaN</td>\n",
       "      <td>NaN</td>\n",
       "      <td>NaN</td>\n",
       "      <td>NaN</td>\n",
       "      <td>8</td>\n",
       "      <td>0.000000</td>\n",
       "      <td>Europe</td>\n",
       "      <td>3.666667</td>\n",
       "      <td>5.000000</td>\n",
       "      <td>5.00</td>\n",
       "      <td>3.00</td>\n",
       "    </tr>\n",
       "    <tr>\n",
       "      <th>20</th>\n",
       "      <td>almeria</td>\n",
       "      <td>Nick Scales</td>\n",
       "      <td>NaN</td>\n",
       "      <td>2005-04-07</td>\n",
       "      <td>Flew to Almeria last December on GB Airways fl...</td>\n",
       "      <td>NaN</td>\n",
       "      <td>NaN</td>\n",
       "      <td>NaN</td>\n",
       "      <td>NaN</td>\n",
       "      <td>0.0</td>\n",
       "      <td>8</td>\n",
       "      <td>0.000000</td>\n",
       "      <td>Europe</td>\n",
       "      <td>3.666667</td>\n",
       "      <td>5.000000</td>\n",
       "      <td>5.00</td>\n",
       "      <td>3.00</td>\n",
       "    </tr>\n",
       "    <tr>\n",
       "      <th>21</th>\n",
       "      <td>almeria</td>\n",
       "      <td>Mark Evans</td>\n",
       "      <td>NaN</td>\n",
       "      <td>2005-03-22</td>\n",
       "      <td>Almeria is now gaining a higher profile having...</td>\n",
       "      <td>NaN</td>\n",
       "      <td>NaN</td>\n",
       "      <td>NaN</td>\n",
       "      <td>NaN</td>\n",
       "      <td>0.0</td>\n",
       "      <td>8</td>\n",
       "      <td>0.000000</td>\n",
       "      <td>Europe</td>\n",
       "      <td>3.666667</td>\n",
       "      <td>5.000000</td>\n",
       "      <td>5.00</td>\n",
       "      <td>3.00</td>\n",
       "    </tr>\n",
       "    <tr>\n",
       "      <th>22</th>\n",
       "      <td>antwerp deurne</td>\n",
       "      <td>C Wajsberg</td>\n",
       "      <td>Israel</td>\n",
       "      <td>2012-10-27</td>\n",
       "      <td>Very small airport with not many destinations ...</td>\n",
       "      <td>10.0</td>\n",
       "      <td>5.0</td>\n",
       "      <td>4.0</td>\n",
       "      <td>4.0</td>\n",
       "      <td>1.0</td>\n",
       "      <td>7</td>\n",
       "      <td>0.250000</td>\n",
       "      <td>Europe</td>\n",
       "      <td>6.250000</td>\n",
       "      <td>5.000000</td>\n",
       "      <td>4.00</td>\n",
       "      <td>4.00</td>\n",
       "    </tr>\n",
       "    <tr>\n",
       "      <th>23</th>\n",
       "      <td>antwerp deurne</td>\n",
       "      <td>S Smith</td>\n",
       "      <td>NaN</td>\n",
       "      <td>2010-05-07</td>\n",
       "      <td>So refreshing to be able to use Duerne instead...</td>\n",
       "      <td>5.0</td>\n",
       "      <td>NaN</td>\n",
       "      <td>NaN</td>\n",
       "      <td>NaN</td>\n",
       "      <td>0.0</td>\n",
       "      <td>7</td>\n",
       "      <td>0.250000</td>\n",
       "      <td>Europe</td>\n",
       "      <td>6.250000</td>\n",
       "      <td>5.000000</td>\n",
       "      <td>4.00</td>\n",
       "      <td>4.00</td>\n",
       "    </tr>\n",
       "    <tr>\n",
       "      <th>24</th>\n",
       "      <td>antwerp deurne</td>\n",
       "      <td>S Smith</td>\n",
       "      <td>NaN</td>\n",
       "      <td>2009-12-20</td>\n",
       "      <td>Fantastic airport. I go in and out at least on...</td>\n",
       "      <td>5.0</td>\n",
       "      <td>NaN</td>\n",
       "      <td>NaN</td>\n",
       "      <td>NaN</td>\n",
       "      <td>0.0</td>\n",
       "      <td>7</td>\n",
       "      <td>0.250000</td>\n",
       "      <td>Europe</td>\n",
       "      <td>6.250000</td>\n",
       "      <td>5.000000</td>\n",
       "      <td>4.00</td>\n",
       "      <td>4.00</td>\n",
       "    </tr>\n",
       "    <tr>\n",
       "      <th>25</th>\n",
       "      <td>antwerp deurne</td>\n",
       "      <td>Karel Hladky</td>\n",
       "      <td>NaN</td>\n",
       "      <td>2008-07-21</td>\n",
       "      <td>What an amazing little airport ! All flights d...</td>\n",
       "      <td>5.0</td>\n",
       "      <td>NaN</td>\n",
       "      <td>NaN</td>\n",
       "      <td>NaN</td>\n",
       "      <td>0.0</td>\n",
       "      <td>7</td>\n",
       "      <td>0.250000</td>\n",
       "      <td>Europe</td>\n",
       "      <td>6.250000</td>\n",
       "      <td>5.000000</td>\n",
       "      <td>4.00</td>\n",
       "      <td>4.00</td>\n",
       "    </tr>\n",
       "    <tr>\n",
       "      <th>26</th>\n",
       "      <td>antwerp deurne</td>\n",
       "      <td>Mark St-Amour</td>\n",
       "      <td>NaN</td>\n",
       "      <td>2008-01-24</td>\n",
       "      <td>Free parking 15 minutes check-in a bar and a d...</td>\n",
       "      <td>NaN</td>\n",
       "      <td>NaN</td>\n",
       "      <td>NaN</td>\n",
       "      <td>4.0</td>\n",
       "      <td>NaN</td>\n",
       "      <td>7</td>\n",
       "      <td>0.250000</td>\n",
       "      <td>Europe</td>\n",
       "      <td>6.250000</td>\n",
       "      <td>5.000000</td>\n",
       "      <td>4.00</td>\n",
       "      <td>4.00</td>\n",
       "    </tr>\n",
       "    <tr>\n",
       "      <th>27</th>\n",
       "      <td>antwerp deurne</td>\n",
       "      <td>H van der Maarel</td>\n",
       "      <td>NaN</td>\n",
       "      <td>2007-04-26</td>\n",
       "      <td>ANR-LCY vv. recently with VLM. Early morning f...</td>\n",
       "      <td>NaN</td>\n",
       "      <td>NaN</td>\n",
       "      <td>NaN</td>\n",
       "      <td>4.0</td>\n",
       "      <td>NaN</td>\n",
       "      <td>7</td>\n",
       "      <td>0.250000</td>\n",
       "      <td>Europe</td>\n",
       "      <td>6.250000</td>\n",
       "      <td>5.000000</td>\n",
       "      <td>4.00</td>\n",
       "      <td>4.00</td>\n",
       "    </tr>\n",
       "    <tr>\n",
       "      <th>28</th>\n",
       "      <td>antwerp deurne</td>\n",
       "      <td>Michael Newport</td>\n",
       "      <td>NaN</td>\n",
       "      <td>2005-08-16</td>\n",
       "      <td>Great airport not many flights so no hassle. F...</td>\n",
       "      <td>NaN</td>\n",
       "      <td>NaN</td>\n",
       "      <td>NaN</td>\n",
       "      <td>NaN</td>\n",
       "      <td>NaN</td>\n",
       "      <td>7</td>\n",
       "      <td>0.250000</td>\n",
       "      <td>Europe</td>\n",
       "      <td>6.250000</td>\n",
       "      <td>5.000000</td>\n",
       "      <td>4.00</td>\n",
       "      <td>4.00</td>\n",
       "    </tr>\n",
       "    <tr>\n",
       "      <th>29</th>\n",
       "      <td>aruba reina beatrix</td>\n",
       "      <td>Barry Vogel</td>\n",
       "      <td>United States</td>\n",
       "      <td>2014-12-31</td>\n",
       "      <td>Arriving was a breeze Luggage came out quickly...</td>\n",
       "      <td>NaN</td>\n",
       "      <td>4.0</td>\n",
       "      <td>NaN</td>\n",
       "      <td>NaN</td>\n",
       "      <td>1.0</td>\n",
       "      <td>9</td>\n",
       "      <td>0.444444</td>\n",
       "      <td>Latin America</td>\n",
       "      <td>4.500000</td>\n",
       "      <td>2.333333</td>\n",
       "      <td>4.20</td>\n",
       "      <td>3.80</td>\n",
       "    </tr>\n",
       "    <tr>\n",
       "      <th>30</th>\n",
       "      <td>aruba reina beatrix</td>\n",
       "      <td>C Gal</td>\n",
       "      <td>United States</td>\n",
       "      <td>2014-07-17</td>\n",
       "      <td>Arrived in Aruba 15 min early only to sit on p...</td>\n",
       "      <td>NaN</td>\n",
       "      <td>2.0</td>\n",
       "      <td>4.0</td>\n",
       "      <td>4.0</td>\n",
       "      <td>1.0</td>\n",
       "      <td>9</td>\n",
       "      <td>0.444444</td>\n",
       "      <td>Latin America</td>\n",
       "      <td>4.500000</td>\n",
       "      <td>2.333333</td>\n",
       "      <td>4.20</td>\n",
       "      <td>3.80</td>\n",
       "    </tr>\n",
       "    <tr>\n",
       "      <th>31</th>\n",
       "      <td>aruba reina beatrix</td>\n",
       "      <td>A Arriens</td>\n",
       "      <td>Netherlands</td>\n",
       "      <td>2013-11-22</td>\n",
       "      <td>Everything went smoothly as expected. Clean ai...</td>\n",
       "      <td>9.0</td>\n",
       "      <td>4.0</td>\n",
       "      <td>5.0</td>\n",
       "      <td>4.0</td>\n",
       "      <td>1.0</td>\n",
       "      <td>9</td>\n",
       "      <td>0.444444</td>\n",
       "      <td>Latin America</td>\n",
       "      <td>4.500000</td>\n",
       "      <td>2.333333</td>\n",
       "      <td>4.20</td>\n",
       "      <td>3.80</td>\n",
       "    </tr>\n",
       "    <tr>\n",
       "      <th>32</th>\n",
       "      <td>aruba reina beatrix</td>\n",
       "      <td>Serge Plyshevski</td>\n",
       "      <td>Canada</td>\n",
       "      <td>2013-01-25</td>\n",
       "      <td>Very long wait for luggage and very slow check...</td>\n",
       "      <td>5.0</td>\n",
       "      <td>2.0</td>\n",
       "      <td>4.0</td>\n",
       "      <td>3.0</td>\n",
       "      <td>0.0</td>\n",
       "      <td>9</td>\n",
       "      <td>0.444444</td>\n",
       "      <td>Latin America</td>\n",
       "      <td>4.500000</td>\n",
       "      <td>2.333333</td>\n",
       "      <td>4.20</td>\n",
       "      <td>3.80</td>\n",
       "    </tr>\n",
       "    <tr>\n",
       "      <th>33</th>\n",
       "      <td>aruba reina beatrix</td>\n",
       "      <td>Whitnye Bivens</td>\n",
       "      <td>United States</td>\n",
       "      <td>2012-09-03</td>\n",
       "      <td>My husband and I arrived at the airport at 2 p...</td>\n",
       "      <td>NaN</td>\n",
       "      <td>1.0</td>\n",
       "      <td>4.0</td>\n",
       "      <td>4.0</td>\n",
       "      <td>1.0</td>\n",
       "      <td>9</td>\n",
       "      <td>0.444444</td>\n",
       "      <td>Latin America</td>\n",
       "      <td>4.500000</td>\n",
       "      <td>2.333333</td>\n",
       "      <td>4.20</td>\n",
       "      <td>3.80</td>\n",
       "    </tr>\n",
       "    <tr>\n",
       "      <th>34</th>\n",
       "      <td>aruba reina beatrix</td>\n",
       "      <td>C Georgelas</td>\n",
       "      <td>United States</td>\n",
       "      <td>2012-02-22</td>\n",
       "      <td>Departed this airport on a flight that was to ...</td>\n",
       "      <td>3.0</td>\n",
       "      <td>1.0</td>\n",
       "      <td>4.0</td>\n",
       "      <td>4.0</td>\n",
       "      <td>0.0</td>\n",
       "      <td>9</td>\n",
       "      <td>0.444444</td>\n",
       "      <td>Latin America</td>\n",
       "      <td>4.500000</td>\n",
       "      <td>2.333333</td>\n",
       "      <td>4.20</td>\n",
       "      <td>3.80</td>\n",
       "    </tr>\n",
       "    <tr>\n",
       "      <th>35</th>\n",
       "      <td>aruba reina beatrix</td>\n",
       "      <td>P Littlefair</td>\n",
       "      <td>NaN</td>\n",
       "      <td>2010-02-26</td>\n",
       "      <td>Seems to be a quite pleasant little airport. I...</td>\n",
       "      <td>4.0</td>\n",
       "      <td>NaN</td>\n",
       "      <td>NaN</td>\n",
       "      <td>NaN</td>\n",
       "      <td>0.0</td>\n",
       "      <td>9</td>\n",
       "      <td>0.444444</td>\n",
       "      <td>Latin America</td>\n",
       "      <td>4.500000</td>\n",
       "      <td>2.333333</td>\n",
       "      <td>4.20</td>\n",
       "      <td>3.80</td>\n",
       "    </tr>\n",
       "    <tr>\n",
       "      <th>36</th>\n",
       "      <td>aruba reina beatrix</td>\n",
       "      <td>B Tromp</td>\n",
       "      <td>NaN</td>\n",
       "      <td>2009-08-20</td>\n",
       "      <td>Nice airport friendly staff. US pre-clearance ...</td>\n",
       "      <td>3.0</td>\n",
       "      <td>NaN</td>\n",
       "      <td>NaN</td>\n",
       "      <td>NaN</td>\n",
       "      <td>0.0</td>\n",
       "      <td>9</td>\n",
       "      <td>0.444444</td>\n",
       "      <td>Latin America</td>\n",
       "      <td>4.500000</td>\n",
       "      <td>2.333333</td>\n",
       "      <td>4.20</td>\n",
       "      <td>3.80</td>\n",
       "    </tr>\n",
       "    <tr>\n",
       "      <th>37</th>\n",
       "      <td>aruba reina beatrix</td>\n",
       "      <td>Andre Souza</td>\n",
       "      <td>NaN</td>\n",
       "      <td>2009-04-29</td>\n",
       "      <td>AUA is a nice airport pre US border control is...</td>\n",
       "      <td>3.0</td>\n",
       "      <td>NaN</td>\n",
       "      <td>NaN</td>\n",
       "      <td>NaN</td>\n",
       "      <td>0.0</td>\n",
       "      <td>9</td>\n",
       "      <td>0.444444</td>\n",
       "      <td>Latin America</td>\n",
       "      <td>4.500000</td>\n",
       "      <td>2.333333</td>\n",
       "      <td>4.20</td>\n",
       "      <td>3.80</td>\n",
       "    </tr>\n",
       "    <tr>\n",
       "      <th>38</th>\n",
       "      <td>banjul</td>\n",
       "      <td>N Stacey</td>\n",
       "      <td>United Kingdom</td>\n",
       "      <td>2011-01-10</td>\n",
       "      <td>I have been travelling to the Gambia for a num...</td>\n",
       "      <td>2.0</td>\n",
       "      <td>1.0</td>\n",
       "      <td>3.0</td>\n",
       "      <td>3.0</td>\n",
       "      <td>0.0</td>\n",
       "      <td>6</td>\n",
       "      <td>0.000000</td>\n",
       "      <td>Africa</td>\n",
       "      <td>2.833333</td>\n",
       "      <td>2.000000</td>\n",
       "      <td>3.00</td>\n",
       "      <td>3.00</td>\n",
       "    </tr>\n",
       "    <tr>\n",
       "      <th>39</th>\n",
       "      <td>banjul</td>\n",
       "      <td>Nigel Stacey</td>\n",
       "      <td>United Kingdom</td>\n",
       "      <td>2010-05-29</td>\n",
       "      <td>I have been travelling to the Gambia for six y...</td>\n",
       "      <td>4.0</td>\n",
       "      <td>3.0</td>\n",
       "      <td>3.0</td>\n",
       "      <td>3.0</td>\n",
       "      <td>0.0</td>\n",
       "      <td>6</td>\n",
       "      <td>0.000000</td>\n",
       "      <td>Africa</td>\n",
       "      <td>2.833333</td>\n",
       "      <td>2.000000</td>\n",
       "      <td>3.00</td>\n",
       "      <td>3.00</td>\n",
       "    </tr>\n",
       "    <tr>\n",
       "      <th>40</th>\n",
       "      <td>banjul</td>\n",
       "      <td>Paul Harvey</td>\n",
       "      <td>NaN</td>\n",
       "      <td>2010-05-25</td>\n",
       "      <td>Just back from the Gambia again most things at...</td>\n",
       "      <td>3.0</td>\n",
       "      <td>NaN</td>\n",
       "      <td>NaN</td>\n",
       "      <td>NaN</td>\n",
       "      <td>0.0</td>\n",
       "      <td>6</td>\n",
       "      <td>0.000000</td>\n",
       "      <td>Africa</td>\n",
       "      <td>2.833333</td>\n",
       "      <td>2.000000</td>\n",
       "      <td>3.00</td>\n",
       "      <td>3.00</td>\n",
       "    </tr>\n",
       "    <tr>\n",
       "      <th>41</th>\n",
       "      <td>banjul</td>\n",
       "      <td>B Lakin</td>\n",
       "      <td>NaN</td>\n",
       "      <td>2009-04-05</td>\n",
       "      <td>A very basic airport. Arrival reasonably speed...</td>\n",
       "      <td>2.0</td>\n",
       "      <td>NaN</td>\n",
       "      <td>NaN</td>\n",
       "      <td>NaN</td>\n",
       "      <td>0.0</td>\n",
       "      <td>6</td>\n",
       "      <td>0.000000</td>\n",
       "      <td>Africa</td>\n",
       "      <td>2.833333</td>\n",
       "      <td>2.000000</td>\n",
       "      <td>3.00</td>\n",
       "      <td>3.00</td>\n",
       "    </tr>\n",
       "    <tr>\n",
       "      <th>42</th>\n",
       "      <td>banjul</td>\n",
       "      <td>P Wilson</td>\n",
       "      <td>NaN</td>\n",
       "      <td>2008-08-15</td>\n",
       "      <td>For a west african country it is quite good wi...</td>\n",
       "      <td>3.0</td>\n",
       "      <td>NaN</td>\n",
       "      <td>NaN</td>\n",
       "      <td>NaN</td>\n",
       "      <td>0.0</td>\n",
       "      <td>6</td>\n",
       "      <td>0.000000</td>\n",
       "      <td>Africa</td>\n",
       "      <td>2.833333</td>\n",
       "      <td>2.000000</td>\n",
       "      <td>3.00</td>\n",
       "      <td>3.00</td>\n",
       "    </tr>\n",
       "    <tr>\n",
       "      <th>43</th>\n",
       "      <td>banjul</td>\n",
       "      <td>Dave Stanley</td>\n",
       "      <td>NaN</td>\n",
       "      <td>2008-03-02</td>\n",
       "      <td>By African standards this is a very good airpo...</td>\n",
       "      <td>3.0</td>\n",
       "      <td>NaN</td>\n",
       "      <td>NaN</td>\n",
       "      <td>NaN</td>\n",
       "      <td>0.0</td>\n",
       "      <td>6</td>\n",
       "      <td>0.000000</td>\n",
       "      <td>Africa</td>\n",
       "      <td>2.833333</td>\n",
       "      <td>2.000000</td>\n",
       "      <td>3.00</td>\n",
       "      <td>3.00</td>\n",
       "    </tr>\n",
       "    <tr>\n",
       "      <th>44</th>\n",
       "      <td>beirut</td>\n",
       "      <td>M Dalton</td>\n",
       "      <td>Switzerland</td>\n",
       "      <td>2015-07-29</td>\n",
       "      <td>You queue for a long time to go through the fi...</td>\n",
       "      <td>NaN</td>\n",
       "      <td>NaN</td>\n",
       "      <td>NaN</td>\n",
       "      <td>NaN</td>\n",
       "      <td>0.0</td>\n",
       "      <td>9</td>\n",
       "      <td>0.333333</td>\n",
       "      <td>Middle-East</td>\n",
       "      <td>5.000000</td>\n",
       "      <td>3.800000</td>\n",
       "      <td>4.25</td>\n",
       "      <td>3.25</td>\n",
       "    </tr>\n",
       "    <tr>\n",
       "      <th>45</th>\n",
       "      <td>beirut</td>\n",
       "      <td>S Fedorak</td>\n",
       "      <td>Lebanon</td>\n",
       "      <td>2015-04-17</td>\n",
       "      <td>Something has to be done about the inefficienc...</td>\n",
       "      <td>NaN</td>\n",
       "      <td>3.0</td>\n",
       "      <td>NaN</td>\n",
       "      <td>NaN</td>\n",
       "      <td>1.0</td>\n",
       "      <td>9</td>\n",
       "      <td>0.333333</td>\n",
       "      <td>Middle-East</td>\n",
       "      <td>5.000000</td>\n",
       "      <td>3.800000</td>\n",
       "      <td>4.25</td>\n",
       "      <td>3.25</td>\n",
       "    </tr>\n",
       "    <tr>\n",
       "      <th>46</th>\n",
       "      <td>beirut</td>\n",
       "      <td>A Milossavlyevich</td>\n",
       "      <td>Serbia</td>\n",
       "      <td>2013-04-21</td>\n",
       "      <td>The best airport in my opinion or at least my ...</td>\n",
       "      <td>9.0</td>\n",
       "      <td>5.0</td>\n",
       "      <td>5.0</td>\n",
       "      <td>5.0</td>\n",
       "      <td>1.0</td>\n",
       "      <td>9</td>\n",
       "      <td>0.333333</td>\n",
       "      <td>Middle-East</td>\n",
       "      <td>5.000000</td>\n",
       "      <td>3.800000</td>\n",
       "      <td>4.25</td>\n",
       "      <td>3.25</td>\n",
       "    </tr>\n",
       "    <tr>\n",
       "      <th>47</th>\n",
       "      <td>beirut</td>\n",
       "      <td>S Robert</td>\n",
       "      <td>United Kingdom</td>\n",
       "      <td>2012-03-19</td>\n",
       "      <td>DXB-BEY. Small airport. Limited facilities. Ru...</td>\n",
       "      <td>NaN</td>\n",
       "      <td>1.0</td>\n",
       "      <td>2.0</td>\n",
       "      <td>2.0</td>\n",
       "      <td>1.0</td>\n",
       "      <td>9</td>\n",
       "      <td>0.333333</td>\n",
       "      <td>Middle-East</td>\n",
       "      <td>5.000000</td>\n",
       "      <td>3.800000</td>\n",
       "      <td>4.25</td>\n",
       "      <td>3.25</td>\n",
       "    </tr>\n",
       "    <tr>\n",
       "      <th>48</th>\n",
       "      <td>beirut</td>\n",
       "      <td>S Markoff</td>\n",
       "      <td>Serbia</td>\n",
       "      <td>2010-10-20</td>\n",
       "      <td>Arriving from SHJ BEY was a very pleasant surp...</td>\n",
       "      <td>5.0</td>\n",
       "      <td>5.0</td>\n",
       "      <td>5.0</td>\n",
       "      <td>3.0</td>\n",
       "      <td>0.0</td>\n",
       "      <td>9</td>\n",
       "      <td>0.333333</td>\n",
       "      <td>Middle-East</td>\n",
       "      <td>5.000000</td>\n",
       "      <td>3.800000</td>\n",
       "      <td>4.25</td>\n",
       "      <td>3.25</td>\n",
       "    </tr>\n",
       "    <tr>\n",
       "      <th>49</th>\n",
       "      <td>beirut</td>\n",
       "      <td>Peter Thackray</td>\n",
       "      <td>United Kingdom</td>\n",
       "      <td>2010-05-26</td>\n",
       "      <td>Arrived in late evening from LHR. Immigration ...</td>\n",
       "      <td>4.0</td>\n",
       "      <td>5.0</td>\n",
       "      <td>5.0</td>\n",
       "      <td>3.0</td>\n",
       "      <td>0.0</td>\n",
       "      <td>9</td>\n",
       "      <td>0.333333</td>\n",
       "      <td>Middle-East</td>\n",
       "      <td>5.000000</td>\n",
       "      <td>3.800000</td>\n",
       "      <td>4.25</td>\n",
       "      <td>3.25</td>\n",
       "    </tr>\n",
       "  </tbody>\n",
       "</table>\n",
       "</div>"
      ],
      "text/plain": [
       "           airport_name              author  author_country        date  \\\n",
       "0                 abuja            Alan Wan  United Kingdom  2012-02-28   \n",
       "1                 abuja              A Cobo   United States  2011-08-08   \n",
       "2                 abuja  Antonio Tettamanzy          Brazil  2011-04-14   \n",
       "3                 abuja          C Stafford             NaN  2010-01-31   \n",
       "4                 abuja      Mark Bickerton             NaN  2009-05-24   \n",
       "5                 abuja           S Adewale             NaN  2007-03-03   \n",
       "6               algiers      Qaddoumi Samar          Kuwait  2013-05-16   \n",
       "7               algiers          R Oussalah          Taiwan  2012-10-10   \n",
       "8               algiers       Mohamed Salah          France  2011-07-27   \n",
       "9               algiers          R Oussalah           Italy  2011-01-19   \n",
       "10              algiers         Mark Wadham             NaN  2010-05-26   \n",
       "11              algiers            M Fadjar             NaN  2009-10-12   \n",
       "12              algiers         Reyad Kesri             NaN  2009-06-03   \n",
       "13              algiers            S Farooq             NaN  2007-04-03   \n",
       "14              almeria         Stuart Ward  United Kingdom  2011-07-10   \n",
       "15              almeria         Stuart Ward             NaN  2010-10-24   \n",
       "16              almeria         Susan Davis             NaN  2007-07-18   \n",
       "17              almeria           S William             NaN  2007-03-25   \n",
       "18              almeria    Dan Thorneycroft             NaN  2006-08-25   \n",
       "19              almeria         Mohd Kastor             NaN  2006-05-31   \n",
       "20              almeria         Nick Scales             NaN  2005-04-07   \n",
       "21              almeria          Mark Evans             NaN  2005-03-22   \n",
       "22       antwerp deurne          C Wajsberg          Israel  2012-10-27   \n",
       "23       antwerp deurne             S Smith             NaN  2010-05-07   \n",
       "24       antwerp deurne             S Smith             NaN  2009-12-20   \n",
       "25       antwerp deurne        Karel Hladky             NaN  2008-07-21   \n",
       "26       antwerp deurne       Mark St-Amour             NaN  2008-01-24   \n",
       "27       antwerp deurne    H van der Maarel             NaN  2007-04-26   \n",
       "28       antwerp deurne     Michael Newport             NaN  2005-08-16   \n",
       "29  aruba reina beatrix         Barry Vogel   United States  2014-12-31   \n",
       "30  aruba reina beatrix               C Gal   United States  2014-07-17   \n",
       "31  aruba reina beatrix           A Arriens     Netherlands  2013-11-22   \n",
       "32  aruba reina beatrix    Serge Plyshevski          Canada  2013-01-25   \n",
       "33  aruba reina beatrix      Whitnye Bivens   United States  2012-09-03   \n",
       "34  aruba reina beatrix         C Georgelas   United States  2012-02-22   \n",
       "35  aruba reina beatrix        P Littlefair             NaN  2010-02-26   \n",
       "36  aruba reina beatrix             B Tromp             NaN  2009-08-20   \n",
       "37  aruba reina beatrix         Andre Souza             NaN  2009-04-29   \n",
       "38               banjul            N Stacey  United Kingdom  2011-01-10   \n",
       "39               banjul        Nigel Stacey  United Kingdom  2010-05-29   \n",
       "40               banjul         Paul Harvey             NaN  2010-05-25   \n",
       "41               banjul             B Lakin             NaN  2009-04-05   \n",
       "42               banjul            P Wilson             NaN  2008-08-15   \n",
       "43               banjul        Dave Stanley             NaN  2008-03-02   \n",
       "44               beirut            M Dalton     Switzerland  2015-07-29   \n",
       "45               beirut           S Fedorak         Lebanon  2015-04-17   \n",
       "46               beirut   A Milossavlyevich          Serbia  2013-04-21   \n",
       "47               beirut            S Robert  United Kingdom  2012-03-19   \n",
       "48               beirut           S Markoff          Serbia  2010-10-20   \n",
       "49               beirut      Peter Thackray  United Kingdom  2010-05-26   \n",
       "\n",
       "                                              content  experience_airport  \\\n",
       "0   On arrival as we flew Business Class we were n...                 6.0   \n",
       "1   Abuja international arrivals greets you with a...                 2.0   \n",
       "2   It was better than expected but can be quite m...                 3.0   \n",
       "3   Upon arrival from Amsterdam on KLM I went to u...                 2.0   \n",
       "4   The international terminal is nice and quite w...                 NaN   \n",
       "5   In Nigerian standards relatively clean and org...                 NaN   \n",
       "6   Algiers airport is huge and clean but I did no...                 5.0   \n",
       "7   This is the first time in over a year I used t...                 7.0   \n",
       "8   Good airport international terminal T1 is nice...                 4.0   \n",
       "9   For departures Algiers new airport is fairly s...                 NaN   \n",
       "10  The airport building in itself is fairly attra...                 NaN   \n",
       "11  Algiers airport has improved a lot lately espe...                 3.0   \n",
       "12  Algiers new terminal is up to international st...                 4.0   \n",
       "13  Inbound no hassles and after claiming baggage ...                 NaN   \n",
       "14  Interesting to see the airport since last year...                 4.0   \n",
       "15  Arrival okay queue to go through passport was ...                 4.0   \n",
       "16  I found the airport to be more than adequate. ...                 3.0   \n",
       "17  Almeria was unfortunately not built to handle ...                 NaN   \n",
       "18  Reading some of the other reports of Almeria a...                 NaN   \n",
       "19  A small airport with limited but more than eno...                 NaN   \n",
       "20  Flew to Almeria last December on GB Airways fl...                 NaN   \n",
       "21  Almeria is now gaining a higher profile having...                 NaN   \n",
       "22  Very small airport with not many destinations ...                10.0   \n",
       "23  So refreshing to be able to use Duerne instead...                 5.0   \n",
       "24  Fantastic airport. I go in and out at least on...                 5.0   \n",
       "25  What an amazing little airport ! All flights d...                 5.0   \n",
       "26  Free parking 15 minutes check-in a bar and a d...                 NaN   \n",
       "27  ANR-LCY vv. recently with VLM. Early morning f...                 NaN   \n",
       "28  Great airport not many flights so no hassle. F...                 NaN   \n",
       "29  Arriving was a breeze Luggage came out quickly...                 NaN   \n",
       "30  Arrived in Aruba 15 min early only to sit on p...                 NaN   \n",
       "31  Everything went smoothly as expected. Clean ai...                 9.0   \n",
       "32  Very long wait for luggage and very slow check...                 5.0   \n",
       "33  My husband and I arrived at the airport at 2 p...                 NaN   \n",
       "34  Departed this airport on a flight that was to ...                 3.0   \n",
       "35  Seems to be a quite pleasant little airport. I...                 4.0   \n",
       "36  Nice airport friendly staff. US pre-clearance ...                 3.0   \n",
       "37  AUA is a nice airport pre US border control is...                 3.0   \n",
       "38  I have been travelling to the Gambia for a num...                 2.0   \n",
       "39  I have been travelling to the Gambia for six y...                 4.0   \n",
       "40  Just back from the Gambia again most things at...                 3.0   \n",
       "41  A very basic airport. Arrival reasonably speed...                 2.0   \n",
       "42  For a west african country it is quite good wi...                 3.0   \n",
       "43  By African standards this is a very good airpo...                 3.0   \n",
       "44  You queue for a long time to go through the fi...                 NaN   \n",
       "45  Something has to be done about the inefficienc...                 NaN   \n",
       "46  The best airport in my opinion or at least my ...                 9.0   \n",
       "47  DXB-BEY. Small airport. Limited facilities. Ru...                 NaN   \n",
       "48  Arriving from SHJ BEY was a very pleasant surp...                 5.0   \n",
       "49  Arrived in late evening from LHR. Immigration ...                 4.0   \n",
       "\n",
       "    overall_rating  terminal_cleanliness_rating  terminal_seating_rating  \\\n",
       "0              2.0                          3.0                      1.0   \n",
       "1              1.0                          3.0                      1.0   \n",
       "2              3.0                          3.0                      1.0   \n",
       "3              NaN                          NaN                      NaN   \n",
       "4              NaN                          NaN                      2.0   \n",
       "5              NaN                          NaN                      NaN   \n",
       "6              4.0                          5.0                      3.0   \n",
       "7              4.0                          5.0                      3.0   \n",
       "8              5.0                          5.0                      5.0   \n",
       "9              NaN                          NaN                      NaN   \n",
       "10             NaN                          NaN                      3.0   \n",
       "11             NaN                          NaN                      NaN   \n",
       "12             NaN                          NaN                      NaN   \n",
       "13             NaN                          NaN                      NaN   \n",
       "14             5.0                          5.0                      3.0   \n",
       "15             NaN                          NaN                      NaN   \n",
       "16             NaN                          NaN                      NaN   \n",
       "17             NaN                          NaN                      NaN   \n",
       "18             NaN                          NaN                      NaN   \n",
       "19             NaN                          NaN                      NaN   \n",
       "20             NaN                          NaN                      NaN   \n",
       "21             NaN                          NaN                      NaN   \n",
       "22             5.0                          4.0                      4.0   \n",
       "23             NaN                          NaN                      NaN   \n",
       "24             NaN                          NaN                      NaN   \n",
       "25             NaN                          NaN                      NaN   \n",
       "26             NaN                          NaN                      4.0   \n",
       "27             NaN                          NaN                      4.0   \n",
       "28             NaN                          NaN                      NaN   \n",
       "29             4.0                          NaN                      NaN   \n",
       "30             2.0                          4.0                      4.0   \n",
       "31             4.0                          5.0                      4.0   \n",
       "32             2.0                          4.0                      3.0   \n",
       "33             1.0                          4.0                      4.0   \n",
       "34             1.0                          4.0                      4.0   \n",
       "35             NaN                          NaN                      NaN   \n",
       "36             NaN                          NaN                      NaN   \n",
       "37             NaN                          NaN                      NaN   \n",
       "38             1.0                          3.0                      3.0   \n",
       "39             3.0                          3.0                      3.0   \n",
       "40             NaN                          NaN                      NaN   \n",
       "41             NaN                          NaN                      NaN   \n",
       "42             NaN                          NaN                      NaN   \n",
       "43             NaN                          NaN                      NaN   \n",
       "44             NaN                          NaN                      NaN   \n",
       "45             3.0                          NaN                      NaN   \n",
       "46             5.0                          5.0                      5.0   \n",
       "47             1.0                          2.0                      2.0   \n",
       "48             5.0                          5.0                      3.0   \n",
       "49             5.0                          5.0                      3.0   \n",
       "\n",
       "    recommended  count  recommended_mean       geo_area  \\\n",
       "0           0.0      6          0.000000         Africa   \n",
       "1           0.0      6          0.000000         Africa   \n",
       "2           0.0      6          0.000000         Africa   \n",
       "3           0.0      6          0.000000         Africa   \n",
       "4           0.0      6          0.000000         Africa   \n",
       "5           0.0      6          0.000000         Africa   \n",
       "6           0.0      8          0.166667         Africa   \n",
       "7           1.0      8          0.166667         Africa   \n",
       "8           0.0      8          0.166667         Africa   \n",
       "9           NaN      8          0.166667         Africa   \n",
       "10          NaN      8          0.166667         Africa   \n",
       "11          0.0      8          0.166667         Africa   \n",
       "12          0.0      8          0.166667         Africa   \n",
       "13          0.0      8          0.166667         Africa   \n",
       "14          0.0      8          0.000000         Europe   \n",
       "15          0.0      8          0.000000         Europe   \n",
       "16          0.0      8          0.000000         Europe   \n",
       "17          0.0      8          0.000000         Europe   \n",
       "18          0.0      8          0.000000         Europe   \n",
       "19          NaN      8          0.000000         Europe   \n",
       "20          0.0      8          0.000000         Europe   \n",
       "21          0.0      8          0.000000         Europe   \n",
       "22          1.0      7          0.250000         Europe   \n",
       "23          0.0      7          0.250000         Europe   \n",
       "24          0.0      7          0.250000         Europe   \n",
       "25          0.0      7          0.250000         Europe   \n",
       "26          NaN      7          0.250000         Europe   \n",
       "27          NaN      7          0.250000         Europe   \n",
       "28          NaN      7          0.250000         Europe   \n",
       "29          1.0      9          0.444444  Latin America   \n",
       "30          1.0      9          0.444444  Latin America   \n",
       "31          1.0      9          0.444444  Latin America   \n",
       "32          0.0      9          0.444444  Latin America   \n",
       "33          1.0      9          0.444444  Latin America   \n",
       "34          0.0      9          0.444444  Latin America   \n",
       "35          0.0      9          0.444444  Latin America   \n",
       "36          0.0      9          0.444444  Latin America   \n",
       "37          0.0      9          0.444444  Latin America   \n",
       "38          0.0      6          0.000000         Africa   \n",
       "39          0.0      6          0.000000         Africa   \n",
       "40          0.0      6          0.000000         Africa   \n",
       "41          0.0      6          0.000000         Africa   \n",
       "42          0.0      6          0.000000         Africa   \n",
       "43          0.0      6          0.000000         Africa   \n",
       "44          0.0      9          0.333333    Middle-East   \n",
       "45          1.0      9          0.333333    Middle-East   \n",
       "46          1.0      9          0.333333    Middle-East   \n",
       "47          1.0      9          0.333333    Middle-East   \n",
       "48          0.0      9          0.333333    Middle-East   \n",
       "49          0.0      9          0.333333    Middle-East   \n",
       "\n",
       "    mean_experience_airport  mean_overall_rating  \\\n",
       "0                  3.250000             2.000000   \n",
       "1                  3.250000             2.000000   \n",
       "2                  3.250000             2.000000   \n",
       "3                  3.250000             2.000000   \n",
       "4                  3.250000             2.000000   \n",
       "5                  3.250000             2.000000   \n",
       "6                  4.600000             4.333333   \n",
       "7                  4.600000             4.333333   \n",
       "8                  4.600000             4.333333   \n",
       "9                  4.600000             4.333333   \n",
       "10                 4.600000             4.333333   \n",
       "11                 4.600000             4.333333   \n",
       "12                 4.600000             4.333333   \n",
       "13                 4.600000             4.333333   \n",
       "14                 3.666667             5.000000   \n",
       "15                 3.666667             5.000000   \n",
       "16                 3.666667             5.000000   \n",
       "17                 3.666667             5.000000   \n",
       "18                 3.666667             5.000000   \n",
       "19                 3.666667             5.000000   \n",
       "20                 3.666667             5.000000   \n",
       "21                 3.666667             5.000000   \n",
       "22                 6.250000             5.000000   \n",
       "23                 6.250000             5.000000   \n",
       "24                 6.250000             5.000000   \n",
       "25                 6.250000             5.000000   \n",
       "26                 6.250000             5.000000   \n",
       "27                 6.250000             5.000000   \n",
       "28                 6.250000             5.000000   \n",
       "29                 4.500000             2.333333   \n",
       "30                 4.500000             2.333333   \n",
       "31                 4.500000             2.333333   \n",
       "32                 4.500000             2.333333   \n",
       "33                 4.500000             2.333333   \n",
       "34                 4.500000             2.333333   \n",
       "35                 4.500000             2.333333   \n",
       "36                 4.500000             2.333333   \n",
       "37                 4.500000             2.333333   \n",
       "38                 2.833333             2.000000   \n",
       "39                 2.833333             2.000000   \n",
       "40                 2.833333             2.000000   \n",
       "41                 2.833333             2.000000   \n",
       "42                 2.833333             2.000000   \n",
       "43                 2.833333             2.000000   \n",
       "44                 5.000000             3.800000   \n",
       "45                 5.000000             3.800000   \n",
       "46                 5.000000             3.800000   \n",
       "47                 5.000000             3.800000   \n",
       "48                 5.000000             3.800000   \n",
       "49                 5.000000             3.800000   \n",
       "\n",
       "    mean_terminal_cleanliness_rating  mean_terminal_seating_rating  \n",
       "0                               3.00                          1.25  \n",
       "1                               3.00                          1.25  \n",
       "2                               3.00                          1.25  \n",
       "3                               3.00                          1.25  \n",
       "4                               3.00                          1.25  \n",
       "5                               3.00                          1.25  \n",
       "6                               5.00                          3.50  \n",
       "7                               5.00                          3.50  \n",
       "8                               5.00                          3.50  \n",
       "9                               5.00                          3.50  \n",
       "10                              5.00                          3.50  \n",
       "11                              5.00                          3.50  \n",
       "12                              5.00                          3.50  \n",
       "13                              5.00                          3.50  \n",
       "14                              5.00                          3.00  \n",
       "15                              5.00                          3.00  \n",
       "16                              5.00                          3.00  \n",
       "17                              5.00                          3.00  \n",
       "18                              5.00                          3.00  \n",
       "19                              5.00                          3.00  \n",
       "20                              5.00                          3.00  \n",
       "21                              5.00                          3.00  \n",
       "22                              4.00                          4.00  \n",
       "23                              4.00                          4.00  \n",
       "24                              4.00                          4.00  \n",
       "25                              4.00                          4.00  \n",
       "26                              4.00                          4.00  \n",
       "27                              4.00                          4.00  \n",
       "28                              4.00                          4.00  \n",
       "29                              4.20                          3.80  \n",
       "30                              4.20                          3.80  \n",
       "31                              4.20                          3.80  \n",
       "32                              4.20                          3.80  \n",
       "33                              4.20                          3.80  \n",
       "34                              4.20                          3.80  \n",
       "35                              4.20                          3.80  \n",
       "36                              4.20                          3.80  \n",
       "37                              4.20                          3.80  \n",
       "38                              3.00                          3.00  \n",
       "39                              3.00                          3.00  \n",
       "40                              3.00                          3.00  \n",
       "41                              3.00                          3.00  \n",
       "42                              3.00                          3.00  \n",
       "43                              3.00                          3.00  \n",
       "44                              4.25                          3.25  \n",
       "45                              4.25                          3.25  \n",
       "46                              4.25                          3.25  \n",
       "47                              4.25                          3.25  \n",
       "48                              4.25                          3.25  \n",
       "49                              4.25                          3.25  "
      ]
     },
     "execution_count": 63,
     "metadata": {},
     "output_type": "execute_result"
    }
   ],
   "source": [
    "# Function to categorize airports into the three circles\n",
    "def categorize_airports(row):\n",
    "    if (row['recommended_mean'] < 0.1 and row['overall_rating'] < 1.0 and row['experience_airport'] < 3):\n",
    "        return 'Circle 5'\n",
    "    elif (0.1 <= row['recommended_mean'] <= 0.4 and 2.0 <= row['overall_rating'] <= 3.0 and 3 <= row['experience_airport'] <= 6):\n",
    "        return 'Circle 2'\n",
    "    elif (row['recommended_mean'] > 0.4 and row['overall_rating'] > 3.0 and row['experience_airport'] > 6):\n",
    "        return 'Circle 3'\n",
    "    else:\n",
    "        return 'Circle 1'  # In case any row does not fit the above criteria\n",
    "\n",
    "# Apply the categorization function to the DataFrame\n",
    "small_not_na['circle'] = small_not_na.apply(categorize_airports, axis=1)\n",
    "\n",
    "# View the result\n",
    "small.head(50)"
   ]
  },
  {
   "cell_type": "code",
   "execution_count": 64,
   "metadata": {},
   "outputs": [
    {
     "name": "stdout",
     "output_type": "stream",
     "text": [
      "circle\n",
      "Circle 1    170\n",
      "Circle 3     64\n",
      "Circle 2     18\n",
      "Name: count, dtype: int64\n"
     ]
    }
   ],
   "source": [
    "print(small_not_na['circle'].value_counts())"
   ]
  },
  {
   "cell_type": "code",
   "execution_count": 65,
   "metadata": {},
   "outputs": [
    {
     "data": {
      "application/vnd.plotly.v1+json": {
       "config": {
        "plotlyServerURL": "https://plot.ly"
       },
       "data": [
        {
         "customdata": [
          [
           "abuja"
          ],
          [
           "abuja"
          ],
          [
           "abuja"
          ],
          [
           "algiers"
          ],
          [
           "algiers"
          ],
          [
           "algiers"
          ],
          [
           "almeria"
          ],
          [
           "antwerp deurne"
          ],
          [
           "aruba reina beatrix"
          ],
          [
           "aruba reina beatrix"
          ],
          [
           "banjul"
          ],
          [
           "banjul"
          ],
          [
           "beirut"
          ],
          [
           "beirut"
          ],
          [
           "beirut"
          ],
          [
           "belo horizonte confins"
          ],
          [
           "belo horizonte confins"
          ],
          [
           "belo horizonte confins"
          ],
          [
           "belo horizonte confins"
          ],
          [
           "billund"
          ],
          [
           "bourgas"
          ],
          [
           "brasilia"
          ],
          [
           "brasilia"
          ],
          [
           "carcassonne"
          ],
          [
           "carcassonne"
          ],
          [
           "chengdu"
          ],
          [
           "chengdu"
          ],
          [
           "clark"
          ],
          [
           "clark"
          ],
          [
           "clark"
          ],
          [
           "clark"
          ],
          [
           "coimbatore"
          ],
          [
           "crown point tobago"
          ],
          [
           "curacao"
          ],
          [
           "dortmund"
          ],
          [
           "dortmund"
          ],
          [
           "dubrovnik"
          ],
          [
           "dubrovnik"
          ],
          [
           "durban"
          ],
          [
           "durban"
          ],
          [
           "durhamtees valley"
          ],
          [
           "ercan"
          ],
          [
           "ercan"
          ],
          [
           "fort myers"
          ],
          [
           "fort myers"
          ],
          [
           "freetown"
          ],
          [
           "fuerteventura"
          ],
          [
           "gibraltar"
          ],
          [
           "gibraltar"
          ],
          [
           "gibraltar"
          ],
          [
           "granada"
          ],
          [
           "guayaquil"
          ],
          [
           "guayaquil"
          ],
          [
           "guayaquil"
          ],
          [
           "guayaquil"
          ],
          [
           "guayaquil"
          ],
          [
           "guernsey"
          ],
          [
           "hartford"
          ],
          [
           "hartford"
          ],
          [
           "hilo"
          ],
          [
           "hilo"
          ],
          [
           "hilo"
          ],
          [
           "hobart"
          ],
          [
           "holguin"
          ],
          [
           "humberside"
          ],
          [
           "humberside"
          ],
          [
           "humberside"
          ],
          [
           "humberside"
          ],
          [
           "hurghada"
          ],
          [
           "hurghada"
          ],
          [
           "indianapolis"
          ],
          [
           "indianapolis"
          ],
          [
           "jacksonville"
          ],
          [
           "jacksonville"
          ],
          [
           "jacksonville"
          ],
          [
           "john wayne"
          ],
          [
           "john wayne"
          ],
          [
           "katowice"
          ],
          [
           "katowice"
          ],
          [
           "kilimanjaro"
          ],
          [
           "kilimanjaro"
          ],
          [
           "kilimanjaro"
          ],
          [
           "kota kinabalu"
          ],
          [
           "kota kinabalu"
          ],
          [
           "kunming"
          ],
          [
           "kunming"
          ],
          [
           "launceston"
          ],
          [
           "launceston"
          ],
          [
           "leipzighalle"
          ],
          [
           "long beach"
          ],
          [
           "long island macarthur"
          ],
          [
           "lusaka"
          ],
          [
           "mahon"
          ],
          [
           "mahon"
          ],
          [
           "manaus"
          ],
          [
           "medan"
          ],
          [
           "medan"
          ],
          [
           "medan"
          ],
          [
           "memphis"
          ],
          [
           "memphis"
          ],
          [
           "milwaukee"
          ],
          [
           "mombasa"
          ],
          [
           "mombasa"
          ],
          [
           "monastir"
          ],
          [
           "nashville"
          ],
          [
           "nashville"
          ],
          [
           "perpignan"
          ],
          [
           "perpignan"
          ],
          [
           "perpignan"
          ],
          [
           "ponta delgada"
          ],
          [
           "ponta delgada"
          ],
          [
           "pristina"
          ],
          [
           "pristina"
          ],
          [
           "qingdao"
          ],
          [
           "qingdao"
          ],
          [
           "qingdao"
          ],
          [
           "qingdao"
          ],
          [
           "qingdao"
          ],
          [
           "quito mariscal"
          ],
          [
           "quito mariscal"
          ],
          [
           "quito mariscal"
          ],
          [
           "recife"
          ],
          [
           "recife"
          ],
          [
           "sacramento"
          ],
          [
           "santo domingo"
          ],
          [
           "santo domingo"
          ],
          [
           "santo domingo"
          ],
          [
           "sao paulo congonhas"
          ],
          [
           "sao paulo congonhas"
          ],
          [
           "sapporo chitose"
          ],
          [
           "sapporo chitose"
          ],
          [
           "sapporo chitose"
          ],
          [
           "sarajevo"
          ],
          [
           "seoul gimpo"
          ],
          [
           "seville"
          ],
          [
           "seychelles"
          ],
          [
           "sharjah"
          ],
          [
           "sharjah"
          ],
          [
           "shenyang"
          ],
          [
           "skopje"
          ],
          [
           "skopje"
          ],
          [
           "skopje"
          ],
          [
           "stockholm vasteras"
          ],
          [
           "subang kuala lumpur"
          ],
          [
           "subang kuala lumpur"
          ],
          [
           "subang kuala lumpur"
          ],
          [
           "subang kuala lumpur"
          ],
          [
           "tehran mehrabad"
          ],
          [
           "tehran mehrabad"
          ],
          [
           "tirana"
          ],
          [
           "tirana"
          ],
          [
           "tontouta"
          ],
          [
           "tontouta"
          ],
          [
           "trieste"
          ],
          [
           "tromso"
          ],
          [
           "vnukovo"
          ],
          [
           "vnukovo"
          ],
          [
           "waterford"
          ],
          [
           "windhoek"
          ],
          [
           "wroclaw strachowice"
          ],
          [
           "xian xianyang"
          ],
          [
           "xian xianyang"
          ],
          [
           "xian xianyang"
          ],
          [
           "xian xianyang"
          ],
          [
           "xiamen"
          ],
          [
           "xiamen"
          ],
          [
           "yogyakarta"
          ],
          [
           "yogyakarta"
          ],
          [
           "zanzibar"
          ],
          [
           "zanzibar"
          ]
         ],
         "hovertemplate": "circle=Circle 1<br>Rating=%{x}<br>Exp=%{y}<br>Recommended=%{z}<br>airport_name=%{customdata[0]}<extra></extra>",
         "legendgroup": "Circle 1",
         "marker": {
          "color": "#636efa",
          "symbol": "circle"
         },
         "mode": "markers",
         "name": "Circle 1",
         "scene": "scene",
         "showlegend": true,
         "type": "scatter3d",
         "x": [
          2,
          1,
          3,
          4,
          4,
          5,
          5,
          5,
          2,
          1,
          1,
          3,
          5,
          5,
          5,
          3,
          3,
          5,
          5,
          2,
          4,
          1,
          5,
          5,
          5,
          5,
          3,
          4,
          3,
          4,
          2,
          3,
          3,
          2,
          4,
          4,
          4,
          5,
          5,
          5,
          3,
          4,
          1,
          3,
          3,
          4,
          5,
          5,
          5,
          4,
          4,
          5,
          1,
          3,
          3,
          5,
          5,
          5,
          5,
          5,
          5,
          5,
          5,
          1,
          5,
          5,
          5,
          5,
          3,
          3,
          5,
          5,
          5,
          5,
          5,
          5,
          3,
          3,
          3,
          3,
          5,
          5,
          5,
          4,
          3,
          3,
          4,
          4,
          5,
          5,
          5,
          5,
          5,
          4,
          3,
          2,
          4,
          4,
          1,
          3,
          5,
          1,
          4,
          1,
          4,
          5,
          3,
          3,
          4,
          4,
          4,
          5,
          4,
          5,
          3,
          5,
          4,
          5,
          1,
          4,
          1,
          5,
          5,
          5,
          5,
          5,
          4,
          4,
          5,
          1,
          5,
          5,
          5,
          4,
          4,
          5,
          5,
          1,
          5,
          3,
          4,
          5,
          5,
          5,
          5,
          5,
          5,
          5,
          3,
          5,
          3,
          5,
          4,
          3,
          3,
          4,
          5,
          5,
          3,
          5,
          1,
          1,
          4,
          4,
          3,
          5,
          3,
          5,
          2,
          1
         ],
         "y": [
          6,
          2,
          3,
          5,
          7,
          4,
          4,
          10,
          5,
          3,
          2,
          4,
          9,
          5,
          4,
          4,
          5,
          3,
          4,
          3,
          3,
          3,
          6,
          8,
          8,
          5,
          9,
          6,
          3,
          5,
          6,
          2,
          7,
          7,
          8,
          8,
          8,
          5,
          9,
          5,
          3,
          8,
          5,
          8,
          3,
          8,
          5,
          10,
          6,
          5,
          8,
          5,
          2,
          3,
          4,
          4,
          4,
          9,
          5,
          7,
          5,
          4,
          10,
          5,
          9,
          10,
          4,
          5,
          7,
          7,
          5,
          4,
          10,
          5,
          5,
          9,
          8,
          9,
          9,
          4,
          5,
          4,
          8,
          2,
          4,
          4,
          8,
          8,
          8,
          7,
          10,
          3,
          10,
          10,
          2,
          2,
          6,
          2,
          5,
          3,
          5,
          2,
          6,
          4,
          9,
          10,
          3,
          5,
          5,
          6,
          10,
          10,
          7,
          10,
          2,
          9,
          6,
          5,
          4,
          5,
          7,
          10,
          5,
          2,
          10,
          9,
          9,
          5,
          4,
          7,
          5,
          4,
          4,
          7,
          9,
          8,
          8,
          2,
          6,
          2,
          8,
          10,
          10,
          8,
          3,
          5,
          5,
          3,
          3,
          10,
          9,
          10,
          9,
          2,
          5,
          3,
          10,
          9,
          8,
          4,
          3,
          6,
          8,
          7,
          8,
          5,
          2,
          8,
          2,
          2
         ],
         "z": [
          0,
          0,
          0,
          0.16666666666666666,
          0.16666666666666666,
          0.16666666666666666,
          0,
          0.25,
          0.4444444444444444,
          0.4444444444444444,
          0,
          0,
          0.3333333333333333,
          0.3333333333333333,
          0.3333333333333333,
          0,
          0,
          0,
          0,
          0.8333333333333334,
          0.3333333333333333,
          0.1111111111111111,
          0.1111111111111111,
          0.2857142857142857,
          0.2857142857142857,
          0.8,
          0.8,
          1,
          1,
          1,
          1,
          0.4,
          1,
          0.4,
          0.25,
          0.25,
          0.14285714285714285,
          0.14285714285714285,
          0.125,
          0.125,
          0,
          0.14285714285714285,
          0.14285714285714285,
          0.7777777777777778,
          0.7777777777777778,
          0.14285714285714285,
          0.5555555555555556,
          0.375,
          0.375,
          0.375,
          0.16666666666666666,
          0,
          0,
          0,
          0,
          0,
          0.5714285714285714,
          0.125,
          0.125,
          0.2,
          0.2,
          0.2,
          0.125,
          0.2,
          0.3333333333333333,
          0.3333333333333333,
          0.3333333333333333,
          0.3333333333333333,
          0.6,
          0.6,
          0,
          0,
          0.2,
          0.2,
          0.2,
          0.3333333333333333,
          0.3333333333333333,
          0.8333333333333334,
          0.8333333333333334,
          0,
          0,
          0,
          0.25,
          0.25,
          0.8,
          0.8,
          0.4,
          0.4,
          0.25,
          0.25,
          0.14285714285714285,
          0,
          0.25,
          0.25,
          0,
          0.75,
          0.75,
          0.75,
          0.42857142857142855,
          0.42857142857142855,
          0.5714285714285714,
          0.5555555555555556,
          0.5555555555555556,
          0.2857142857142857,
          0.4,
          0.4,
          0,
          0,
          0,
          0.3333333333333333,
          0.3333333333333333,
          0.25,
          0.25,
          0.2857142857142857,
          0.2857142857142857,
          0.2857142857142857,
          0.2857142857142857,
          0.2857142857142857,
          0.3333333333333333,
          0.3333333333333333,
          0.3333333333333333,
          0.2,
          0.2,
          0.625,
          0.375,
          0.375,
          0.375,
          0.2,
          0.2,
          0.42857142857142855,
          0.42857142857142855,
          0.42857142857142855,
          0,
          0.375,
          0.1111111111111111,
          0.4,
          0.4,
          0.4,
          0.7142857142857143,
          0.4,
          0.4,
          0.4,
          0.25,
          0.2,
          0.2,
          0.2,
          0.2,
          0,
          0,
          0.2857142857142857,
          0.2857142857142857,
          0.2857142857142857,
          0.2857142857142857,
          0,
          1,
          0.3333333333333333,
          0.3333333333333333,
          0.2,
          0.16666666666666666,
          0.7142857142857143,
          0.25,
          0.25,
          0.25,
          0.25,
          0.4444444444444444,
          0.4444444444444444,
          0.14285714285714285,
          0.14285714285714285,
          0.2,
          0.2
         ]
        },
        {
         "customdata": [
          [
           "aruba reina beatrix"
          ],
          [
           "chengdu"
          ],
          [
           "clark"
          ],
          [
           "clark"
          ],
          [
           "colorado springs"
          ],
          [
           "columbus"
          ],
          [
           "columbus"
          ],
          [
           "entebbe"
          ],
          [
           "entebbe"
          ],
          [
           "entebbe"
          ],
          [
           "fort myers"
          ],
          [
           "fort myers"
          ],
          [
           "fort myers"
          ],
          [
           "fort myers"
          ],
          [
           "fort myers"
          ],
          [
           "fort myers"
          ],
          [
           "fuerteventura"
          ],
          [
           "fuerteventura"
          ],
          [
           "fuerteventura"
          ],
          [
           "fuerteventura"
          ],
          [
           "guernsey"
          ],
          [
           "guernsey"
          ],
          [
           "hangzhou"
          ],
          [
           "hangzhou"
          ],
          [
           "hangzhou"
          ],
          [
           "katowice"
          ],
          [
           "katowice"
          ],
          [
           "katowice"
          ],
          [
           "kunming"
          ],
          [
           "kunming"
          ],
          [
           "medan"
          ],
          [
           "medan"
          ],
          [
           "medan"
          ],
          [
           "medan"
          ],
          [
           "memphis"
          ],
          [
           "memphis"
          ],
          [
           "milwaukee"
          ],
          [
           "milwaukee"
          ],
          [
           "milwaukee"
          ],
          [
           "milwaukee"
          ],
          [
           "mombasa"
          ],
          [
           "poznan"
          ],
          [
           "sacramento"
          ],
          [
           "sacramento"
          ],
          [
           "sacramento"
          ],
          [
           "sacramento"
          ],
          [
           "salzburg"
          ],
          [
           "salzburg"
          ],
          [
           "sapporo chitose"
          ],
          [
           "shenyang"
          ],
          [
           "shenyang"
          ],
          [
           "tromso"
          ],
          [
           "tromso"
          ],
          [
           "vientiane"
          ],
          [
           "vientiane"
          ],
          [
           "vientiane"
          ],
          [
           "vientiane"
          ],
          [
           "wroclaw strachowice"
          ],
          [
           "wroclaw strachowice"
          ],
          [
           "wroclaw strachowice"
          ],
          [
           "wroclaw strachowice"
          ],
          [
           "wroclaw strachowice"
          ],
          [
           "xiamen"
          ],
          [
           "xiamen"
          ]
         ],
         "hovertemplate": "circle=Circle 3<br>Rating=%{x}<br>Exp=%{y}<br>Recommended=%{z}<br>airport_name=%{customdata[0]}<extra></extra>",
         "legendgroup": "Circle 3",
         "marker": {
          "color": "#EF553B",
          "symbol": "circle"
         },
         "mode": "markers",
         "name": "Circle 3",
         "scene": "scene",
         "showlegend": true,
         "type": "scatter3d",
         "x": [
          4,
          4,
          5,
          4,
          5,
          5,
          5,
          4,
          4,
          5,
          5,
          4,
          5,
          5,
          5,
          5,
          4,
          4,
          4,
          4,
          4,
          5,
          4,
          4,
          5,
          5,
          5,
          5,
          4,
          5,
          4,
          5,
          5,
          4,
          5,
          5,
          5,
          4,
          5,
          5,
          4,
          5,
          4,
          4,
          4,
          4,
          4,
          4,
          4,
          5,
          5,
          5,
          5,
          5,
          4,
          5,
          5,
          5,
          5,
          5,
          5,
          5,
          4,
          4
         ],
         "y": [
          9,
          8,
          8,
          9,
          9,
          10,
          8,
          7,
          8,
          8,
          8,
          10,
          10,
          10,
          10,
          10,
          8,
          8,
          9,
          8,
          8,
          9,
          7,
          7,
          10,
          9,
          9,
          9,
          7,
          7,
          9,
          8,
          9,
          9,
          10,
          8,
          10,
          9,
          10,
          10,
          7,
          10,
          10,
          7,
          8,
          9,
          8,
          9,
          8,
          8,
          9,
          10,
          10,
          9,
          8,
          10,
          10,
          10,
          10,
          10,
          10,
          9,
          7,
          7
         ],
         "z": [
          0.4444444444444444,
          0.8,
          1,
          1,
          0.5,
          0.6,
          0.6,
          0.5714285714285714,
          0.5714285714285714,
          0.5714285714285714,
          0.7777777777777778,
          0.7777777777777778,
          0.7777777777777778,
          0.7777777777777778,
          0.7777777777777778,
          0.7777777777777778,
          0.5555555555555556,
          0.5555555555555556,
          0.5555555555555556,
          0.5555555555555556,
          0.5714285714285714,
          0.5714285714285714,
          0.5,
          0.5,
          0.5,
          0.8333333333333334,
          0.8333333333333334,
          0.8333333333333334,
          0.8,
          0.8,
          0.75,
          0.75,
          0.75,
          0.75,
          0.42857142857142855,
          0.42857142857142855,
          0.5714285714285714,
          0.5714285714285714,
          0.5714285714285714,
          0.5714285714285714,
          0.5555555555555556,
          0.6,
          0.625,
          0.625,
          0.625,
          0.625,
          0.5,
          0.5,
          0.42857142857142855,
          0.7142857142857143,
          0.7142857142857143,
          1,
          1,
          0.5,
          0.5,
          0.5,
          0.5,
          0.7142857142857143,
          0.7142857142857143,
          0.7142857142857143,
          0.7142857142857143,
          0.7142857142857143,
          0.4444444444444444,
          0.4444444444444444
         ]
        },
        {
         "customdata": [
          [
           "curacao"
          ],
          [
           "gibraltar"
          ],
          [
           "luxor"
          ],
          [
           "monastir"
          ],
          [
           "ponta delgada"
          ],
          [
           "pune"
          ],
          [
           "pune"
          ],
          [
           "salvador"
          ],
          [
           "salvador"
          ],
          [
           "sao paulo congonhas"
          ],
          [
           "sao paulo congonhas"
          ],
          [
           "seychelles"
          ],
          [
           "subang kuala lumpur"
          ],
          [
           "tirana"
          ],
          [
           "tirana"
          ],
          [
           "windhoek"
          ],
          [
           "yogyakarta"
          ],
          [
           "zanzibar"
          ]
         ],
         "hovertemplate": "circle=Circle 2<br>Rating=%{x}<br>Exp=%{y}<br>Recommended=%{z}<br>airport_name=%{customdata[0]}<extra></extra>",
         "legendgroup": "Circle 2",
         "marker": {
          "color": "#00cc96",
          "symbol": "circle"
         },
         "mode": "markers",
         "name": "Circle 2",
         "scene": "scene",
         "showlegend": true,
         "type": "scatter3d",
         "x": [
          3,
          2,
          3,
          3,
          3,
          3,
          3,
          3,
          3,
          3,
          3,
          3,
          3,
          3,
          3,
          2,
          3,
          2
         ],
         "y": [
          3,
          3,
          5,
          5,
          3,
          3,
          4,
          3,
          4,
          3,
          3,
          5,
          4,
          4,
          5,
          6,
          4,
          4
         ],
         "z": [
          0.4,
          0.375,
          0.25,
          0.2857142857142857,
          0.3333333333333333,
          0.2222222222222222,
          0.2222222222222222,
          0.2,
          0.2,
          0.2,
          0.2,
          0.4,
          0.2,
          0.2857142857142857,
          0.2857142857142857,
          0.16666666666666666,
          0.14285714285714285,
          0.2
         ]
        }
       ],
       "layout": {
        "legend": {
         "title": {
          "text": "circle"
         },
         "tracegroupgap": 0
        },
        "scene": {
         "domain": {
          "x": [
           0,
           1
          ],
          "y": [
           0,
           1
          ]
         },
         "xaxis": {
          "title": {
           "text": "Rating"
          }
         },
         "yaxis": {
          "title": {
           "text": "Exp"
          }
         },
         "zaxis": {
          "title": {
           "text": "Recommended"
          }
         }
        },
        "template": {
         "data": {
          "bar": [
           {
            "error_x": {
             "color": "#2a3f5f"
            },
            "error_y": {
             "color": "#2a3f5f"
            },
            "marker": {
             "line": {
              "color": "#E5ECF6",
              "width": 0.5
             },
             "pattern": {
              "fillmode": "overlay",
              "size": 10,
              "solidity": 0.2
             }
            },
            "type": "bar"
           }
          ],
          "barpolar": [
           {
            "marker": {
             "line": {
              "color": "#E5ECF6",
              "width": 0.5
             },
             "pattern": {
              "fillmode": "overlay",
              "size": 10,
              "solidity": 0.2
             }
            },
            "type": "barpolar"
           }
          ],
          "carpet": [
           {
            "aaxis": {
             "endlinecolor": "#2a3f5f",
             "gridcolor": "white",
             "linecolor": "white",
             "minorgridcolor": "white",
             "startlinecolor": "#2a3f5f"
            },
            "baxis": {
             "endlinecolor": "#2a3f5f",
             "gridcolor": "white",
             "linecolor": "white",
             "minorgridcolor": "white",
             "startlinecolor": "#2a3f5f"
            },
            "type": "carpet"
           }
          ],
          "choropleth": [
           {
            "colorbar": {
             "outlinewidth": 0,
             "ticks": ""
            },
            "type": "choropleth"
           }
          ],
          "contour": [
           {
            "colorbar": {
             "outlinewidth": 0,
             "ticks": ""
            },
            "colorscale": [
             [
              0,
              "#0d0887"
             ],
             [
              0.1111111111111111,
              "#46039f"
             ],
             [
              0.2222222222222222,
              "#7201a8"
             ],
             [
              0.3333333333333333,
              "#9c179e"
             ],
             [
              0.4444444444444444,
              "#bd3786"
             ],
             [
              0.5555555555555556,
              "#d8576b"
             ],
             [
              0.6666666666666666,
              "#ed7953"
             ],
             [
              0.7777777777777778,
              "#fb9f3a"
             ],
             [
              0.8888888888888888,
              "#fdca26"
             ],
             [
              1,
              "#f0f921"
             ]
            ],
            "type": "contour"
           }
          ],
          "contourcarpet": [
           {
            "colorbar": {
             "outlinewidth": 0,
             "ticks": ""
            },
            "type": "contourcarpet"
           }
          ],
          "heatmap": [
           {
            "colorbar": {
             "outlinewidth": 0,
             "ticks": ""
            },
            "colorscale": [
             [
              0,
              "#0d0887"
             ],
             [
              0.1111111111111111,
              "#46039f"
             ],
             [
              0.2222222222222222,
              "#7201a8"
             ],
             [
              0.3333333333333333,
              "#9c179e"
             ],
             [
              0.4444444444444444,
              "#bd3786"
             ],
             [
              0.5555555555555556,
              "#d8576b"
             ],
             [
              0.6666666666666666,
              "#ed7953"
             ],
             [
              0.7777777777777778,
              "#fb9f3a"
             ],
             [
              0.8888888888888888,
              "#fdca26"
             ],
             [
              1,
              "#f0f921"
             ]
            ],
            "type": "heatmap"
           }
          ],
          "heatmapgl": [
           {
            "colorbar": {
             "outlinewidth": 0,
             "ticks": ""
            },
            "colorscale": [
             [
              0,
              "#0d0887"
             ],
             [
              0.1111111111111111,
              "#46039f"
             ],
             [
              0.2222222222222222,
              "#7201a8"
             ],
             [
              0.3333333333333333,
              "#9c179e"
             ],
             [
              0.4444444444444444,
              "#bd3786"
             ],
             [
              0.5555555555555556,
              "#d8576b"
             ],
             [
              0.6666666666666666,
              "#ed7953"
             ],
             [
              0.7777777777777778,
              "#fb9f3a"
             ],
             [
              0.8888888888888888,
              "#fdca26"
             ],
             [
              1,
              "#f0f921"
             ]
            ],
            "type": "heatmapgl"
           }
          ],
          "histogram": [
           {
            "marker": {
             "pattern": {
              "fillmode": "overlay",
              "size": 10,
              "solidity": 0.2
             }
            },
            "type": "histogram"
           }
          ],
          "histogram2d": [
           {
            "colorbar": {
             "outlinewidth": 0,
             "ticks": ""
            },
            "colorscale": [
             [
              0,
              "#0d0887"
             ],
             [
              0.1111111111111111,
              "#46039f"
             ],
             [
              0.2222222222222222,
              "#7201a8"
             ],
             [
              0.3333333333333333,
              "#9c179e"
             ],
             [
              0.4444444444444444,
              "#bd3786"
             ],
             [
              0.5555555555555556,
              "#d8576b"
             ],
             [
              0.6666666666666666,
              "#ed7953"
             ],
             [
              0.7777777777777778,
              "#fb9f3a"
             ],
             [
              0.8888888888888888,
              "#fdca26"
             ],
             [
              1,
              "#f0f921"
             ]
            ],
            "type": "histogram2d"
           }
          ],
          "histogram2dcontour": [
           {
            "colorbar": {
             "outlinewidth": 0,
             "ticks": ""
            },
            "colorscale": [
             [
              0,
              "#0d0887"
             ],
             [
              0.1111111111111111,
              "#46039f"
             ],
             [
              0.2222222222222222,
              "#7201a8"
             ],
             [
              0.3333333333333333,
              "#9c179e"
             ],
             [
              0.4444444444444444,
              "#bd3786"
             ],
             [
              0.5555555555555556,
              "#d8576b"
             ],
             [
              0.6666666666666666,
              "#ed7953"
             ],
             [
              0.7777777777777778,
              "#fb9f3a"
             ],
             [
              0.8888888888888888,
              "#fdca26"
             ],
             [
              1,
              "#f0f921"
             ]
            ],
            "type": "histogram2dcontour"
           }
          ],
          "mesh3d": [
           {
            "colorbar": {
             "outlinewidth": 0,
             "ticks": ""
            },
            "type": "mesh3d"
           }
          ],
          "parcoords": [
           {
            "line": {
             "colorbar": {
              "outlinewidth": 0,
              "ticks": ""
             }
            },
            "type": "parcoords"
           }
          ],
          "pie": [
           {
            "automargin": true,
            "type": "pie"
           }
          ],
          "scatter": [
           {
            "fillpattern": {
             "fillmode": "overlay",
             "size": 10,
             "solidity": 0.2
            },
            "type": "scatter"
           }
          ],
          "scatter3d": [
           {
            "line": {
             "colorbar": {
              "outlinewidth": 0,
              "ticks": ""
             }
            },
            "marker": {
             "colorbar": {
              "outlinewidth": 0,
              "ticks": ""
             }
            },
            "type": "scatter3d"
           }
          ],
          "scattercarpet": [
           {
            "marker": {
             "colorbar": {
              "outlinewidth": 0,
              "ticks": ""
             }
            },
            "type": "scattercarpet"
           }
          ],
          "scattergeo": [
           {
            "marker": {
             "colorbar": {
              "outlinewidth": 0,
              "ticks": ""
             }
            },
            "type": "scattergeo"
           }
          ],
          "scattergl": [
           {
            "marker": {
             "colorbar": {
              "outlinewidth": 0,
              "ticks": ""
             }
            },
            "type": "scattergl"
           }
          ],
          "scattermapbox": [
           {
            "marker": {
             "colorbar": {
              "outlinewidth": 0,
              "ticks": ""
             }
            },
            "type": "scattermapbox"
           }
          ],
          "scatterpolar": [
           {
            "marker": {
             "colorbar": {
              "outlinewidth": 0,
              "ticks": ""
             }
            },
            "type": "scatterpolar"
           }
          ],
          "scatterpolargl": [
           {
            "marker": {
             "colorbar": {
              "outlinewidth": 0,
              "ticks": ""
             }
            },
            "type": "scatterpolargl"
           }
          ],
          "scatterternary": [
           {
            "marker": {
             "colorbar": {
              "outlinewidth": 0,
              "ticks": ""
             }
            },
            "type": "scatterternary"
           }
          ],
          "surface": [
           {
            "colorbar": {
             "outlinewidth": 0,
             "ticks": ""
            },
            "colorscale": [
             [
              0,
              "#0d0887"
             ],
             [
              0.1111111111111111,
              "#46039f"
             ],
             [
              0.2222222222222222,
              "#7201a8"
             ],
             [
              0.3333333333333333,
              "#9c179e"
             ],
             [
              0.4444444444444444,
              "#bd3786"
             ],
             [
              0.5555555555555556,
              "#d8576b"
             ],
             [
              0.6666666666666666,
              "#ed7953"
             ],
             [
              0.7777777777777778,
              "#fb9f3a"
             ],
             [
              0.8888888888888888,
              "#fdca26"
             ],
             [
              1,
              "#f0f921"
             ]
            ],
            "type": "surface"
           }
          ],
          "table": [
           {
            "cells": {
             "fill": {
              "color": "#EBF0F8"
             },
             "line": {
              "color": "white"
             }
            },
            "header": {
             "fill": {
              "color": "#C8D4E3"
             },
             "line": {
              "color": "white"
             }
            },
            "type": "table"
           }
          ]
         },
         "layout": {
          "annotationdefaults": {
           "arrowcolor": "#2a3f5f",
           "arrowhead": 0,
           "arrowwidth": 1
          },
          "autotypenumbers": "strict",
          "coloraxis": {
           "colorbar": {
            "outlinewidth": 0,
            "ticks": ""
           }
          },
          "colorscale": {
           "diverging": [
            [
             0,
             "#8e0152"
            ],
            [
             0.1,
             "#c51b7d"
            ],
            [
             0.2,
             "#de77ae"
            ],
            [
             0.3,
             "#f1b6da"
            ],
            [
             0.4,
             "#fde0ef"
            ],
            [
             0.5,
             "#f7f7f7"
            ],
            [
             0.6,
             "#e6f5d0"
            ],
            [
             0.7,
             "#b8e186"
            ],
            [
             0.8,
             "#7fbc41"
            ],
            [
             0.9,
             "#4d9221"
            ],
            [
             1,
             "#276419"
            ]
           ],
           "sequential": [
            [
             0,
             "#0d0887"
            ],
            [
             0.1111111111111111,
             "#46039f"
            ],
            [
             0.2222222222222222,
             "#7201a8"
            ],
            [
             0.3333333333333333,
             "#9c179e"
            ],
            [
             0.4444444444444444,
             "#bd3786"
            ],
            [
             0.5555555555555556,
             "#d8576b"
            ],
            [
             0.6666666666666666,
             "#ed7953"
            ],
            [
             0.7777777777777778,
             "#fb9f3a"
            ],
            [
             0.8888888888888888,
             "#fdca26"
            ],
            [
             1,
             "#f0f921"
            ]
           ],
           "sequentialminus": [
            [
             0,
             "#0d0887"
            ],
            [
             0.1111111111111111,
             "#46039f"
            ],
            [
             0.2222222222222222,
             "#7201a8"
            ],
            [
             0.3333333333333333,
             "#9c179e"
            ],
            [
             0.4444444444444444,
             "#bd3786"
            ],
            [
             0.5555555555555556,
             "#d8576b"
            ],
            [
             0.6666666666666666,
             "#ed7953"
            ],
            [
             0.7777777777777778,
             "#fb9f3a"
            ],
            [
             0.8888888888888888,
             "#fdca26"
            ],
            [
             1,
             "#f0f921"
            ]
           ]
          },
          "colorway": [
           "#636efa",
           "#EF553B",
           "#00cc96",
           "#ab63fa",
           "#FFA15A",
           "#19d3f3",
           "#FF6692",
           "#B6E880",
           "#FF97FF",
           "#FECB52"
          ],
          "font": {
           "color": "#2a3f5f"
          },
          "geo": {
           "bgcolor": "white",
           "lakecolor": "white",
           "landcolor": "#E5ECF6",
           "showlakes": true,
           "showland": true,
           "subunitcolor": "white"
          },
          "hoverlabel": {
           "align": "left"
          },
          "hovermode": "closest",
          "mapbox": {
           "style": "light"
          },
          "paper_bgcolor": "white",
          "plot_bgcolor": "#E5ECF6",
          "polar": {
           "angularaxis": {
            "gridcolor": "white",
            "linecolor": "white",
            "ticks": ""
           },
           "bgcolor": "#E5ECF6",
           "radialaxis": {
            "gridcolor": "white",
            "linecolor": "white",
            "ticks": ""
           }
          },
          "scene": {
           "xaxis": {
            "backgroundcolor": "#E5ECF6",
            "gridcolor": "white",
            "gridwidth": 2,
            "linecolor": "white",
            "showbackground": true,
            "ticks": "",
            "zerolinecolor": "white"
           },
           "yaxis": {
            "backgroundcolor": "#E5ECF6",
            "gridcolor": "white",
            "gridwidth": 2,
            "linecolor": "white",
            "showbackground": true,
            "ticks": "",
            "zerolinecolor": "white"
           },
           "zaxis": {
            "backgroundcolor": "#E5ECF6",
            "gridcolor": "white",
            "gridwidth": 2,
            "linecolor": "white",
            "showbackground": true,
            "ticks": "",
            "zerolinecolor": "white"
           }
          },
          "shapedefaults": {
           "line": {
            "color": "#2a3f5f"
           }
          },
          "ternary": {
           "aaxis": {
            "gridcolor": "white",
            "linecolor": "white",
            "ticks": ""
           },
           "baxis": {
            "gridcolor": "white",
            "linecolor": "white",
            "ticks": ""
           },
           "bgcolor": "#E5ECF6",
           "caxis": {
            "gridcolor": "white",
            "linecolor": "white",
            "ticks": ""
           }
          },
          "title": {
           "x": 0.05
          },
          "xaxis": {
           "automargin": true,
           "gridcolor": "white",
           "linecolor": "white",
           "ticks": "",
           "title": {
            "standoff": 15
           },
           "zerolinecolor": "white",
           "zerolinewidth": 2
          },
          "yaxis": {
           "automargin": true,
           "gridcolor": "white",
           "linecolor": "white",
           "ticks": "",
           "title": {
            "standoff": 15
           },
           "zerolinecolor": "white",
           "zerolinewidth": 2
          }
         }
        },
        "title": {
         "text": "Airports Based on Overall Rating, Experience, and Recommendation"
        }
       }
      }
     },
     "metadata": {},
     "output_type": "display_data"
    }
   ],
   "source": [
    "# Create a 3D scatter plot using Plotly\n",
    "import plotly.express as px\n",
    "fig = px.scatter_3d(small_not_na, \n",
    "                    x='overall_rating', \n",
    "                    y='experience_airport', \n",
    "                    z='recommended_mean', \n",
    "                    color='circle',  # color by the circle category\n",
    "                    hover_data=['airport_name'],  # display airport name on hover\n",
    "                    title=\"Airports Based on Overall Rating, Experience, and Recommendation\",\n",
    "                    labels={\"overall_rating\": \"Rating\",\n",
    "                            \"experience_airport\": \"Exp\",\n",
    "                            \"recommended_mean\": \"Recommended\"})\n",
    "\n",
    "# Show the plot\n",
    "fig.show()"
   ]
  },
  {
   "cell_type": "code",
   "execution_count": 55,
   "metadata": {},
   "outputs": [
    {
     "data": {
      "text/html": [
       "<div>\n",
       "<style scoped>\n",
       "    .dataframe tbody tr th:only-of-type {\n",
       "        vertical-align: middle;\n",
       "    }\n",
       "\n",
       "    .dataframe tbody tr th {\n",
       "        vertical-align: top;\n",
       "    }\n",
       "\n",
       "    .dataframe thead th {\n",
       "        text-align: right;\n",
       "    }\n",
       "</style>\n",
       "<table border=\"1\" class=\"dataframe\">\n",
       "  <thead>\n",
       "    <tr style=\"text-align: right;\">\n",
       "      <th></th>\n",
       "      <th>experience_airport</th>\n",
       "      <th>overall_rating</th>\n",
       "      <th>queuing_rate</th>\n",
       "      <th>terminal_cleanliness_rating</th>\n",
       "      <th>terminal_seating_rating</th>\n",
       "      <th>terminal_signs_rating</th>\n",
       "      <th>food_beverage</th>\n",
       "      <th>airport_shop</th>\n",
       "      <th>wi_fi</th>\n",
       "      <th>airport_staff</th>\n",
       "      <th>recommended</th>\n",
       "      <th>count</th>\n",
       "    </tr>\n",
       "  </thead>\n",
       "  <tbody>\n",
       "    <tr>\n",
       "      <th>count</th>\n",
       "      <td>13839.000000</td>\n",
       "      <td>584.000000</td>\n",
       "      <td>576.000000</td>\n",
       "      <td>2357.000000</td>\n",
       "      <td>9932.000000</td>\n",
       "      <td>51.000000</td>\n",
       "      <td>2883.000000</td>\n",
       "      <td>11582.000000</td>\n",
       "      <td>387.000000</td>\n",
       "      <td>51.000000</td>\n",
       "      <td>551.000000</td>\n",
       "      <td>16257.000000</td>\n",
       "    </tr>\n",
       "    <tr>\n",
       "      <th>mean</th>\n",
       "      <td>3.651853</td>\n",
       "      <td>3.705479</td>\n",
       "      <td>2.302083</td>\n",
       "      <td>2.116674</td>\n",
       "      <td>2.986911</td>\n",
       "      <td>2.549020</td>\n",
       "      <td>0.414499</td>\n",
       "      <td>0.374115</td>\n",
       "      <td>2.395349</td>\n",
       "      <td>1.156863</td>\n",
       "      <td>0.324864</td>\n",
       "      <td>122.788030</td>\n",
       "    </tr>\n",
       "    <tr>\n",
       "      <th>std</th>\n",
       "      <td>2.848243</td>\n",
       "      <td>3.089112</td>\n",
       "      <td>1.488178</td>\n",
       "      <td>1.340710</td>\n",
       "      <td>1.377652</td>\n",
       "      <td>1.404475</td>\n",
       "      <td>1.077766</td>\n",
       "      <td>0.661651</td>\n",
       "      <td>1.562607</td>\n",
       "      <td>1.301884</td>\n",
       "      <td>0.468750</td>\n",
       "      <td>116.144326</td>\n",
       "    </tr>\n",
       "    <tr>\n",
       "      <th>min</th>\n",
       "      <td>0.000000</td>\n",
       "      <td>0.000000</td>\n",
       "      <td>0.000000</td>\n",
       "      <td>0.000000</td>\n",
       "      <td>0.000000</td>\n",
       "      <td>1.000000</td>\n",
       "      <td>0.000000</td>\n",
       "      <td>0.000000</td>\n",
       "      <td>0.000000</td>\n",
       "      <td>0.000000</td>\n",
       "      <td>0.000000</td>\n",
       "      <td>10.000000</td>\n",
       "    </tr>\n",
       "    <tr>\n",
       "      <th>25%</th>\n",
       "      <td>1.000000</td>\n",
       "      <td>1.000000</td>\n",
       "      <td>1.000000</td>\n",
       "      <td>1.000000</td>\n",
       "      <td>2.000000</td>\n",
       "      <td>1.000000</td>\n",
       "      <td>0.000000</td>\n",
       "      <td>0.000000</td>\n",
       "      <td>1.000000</td>\n",
       "      <td>0.000000</td>\n",
       "      <td>0.000000</td>\n",
       "      <td>38.000000</td>\n",
       "    </tr>\n",
       "    <tr>\n",
       "      <th>50%</th>\n",
       "      <td>3.000000</td>\n",
       "      <td>3.000000</td>\n",
       "      <td>2.000000</td>\n",
       "      <td>2.000000</td>\n",
       "      <td>3.000000</td>\n",
       "      <td>2.000000</td>\n",
       "      <td>0.000000</td>\n",
       "      <td>0.000000</td>\n",
       "      <td>2.000000</td>\n",
       "      <td>1.000000</td>\n",
       "      <td>0.000000</td>\n",
       "      <td>89.000000</td>\n",
       "    </tr>\n",
       "    <tr>\n",
       "      <th>75%</th>\n",
       "      <td>5.000000</td>\n",
       "      <td>6.000000</td>\n",
       "      <td>4.000000</td>\n",
       "      <td>3.000000</td>\n",
       "      <td>4.000000</td>\n",
       "      <td>4.000000</td>\n",
       "      <td>0.000000</td>\n",
       "      <td>1.000000</td>\n",
       "      <td>4.000000</td>\n",
       "      <td>1.500000</td>\n",
       "      <td>1.000000</td>\n",
       "      <td>162.000000</td>\n",
       "    </tr>\n",
       "    <tr>\n",
       "      <th>max</th>\n",
       "      <td>10.000000</td>\n",
       "      <td>10.000000</td>\n",
       "      <td>5.000000</td>\n",
       "      <td>5.000000</td>\n",
       "      <td>5.000000</td>\n",
       "      <td>5.000000</td>\n",
       "      <td>5.000000</td>\n",
       "      <td>5.000000</td>\n",
       "      <td>5.000000</td>\n",
       "      <td>4.000000</td>\n",
       "      <td>1.000000</td>\n",
       "      <td>520.000000</td>\n",
       "    </tr>\n",
       "  </tbody>\n",
       "</table>\n",
       "</div>"
      ],
      "text/plain": [
       "       experience_airport  overall_rating  queuing_rate  \\\n",
       "count        13839.000000      584.000000    576.000000   \n",
       "mean             3.651853        3.705479      2.302083   \n",
       "std              2.848243        3.089112      1.488178   \n",
       "min              0.000000        0.000000      0.000000   \n",
       "25%              1.000000        1.000000      1.000000   \n",
       "50%              3.000000        3.000000      2.000000   \n",
       "75%              5.000000        6.000000      4.000000   \n",
       "max             10.000000       10.000000      5.000000   \n",
       "\n",
       "       terminal_cleanliness_rating  terminal_seating_rating  \\\n",
       "count                  2357.000000              9932.000000   \n",
       "mean                      2.116674                 2.986911   \n",
       "std                       1.340710                 1.377652   \n",
       "min                       0.000000                 0.000000   \n",
       "25%                       1.000000                 2.000000   \n",
       "50%                       2.000000                 3.000000   \n",
       "75%                       3.000000                 4.000000   \n",
       "max                       5.000000                 5.000000   \n",
       "\n",
       "       terminal_signs_rating  food_beverage  airport_shop       wi_fi  \\\n",
       "count              51.000000    2883.000000  11582.000000  387.000000   \n",
       "mean                2.549020       0.414499      0.374115    2.395349   \n",
       "std                 1.404475       1.077766      0.661651    1.562607   \n",
       "min                 1.000000       0.000000      0.000000    0.000000   \n",
       "25%                 1.000000       0.000000      0.000000    1.000000   \n",
       "50%                 2.000000       0.000000      0.000000    2.000000   \n",
       "75%                 4.000000       0.000000      1.000000    4.000000   \n",
       "max                 5.000000       5.000000      5.000000    5.000000   \n",
       "\n",
       "       airport_staff  recommended         count  \n",
       "count      51.000000   551.000000  16257.000000  \n",
       "mean        1.156863     0.324864    122.788030  \n",
       "std         1.301884     0.468750    116.144326  \n",
       "min         0.000000     0.000000     10.000000  \n",
       "25%         0.000000     0.000000     38.000000  \n",
       "50%         1.000000     0.000000     89.000000  \n",
       "75%         1.500000     1.000000    162.000000  \n",
       "max         4.000000     1.000000    520.000000  "
      ]
     },
     "execution_count": 55,
     "metadata": {},
     "output_type": "execute_result"
    }
   ],
   "source": [
    "big = pd.read_excel('big_airports.xlsx')\n",
    "big.describe()"
   ]
  },
  {
   "cell_type": "code",
   "execution_count": 66,
   "metadata": {},
   "outputs": [
    {
     "data": {
      "text/html": [
       "<div>\n",
       "<style scoped>\n",
       "    .dataframe tbody tr th:only-of-type {\n",
       "        vertical-align: middle;\n",
       "    }\n",
       "\n",
       "    .dataframe tbody tr th {\n",
       "        vertical-align: top;\n",
       "    }\n",
       "\n",
       "    .dataframe thead th {\n",
       "        text-align: right;\n",
       "    }\n",
       "</style>\n",
       "<table border=\"1\" class=\"dataframe\">\n",
       "  <thead>\n",
       "    <tr style=\"text-align: right;\">\n",
       "      <th></th>\n",
       "      <th>airport_name</th>\n",
       "      <th>sentiment_score</th>\n",
       "    </tr>\n",
       "  </thead>\n",
       "  <tbody>\n",
       "    <tr>\n",
       "      <th>0</th>\n",
       "      <td>abuja</td>\n",
       "      <td>0.050602</td>\n",
       "    </tr>\n",
       "    <tr>\n",
       "      <th>1</th>\n",
       "      <td>algiers</td>\n",
       "      <td>0.186664</td>\n",
       "    </tr>\n",
       "    <tr>\n",
       "      <th>2</th>\n",
       "      <td>almeria</td>\n",
       "      <td>0.100015</td>\n",
       "    </tr>\n",
       "    <tr>\n",
       "      <th>3</th>\n",
       "      <td>antwerp deurne</td>\n",
       "      <td>0.114458</td>\n",
       "    </tr>\n",
       "    <tr>\n",
       "      <th>4</th>\n",
       "      <td>aruba reina beatrix</td>\n",
       "      <td>0.089125</td>\n",
       "    </tr>\n",
       "  </tbody>\n",
       "</table>\n",
       "</div>"
      ],
      "text/plain": [
       "          airport_name  sentiment_score\n",
       "0                abuja         0.050602\n",
       "1              algiers         0.186664\n",
       "2              almeria         0.100015\n",
       "3       antwerp deurne         0.114458\n",
       "4  aruba reina beatrix         0.089125"
      ]
     },
     "execution_count": 66,
     "metadata": {},
     "output_type": "execute_result"
    }
   ],
   "source": [
    "from textblob import TextBlob\n",
    "\n",
    "def get_sentiment(text):\n",
    "    \"\"\"Calculates the sentiment polarity of a given text.\n",
    "\n",
    "    Args:\n",
    "        text: The text to analyze.\n",
    "\n",
    "    Returns:\n",
    "        The sentiment polarity score between -1 and 1.\n",
    "    \"\"\"\n",
    "\n",
    "    blob = TextBlob(str(text))  # Ensure text is a string\n",
    "    return blob.sentiment.polarity\n",
    "\n",
    "# Handle potential missing values and non-string data\n",
    "small['content'] = small['content'].fillna('').astype(str)\n",
    "\n",
    "# Apply the sentiment analysis function to the 'content' column\n",
    "small['sentiment_score'] = small['content'].apply(get_sentiment)\n",
    "\n",
    "# Calculate the mean sentiment score for each airport\n",
    "mean_sentiment_score = small.groupby('airport_name')['sentiment_score'].mean().reset_index()\n",
    "\n",
    "# Print the first 5 rows of the mean sentiment score DataFrame\n",
    "mean_sentiment_score.head()"
   ]
  },
  {
   "cell_type": "code",
   "execution_count": 67,
   "metadata": {},
   "outputs": [
    {
     "data": {
      "text/html": [
       "<div>\n",
       "<style scoped>\n",
       "    .dataframe tbody tr th:only-of-type {\n",
       "        vertical-align: middle;\n",
       "    }\n",
       "\n",
       "    .dataframe tbody tr th {\n",
       "        vertical-align: top;\n",
       "    }\n",
       "\n",
       "    .dataframe thead th {\n",
       "        text-align: right;\n",
       "    }\n",
       "</style>\n",
       "<table border=\"1\" class=\"dataframe\">\n",
       "  <thead>\n",
       "    <tr style=\"text-align: right;\">\n",
       "      <th></th>\n",
       "      <th>airport_name</th>\n",
       "      <th>author</th>\n",
       "      <th>author_country</th>\n",
       "      <th>date</th>\n",
       "      <th>content</th>\n",
       "      <th>experience_airport</th>\n",
       "      <th>overall_rating</th>\n",
       "      <th>terminal_cleanliness_rating</th>\n",
       "      <th>terminal_seating_rating</th>\n",
       "      <th>recommended</th>\n",
       "      <th>count</th>\n",
       "      <th>recommended_mean</th>\n",
       "      <th>geo_area</th>\n",
       "      <th>mean_experience_airport</th>\n",
       "      <th>mean_overall_rating</th>\n",
       "      <th>mean_terminal_cleanliness_rating</th>\n",
       "      <th>mean_terminal_seating_rating</th>\n",
       "      <th>sentiment_score</th>\n",
       "      <th>mean_sentiment_score</th>\n",
       "    </tr>\n",
       "  </thead>\n",
       "  <tbody>\n",
       "    <tr>\n",
       "      <th>731</th>\n",
       "      <td>wroclaw strachowice</td>\n",
       "      <td>N Cooper</td>\n",
       "      <td>NaN</td>\n",
       "      <td>2008-01-02</td>\n",
       "      <td>A small regional airport check in can become v...</td>\n",
       "      <td>NaN</td>\n",
       "      <td>NaN</td>\n",
       "      <td>NaN</td>\n",
       "      <td>NaN</td>\n",
       "      <td>0.0</td>\n",
       "      <td>9</td>\n",
       "      <td>0.714286</td>\n",
       "      <td>Europe</td>\n",
       "      <td>8.833333</td>\n",
       "      <td>4.857143</td>\n",
       "      <td>4.666667</td>\n",
       "      <td>4.166667</td>\n",
       "      <td>-0.032000</td>\n",
       "      <td>0.196795</td>\n",
       "    </tr>\n",
       "    <tr>\n",
       "      <th>732</th>\n",
       "      <td>xian xianyang</td>\n",
       "      <td>Bin Liu</td>\n",
       "      <td>China</td>\n",
       "      <td>2014-07-06</td>\n",
       "      <td>Flight from Xi'an to Beijing. T3 is huge but o...</td>\n",
       "      <td>3.0</td>\n",
       "      <td>1.0</td>\n",
       "      <td>2.0</td>\n",
       "      <td>2.0</td>\n",
       "      <td>0.0</td>\n",
       "      <td>8</td>\n",
       "      <td>0.250000</td>\n",
       "      <td>Asia</td>\n",
       "      <td>6.000000</td>\n",
       "      <td>2.500000</td>\n",
       "      <td>3.750000</td>\n",
       "      <td>3.500000</td>\n",
       "      <td>-0.166000</td>\n",
       "      <td>0.053322</td>\n",
       "    </tr>\n",
       "    <tr>\n",
       "      <th>733</th>\n",
       "      <td>xian xianyang</td>\n",
       "      <td>M Cavanagh</td>\n",
       "      <td>Australia</td>\n",
       "      <td>2014-04-23</td>\n",
       "      <td>I departed on 16th April 2014 and was lucky to...</td>\n",
       "      <td>6.0</td>\n",
       "      <td>1.0</td>\n",
       "      <td>4.0</td>\n",
       "      <td>4.0</td>\n",
       "      <td>0.0</td>\n",
       "      <td>8</td>\n",
       "      <td>0.250000</td>\n",
       "      <td>Asia</td>\n",
       "      <td>6.000000</td>\n",
       "      <td>2.500000</td>\n",
       "      <td>3.750000</td>\n",
       "      <td>3.500000</td>\n",
       "      <td>0.208333</td>\n",
       "      <td>0.053322</td>\n",
       "    </tr>\n",
       "    <tr>\n",
       "      <th>734</th>\n",
       "      <td>xian xianyang</td>\n",
       "      <td>B Howard</td>\n",
       "      <td>United Kingdom</td>\n",
       "      <td>2013-06-28</td>\n",
       "      <td>Last time I was in Xi'an Xianyang airport was ...</td>\n",
       "      <td>8.0</td>\n",
       "      <td>4.0</td>\n",
       "      <td>5.0</td>\n",
       "      <td>4.0</td>\n",
       "      <td>1.0</td>\n",
       "      <td>8</td>\n",
       "      <td>0.250000</td>\n",
       "      <td>Asia</td>\n",
       "      <td>6.000000</td>\n",
       "      <td>2.500000</td>\n",
       "      <td>3.750000</td>\n",
       "      <td>3.500000</td>\n",
       "      <td>0.125000</td>\n",
       "      <td>0.053322</td>\n",
       "    </tr>\n",
       "    <tr>\n",
       "      <th>735</th>\n",
       "      <td>xian xianyang</td>\n",
       "      <td>Peter Thackray</td>\n",
       "      <td>United Kingdom</td>\n",
       "      <td>2012-11-28</td>\n",
       "      <td>Domestic flight to Chengdu. Check-In OK and Se...</td>\n",
       "      <td>7.0</td>\n",
       "      <td>4.0</td>\n",
       "      <td>4.0</td>\n",
       "      <td>4.0</td>\n",
       "      <td>1.0</td>\n",
       "      <td>8</td>\n",
       "      <td>0.250000</td>\n",
       "      <td>Asia</td>\n",
       "      <td>6.000000</td>\n",
       "      <td>2.500000</td>\n",
       "      <td>3.750000</td>\n",
       "      <td>3.500000</td>\n",
       "      <td>0.047481</td>\n",
       "      <td>0.053322</td>\n",
       "    </tr>\n",
       "    <tr>\n",
       "      <th>736</th>\n",
       "      <td>xian xianyang</td>\n",
       "      <td>Ralph Spielman</td>\n",
       "      <td>NaN</td>\n",
       "      <td>2006-06-25</td>\n",
       "      <td>Went through there domestically June 10 and Ju...</td>\n",
       "      <td>NaN</td>\n",
       "      <td>NaN</td>\n",
       "      <td>NaN</td>\n",
       "      <td>NaN</td>\n",
       "      <td>0.0</td>\n",
       "      <td>8</td>\n",
       "      <td>0.250000</td>\n",
       "      <td>Asia</td>\n",
       "      <td>6.000000</td>\n",
       "      <td>2.500000</td>\n",
       "      <td>3.750000</td>\n",
       "      <td>3.500000</td>\n",
       "      <td>0.000000</td>\n",
       "      <td>0.053322</td>\n",
       "    </tr>\n",
       "    <tr>\n",
       "      <th>737</th>\n",
       "      <td>xian xianyang</td>\n",
       "      <td>Liang Zhao</td>\n",
       "      <td>NaN</td>\n",
       "      <td>2005-03-28</td>\n",
       "      <td>I've been though both international and domest...</td>\n",
       "      <td>NaN</td>\n",
       "      <td>NaN</td>\n",
       "      <td>NaN</td>\n",
       "      <td>NaN</td>\n",
       "      <td>0.0</td>\n",
       "      <td>8</td>\n",
       "      <td>0.250000</td>\n",
       "      <td>Asia</td>\n",
       "      <td>6.000000</td>\n",
       "      <td>2.500000</td>\n",
       "      <td>3.750000</td>\n",
       "      <td>3.500000</td>\n",
       "      <td>-0.076212</td>\n",
       "      <td>0.053322</td>\n",
       "    </tr>\n",
       "    <tr>\n",
       "      <th>738</th>\n",
       "      <td>xian xianyang</td>\n",
       "      <td>Arthur Romeijn</td>\n",
       "      <td>NaN</td>\n",
       "      <td>2005-03-26</td>\n",
       "      <td>The new airport is very clean and very efficie...</td>\n",
       "      <td>NaN</td>\n",
       "      <td>NaN</td>\n",
       "      <td>NaN</td>\n",
       "      <td>NaN</td>\n",
       "      <td>0.0</td>\n",
       "      <td>8</td>\n",
       "      <td>0.250000</td>\n",
       "      <td>Asia</td>\n",
       "      <td>6.000000</td>\n",
       "      <td>2.500000</td>\n",
       "      <td>3.750000</td>\n",
       "      <td>3.500000</td>\n",
       "      <td>0.202100</td>\n",
       "      <td>0.053322</td>\n",
       "    </tr>\n",
       "    <tr>\n",
       "      <th>739</th>\n",
       "      <td>xian xianyang</td>\n",
       "      <td>Robin Bramhall</td>\n",
       "      <td>NaN</td>\n",
       "      <td>2005-03-23</td>\n",
       "      <td>I travelled through Xian Airport on a 2 day si...</td>\n",
       "      <td>NaN</td>\n",
       "      <td>NaN</td>\n",
       "      <td>NaN</td>\n",
       "      <td>NaN</td>\n",
       "      <td>0.0</td>\n",
       "      <td>8</td>\n",
       "      <td>0.250000</td>\n",
       "      <td>Asia</td>\n",
       "      <td>6.000000</td>\n",
       "      <td>2.500000</td>\n",
       "      <td>3.750000</td>\n",
       "      <td>3.500000</td>\n",
       "      <td>0.085872</td>\n",
       "      <td>0.053322</td>\n",
       "    </tr>\n",
       "    <tr>\n",
       "      <th>740</th>\n",
       "      <td>xiamen</td>\n",
       "      <td>A Cai</td>\n",
       "      <td>Australia</td>\n",
       "      <td>2014-09-01</td>\n",
       "      <td>Beautiful airport. Navigation wasn't the best ...</td>\n",
       "      <td>8.0</td>\n",
       "      <td>3.0</td>\n",
       "      <td>3.0</td>\n",
       "      <td>3.0</td>\n",
       "      <td>1.0</td>\n",
       "      <td>9</td>\n",
       "      <td>0.444444</td>\n",
       "      <td>Asia</td>\n",
       "      <td>6.750000</td>\n",
       "      <td>3.800000</td>\n",
       "      <td>4.000000</td>\n",
       "      <td>4.000000</td>\n",
       "      <td>0.441667</td>\n",
       "      <td>0.248335</td>\n",
       "    </tr>\n",
       "    <tr>\n",
       "      <th>741</th>\n",
       "      <td>xiamen</td>\n",
       "      <td>Josef Sonntag</td>\n",
       "      <td>Israel</td>\n",
       "      <td>2014-06-16</td>\n",
       "      <td>Flights: NNG-XMN XMN-NIG. Little bit loaded (l...</td>\n",
       "      <td>7.0</td>\n",
       "      <td>4.0</td>\n",
       "      <td>4.0</td>\n",
       "      <td>4.0</td>\n",
       "      <td>1.0</td>\n",
       "      <td>9</td>\n",
       "      <td>0.444444</td>\n",
       "      <td>Asia</td>\n",
       "      <td>6.750000</td>\n",
       "      <td>3.800000</td>\n",
       "      <td>4.000000</td>\n",
       "      <td>4.000000</td>\n",
       "      <td>0.214062</td>\n",
       "      <td>0.248335</td>\n",
       "    </tr>\n",
       "    <tr>\n",
       "      <th>742</th>\n",
       "      <td>xiamen</td>\n",
       "      <td>Tuan Dole</td>\n",
       "      <td>United Kingdom</td>\n",
       "      <td>2013-07-23</td>\n",
       "      <td>The worst airport in China for delays. I have ...</td>\n",
       "      <td>NaN</td>\n",
       "      <td>3.0</td>\n",
       "      <td>NaN</td>\n",
       "      <td>NaN</td>\n",
       "      <td>1.0</td>\n",
       "      <td>9</td>\n",
       "      <td>0.444444</td>\n",
       "      <td>Asia</td>\n",
       "      <td>6.750000</td>\n",
       "      <td>3.800000</td>\n",
       "      <td>4.000000</td>\n",
       "      <td>4.000000</td>\n",
       "      <td>-0.195238</td>\n",
       "      <td>0.248335</td>\n",
       "    </tr>\n",
       "    <tr>\n",
       "      <th>743</th>\n",
       "      <td>xiamen</td>\n",
       "      <td>J Fox</td>\n",
       "      <td>United Kingdom</td>\n",
       "      <td>2012-03-19</td>\n",
       "      <td>Small airport but functioned perfectly. Arrive...</td>\n",
       "      <td>7.0</td>\n",
       "      <td>4.0</td>\n",
       "      <td>4.0</td>\n",
       "      <td>4.0</td>\n",
       "      <td>1.0</td>\n",
       "      <td>9</td>\n",
       "      <td>0.444444</td>\n",
       "      <td>Asia</td>\n",
       "      <td>6.750000</td>\n",
       "      <td>3.800000</td>\n",
       "      <td>4.000000</td>\n",
       "      <td>4.000000</td>\n",
       "      <td>0.150926</td>\n",
       "      <td>0.248335</td>\n",
       "    </tr>\n",
       "    <tr>\n",
       "      <th>744</th>\n",
       "      <td>xiamen</td>\n",
       "      <td>Wentao You</td>\n",
       "      <td>Singapore</td>\n",
       "      <td>2011-08-07</td>\n",
       "      <td>Convenient airport. Close to Xiamen city centr...</td>\n",
       "      <td>5.0</td>\n",
       "      <td>5.0</td>\n",
       "      <td>5.0</td>\n",
       "      <td>5.0</td>\n",
       "      <td>0.0</td>\n",
       "      <td>9</td>\n",
       "      <td>0.444444</td>\n",
       "      <td>Asia</td>\n",
       "      <td>6.750000</td>\n",
       "      <td>3.800000</td>\n",
       "      <td>4.000000</td>\n",
       "      <td>4.000000</td>\n",
       "      <td>0.910000</td>\n",
       "      <td>0.248335</td>\n",
       "    </tr>\n",
       "    <tr>\n",
       "      <th>745</th>\n",
       "      <td>xiamen</td>\n",
       "      <td>David Peachey</td>\n",
       "      <td>NaN</td>\n",
       "      <td>2006-11-09</td>\n",
       "      <td>Used this airport for an internal flight. It w...</td>\n",
       "      <td>NaN</td>\n",
       "      <td>NaN</td>\n",
       "      <td>NaN</td>\n",
       "      <td>NaN</td>\n",
       "      <td>0.0</td>\n",
       "      <td>9</td>\n",
       "      <td>0.444444</td>\n",
       "      <td>Asia</td>\n",
       "      <td>6.750000</td>\n",
       "      <td>3.800000</td>\n",
       "      <td>4.000000</td>\n",
       "      <td>4.000000</td>\n",
       "      <td>0.193333</td>\n",
       "      <td>0.248335</td>\n",
       "    </tr>\n",
       "    <tr>\n",
       "      <th>746</th>\n",
       "      <td>xiamen</td>\n",
       "      <td>Simon Loh</td>\n",
       "      <td>NaN</td>\n",
       "      <td>2006-07-04</td>\n",
       "      <td>It looks like a small size HKG Airport. Quite ...</td>\n",
       "      <td>NaN</td>\n",
       "      <td>NaN</td>\n",
       "      <td>NaN</td>\n",
       "      <td>NaN</td>\n",
       "      <td>0.0</td>\n",
       "      <td>9</td>\n",
       "      <td>0.444444</td>\n",
       "      <td>Asia</td>\n",
       "      <td>6.750000</td>\n",
       "      <td>3.800000</td>\n",
       "      <td>4.000000</td>\n",
       "      <td>4.000000</td>\n",
       "      <td>0.164656</td>\n",
       "      <td>0.248335</td>\n",
       "    </tr>\n",
       "    <tr>\n",
       "      <th>747</th>\n",
       "      <td>xiamen</td>\n",
       "      <td>Adi Chew</td>\n",
       "      <td>NaN</td>\n",
       "      <td>2006-05-12</td>\n",
       "      <td>This is a fairly pleasant and spotless if unde...</td>\n",
       "      <td>NaN</td>\n",
       "      <td>NaN</td>\n",
       "      <td>NaN</td>\n",
       "      <td>NaN</td>\n",
       "      <td>0.0</td>\n",
       "      <td>9</td>\n",
       "      <td>0.444444</td>\n",
       "      <td>Asia</td>\n",
       "      <td>6.750000</td>\n",
       "      <td>3.800000</td>\n",
       "      <td>4.000000</td>\n",
       "      <td>4.000000</td>\n",
       "      <td>0.206730</td>\n",
       "      <td>0.248335</td>\n",
       "    </tr>\n",
       "    <tr>\n",
       "      <th>748</th>\n",
       "      <td>xiamen</td>\n",
       "      <td>Arthur Romeijn</td>\n",
       "      <td>NaN</td>\n",
       "      <td>2005-03-26</td>\n",
       "      <td>A nice little Chinese airport. That means it i...</td>\n",
       "      <td>NaN</td>\n",
       "      <td>NaN</td>\n",
       "      <td>NaN</td>\n",
       "      <td>NaN</td>\n",
       "      <td>0.0</td>\n",
       "      <td>9</td>\n",
       "      <td>0.444444</td>\n",
       "      <td>Asia</td>\n",
       "      <td>6.750000</td>\n",
       "      <td>3.800000</td>\n",
       "      <td>4.000000</td>\n",
       "      <td>4.000000</td>\n",
       "      <td>0.148878</td>\n",
       "      <td>0.248335</td>\n",
       "    </tr>\n",
       "    <tr>\n",
       "      <th>749</th>\n",
       "      <td>yogyakarta</td>\n",
       "      <td>Arindam Banerjee</td>\n",
       "      <td>Singapore</td>\n",
       "      <td>2015-06-07</td>\n",
       "      <td>This is the worst international Airport I have...</td>\n",
       "      <td>2.0</td>\n",
       "      <td>3.0</td>\n",
       "      <td>3.0</td>\n",
       "      <td>2.0</td>\n",
       "      <td>0.0</td>\n",
       "      <td>7</td>\n",
       "      <td>0.142857</td>\n",
       "      <td>S-Asia Oceania</td>\n",
       "      <td>4.000000</td>\n",
       "      <td>3.666667</td>\n",
       "      <td>2.666667</td>\n",
       "      <td>3.000000</td>\n",
       "      <td>-0.040584</td>\n",
       "      <td>0.004595</td>\n",
       "    </tr>\n",
       "    <tr>\n",
       "      <th>750</th>\n",
       "      <td>yogyakarta</td>\n",
       "      <td>Aria Dhika</td>\n",
       "      <td>Indonesia</td>\n",
       "      <td>2015-01-19</td>\n",
       "      <td>A small airport with a single crowded waiting ...</td>\n",
       "      <td>4.0</td>\n",
       "      <td>3.0</td>\n",
       "      <td>2.0</td>\n",
       "      <td>3.0</td>\n",
       "      <td>0.0</td>\n",
       "      <td>7</td>\n",
       "      <td>0.142857</td>\n",
       "      <td>S-Asia Oceania</td>\n",
       "      <td>4.000000</td>\n",
       "      <td>3.666667</td>\n",
       "      <td>2.666667</td>\n",
       "      <td>3.000000</td>\n",
       "      <td>-0.124286</td>\n",
       "      <td>0.004595</td>\n",
       "    </tr>\n",
       "    <tr>\n",
       "      <th>751</th>\n",
       "      <td>yogyakarta</td>\n",
       "      <td>D Fynn</td>\n",
       "      <td>United Kingdom</td>\n",
       "      <td>2013-06-20</td>\n",
       "      <td>Pleasant but rather old-fashioned airport. Mos...</td>\n",
       "      <td>8.0</td>\n",
       "      <td>5.0</td>\n",
       "      <td>3.0</td>\n",
       "      <td>4.0</td>\n",
       "      <td>1.0</td>\n",
       "      <td>7</td>\n",
       "      <td>0.142857</td>\n",
       "      <td>S-Asia Oceania</td>\n",
       "      <td>4.000000</td>\n",
       "      <td>3.666667</td>\n",
       "      <td>2.666667</td>\n",
       "      <td>3.000000</td>\n",
       "      <td>0.153704</td>\n",
       "      <td>0.004595</td>\n",
       "    </tr>\n",
       "    <tr>\n",
       "      <th>752</th>\n",
       "      <td>yogyakarta</td>\n",
       "      <td>J Weiss</td>\n",
       "      <td>NaN</td>\n",
       "      <td>2011-02-08</td>\n",
       "      <td>This small airport is totally overwhelmed by t...</td>\n",
       "      <td>2.0</td>\n",
       "      <td>NaN</td>\n",
       "      <td>NaN</td>\n",
       "      <td>NaN</td>\n",
       "      <td>0.0</td>\n",
       "      <td>7</td>\n",
       "      <td>0.142857</td>\n",
       "      <td>S-Asia Oceania</td>\n",
       "      <td>4.000000</td>\n",
       "      <td>3.666667</td>\n",
       "      <td>2.666667</td>\n",
       "      <td>3.000000</td>\n",
       "      <td>-0.061842</td>\n",
       "      <td>0.004595</td>\n",
       "    </tr>\n",
       "    <tr>\n",
       "      <th>753</th>\n",
       "      <td>yogyakarta</td>\n",
       "      <td>R Chao</td>\n",
       "      <td>NaN</td>\n",
       "      <td>2008-02-12</td>\n",
       "      <td>Noticed some improvements from last visit abou...</td>\n",
       "      <td>NaN</td>\n",
       "      <td>NaN</td>\n",
       "      <td>NaN</td>\n",
       "      <td>NaN</td>\n",
       "      <td>0.0</td>\n",
       "      <td>7</td>\n",
       "      <td>0.142857</td>\n",
       "      <td>S-Asia Oceania</td>\n",
       "      <td>4.000000</td>\n",
       "      <td>3.666667</td>\n",
       "      <td>2.666667</td>\n",
       "      <td>3.000000</td>\n",
       "      <td>0.089394</td>\n",
       "      <td>0.004595</td>\n",
       "    </tr>\n",
       "    <tr>\n",
       "      <th>754</th>\n",
       "      <td>yogyakarta</td>\n",
       "      <td>Avi Kartushi</td>\n",
       "      <td>NaN</td>\n",
       "      <td>2006-02-01</td>\n",
       "      <td>Very small nice airport. There is no shops at ...</td>\n",
       "      <td>NaN</td>\n",
       "      <td>NaN</td>\n",
       "      <td>NaN</td>\n",
       "      <td>NaN</td>\n",
       "      <td>0.0</td>\n",
       "      <td>7</td>\n",
       "      <td>0.142857</td>\n",
       "      <td>S-Asia Oceania</td>\n",
       "      <td>4.000000</td>\n",
       "      <td>3.666667</td>\n",
       "      <td>2.666667</td>\n",
       "      <td>3.000000</td>\n",
       "      <td>-0.032366</td>\n",
       "      <td>0.004595</td>\n",
       "    </tr>\n",
       "    <tr>\n",
       "      <th>755</th>\n",
       "      <td>yogyakarta</td>\n",
       "      <td>Adri Febrianto</td>\n",
       "      <td>NaN</td>\n",
       "      <td>2005-03-21</td>\n",
       "      <td>Nearest airport to Borobudor (one of the most ...</td>\n",
       "      <td>NaN</td>\n",
       "      <td>NaN</td>\n",
       "      <td>NaN</td>\n",
       "      <td>NaN</td>\n",
       "      <td>0.0</td>\n",
       "      <td>7</td>\n",
       "      <td>0.142857</td>\n",
       "      <td>S-Asia Oceania</td>\n",
       "      <td>4.000000</td>\n",
       "      <td>3.666667</td>\n",
       "      <td>2.666667</td>\n",
       "      <td>3.000000</td>\n",
       "      <td>0.048148</td>\n",
       "      <td>0.004595</td>\n",
       "    </tr>\n",
       "    <tr>\n",
       "      <th>756</th>\n",
       "      <td>zanzibar</td>\n",
       "      <td>M Noormohamed</td>\n",
       "      <td>United States</td>\n",
       "      <td>2015-01-19</td>\n",
       "      <td>The worst airport I have ever transited throug...</td>\n",
       "      <td>2.0</td>\n",
       "      <td>2.0</td>\n",
       "      <td>3.0</td>\n",
       "      <td>4.0</td>\n",
       "      <td>0.0</td>\n",
       "      <td>5</td>\n",
       "      <td>0.200000</td>\n",
       "      <td>Africa</td>\n",
       "      <td>2.500000</td>\n",
       "      <td>1.500000</td>\n",
       "      <td>1.750000</td>\n",
       "      <td>2.000000</td>\n",
       "      <td>-0.067532</td>\n",
       "      <td>0.070337</td>\n",
       "    </tr>\n",
       "    <tr>\n",
       "      <th>757</th>\n",
       "      <td>zanzibar</td>\n",
       "      <td>I Cameron</td>\n",
       "      <td>United Kingdom</td>\n",
       "      <td>2014-07-12</td>\n",
       "      <td>An old fashioned airport which is not very eff...</td>\n",
       "      <td>4.0</td>\n",
       "      <td>2.0</td>\n",
       "      <td>2.0</td>\n",
       "      <td>2.0</td>\n",
       "      <td>0.0</td>\n",
       "      <td>5</td>\n",
       "      <td>0.200000</td>\n",
       "      <td>Africa</td>\n",
       "      <td>2.500000</td>\n",
       "      <td>1.500000</td>\n",
       "      <td>1.750000</td>\n",
       "      <td>2.000000</td>\n",
       "      <td>-0.025625</td>\n",
       "      <td>0.070337</td>\n",
       "    </tr>\n",
       "    <tr>\n",
       "      <th>758</th>\n",
       "      <td>zanzibar</td>\n",
       "      <td>Todd Bailey</td>\n",
       "      <td>United States</td>\n",
       "      <td>2011-08-25</td>\n",
       "      <td>The airport in Zanzibar is out of date. The bu...</td>\n",
       "      <td>NaN</td>\n",
       "      <td>1.0</td>\n",
       "      <td>1.0</td>\n",
       "      <td>1.0</td>\n",
       "      <td>1.0</td>\n",
       "      <td>5</td>\n",
       "      <td>0.200000</td>\n",
       "      <td>Africa</td>\n",
       "      <td>2.500000</td>\n",
       "      <td>1.500000</td>\n",
       "      <td>1.750000</td>\n",
       "      <td>2.000000</td>\n",
       "      <td>0.142460</td>\n",
       "      <td>0.070337</td>\n",
       "    </tr>\n",
       "    <tr>\n",
       "      <th>759</th>\n",
       "      <td>zanzibar</td>\n",
       "      <td>David Ellis</td>\n",
       "      <td>United Kingdom</td>\n",
       "      <td>2010-01-26</td>\n",
       "      <td>Zanzibar airport would almost be bearable if i...</td>\n",
       "      <td>2.0</td>\n",
       "      <td>1.0</td>\n",
       "      <td>1.0</td>\n",
       "      <td>1.0</td>\n",
       "      <td>0.0</td>\n",
       "      <td>5</td>\n",
       "      <td>0.200000</td>\n",
       "      <td>Africa</td>\n",
       "      <td>2.500000</td>\n",
       "      <td>1.500000</td>\n",
       "      <td>1.750000</td>\n",
       "      <td>2.000000</td>\n",
       "      <td>0.064881</td>\n",
       "      <td>0.070337</td>\n",
       "    </tr>\n",
       "    <tr>\n",
       "      <th>760</th>\n",
       "      <td>zanzibar</td>\n",
       "      <td>J Beard</td>\n",
       "      <td>NaN</td>\n",
       "      <td>2009-05-01</td>\n",
       "      <td>Not bad for a regional airport for arriving in...</td>\n",
       "      <td>2.0</td>\n",
       "      <td>NaN</td>\n",
       "      <td>NaN</td>\n",
       "      <td>NaN</td>\n",
       "      <td>0.0</td>\n",
       "      <td>5</td>\n",
       "      <td>0.200000</td>\n",
       "      <td>Africa</td>\n",
       "      <td>2.500000</td>\n",
       "      <td>1.500000</td>\n",
       "      <td>1.750000</td>\n",
       "      <td>2.000000</td>\n",
       "      <td>0.237500</td>\n",
       "      <td>0.070337</td>\n",
       "    </tr>\n",
       "  </tbody>\n",
       "</table>\n",
       "</div>"
      ],
      "text/plain": [
       "            airport_name            author  author_country        date  \\\n",
       "731  wroclaw strachowice          N Cooper             NaN  2008-01-02   \n",
       "732        xian xianyang           Bin Liu           China  2014-07-06   \n",
       "733        xian xianyang        M Cavanagh       Australia  2014-04-23   \n",
       "734        xian xianyang          B Howard  United Kingdom  2013-06-28   \n",
       "735        xian xianyang    Peter Thackray  United Kingdom  2012-11-28   \n",
       "736        xian xianyang    Ralph Spielman             NaN  2006-06-25   \n",
       "737        xian xianyang        Liang Zhao             NaN  2005-03-28   \n",
       "738        xian xianyang    Arthur Romeijn             NaN  2005-03-26   \n",
       "739        xian xianyang    Robin Bramhall             NaN  2005-03-23   \n",
       "740               xiamen             A Cai       Australia  2014-09-01   \n",
       "741               xiamen     Josef Sonntag          Israel  2014-06-16   \n",
       "742               xiamen         Tuan Dole  United Kingdom  2013-07-23   \n",
       "743               xiamen             J Fox  United Kingdom  2012-03-19   \n",
       "744               xiamen        Wentao You       Singapore  2011-08-07   \n",
       "745               xiamen     David Peachey             NaN  2006-11-09   \n",
       "746               xiamen         Simon Loh             NaN  2006-07-04   \n",
       "747               xiamen          Adi Chew             NaN  2006-05-12   \n",
       "748               xiamen    Arthur Romeijn             NaN  2005-03-26   \n",
       "749           yogyakarta  Arindam Banerjee       Singapore  2015-06-07   \n",
       "750           yogyakarta        Aria Dhika       Indonesia  2015-01-19   \n",
       "751           yogyakarta            D Fynn  United Kingdom  2013-06-20   \n",
       "752           yogyakarta           J Weiss             NaN  2011-02-08   \n",
       "753           yogyakarta            R Chao             NaN  2008-02-12   \n",
       "754           yogyakarta      Avi Kartushi             NaN  2006-02-01   \n",
       "755           yogyakarta    Adri Febrianto             NaN  2005-03-21   \n",
       "756             zanzibar     M Noormohamed   United States  2015-01-19   \n",
       "757             zanzibar         I Cameron  United Kingdom  2014-07-12   \n",
       "758             zanzibar       Todd Bailey   United States  2011-08-25   \n",
       "759             zanzibar       David Ellis  United Kingdom  2010-01-26   \n",
       "760             zanzibar           J Beard             NaN  2009-05-01   \n",
       "\n",
       "                                               content  experience_airport  \\\n",
       "731  A small regional airport check in can become v...                 NaN   \n",
       "732  Flight from Xi'an to Beijing. T3 is huge but o...                 3.0   \n",
       "733  I departed on 16th April 2014 and was lucky to...                 6.0   \n",
       "734  Last time I was in Xi'an Xianyang airport was ...                 8.0   \n",
       "735  Domestic flight to Chengdu. Check-In OK and Se...                 7.0   \n",
       "736  Went through there domestically June 10 and Ju...                 NaN   \n",
       "737  I've been though both international and domest...                 NaN   \n",
       "738  The new airport is very clean and very efficie...                 NaN   \n",
       "739  I travelled through Xian Airport on a 2 day si...                 NaN   \n",
       "740  Beautiful airport. Navigation wasn't the best ...                 8.0   \n",
       "741  Flights: NNG-XMN XMN-NIG. Little bit loaded (l...                 7.0   \n",
       "742  The worst airport in China for delays. I have ...                 NaN   \n",
       "743  Small airport but functioned perfectly. Arrive...                 7.0   \n",
       "744  Convenient airport. Close to Xiamen city centr...                 5.0   \n",
       "745  Used this airport for an internal flight. It w...                 NaN   \n",
       "746  It looks like a small size HKG Airport. Quite ...                 NaN   \n",
       "747  This is a fairly pleasant and spotless if unde...                 NaN   \n",
       "748  A nice little Chinese airport. That means it i...                 NaN   \n",
       "749  This is the worst international Airport I have...                 2.0   \n",
       "750  A small airport with a single crowded waiting ...                 4.0   \n",
       "751  Pleasant but rather old-fashioned airport. Mos...                 8.0   \n",
       "752  This small airport is totally overwhelmed by t...                 2.0   \n",
       "753  Noticed some improvements from last visit abou...                 NaN   \n",
       "754  Very small nice airport. There is no shops at ...                 NaN   \n",
       "755  Nearest airport to Borobudor (one of the most ...                 NaN   \n",
       "756  The worst airport I have ever transited throug...                 2.0   \n",
       "757  An old fashioned airport which is not very eff...                 4.0   \n",
       "758  The airport in Zanzibar is out of date. The bu...                 NaN   \n",
       "759  Zanzibar airport would almost be bearable if i...                 2.0   \n",
       "760  Not bad for a regional airport for arriving in...                 2.0   \n",
       "\n",
       "     overall_rating  terminal_cleanliness_rating  terminal_seating_rating  \\\n",
       "731             NaN                          NaN                      NaN   \n",
       "732             1.0                          2.0                      2.0   \n",
       "733             1.0                          4.0                      4.0   \n",
       "734             4.0                          5.0                      4.0   \n",
       "735             4.0                          4.0                      4.0   \n",
       "736             NaN                          NaN                      NaN   \n",
       "737             NaN                          NaN                      NaN   \n",
       "738             NaN                          NaN                      NaN   \n",
       "739             NaN                          NaN                      NaN   \n",
       "740             3.0                          3.0                      3.0   \n",
       "741             4.0                          4.0                      4.0   \n",
       "742             3.0                          NaN                      NaN   \n",
       "743             4.0                          4.0                      4.0   \n",
       "744             5.0                          5.0                      5.0   \n",
       "745             NaN                          NaN                      NaN   \n",
       "746             NaN                          NaN                      NaN   \n",
       "747             NaN                          NaN                      NaN   \n",
       "748             NaN                          NaN                      NaN   \n",
       "749             3.0                          3.0                      2.0   \n",
       "750             3.0                          2.0                      3.0   \n",
       "751             5.0                          3.0                      4.0   \n",
       "752             NaN                          NaN                      NaN   \n",
       "753             NaN                          NaN                      NaN   \n",
       "754             NaN                          NaN                      NaN   \n",
       "755             NaN                          NaN                      NaN   \n",
       "756             2.0                          3.0                      4.0   \n",
       "757             2.0                          2.0                      2.0   \n",
       "758             1.0                          1.0                      1.0   \n",
       "759             1.0                          1.0                      1.0   \n",
       "760             NaN                          NaN                      NaN   \n",
       "\n",
       "     recommended  count  recommended_mean        geo_area  \\\n",
       "731          0.0      9          0.714286          Europe   \n",
       "732          0.0      8          0.250000            Asia   \n",
       "733          0.0      8          0.250000            Asia   \n",
       "734          1.0      8          0.250000            Asia   \n",
       "735          1.0      8          0.250000            Asia   \n",
       "736          0.0      8          0.250000            Asia   \n",
       "737          0.0      8          0.250000            Asia   \n",
       "738          0.0      8          0.250000            Asia   \n",
       "739          0.0      8          0.250000            Asia   \n",
       "740          1.0      9          0.444444            Asia   \n",
       "741          1.0      9          0.444444            Asia   \n",
       "742          1.0      9          0.444444            Asia   \n",
       "743          1.0      9          0.444444            Asia   \n",
       "744          0.0      9          0.444444            Asia   \n",
       "745          0.0      9          0.444444            Asia   \n",
       "746          0.0      9          0.444444            Asia   \n",
       "747          0.0      9          0.444444            Asia   \n",
       "748          0.0      9          0.444444            Asia   \n",
       "749          0.0      7          0.142857  S-Asia Oceania   \n",
       "750          0.0      7          0.142857  S-Asia Oceania   \n",
       "751          1.0      7          0.142857  S-Asia Oceania   \n",
       "752          0.0      7          0.142857  S-Asia Oceania   \n",
       "753          0.0      7          0.142857  S-Asia Oceania   \n",
       "754          0.0      7          0.142857  S-Asia Oceania   \n",
       "755          0.0      7          0.142857  S-Asia Oceania   \n",
       "756          0.0      5          0.200000          Africa   \n",
       "757          0.0      5          0.200000          Africa   \n",
       "758          1.0      5          0.200000          Africa   \n",
       "759          0.0      5          0.200000          Africa   \n",
       "760          0.0      5          0.200000          Africa   \n",
       "\n",
       "     mean_experience_airport  mean_overall_rating  \\\n",
       "731                 8.833333             4.857143   \n",
       "732                 6.000000             2.500000   \n",
       "733                 6.000000             2.500000   \n",
       "734                 6.000000             2.500000   \n",
       "735                 6.000000             2.500000   \n",
       "736                 6.000000             2.500000   \n",
       "737                 6.000000             2.500000   \n",
       "738                 6.000000             2.500000   \n",
       "739                 6.000000             2.500000   \n",
       "740                 6.750000             3.800000   \n",
       "741                 6.750000             3.800000   \n",
       "742                 6.750000             3.800000   \n",
       "743                 6.750000             3.800000   \n",
       "744                 6.750000             3.800000   \n",
       "745                 6.750000             3.800000   \n",
       "746                 6.750000             3.800000   \n",
       "747                 6.750000             3.800000   \n",
       "748                 6.750000             3.800000   \n",
       "749                 4.000000             3.666667   \n",
       "750                 4.000000             3.666667   \n",
       "751                 4.000000             3.666667   \n",
       "752                 4.000000             3.666667   \n",
       "753                 4.000000             3.666667   \n",
       "754                 4.000000             3.666667   \n",
       "755                 4.000000             3.666667   \n",
       "756                 2.500000             1.500000   \n",
       "757                 2.500000             1.500000   \n",
       "758                 2.500000             1.500000   \n",
       "759                 2.500000             1.500000   \n",
       "760                 2.500000             1.500000   \n",
       "\n",
       "     mean_terminal_cleanliness_rating  mean_terminal_seating_rating  \\\n",
       "731                          4.666667                      4.166667   \n",
       "732                          3.750000                      3.500000   \n",
       "733                          3.750000                      3.500000   \n",
       "734                          3.750000                      3.500000   \n",
       "735                          3.750000                      3.500000   \n",
       "736                          3.750000                      3.500000   \n",
       "737                          3.750000                      3.500000   \n",
       "738                          3.750000                      3.500000   \n",
       "739                          3.750000                      3.500000   \n",
       "740                          4.000000                      4.000000   \n",
       "741                          4.000000                      4.000000   \n",
       "742                          4.000000                      4.000000   \n",
       "743                          4.000000                      4.000000   \n",
       "744                          4.000000                      4.000000   \n",
       "745                          4.000000                      4.000000   \n",
       "746                          4.000000                      4.000000   \n",
       "747                          4.000000                      4.000000   \n",
       "748                          4.000000                      4.000000   \n",
       "749                          2.666667                      3.000000   \n",
       "750                          2.666667                      3.000000   \n",
       "751                          2.666667                      3.000000   \n",
       "752                          2.666667                      3.000000   \n",
       "753                          2.666667                      3.000000   \n",
       "754                          2.666667                      3.000000   \n",
       "755                          2.666667                      3.000000   \n",
       "756                          1.750000                      2.000000   \n",
       "757                          1.750000                      2.000000   \n",
       "758                          1.750000                      2.000000   \n",
       "759                          1.750000                      2.000000   \n",
       "760                          1.750000                      2.000000   \n",
       "\n",
       "     sentiment_score  mean_sentiment_score  \n",
       "731        -0.032000              0.196795  \n",
       "732        -0.166000              0.053322  \n",
       "733         0.208333              0.053322  \n",
       "734         0.125000              0.053322  \n",
       "735         0.047481              0.053322  \n",
       "736         0.000000              0.053322  \n",
       "737        -0.076212              0.053322  \n",
       "738         0.202100              0.053322  \n",
       "739         0.085872              0.053322  \n",
       "740         0.441667              0.248335  \n",
       "741         0.214062              0.248335  \n",
       "742        -0.195238              0.248335  \n",
       "743         0.150926              0.248335  \n",
       "744         0.910000              0.248335  \n",
       "745         0.193333              0.248335  \n",
       "746         0.164656              0.248335  \n",
       "747         0.206730              0.248335  \n",
       "748         0.148878              0.248335  \n",
       "749        -0.040584              0.004595  \n",
       "750        -0.124286              0.004595  \n",
       "751         0.153704              0.004595  \n",
       "752        -0.061842              0.004595  \n",
       "753         0.089394              0.004595  \n",
       "754        -0.032366              0.004595  \n",
       "755         0.048148              0.004595  \n",
       "756        -0.067532              0.070337  \n",
       "757        -0.025625              0.070337  \n",
       "758         0.142460              0.070337  \n",
       "759         0.064881              0.070337  \n",
       "760         0.237500              0.070337  "
      ]
     },
     "execution_count": 67,
     "metadata": {},
     "output_type": "execute_result"
    }
   ],
   "source": [
    "# Rename the sentiment_score column in the mean_sentiment_score DataFrame\n",
    "mean_sentiment_score.rename(columns={'sentiment_score': 'mean_sentiment_score'}, inplace=True)\n",
    "\n",
    "# Merge the DataFrames\n",
    "small = small.merge(mean_sentiment_score, on='airport_name')\n",
    "small.tail(30)"
   ]
  },
  {
   "cell_type": "code",
   "execution_count": 69,
   "metadata": {},
   "outputs": [
    {
     "data": {
      "application/vnd.plotly.v1+json": {
       "config": {
        "plotlyServerURL": "https://plot.ly"
       },
       "data": [
        {
         "alignmentgroup": "True",
         "hovertemplate": "Airport=%{x}<br>Mean Sentiment Score=%{marker.color}<extra></extra>",
         "legendgroup": "",
         "marker": {
          "color": [
           0.05060160535199235,
           0.18666434433621934,
           0.1000154214997965,
           0.11445790816326532,
           0.08912499152082484,
           0.0906390392015392,
           0.10707775614573861,
           0.12964727179116414,
           0.22387103174603173,
           0.09844865011531677,
           0.21260420046165662,
           -0.09025330859616575,
           0.13890861894538367,
           0.11157460412394624,
           -0.15054236456487358,
           0.0669601571268238,
           0.17917079489624133,
           0.11699430641821947,
           0.1471611202417654,
           0.1714348845598846,
           0.13305247933070513,
           -0.03753279883381925,
           0.12152065826330534,
           0.06307818444182081,
           0.24932121212121214,
           0.15724790958049886,
           0.20907672754442022,
           0.24207853019995879,
           0.24747571872571872,
           0.13078770718093635,
           0.26780796920521227,
           0.11535649421733166,
           0.22433075463631016,
           0.10464011773778537,
           0.22404443528253054,
           0.14508080484720104,
           0.18119869328202665,
           0.22944152018015657,
           0.14423730842098187,
           0.15686305826678498,
           0.06925169882201133,
           0.11805490883221975,
           0.15223910582496442,
           0.057965082756749414,
           0.08028660676478136,
           0.04397529064535867,
           0.13604145042741536,
           0.10149208215156491,
           0.1343635621742347,
           0.3138054834054834,
           0.14988740866717057,
           0.24709324405752978,
           0.06752551557239057,
           0.07426890886890887,
           0.01641083222333223,
           0.25013967870446274,
           0.17900143375143376,
           -0.0490031179138322,
           0.22525077160493825,
           0.0943316431510876,
           0.21057831093870052,
           0.17113059163059163,
           0.025282385393292257,
           0.24142927096052097,
           0.0619441665555111,
           0.11422991443080731,
           0.17052939437337933,
           0.12819940476190475,
           0.28172165947275596,
           0.069651001126368,
           0.21513483044733045,
           0.14996606838327617,
           0.13540013227513228,
           0.20075868784052928,
           0.22610284391534394,
           0.07604442384241146,
           0.0996069538926682,
           0.1681891436580432,
           0.1790493894258099,
           0.10271958596958597,
           0.24000399402185119,
           0.15404112890234886,
           0.3039705738705739,
           0.16356009833787613,
           0.07418065647976362,
           0.11888185081724999,
           0.252400981501416,
           0.16647058611641946,
           0.2937360585016835,
           0.0823456037224484,
           0.09735445291622397,
           0.1638917281980132,
           0.18760291511607305,
           0.0029312902655705734,
           0.11886836854137413,
           0.09355430698450178,
           0.1295524521774522,
           0.18943293214721785,
           0.03369593898165327,
           0.06501049522373051,
           0.19367970248246225,
           0.09120365134677759,
           0.14119947855175125,
           0.24324699762602986,
           0.17250525868242034,
           0.2171013817832,
           0.1855439063251563,
           0.11614258013811585,
           0.1967946666114021,
           0.24833497977696004,
           0.053321744227994225,
           0.0045953549548474375,
           0.07033676046176048
          ],
          "coloraxis": "coloraxis",
          "pattern": {
           "shape": ""
          }
         },
         "name": "",
         "offsetgroup": "",
         "orientation": "v",
         "showlegend": false,
         "textposition": "auto",
         "type": "bar",
         "x": [
          "abuja",
          "algiers",
          "almeria",
          "antwerp deurne",
          "aruba reina beatrix",
          "banjul",
          "beirut",
          "belo horizonte confins",
          "bergen",
          "bermuda",
          "billund",
          "bourgas",
          "brasilia",
          "carcassonne",
          "chambery",
          "chengdu",
          "clark",
          "coimbatore",
          "colorado springs",
          "columbus",
          "coventry",
          "crown point tobago",
          "curacao",
          "dakar",
          "dallas love field",
          "dortmund",
          "dubrovnik",
          "dundee",
          "durban",
          "durhamtees valley",
          "entebbe",
          "ercan",
          "fort myers",
          "freetown",
          "fuerteventura",
          "gibraltar",
          "granada",
          "guayaquil",
          "guernsey",
          "hamad doha",
          "hamburg lubek",
          "hangzhou",
          "hartford",
          "hilo",
          "hobart",
          "holguin",
          "humberside",
          "hurghada",
          "indianapolis",
          "jacksonville",
          "john wayne",
          "katowice",
          "kilimanjaro",
          "kota kinabalu",
          "kunming",
          "launceston",
          "leipzighalle",
          "linz",
          "little rock",
          "long beach",
          "long island macarthur",
          "lusaka",
          "luxor",
          "mahon",
          "malmo",
          "manaus",
          "medan",
          "memphis",
          "milwaukee",
          "mombasa",
          "monastir",
          "muscle shoals",
          "nashville",
          "nimes",
          "pau",
          "perpignan",
          "ponta delgada",
          "poznan",
          "pristina",
          "pune",
          "qingdao",
          "quito mariscal",
          "recife",
          "sacramento",
          "salvador",
          "salzburg",
          "santo domingo",
          "sao paulo congonhas",
          "sapporo chitose",
          "sarajevo",
          "seoul gimpo",
          "seville",
          "seychelles",
          "sharjah",
          "shenyang",
          "skopje",
          "stockholm vasteras",
          "subang kuala lumpur",
          "taba",
          "tehran mehrabad",
          "tirana",
          "tontouta",
          "trieste",
          "tromso",
          "vientiane",
          "vnukovo",
          "waterford",
          "windhoek",
          "wroclaw strachowice",
          "xiamen",
          "xian xianyang",
          "yogyakarta",
          "zanzibar"
         ],
         "xaxis": "x",
         "y": [
          0.05060160535199235,
          0.18666434433621934,
          0.1000154214997965,
          0.11445790816326532,
          0.08912499152082484,
          0.0906390392015392,
          0.10707775614573861,
          0.12964727179116414,
          0.22387103174603173,
          0.09844865011531677,
          0.21260420046165662,
          -0.09025330859616575,
          0.13890861894538367,
          0.11157460412394624,
          -0.15054236456487358,
          0.0669601571268238,
          0.17917079489624133,
          0.11699430641821947,
          0.1471611202417654,
          0.1714348845598846,
          0.13305247933070513,
          -0.03753279883381925,
          0.12152065826330534,
          0.06307818444182081,
          0.24932121212121214,
          0.15724790958049886,
          0.20907672754442022,
          0.24207853019995879,
          0.24747571872571872,
          0.13078770718093635,
          0.26780796920521227,
          0.11535649421733166,
          0.22433075463631016,
          0.10464011773778537,
          0.22404443528253054,
          0.14508080484720104,
          0.18119869328202665,
          0.22944152018015657,
          0.14423730842098187,
          0.15686305826678498,
          0.06925169882201133,
          0.11805490883221975,
          0.15223910582496442,
          0.057965082756749414,
          0.08028660676478136,
          0.04397529064535867,
          0.13604145042741536,
          0.10149208215156491,
          0.1343635621742347,
          0.3138054834054834,
          0.14988740866717057,
          0.24709324405752978,
          0.06752551557239057,
          0.07426890886890887,
          0.01641083222333223,
          0.25013967870446274,
          0.17900143375143376,
          -0.0490031179138322,
          0.22525077160493825,
          0.0943316431510876,
          0.21057831093870052,
          0.17113059163059163,
          0.025282385393292257,
          0.24142927096052097,
          0.0619441665555111,
          0.11422991443080731,
          0.17052939437337933,
          0.12819940476190475,
          0.28172165947275596,
          0.069651001126368,
          0.21513483044733045,
          0.14996606838327617,
          0.13540013227513228,
          0.20075868784052928,
          0.22610284391534394,
          0.07604442384241146,
          0.0996069538926682,
          0.1681891436580432,
          0.1790493894258099,
          0.10271958596958597,
          0.24000399402185119,
          0.15404112890234886,
          0.3039705738705739,
          0.16356009833787613,
          0.07418065647976362,
          0.11888185081724999,
          0.252400981501416,
          0.16647058611641946,
          0.2937360585016835,
          0.0823456037224484,
          0.09735445291622397,
          0.1638917281980132,
          0.18760291511607305,
          0.0029312902655705734,
          0.11886836854137413,
          0.09355430698450178,
          0.1295524521774522,
          0.18943293214721785,
          0.03369593898165327,
          0.06501049522373051,
          0.19367970248246225,
          0.09120365134677759,
          0.14119947855175125,
          0.24324699762602986,
          0.17250525868242034,
          0.2171013817832,
          0.1855439063251563,
          0.11614258013811585,
          0.1967946666114021,
          0.24833497977696004,
          0.053321744227994225,
          0.0045953549548474375,
          0.07033676046176048
         ],
         "yaxis": "y"
        }
       ],
       "layout": {
        "barmode": "relative",
        "coloraxis": {
         "colorbar": {
          "title": {
           "text": "Mean Sentiment Score"
          }
         },
         "colorscale": [
          [
           0,
           "#440154"
          ],
          [
           0.1111111111111111,
           "#482878"
          ],
          [
           0.2222222222222222,
           "#3e4989"
          ],
          [
           0.3333333333333333,
           "#31688e"
          ],
          [
           0.4444444444444444,
           "#26828e"
          ],
          [
           0.5555555555555556,
           "#1f9e89"
          ],
          [
           0.6666666666666666,
           "#35b779"
          ],
          [
           0.7777777777777778,
           "#6ece58"
          ],
          [
           0.8888888888888888,
           "#b5de2b"
          ],
          [
           1,
           "#fde725"
          ]
         ]
        },
        "legend": {
         "tracegroupgap": 0
        },
        "template": {
         "data": {
          "bar": [
           {
            "error_x": {
             "color": "#2a3f5f"
            },
            "error_y": {
             "color": "#2a3f5f"
            },
            "marker": {
             "line": {
              "color": "#E5ECF6",
              "width": 0.5
             },
             "pattern": {
              "fillmode": "overlay",
              "size": 10,
              "solidity": 0.2
             }
            },
            "type": "bar"
           }
          ],
          "barpolar": [
           {
            "marker": {
             "line": {
              "color": "#E5ECF6",
              "width": 0.5
             },
             "pattern": {
              "fillmode": "overlay",
              "size": 10,
              "solidity": 0.2
             }
            },
            "type": "barpolar"
           }
          ],
          "carpet": [
           {
            "aaxis": {
             "endlinecolor": "#2a3f5f",
             "gridcolor": "white",
             "linecolor": "white",
             "minorgridcolor": "white",
             "startlinecolor": "#2a3f5f"
            },
            "baxis": {
             "endlinecolor": "#2a3f5f",
             "gridcolor": "white",
             "linecolor": "white",
             "minorgridcolor": "white",
             "startlinecolor": "#2a3f5f"
            },
            "type": "carpet"
           }
          ],
          "choropleth": [
           {
            "colorbar": {
             "outlinewidth": 0,
             "ticks": ""
            },
            "type": "choropleth"
           }
          ],
          "contour": [
           {
            "colorbar": {
             "outlinewidth": 0,
             "ticks": ""
            },
            "colorscale": [
             [
              0,
              "#0d0887"
             ],
             [
              0.1111111111111111,
              "#46039f"
             ],
             [
              0.2222222222222222,
              "#7201a8"
             ],
             [
              0.3333333333333333,
              "#9c179e"
             ],
             [
              0.4444444444444444,
              "#bd3786"
             ],
             [
              0.5555555555555556,
              "#d8576b"
             ],
             [
              0.6666666666666666,
              "#ed7953"
             ],
             [
              0.7777777777777778,
              "#fb9f3a"
             ],
             [
              0.8888888888888888,
              "#fdca26"
             ],
             [
              1,
              "#f0f921"
             ]
            ],
            "type": "contour"
           }
          ],
          "contourcarpet": [
           {
            "colorbar": {
             "outlinewidth": 0,
             "ticks": ""
            },
            "type": "contourcarpet"
           }
          ],
          "heatmap": [
           {
            "colorbar": {
             "outlinewidth": 0,
             "ticks": ""
            },
            "colorscale": [
             [
              0,
              "#0d0887"
             ],
             [
              0.1111111111111111,
              "#46039f"
             ],
             [
              0.2222222222222222,
              "#7201a8"
             ],
             [
              0.3333333333333333,
              "#9c179e"
             ],
             [
              0.4444444444444444,
              "#bd3786"
             ],
             [
              0.5555555555555556,
              "#d8576b"
             ],
             [
              0.6666666666666666,
              "#ed7953"
             ],
             [
              0.7777777777777778,
              "#fb9f3a"
             ],
             [
              0.8888888888888888,
              "#fdca26"
             ],
             [
              1,
              "#f0f921"
             ]
            ],
            "type": "heatmap"
           }
          ],
          "heatmapgl": [
           {
            "colorbar": {
             "outlinewidth": 0,
             "ticks": ""
            },
            "colorscale": [
             [
              0,
              "#0d0887"
             ],
             [
              0.1111111111111111,
              "#46039f"
             ],
             [
              0.2222222222222222,
              "#7201a8"
             ],
             [
              0.3333333333333333,
              "#9c179e"
             ],
             [
              0.4444444444444444,
              "#bd3786"
             ],
             [
              0.5555555555555556,
              "#d8576b"
             ],
             [
              0.6666666666666666,
              "#ed7953"
             ],
             [
              0.7777777777777778,
              "#fb9f3a"
             ],
             [
              0.8888888888888888,
              "#fdca26"
             ],
             [
              1,
              "#f0f921"
             ]
            ],
            "type": "heatmapgl"
           }
          ],
          "histogram": [
           {
            "marker": {
             "pattern": {
              "fillmode": "overlay",
              "size": 10,
              "solidity": 0.2
             }
            },
            "type": "histogram"
           }
          ],
          "histogram2d": [
           {
            "colorbar": {
             "outlinewidth": 0,
             "ticks": ""
            },
            "colorscale": [
             [
              0,
              "#0d0887"
             ],
             [
              0.1111111111111111,
              "#46039f"
             ],
             [
              0.2222222222222222,
              "#7201a8"
             ],
             [
              0.3333333333333333,
              "#9c179e"
             ],
             [
              0.4444444444444444,
              "#bd3786"
             ],
             [
              0.5555555555555556,
              "#d8576b"
             ],
             [
              0.6666666666666666,
              "#ed7953"
             ],
             [
              0.7777777777777778,
              "#fb9f3a"
             ],
             [
              0.8888888888888888,
              "#fdca26"
             ],
             [
              1,
              "#f0f921"
             ]
            ],
            "type": "histogram2d"
           }
          ],
          "histogram2dcontour": [
           {
            "colorbar": {
             "outlinewidth": 0,
             "ticks": ""
            },
            "colorscale": [
             [
              0,
              "#0d0887"
             ],
             [
              0.1111111111111111,
              "#46039f"
             ],
             [
              0.2222222222222222,
              "#7201a8"
             ],
             [
              0.3333333333333333,
              "#9c179e"
             ],
             [
              0.4444444444444444,
              "#bd3786"
             ],
             [
              0.5555555555555556,
              "#d8576b"
             ],
             [
              0.6666666666666666,
              "#ed7953"
             ],
             [
              0.7777777777777778,
              "#fb9f3a"
             ],
             [
              0.8888888888888888,
              "#fdca26"
             ],
             [
              1,
              "#f0f921"
             ]
            ],
            "type": "histogram2dcontour"
           }
          ],
          "mesh3d": [
           {
            "colorbar": {
             "outlinewidth": 0,
             "ticks": ""
            },
            "type": "mesh3d"
           }
          ],
          "parcoords": [
           {
            "line": {
             "colorbar": {
              "outlinewidth": 0,
              "ticks": ""
             }
            },
            "type": "parcoords"
           }
          ],
          "pie": [
           {
            "automargin": true,
            "type": "pie"
           }
          ],
          "scatter": [
           {
            "fillpattern": {
             "fillmode": "overlay",
             "size": 10,
             "solidity": 0.2
            },
            "type": "scatter"
           }
          ],
          "scatter3d": [
           {
            "line": {
             "colorbar": {
              "outlinewidth": 0,
              "ticks": ""
             }
            },
            "marker": {
             "colorbar": {
              "outlinewidth": 0,
              "ticks": ""
             }
            },
            "type": "scatter3d"
           }
          ],
          "scattercarpet": [
           {
            "marker": {
             "colorbar": {
              "outlinewidth": 0,
              "ticks": ""
             }
            },
            "type": "scattercarpet"
           }
          ],
          "scattergeo": [
           {
            "marker": {
             "colorbar": {
              "outlinewidth": 0,
              "ticks": ""
             }
            },
            "type": "scattergeo"
           }
          ],
          "scattergl": [
           {
            "marker": {
             "colorbar": {
              "outlinewidth": 0,
              "ticks": ""
             }
            },
            "type": "scattergl"
           }
          ],
          "scattermapbox": [
           {
            "marker": {
             "colorbar": {
              "outlinewidth": 0,
              "ticks": ""
             }
            },
            "type": "scattermapbox"
           }
          ],
          "scatterpolar": [
           {
            "marker": {
             "colorbar": {
              "outlinewidth": 0,
              "ticks": ""
             }
            },
            "type": "scatterpolar"
           }
          ],
          "scatterpolargl": [
           {
            "marker": {
             "colorbar": {
              "outlinewidth": 0,
              "ticks": ""
             }
            },
            "type": "scatterpolargl"
           }
          ],
          "scatterternary": [
           {
            "marker": {
             "colorbar": {
              "outlinewidth": 0,
              "ticks": ""
             }
            },
            "type": "scatterternary"
           }
          ],
          "surface": [
           {
            "colorbar": {
             "outlinewidth": 0,
             "ticks": ""
            },
            "colorscale": [
             [
              0,
              "#0d0887"
             ],
             [
              0.1111111111111111,
              "#46039f"
             ],
             [
              0.2222222222222222,
              "#7201a8"
             ],
             [
              0.3333333333333333,
              "#9c179e"
             ],
             [
              0.4444444444444444,
              "#bd3786"
             ],
             [
              0.5555555555555556,
              "#d8576b"
             ],
             [
              0.6666666666666666,
              "#ed7953"
             ],
             [
              0.7777777777777778,
              "#fb9f3a"
             ],
             [
              0.8888888888888888,
              "#fdca26"
             ],
             [
              1,
              "#f0f921"
             ]
            ],
            "type": "surface"
           }
          ],
          "table": [
           {
            "cells": {
             "fill": {
              "color": "#EBF0F8"
             },
             "line": {
              "color": "white"
             }
            },
            "header": {
             "fill": {
              "color": "#C8D4E3"
             },
             "line": {
              "color": "white"
             }
            },
            "type": "table"
           }
          ]
         },
         "layout": {
          "annotationdefaults": {
           "arrowcolor": "#2a3f5f",
           "arrowhead": 0,
           "arrowwidth": 1
          },
          "autotypenumbers": "strict",
          "coloraxis": {
           "colorbar": {
            "outlinewidth": 0,
            "ticks": ""
           }
          },
          "colorscale": {
           "diverging": [
            [
             0,
             "#8e0152"
            ],
            [
             0.1,
             "#c51b7d"
            ],
            [
             0.2,
             "#de77ae"
            ],
            [
             0.3,
             "#f1b6da"
            ],
            [
             0.4,
             "#fde0ef"
            ],
            [
             0.5,
             "#f7f7f7"
            ],
            [
             0.6,
             "#e6f5d0"
            ],
            [
             0.7,
             "#b8e186"
            ],
            [
             0.8,
             "#7fbc41"
            ],
            [
             0.9,
             "#4d9221"
            ],
            [
             1,
             "#276419"
            ]
           ],
           "sequential": [
            [
             0,
             "#0d0887"
            ],
            [
             0.1111111111111111,
             "#46039f"
            ],
            [
             0.2222222222222222,
             "#7201a8"
            ],
            [
             0.3333333333333333,
             "#9c179e"
            ],
            [
             0.4444444444444444,
             "#bd3786"
            ],
            [
             0.5555555555555556,
             "#d8576b"
            ],
            [
             0.6666666666666666,
             "#ed7953"
            ],
            [
             0.7777777777777778,
             "#fb9f3a"
            ],
            [
             0.8888888888888888,
             "#fdca26"
            ],
            [
             1,
             "#f0f921"
            ]
           ],
           "sequentialminus": [
            [
             0,
             "#0d0887"
            ],
            [
             0.1111111111111111,
             "#46039f"
            ],
            [
             0.2222222222222222,
             "#7201a8"
            ],
            [
             0.3333333333333333,
             "#9c179e"
            ],
            [
             0.4444444444444444,
             "#bd3786"
            ],
            [
             0.5555555555555556,
             "#d8576b"
            ],
            [
             0.6666666666666666,
             "#ed7953"
            ],
            [
             0.7777777777777778,
             "#fb9f3a"
            ],
            [
             0.8888888888888888,
             "#fdca26"
            ],
            [
             1,
             "#f0f921"
            ]
           ]
          },
          "colorway": [
           "#636efa",
           "#EF553B",
           "#00cc96",
           "#ab63fa",
           "#FFA15A",
           "#19d3f3",
           "#FF6692",
           "#B6E880",
           "#FF97FF",
           "#FECB52"
          ],
          "font": {
           "color": "#2a3f5f"
          },
          "geo": {
           "bgcolor": "white",
           "lakecolor": "white",
           "landcolor": "#E5ECF6",
           "showlakes": true,
           "showland": true,
           "subunitcolor": "white"
          },
          "hoverlabel": {
           "align": "left"
          },
          "hovermode": "closest",
          "mapbox": {
           "style": "light"
          },
          "paper_bgcolor": "white",
          "plot_bgcolor": "#E5ECF6",
          "polar": {
           "angularaxis": {
            "gridcolor": "white",
            "linecolor": "white",
            "ticks": ""
           },
           "bgcolor": "#E5ECF6",
           "radialaxis": {
            "gridcolor": "white",
            "linecolor": "white",
            "ticks": ""
           }
          },
          "scene": {
           "xaxis": {
            "backgroundcolor": "#E5ECF6",
            "gridcolor": "white",
            "gridwidth": 2,
            "linecolor": "white",
            "showbackground": true,
            "ticks": "",
            "zerolinecolor": "white"
           },
           "yaxis": {
            "backgroundcolor": "#E5ECF6",
            "gridcolor": "white",
            "gridwidth": 2,
            "linecolor": "white",
            "showbackground": true,
            "ticks": "",
            "zerolinecolor": "white"
           },
           "zaxis": {
            "backgroundcolor": "#E5ECF6",
            "gridcolor": "white",
            "gridwidth": 2,
            "linecolor": "white",
            "showbackground": true,
            "ticks": "",
            "zerolinecolor": "white"
           }
          },
          "shapedefaults": {
           "line": {
            "color": "#2a3f5f"
           }
          },
          "ternary": {
           "aaxis": {
            "gridcolor": "white",
            "linecolor": "white",
            "ticks": ""
           },
           "baxis": {
            "gridcolor": "white",
            "linecolor": "white",
            "ticks": ""
           },
           "bgcolor": "#E5ECF6",
           "caxis": {
            "gridcolor": "white",
            "linecolor": "white",
            "ticks": ""
           }
          },
          "title": {
           "x": 0.05
          },
          "xaxis": {
           "automargin": true,
           "gridcolor": "white",
           "linecolor": "white",
           "ticks": "",
           "title": {
            "standoff": 15
           },
           "zerolinecolor": "white",
           "zerolinewidth": 2
          },
          "yaxis": {
           "automargin": true,
           "gridcolor": "white",
           "linecolor": "white",
           "ticks": "",
           "title": {
            "standoff": 15
           },
           "zerolinecolor": "white",
           "zerolinewidth": 2
          }
         }
        },
        "title": {
         "text": "Mean Sentiment Score of Airports"
        },
        "xaxis": {
         "anchor": "y",
         "domain": [
          0,
          1
         ],
         "tickangle": -45,
         "title": {
          "text": "Airport"
         }
        },
        "yaxis": {
         "anchor": "x",
         "domain": [
          0,
          1
         ],
         "title": {
          "text": "Mean Sentiment Score"
         }
        }
       }
      }
     },
     "metadata": {},
     "output_type": "display_data"
    }
   ],
   "source": [
    "geo_area_sentiment = small.groupby('airport_name')['mean_sentiment_score'].mean().reset_index()\n",
    "\n",
    "fig = px.bar(\n",
    "    geo_area_sentiment,\n",
    "    x='airport_name',\n",
    "    y='mean_sentiment_score',\n",
    "    title='Mean Sentiment Score of Airports',\n",
    "    labels={'airport_name': 'Airport', 'mean_sentiment_score': 'Mean Sentiment Score'},\n",
    "    color='mean_sentiment_score',\n",
    "    color_continuous_scale='Viridis'\n",
    ")\n",
    "\n",
    "fig.update_layout(xaxis_tickangle=-45)\n",
    "\n",
    "fig.show()"
   ]
  }
 ],
 "metadata": {
  "kernelspec": {
   "display_name": "Python 3",
   "language": "python",
   "name": "python3"
  },
  "language_info": {
   "codemirror_mode": {
    "name": "ipython",
    "version": 3
   },
   "file_extension": ".py",
   "mimetype": "text/x-python",
   "name": "python",
   "nbconvert_exporter": "python",
   "pygments_lexer": "ipython3",
   "version": "3.9.6"
  }
 },
 "nbformat": 4,
 "nbformat_minor": 2
}
